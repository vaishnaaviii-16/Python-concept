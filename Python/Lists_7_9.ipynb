{
 "cells": [
  {
   "cell_type": "code",
   "execution_count": 1,
   "metadata": {},
   "outputs": [
    {
     "name": "stdout",
     "output_type": "stream",
     "text": [
      "[] <class 'list'>\n",
      "[] <class 'list'>\n",
      "[1, 2, 3] <class 'list'>\n",
      "[1, 2, 3] <class 'list'>\n"
     ]
    }
   ],
   "source": [
    "# Initialization \n",
    "\n",
    "li1 = [] \n",
    "print(li1, type(li1)) \n",
    "\n",
    "li2 = list() \n",
    "print(li2, type(li2)) \n",
    "\n",
    "li3 = [1, 2, 3] \n",
    "print(li3, type(li3)) \n",
    "\n",
    "li4 = list([1, 2, 3]) \n",
    "print(li4, type(li4)) "
   ]
  },
  {
   "cell_type": "code",
   "execution_count": 11,
   "metadata": {},
   "outputs": [
    {
     "name": "stdout",
     "output_type": "stream",
     "text": [
      "[10, 20, 30, 40, 50]\n",
      "10\n",
      "50\n",
      "50\n",
      "10\n"
     ]
    }
   ],
   "source": [
    "# Accessing in list \n",
    "\n",
    "li = [10, 20, 30, 40, 50] \n",
    "\n",
    "print(li) \n",
    "\n",
    "print(li[0]) \n",
    "print(li[4]) \n",
    "# print(li[5]) : IndexError: list index out of range\n",
    "\n",
    "print(li[-1]) \n",
    "print(li[-5])\n",
    "# print(li[-6]) : IndexError: list index out of range"
   ]
  },
  {
   "cell_type": "code",
   "execution_count": 12,
   "metadata": {},
   "outputs": [
    {
     "name": "stdout",
     "output_type": "stream",
     "text": [
      "[30, 40, 50]\n",
      "[10, 20, 30, 40]\n",
      "[10, 20, 30, 40, 50]\n"
     ]
    }
   ],
   "source": [
    "# Slicing  \n",
    "\n",
    "print(li[2::1])\n",
    "print(li[:4:1])\n",
    "print(li[::1]) "
   ]
  },
  {
   "cell_type": "code",
   "execution_count": 14,
   "metadata": {},
   "outputs": [
    {
     "name": "stdout",
     "output_type": "stream",
     "text": [
      "[30, 40, 50]\n",
      "[10, 20, 30, 40]\n",
      "[10, 20, 30, 40, 50]\n"
     ]
    }
   ],
   "source": [
    "print(li[2:len(li):1])\n",
    "print(li[0:4:1])\n",
    "print(li[0:len(li):1]) "
   ]
  },
  {
   "cell_type": "code",
   "execution_count": 15,
   "metadata": {},
   "outputs": [
    {
     "data": {
      "text/plain": [
       "5"
      ]
     },
     "execution_count": 15,
     "metadata": {},
     "output_type": "execute_result"
    }
   ],
   "source": [
    "len(li) "
   ]
  },
  {
   "cell_type": "code",
   "execution_count": 34,
   "metadata": {},
   "outputs": [],
   "source": [
    "li = [10, 20, 30, 40, 50]"
   ]
  },
  {
   "cell_type": "code",
   "execution_count": 35,
   "metadata": {},
   "outputs": [
    {
     "name": "stdout",
     "output_type": "stream",
     "text": [
      "[10, 20, 30, 40, 50] 2945276355584\n",
      "[100, 20, 30, 40, 50] 2945276355584\n"
     ]
    }
   ],
   "source": [
    "# Assignment \n",
    "\n",
    "print(li, id(li))  \n",
    "li[0] = 100 \n",
    "print(li, id(li)) \n"
   ]
  },
  {
   "cell_type": "code",
   "execution_count": null,
   "metadata": {},
   "outputs": [
    {
     "name": "stdout",
     "output_type": "stream",
     "text": [
      "[100, 20, 30, 40, 50] 2945276355584\n",
      "First Index : 140724500623320\n",
      "[100, 20, 30, 40, 500] 2945276355584\n",
      "First Index : 2945277003472\n"
     ]
    }
   ],
   "source": [
    "# Types of List \n",
    "\n",
    "print(li, id(li))  \n",
    "print(f\"First Index : {id(li[4])}\")    \n",
    "li[4] = 500 \n",
    "print(li, id(li)) \n",
    "print(f\"First Index : {id(li[4])}\")\n"
   ]
  },
  {
   "cell_type": "code",
   "execution_count": 3,
   "metadata": {},
   "outputs": [
    {
     "name": "stdout",
     "output_type": "stream",
     "text": [
      "2818776108736\n",
      "2818776166464\n",
      "False\n"
     ]
    }
   ],
   "source": [
    "li = [1, 2, 3, 4, 5] \n",
    "lI = [1, 2, 3, 4, 5] \n",
    "\n",
    "print(id(li)) \n",
    "print(id(lI)) \n",
    "print(id(li) == id(lI)) "
   ]
  },
  {
   "cell_type": "code",
   "execution_count": 2,
   "metadata": {},
   "outputs": [
    {
     "name": "stdout",
     "output_type": "stream",
     "text": [
      "140713797085912\n",
      "140713797085912\n",
      "True\n"
     ]
    }
   ],
   "source": [
    "a = 10 \n",
    "b = 10 \n",
    "\n",
    "print(id(a)) \n",
    "print(id(b)) \n",
    "print(id(a) == id(b)) "
   ]
  },
  {
   "cell_type": "code",
   "execution_count": 14,
   "metadata": {},
   "outputs": [
    {
     "name": "stdout",
     "output_type": "stream",
     "text": [
      "[25, 52, 45, 32]\n",
      "[25, 52, 45, 32, 200]\n",
      "[100, 25, 52, 45, 32, 200]\n",
      "[100, 25, 52, 45, 32, 200, [1, 2, 3]]\n",
      "[100, 25, 52, 45, 32, 200, [1, 2, 3], 1, 2, 3]\n",
      "[[11, 22, 33], 100, 25, 52, 45, 32, 200, [1, 2, 3], 1, 2, 3]\n"
     ]
    }
   ],
   "source": [
    "# Insert Data in list \n",
    "\n",
    "li = [25, 52, 45, 32] \n",
    "# Insert at last index \n",
    "print(li) \n",
    "\n",
    "li.append(200) \n",
    "\n",
    "print(li) \n",
    "\n",
    "# Insert at particular index\n",
    "li.insert(0, 100) \n",
    "\n",
    "print(li) \n",
    "\n",
    "# li.append(1, 2, 3) : TypeError: list.append() takes exactly one argument (3 given)\n",
    "\n",
    "li.append([1, 2, 3])\n",
    "\n",
    "print(li) \n",
    "\n",
    "li.extend([1, 2, 3]) \n",
    "\n",
    "print(li) \n",
    "\n",
    "li.insert(0, [11, 22, 33]) \n",
    "\n",
    "print(li) "
   ]
  },
  {
   "cell_type": "code",
   "execution_count": 21,
   "metadata": {},
   "outputs": [
    {
     "name": "stdout",
     "output_type": "stream",
     "text": [
      "140713797085624\n",
      "[None, 2, 3, 4, 5, 10]\n",
      "140713796285376\n"
     ]
    }
   ],
   "source": [
    "li = [1, 2, 3, 4, 5] \n",
    "print(id(li[0])) \n",
    "li[0] = li.append(10)\n",
    "print(li) \n",
    "print(id(li[0]))\n"
   ]
  },
  {
   "cell_type": "code",
   "execution_count": 25,
   "metadata": {},
   "outputs": [
    {
     "name": "stdout",
     "output_type": "stream",
     "text": [
      "[1, 2, 15, 3, 4, 5, 10, 50, 20, 30]\n"
     ]
    }
   ],
   "source": [
    "li = [1, 2, 3, 4, 5] \n",
    "\n",
    "li.append(10) \n",
    "li.insert(2, 15) \n",
    "li.extend([50, 20, 30]) \n",
    "print(li) "
   ]
  },
  {
   "cell_type": "code",
   "execution_count": 31,
   "metadata": {},
   "outputs": [
    {
     "name": "stdout",
     "output_type": "stream",
     "text": [
      "[20, 10, 40, 30, 50]\n"
     ]
    }
   ],
   "source": [
    "li = [10, 20, 30, 40, 50] \n",
    "\n",
    "li1 = [item for index, item in enumerate(li) if index % 2 == 0] \n",
    "li2 = [item for index, item in enumerate(li) if index % 2 != 0] \n",
    "\n",
    "newli = [] \n",
    "\n",
    "while len(li1) != 0 and len(li2) != 0:\n",
    "    newli.append(li2.pop(0)) \n",
    "    newli.append(li1.pop(0)) \n",
    "\n",
    "newli.append(li1.pop()) \n",
    "print(newli) "
   ]
  },
  {
   "cell_type": "code",
   "execution_count": 34,
   "metadata": {},
   "outputs": [],
   "source": [
    "li1 = [1, 2, 3, 4, 5, 19, 20, 21, 22, 23, 24, 25] \n",
    "li2 = [6, 7, 8,9, 10, 11, 12, 13, 14, 15, 16, 17, 18] \n",
    "\n",
    "newli = li1 + li2 "
   ]
  },
  {
   "cell_type": "code",
   "execution_count": 36,
   "metadata": {},
   "outputs": [],
   "source": [
    "newli.sort() "
   ]
  },
  {
   "cell_type": "code",
   "execution_count": 37,
   "metadata": {},
   "outputs": [
    {
     "name": "stdout",
     "output_type": "stream",
     "text": [
      "[1, 2, 3, 4, 5, 6, 7, 8, 9, 10, 11, 12, 13, 14, 15, 16, 17, 18, 19, 20, 21, 22, 23, 24, 25]\n"
     ]
    }
   ],
   "source": [
    "print(newli) "
   ]
  },
  {
   "cell_type": "code",
   "execution_count": 43,
   "metadata": {},
   "outputs": [
    {
     "name": "stdout",
     "output_type": "stream",
     "text": [
      "Original List : [100, 90, 80, 70, 60, 50, 40, 30, 20, 10]\n",
      "pop() : removes from the last location \n",
      "Updated list : [100, 90, 80, 70, 60, 50, 40, 30, 20]\n",
      "pop(0) : removes the data at index 0\n",
      "Updated list : [90, 80, 70, 60, 50, 40, 30, 20]\n",
      "pop(-8) : removes the data at index -8\n",
      "Updated list : [80, 70, 60, 50, 40, 30, 20]\n",
      "remove(50) : removes the data 50\n",
      "Updated list : [80, 70, 60, 40, 30, 20]\n"
     ]
    }
   ],
   "source": [
    "# Remomving data \n",
    "\n",
    "li = [100, 90, 80, 70, 60, 50, 40, 30, 20, 10]\n",
    "\n",
    "# Index Based Removal : pop() \n",
    "print(f\"Original List : {li}\")\n",
    "\n",
    "li.pop() # Remove from the last location \n",
    "\n",
    "print(f\"pop() : removes from the last location \")\n",
    "\n",
    "print(f\"Updated list : {li}\")\n",
    "\n",
    "li.pop(0) \n",
    "\n",
    "print(f'pop(0) : removes the data at index 0') \n",
    "\n",
    "print(f\"Updated list : {li}\")\n",
    "\n",
    "li.pop(-8) \n",
    "\n",
    "print(f\"pop(-8) : removes the data at index -8\")\n",
    "\n",
    "print(f\"Updated list : {li}\")\n",
    "\n",
    "li.remove(50) \n",
    "\n",
    "print(f\"remove(50) : removes the data 50\") \n",
    "\n",
    "print(f\"Updated list : {li}\")"
   ]
  },
  {
   "cell_type": "code",
   "execution_count": null,
   "metadata": {},
   "outputs": [],
   "source": [
    "string = input() \n",
    "remove_item = ['']\n",
    "\n",
    "for index, item in enumerate(string.split()):\n",
    "    if "
   ]
  },
  {
   "cell_type": "code",
   "execution_count": 6,
   "metadata": {},
   "outputs": [
    {
     "name": "stdout",
     "output_type": "stream",
     "text": [
      "Index Based Looping : Using the Accessing Method to access each  data on the given index.\n",
      "Forward Indexing\n",
      "\n",
      "Index : 0, Data : 21\n",
      "Index : 1, Data : 37\n",
      "Index : 2, Data : 94\n",
      "Index : 3, Data : 59\n",
      "Index : 4, Data : 73\n",
      "\n",
      "Negative Indexing \n",
      "\n",
      "Index : -1, Data : 73\n",
      "Index : -2, Data : 59\n",
      "Index : -3, Data : 94\n",
      "Index : -4, Data : 37\n",
      "Index : -5, Data : 21\n"
     ]
    }
   ],
   "source": [
    "# Loops in List \n",
    "\n",
    "li = [21, 37, 94, 59, 73] \n",
    "\n",
    "# Index Based : range(start, stop, step) \n",
    "print(f\"Index Based Looping : Using the Accessing Method to access each  data on the given index.\\nForward Indexing\\n\")\n",
    "for i in range(0, len(li), 1):\n",
    "    print(f\"Index : {i}, Data : {li[i]}\")\n",
    "\n",
    "print(f\"\\nNegative Indexing \\n\")\n",
    "for i in range(-1, - len(li) - 1, -1):\n",
    "    print(f\"Index : {i}, Data : {li[i]}\")"
   ]
  },
  {
   "cell_type": "code",
   "execution_count": 8,
   "metadata": {},
   "outputs": [
    {
     "name": "stdout",
     "output_type": "stream",
     "text": [
      "21\n",
      "37\n",
      "94\n",
      "59\n",
      "73\n"
     ]
    }
   ],
   "source": [
    "# Item Based : Using Membership Operator \n",
    "\n",
    "for item in li:\n",
    "    print(f\"{item}\")"
   ]
  },
  {
   "cell_type": "code",
   "execution_count": 9,
   "metadata": {},
   "outputs": [
    {
     "name": "stdout",
     "output_type": "stream",
     "text": [
      "Index : 0, Data : 21\n",
      "Index : 1, Data : 37\n",
      "Index : 2, Data : 94\n",
      "Index : 3, Data : 59\n",
      "Index : 4, Data : 73\n"
     ]
    }
   ],
   "source": [
    "# Enumerate Based \n",
    "\n",
    "for index, item in enumerate(li):\n",
    "    print(f\"Index : {index}, Data : {item}\")"
   ]
  },
  {
   "cell_type": "code",
   "execution_count": 10,
   "metadata": {},
   "outputs": [],
   "source": [
    "from typing import List "
   ]
  },
  {
   "cell_type": "code",
   "execution_count": 15,
   "metadata": {},
   "outputs": [
    {
     "name": "stdout",
     "output_type": "stream",
     "text": [
      "Item Not Found\n"
     ]
    }
   ],
   "source": [
    "# Searching \n",
    "\n",
    "# Function Declaration & Definition \n",
    "def list_search(li : List[int], x : int) -> bool:\n",
    "    for item in li:\n",
    "        if item == x:\n",
    "            return True \n",
    "    else:\n",
    "        return False \n",
    "\n",
    "li = [1, 2, 3, 4, 5] \n",
    "x = int(input()) \n",
    "\n",
    "if list_search(li, x) == True:\n",
    "    print(f'Item Found') \n",
    "else:\n",
    "    print(f\"Item Not Found\")"
   ]
  },
  {
   "cell_type": "code",
   "execution_count": 37,
   "metadata": {},
   "outputs": [
    {
     "name": "stdout",
     "output_type": "stream",
     "text": [
      "Item Not Found\n",
      "None\n"
     ]
    }
   ],
   "source": [
    "def list_search2(li : List[int], x : int) -> None:\n",
    "    for item in li:\n",
    "        if item == x:\n",
    "            print(f\"Item Found\")\n",
    "            return \n",
    "    else:\n",
    "        print(f\"Item Not Found\") \n",
    "\n",
    "li = [1, 2, 3, 4, 5] \n",
    "x = int(input()) \n",
    "\n",
    "# list_search2(li, x) \n",
    "print(list_search2(li, x))"
   ]
  },
  {
   "cell_type": "code",
   "execution_count": 36,
   "metadata": {},
   "outputs": [
    {
     "name": "stdout",
     "output_type": "stream",
     "text": [
      "Item Not Found\n",
      "None\n"
     ]
    }
   ],
   "source": [
    "ans = list_search2(li, x) \n",
    "print(ans) "
   ]
  },
  {
   "cell_type": "code",
   "execution_count": null,
   "metadata": {},
   "outputs": [],
   "source": [
    "# Function Declaration & Definition \n",
    "def list_search3(li : List[int], x : int) -> int:\n",
    "    for index, item in enumerate(li):\n",
    "        if item == x:\n",
    "            return index \n",
    "    else:\n",
    "        return -1 \n",
    "\n",
    "# Taking input - Custom & from User \n",
    "li = [1, 2, 3, 4, 5] \n",
    "x = int(input()) \n",
    "\n",
    "# Function call \n",
    "ans = list_search3(li, x)\n",
    "\n",
    "# Display Output \n",
    "if ans == -1:\n",
    "    print(f\"Item not found\") \n",
    "else:\n",
    "    print(f\"Item Found At index {ans}\")"
   ]
  },
  {
   "cell_type": "code",
   "execution_count": 40,
   "metadata": {},
   "outputs": [
    {
     "name": "stdout",
     "output_type": "stream",
     "text": [
      "[1, 2, 3, 4, 5, 6, 7, 8, 9, 10]\n",
      "[1, 2, 3, 4, 5, 1, 2, 3, 4, 5, 1, 2, 3, 4, 5]\n"
     ]
    }
   ],
   "source": [
    "# Concatenation & Repetition \n",
    "\n",
    "a = [1, 2, 3, 4, 5] \n",
    "b =  [6, 7, 8, 9, 10] \n",
    "\n",
    "print(a + b) # Concatenation \n",
    "print(a * 3) # Repetition "
   ]
  },
  {
   "cell_type": "code",
   "execution_count": 46,
   "metadata": {},
   "outputs": [
    {
     "name": "stdout",
     "output_type": "stream",
     "text": [
      "[[1, 2, 3, 4, 5], [6, 7, 8, 9, 10]]\n",
      "[1, 2, 3, 4, 5]\n",
      "[6, 7, 8, 9, 10]\n"
     ]
    }
   ],
   "source": [
    "c = [a, b] \n",
    "print(c) \n",
    "print(c[0]) \n",
    "print(c[1])"
   ]
  },
  {
   "cell_type": "code",
   "execution_count": null,
   "metadata": {},
   "outputs": [],
   "source": []
  },
  {
   "cell_type": "code",
   "execution_count": 43,
   "metadata": {},
   "outputs": [
    {
     "name": "stdout",
     "output_type": "stream",
     "text": [
      "[[1, 2, 3, 4, 5, 6, 7, 8, 9, 10]]\n"
     ]
    }
   ],
   "source": [
    "d = [a + b] \n",
    "print(d) "
   ]
  },
  {
   "cell_type": "code",
   "execution_count": 47,
   "metadata": {},
   "outputs": [
    {
     "name": "stdout",
     "output_type": "stream",
     "text": [
      "[1, 2, 3, 4, 5, 6, 7, 8, 9, 10]\n"
     ]
    }
   ],
   "source": [
    "print(a + b) "
   ]
  },
  {
   "cell_type": "code",
   "execution_count": 44,
   "metadata": {},
   "outputs": [
    {
     "name": "stdout",
     "output_type": "stream",
     "text": [
      "[1, 2, 3, 4, 5, 6, 7, 8, 9, 10]\n"
     ]
    }
   ],
   "source": [
    "c = c[0] + c[1] \n",
    "print(c) "
   ]
  },
  {
   "cell_type": "code",
   "execution_count": 45,
   "metadata": {},
   "outputs": [
    {
     "name": "stdout",
     "output_type": "stream",
     "text": [
      "[1, 2, 3, [4, 5], 6, 7, 8, 9, 10]\n"
     ]
    }
   ],
   "source": [
    "e = a[:3] + [a[3:]] + b \n",
    "print(e)"
   ]
  },
  {
   "cell_type": "code",
   "execution_count": 53,
   "metadata": {},
   "outputs": [
    {
     "name": "stdout",
     "output_type": "stream",
     "text": [
      "[[1, 2.0, 3, (4+5j), 5], [6, 7, True, 9, '10']]\n",
      "[1, 2.0, 3, (4+5j), 5, 6, 7, True, 9, '10']\n"
     ]
    }
   ],
   "source": [
    "a = [[1, 2., 3, 4 + 5j, 5], [6, 7, True, 9, '10']] \n",
    "\n",
    "print(a) \n",
    "print(a[0] + a[1])"
   ]
  },
  {
   "cell_type": "code",
   "execution_count": 59,
   "metadata": {},
   "outputs": [
    {
     "name": "stdout",
     "output_type": "stream",
     "text": [
      "[10, 2, 3, 4] 2936110923392\n",
      "[10, 2, 3, 4] 2936110923392\n"
     ]
    }
   ],
   "source": [
    "a = [1, 2, 3, 4] \n",
    "b = a\n",
    "b[0] = 10 \n",
    "print(a, id(a)) \n",
    "print(b, id(b)) "
   ]
  },
  {
   "cell_type": "code",
   "execution_count": null,
   "metadata": {},
   "outputs": [],
   "source": []
  }
 ],
 "metadata": {
  "kernelspec": {
   "display_name": "Python 3",
   "language": "python",
   "name": "python3"
  },
  "language_info": {
   "codemirror_mode": {
    "name": "ipython",
    "version": 3
   },
   "file_extension": ".py",
   "mimetype": "text/x-python",
   "name": "python",
   "nbconvert_exporter": "python",
   "pygments_lexer": "ipython3",
   "version": "3.12.8"
  }
 },
 "nbformat": 4,
 "nbformat_minor": 2
}
