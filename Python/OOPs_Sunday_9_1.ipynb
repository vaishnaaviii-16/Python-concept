{
 "cells": [
  {
   "cell_type": "code",
   "execution_count": 2,
   "metadata": {},
   "outputs": [],
   "source": [
    "'''\n",
    "OOPs Stands for Object Oriented Programming Language and any programming language that supports this system is called Object Oriented Programming Language. \n",
    "\n",
    "Class : It is a blueprint of an Object \n",
    "\n",
    "Object : It is an Instance of class\n",
    "'''\n",
    "\n",
    "class School:\n",
    "    # Class Attribute\n",
    "    school_name = 'XYZ School' \n",
    "\n",
    "    # Instance Attribute \n",
    "    def __init__(self, name, age, standard, roll_no):\n",
    "        self.name = name \n",
    "        self.age = age \n",
    "        self.standard = standard \n",
    "        self.roll = roll_no \n",
    "\n",
    "    # Instance Method \n",
    "    def displayDetails(self):\n",
    "        if self.standard == 1:\n",
    "            print(f\"School : {School.school_name}\\nName : {self.name}\\nAge : {self.age}\\nClass : {self.standard}st\\nRoll No : {self.roll}\")\n",
    "        elif self.standard == 2:\n",
    "            print(f\"School : {School.school_name}\\nName : {self.name}\\nAge : {self.age}\\nClass : {self.standard}nd\\nRoll No : {self.roll}\")\n",
    "        else:\n",
    "            print(f\"School : {School.school_name}\\nName : {self.name}\\nAge : {self.age}\\nClass : {self.standard}th\\nRoll No : {self.roll}\")"
   ]
  },
  {
   "cell_type": "code",
   "execution_count": 3,
   "metadata": {},
   "outputs": [],
   "source": [
    "s1 = School(\"Emma\", 15, 9, 25) "
   ]
  },
  {
   "cell_type": "code",
   "execution_count": 11,
   "metadata": {},
   "outputs": [
    {
     "name": "stdout",
     "output_type": "stream",
     "text": [
      "<class 'list'>\n",
      "[10]\n"
     ]
    }
   ],
   "source": [
    "li = list() \n",
    "print(type(li)) \n",
    "li.append(10) \n",
    "print(li)"
   ]
  },
  {
   "cell_type": "code",
   "execution_count": 5,
   "metadata": {},
   "outputs": [
    {
     "name": "stdout",
     "output_type": "stream",
     "text": [
      "School : XYZ School\n",
      "Name : Emma\n",
      "Age : 15\n",
      "Class : 9th\n",
      "Roll No : 25\n"
     ]
    }
   ],
   "source": [
    "s1.displayDetails() "
   ]
  },
  {
   "cell_type": "code",
   "execution_count": 6,
   "metadata": {},
   "outputs": [
    {
     "data": {
      "text/plain": [
       "'Emma'"
      ]
     },
     "execution_count": 6,
     "metadata": {},
     "output_type": "execute_result"
    }
   ],
   "source": [
    "s1.name "
   ]
  },
  {
   "cell_type": "code",
   "execution_count": 7,
   "metadata": {},
   "outputs": [
    {
     "data": {
      "text/plain": [
       "15"
      ]
     },
     "execution_count": 7,
     "metadata": {},
     "output_type": "execute_result"
    }
   ],
   "source": [
    "s1.age "
   ]
  },
  {
   "cell_type": "code",
   "execution_count": 8,
   "metadata": {},
   "outputs": [
    {
     "data": {
      "text/plain": [
       "9"
      ]
     },
     "execution_count": 8,
     "metadata": {},
     "output_type": "execute_result"
    }
   ],
   "source": [
    "s1.standard"
   ]
  },
  {
   "cell_type": "code",
   "execution_count": 10,
   "metadata": {},
   "outputs": [
    {
     "data": {
      "text/plain": [
       "'XYZ School'"
      ]
     },
     "execution_count": 10,
     "metadata": {},
     "output_type": "execute_result"
    }
   ],
   "source": [
    "s1.school_name"
   ]
  },
  {
   "cell_type": "code",
   "execution_count": 14,
   "metadata": {},
   "outputs": [
    {
     "name": "stdout",
     "output_type": "stream",
     "text": [
      "2427984298320 2427984309328 False\n"
     ]
    }
   ],
   "source": [
    "a = 257\n",
    "b = 257\n",
    "\n",
    "print(id(a), id(b), id(a) == id(b)) "
   ]
  },
  {
   "cell_type": "code",
   "execution_count": 15,
   "metadata": {},
   "outputs": [
    {
     "name": "stdout",
     "output_type": "stream",
     "text": [
      "Id Of Self : 2427978790048\n",
      "Id Of Object d : 2427978790048\n"
     ]
    }
   ],
   "source": [
    "class Dog:\n",
    "    def __init__(self):\n",
    "        print(f\"Id Of Self : {id(self)}\")\n",
    "\n",
    "d = Dog() \n",
    "print(f\"Id Of Object d : {id(d)}\") "
   ]
  },
  {
   "cell_type": "code",
   "execution_count": null,
   "metadata": {},
   "outputs": [],
   "source": [
    "self = object "
   ]
  },
  {
   "cell_type": "code",
   "execution_count": 43,
   "metadata": {},
   "outputs": [],
   "source": [
    "class iStore:\n",
    "    company_name = 'Apple' \n",
    "\n",
    "    def __init__(self, name, phone, email, product, price, discount):\n",
    "        self.name = name \n",
    "        self.phone = phone \n",
    "        self.email = email \n",
    "        self.product = product \n",
    "        self.price = price \n",
    "        self.discount = discount \n",
    "\n",
    "    def displayDetails(self):\n",
    "        print(f\"Name : {self.name}\\nContact Number : {self.phone}\\nEmail : {self.email}\\nProduct Purchased : {self.product}\\nPrice : {self.price}\\nDiscount : {self.discount}\")\n",
    "\n",
    "    def applyDiscount(self):\n",
    "        self.price = self.price - (self.price * (self.discount / 100)) \n",
    "\n",
    "    "
   ]
  },
  {
   "cell_type": "code",
   "execution_count": 44,
   "metadata": {},
   "outputs": [],
   "source": [
    "p1 = iStore('Jack', 9754985623, 'JackSparrow@pirate.com', 'Iphone 16 Pro Max', 150000, 10) "
   ]
  },
  {
   "cell_type": "code",
   "execution_count": 45,
   "metadata": {},
   "outputs": [
    {
     "name": "stdout",
     "output_type": "stream",
     "text": [
      "Name : Jack\n",
      "Contact Number : 9754985623\n",
      "Email : JackSparrow@pirate.com\n",
      "Product Purchased : Iphone 16 Pro Max\n",
      "Price : 150000\n",
      "Discount : 10\n"
     ]
    }
   ],
   "source": [
    "p1.displayDetails() "
   ]
  },
  {
   "cell_type": "code",
   "execution_count": 46,
   "metadata": {},
   "outputs": [],
   "source": [
    "p1.applyDiscount() "
   ]
  },
  {
   "cell_type": "code",
   "execution_count": 47,
   "metadata": {},
   "outputs": [
    {
     "name": "stdout",
     "output_type": "stream",
     "text": [
      "Name : Jack\n",
      "Contact Number : 9754985623\n",
      "Email : JackSparrow@pirate.com\n",
      "Product Purchased : Iphone 16 Pro Max\n",
      "Price : 135000.0\n",
      "Discount : 10\n"
     ]
    }
   ],
   "source": [
    "p1.displayDetails() "
   ]
  },
  {
   "cell_type": "code",
   "execution_count": 49,
   "metadata": {},
   "outputs": [],
   "source": [
    "p1.discount = 100 "
   ]
  },
  {
   "cell_type": "code",
   "execution_count": 50,
   "metadata": {},
   "outputs": [
    {
     "name": "stdout",
     "output_type": "stream",
     "text": [
      "Name : Jack\n",
      "Contact Number : 9754985623\n",
      "Email : JackSparrow@pirate.com\n",
      "Product Purchased : Iphone 16 Pro Max\n",
      "Price : 135000.0\n",
      "Discount : 100\n"
     ]
    }
   ],
   "source": [
    "p1.displayDetails() "
   ]
  },
  {
   "cell_type": "code",
   "execution_count": 51,
   "metadata": {},
   "outputs": [],
   "source": [
    "p1.applyDiscount() "
   ]
  },
  {
   "cell_type": "code",
   "execution_count": 52,
   "metadata": {},
   "outputs": [
    {
     "name": "stdout",
     "output_type": "stream",
     "text": [
      "Name : Jack\n",
      "Contact Number : 9754985623\n",
      "Email : JackSparrow@pirate.com\n",
      "Product Purchased : Iphone 16 Pro Max\n",
      "Price : 0.0\n",
      "Discount : 100\n"
     ]
    }
   ],
   "source": [
    "p1.displayDetails() "
   ]
  },
  {
   "cell_type": "code",
   "execution_count": 53,
   "metadata": {},
   "outputs": [
    {
     "data": {
      "text/plain": [
       "{'name': 'Jack',\n",
       " 'phone': 9754985623,\n",
       " 'email': 'JackSparrow@pirate.com',\n",
       " 'product': 'Iphone 16 Pro Max',\n",
       " 'price': 0.0,\n",
       " 'discount': 100}"
      ]
     },
     "execution_count": 53,
     "metadata": {},
     "output_type": "execute_result"
    }
   ],
   "source": [
    "p1.__dict__ "
   ]
  },
  {
   "cell_type": "code",
   "execution_count": 54,
   "metadata": {},
   "outputs": [
    {
     "data": {
      "text/plain": [
       "mappingproxy({'__module__': '__main__',\n",
       "              'company_name': 'Apple',\n",
       "              '__init__': <function __main__.iStore.__init__(self, name, phone, email, product, price, discount)>,\n",
       "              'displayDetails': <function __main__.iStore.displayDetails(self)>,\n",
       "              'applyDiscount': <function __main__.iStore.applyDiscount(self)>,\n",
       "              '__dict__': <attribute '__dict__' of 'iStore' objects>,\n",
       "              '__weakref__': <attribute '__weakref__' of 'iStore' objects>,\n",
       "              '__doc__': None})"
      ]
     },
     "execution_count": 54,
     "metadata": {},
     "output_type": "execute_result"
    }
   ],
   "source": [
    "iStore.__dict__"
   ]
  },
  {
   "cell_type": "code",
   "execution_count": 55,
   "metadata": {},
   "outputs": [
    {
     "data": {
      "text/plain": [
       "{'name': 'Jack',\n",
       " 'phone': 9754985623,\n",
       " 'email': 'JackSparrow@pirate.com',\n",
       " 'product': 'Iphone 16 Pro Max',\n",
       " 'price': 0.0,\n",
       " 'discount': 100}"
      ]
     },
     "execution_count": 55,
     "metadata": {},
     "output_type": "execute_result"
    }
   ],
   "source": [
    "vars(p1) "
   ]
  },
  {
   "cell_type": "code",
   "execution_count": 56,
   "metadata": {},
   "outputs": [
    {
     "data": {
      "text/plain": [
       "mappingproxy({'__module__': '__main__',\n",
       "              'company_name': 'Apple',\n",
       "              '__init__': <function __main__.iStore.__init__(self, name, phone, email, product, price, discount)>,\n",
       "              'displayDetails': <function __main__.iStore.displayDetails(self)>,\n",
       "              'applyDiscount': <function __main__.iStore.applyDiscount(self)>,\n",
       "              '__dict__': <attribute '__dict__' of 'iStore' objects>,\n",
       "              '__weakref__': <attribute '__weakref__' of 'iStore' objects>,\n",
       "              '__doc__': None})"
      ]
     },
     "execution_count": 56,
     "metadata": {},
     "output_type": "execute_result"
    }
   ],
   "source": [
    "vars(iStore)"
   ]
  },
  {
   "cell_type": "code",
   "execution_count": 57,
   "metadata": {},
   "outputs": [
    {
     "name": "stdout",
     "output_type": "stream",
     "text": [
      "Name = Jack\n",
      "Age = 20\n"
     ]
    }
   ],
   "source": [
    "'''\n",
    "Encapsulation is the principle of bundling data (attriburtes) and methods(functions) that operate on a single unit (class) while controlling the access to that data thorugh access modifiers '''\n",
    "\n",
    "\n",
    "class geek:\n",
    "    # Public Instance Attribute \n",
    "    def __init__(self, name, age):\n",
    "        self.name = name \n",
    "        self.age = age \n",
    "\n",
    "    # Public Instance Method  \n",
    "    def displayAge(self):\n",
    "        print(f\"Age = {self.age}\") \n",
    "\n",
    "obj = geek(\"Jack\", 20)\n",
    "print(f\"Name = {obj.name}\") \n",
    "obj.displayAge() "
   ]
  },
  {
   "cell_type": "code",
   "execution_count": 58,
   "metadata": {},
   "outputs": [
    {
     "data": {
      "text/plain": [
       "{'name': 'Jack', 'age': 20}"
      ]
     },
     "execution_count": 58,
     "metadata": {},
     "output_type": "execute_result"
    }
   ],
   "source": [
    "vars(obj) "
   ]
  },
  {
   "cell_type": "code",
   "execution_count": 59,
   "metadata": {},
   "outputs": [],
   "source": [
    "obj.name = 'Sparrow'"
   ]
  },
  {
   "cell_type": "code",
   "execution_count": 60,
   "metadata": {},
   "outputs": [
    {
     "name": "stdout",
     "output_type": "stream",
     "text": [
      "Sparrow\n"
     ]
    }
   ],
   "source": [
    "print(obj.name)"
   ]
  },
  {
   "cell_type": "code",
   "execution_count": null,
   "metadata": {},
   "outputs": [],
   "source": [
    "'''Protected '''\n",
    "\n",
    "class Student:\n",
    "    _name = None \n",
    "    _roll = None \n",
    "    _branch = None \n",
    "\n",
    "\n",
    "    def __init__(self, name, roll, branch):\n",
    "        self._name = name\n",
    "        self._roll = roll \n",
    "        self._branch = branch \n",
    "\n",
    "    def _displayDetails(self):\n",
    "        print(f\"Roll No : {self._roll}\\nBranch : {self._branch}\")\n",
    "\n",
    "class Geek(Student):\n",
    "    def __init__(self, name, roll, branch):\n",
    "        super().__init__(name, roll, branch) \n",
    "\n",
    "    def displayDetails(self):\n",
    "        print(f\"Name : {self._name}\") \n",
    "        self._displayDetails() \n",
    "\n",
    "g = Geek(\"Jack\", 20, \"Information Technology\")"
   ]
  },
  {
   "cell_type": "code",
   "execution_count": 66,
   "metadata": {},
   "outputs": [
    {
     "data": {
      "text/plain": [
       "{'_name': 'Jack', '_roll': 20, '_branch': 'Information Technology'}"
      ]
     },
     "execution_count": 66,
     "metadata": {},
     "output_type": "execute_result"
    }
   ],
   "source": [
    "vars(g) "
   ]
  },
  {
   "cell_type": "code",
   "execution_count": 67,
   "metadata": {},
   "outputs": [
    {
     "data": {
      "text/plain": [
       "mappingproxy({'__module__': '__main__',\n",
       "              '__init__': <function __main__.Geek.__init__(self, name, roll, branch)>,\n",
       "              'displayDetails': <function __main__.Geek.displayDetails(self)>,\n",
       "              '__doc__': None})"
      ]
     },
     "execution_count": 67,
     "metadata": {},
     "output_type": "execute_result"
    }
   ],
   "source": [
    "vars(Geek) "
   ]
  },
  {
   "cell_type": "code",
   "execution_count": 68,
   "metadata": {},
   "outputs": [
    {
     "name": "stdout",
     "output_type": "stream",
     "text": [
      "Name : Jack\n",
      "Roll No : 20\n",
      "Branch : Information Technology\n"
     ]
    }
   ],
   "source": [
    "g.displayDetails() "
   ]
  },
  {
   "cell_type": "code",
   "execution_count": 70,
   "metadata": {},
   "outputs": [],
   "source": [
    "g._name = 'Sparrow' "
   ]
  },
  {
   "cell_type": "code",
   "execution_count": 71,
   "metadata": {},
   "outputs": [
    {
     "name": "stdout",
     "output_type": "stream",
     "text": [
      "Name : Sparrow\n",
      "Roll No : 20\n",
      "Branch : Information Technology\n"
     ]
    }
   ],
   "source": [
    "g.displayDetails() "
   ]
  },
  {
   "cell_type": "code",
   "execution_count": 72,
   "metadata": {},
   "outputs": [],
   "source": [
    "class Geek:\n",
    "    # Private Class Attributes\n",
    "    __name = None \n",
    "    __roll = None \n",
    "    __branch = None \n",
    "\n",
    "    # Private Instance Attributes \n",
    "    def __init__(self, name, roll, branch):\n",
    "        self.__name = name \n",
    "        self.__roll = roll \n",
    "        self.__branch = branch \n",
    "\n",
    "    # Private Instance Method \n",
    "    def __displayDetails(self):\n",
    "        print(f\"Name : {self.__name}\\nRoll No : {self.__roll}\\nBranch : {self.__branch}\") \n",
    "    \n",
    "    # Public Instance Method \n",
    "    def displayDetails(self):\n",
    "        self.__displayDetails() \n",
    "\n",
    "g1 = Geek(\"William\", 25, 'Computer Science')"
   ]
  },
  {
   "cell_type": "code",
   "execution_count": 73,
   "metadata": {},
   "outputs": [
    {
     "ename": "AttributeError",
     "evalue": "'Geek' object has no attribute '__displayDetails'",
     "output_type": "error",
     "traceback": [
      "\u001b[1;31m---------------------------------------------------------------------------\u001b[0m",
      "\u001b[1;31mAttributeError\u001b[0m                            Traceback (most recent call last)",
      "Cell \u001b[1;32mIn[73], line 1\u001b[0m\n\u001b[1;32m----> 1\u001b[0m \u001b[43mg1\u001b[49m\u001b[38;5;241;43m.\u001b[39;49m\u001b[43m__displayDetails\u001b[49m() \n",
      "\u001b[1;31mAttributeError\u001b[0m: 'Geek' object has no attribute '__displayDetails'"
     ]
    }
   ],
   "source": [
    "g1.__displayDetails() "
   ]
  },
  {
   "cell_type": "code",
   "execution_count": 74,
   "metadata": {},
   "outputs": [
    {
     "name": "stdout",
     "output_type": "stream",
     "text": [
      "Name : William\n",
      "Roll No : 25\n",
      "Branch : Computer Science\n"
     ]
    }
   ],
   "source": [
    "g1.displayDetails() "
   ]
  },
  {
   "cell_type": "code",
   "execution_count": 75,
   "metadata": {},
   "outputs": [
    {
     "data": {
      "text/plain": [
       "{'_Geek__name': 'William',\n",
       " '_Geek__roll': 25,\n",
       " '_Geek__branch': 'Computer Science'}"
      ]
     },
     "execution_count": 75,
     "metadata": {},
     "output_type": "execute_result"
    }
   ],
   "source": [
    "vars(g1) "
   ]
  },
  {
   "cell_type": "code",
   "execution_count": 76,
   "metadata": {},
   "outputs": [
    {
     "ename": "AttributeError",
     "evalue": "'Geek' object has no attribute '__name'",
     "output_type": "error",
     "traceback": [
      "\u001b[1;31m---------------------------------------------------------------------------\u001b[0m",
      "\u001b[1;31mAttributeError\u001b[0m                            Traceback (most recent call last)",
      "Cell \u001b[1;32mIn[76], line 1\u001b[0m\n\u001b[1;32m----> 1\u001b[0m \u001b[43mg1\u001b[49m\u001b[38;5;241;43m.\u001b[39;49m\u001b[43m__name\u001b[49m \n",
      "\u001b[1;31mAttributeError\u001b[0m: 'Geek' object has no attribute '__name'"
     ]
    }
   ],
   "source": [
    "g1.__name "
   ]
  },
  {
   "cell_type": "code",
   "execution_count": 78,
   "metadata": {},
   "outputs": [],
   "source": [
    "g1._Geek__name  = 'Turner' "
   ]
  },
  {
   "cell_type": "code",
   "execution_count": 79,
   "metadata": {},
   "outputs": [
    {
     "data": {
      "text/plain": [
       "{'_Geek__name': 'Turner',\n",
       " '_Geek__roll': 25,\n",
       " '_Geek__branch': 'Computer Science'}"
      ]
     },
     "execution_count": 79,
     "metadata": {},
     "output_type": "execute_result"
    }
   ],
   "source": [
    "vars(g1) "
   ]
  },
  {
   "cell_type": "code",
   "execution_count": 1,
   "metadata": {},
   "outputs": [],
   "source": [
    "# Function Declaration & Definition \n",
    "def isPrime(n : int) -> bool:\n",
    "    if n <= 1:\n",
    "        return False \n",
    "    \n",
    "    for i in range(2, n):\n",
    "        if n %  i == 0:\n",
    "            return False \n",
    "    else:\n",
    "        return True "
   ]
  },
  {
   "cell_type": "code",
   "execution_count": 4,
   "metadata": {},
   "outputs": [],
   "source": [
    "square = lambda x : x ** 2 \n",
    "cube = lambda x : x ** 3"
   ]
  },
  {
   "cell_type": "code",
   "execution_count": 10,
   "metadata": {},
   "outputs": [
    {
     "name": "stdout",
     "output_type": "stream",
     "text": [
      "2 3 5 7 11 13 17 19 23 29 31 37 41 43 47 53 59 61 67 71 73 79 83 89 97\n"
     ]
    }
   ],
   "source": [
    "def get_squared_prime(fun1, fun2, var):\n",
    "    ans = fun1(var)\n",
    "    li = []  \n",
    "    for i in range(1, ans + 1):\n",
    "        if fun2(i) == True:\n",
    "            li.append(i) \n",
    "    \n",
    "    return li \n",
    "\n",
    "n = int(input()) \n",
    "prime_list = get_squared_prime(square, isPrime, n) \n",
    "print(\" \".join(str(item) for item in prime_list))"
   ]
  },
  {
   "cell_type": "code",
   "execution_count": 18,
   "metadata": {},
   "outputs": [
    {
     "name": "stdout",
     "output_type": "stream",
     "text": [
      "2 3 5 7 11 13 17 19 23 29 31 37 41 43 47 53 59 61 67 71 73 79 83 89 97\n"
     ]
    }
   ],
   "source": [
    "print(' '.join([str(item) for item in prime_list]))"
   ]
  },
  {
   "cell_type": "code",
   "execution_count": 35,
   "metadata": {},
   "outputs": [
    {
     "data": {
      "text/plain": [
       "' \\nStatic Method \\n\\n1. Static Methods are methods that are bound by a class rather than instance of the class i.e. object. \\n2. They do  not require a class instance creation, so they are not dependent o the state of the object. \\n3. They can be called by both, the class as well as the object \\n'"
      ]
     },
     "execution_count": 35,
     "metadata": {},
     "output_type": "execute_result"
    }
   ],
   "source": [
    "''' \n",
    "Static Method \n",
    "\n",
    "1. Static Methods are methods that are bound by a class rather than instance of the class i.e. object. \n",
    "2. They do  not require a class instance creation, so they are not dependent o the state of the object. \n",
    "3. They can be called by both, the class as well as the object \n",
    "'''"
   ]
  },
  {
   "cell_type": "code",
   "execution_count": 36,
   "metadata": {},
   "outputs": [],
   "source": [
    "class Company:\n",
    "    # Public Class Attribute\n",
    "    company_name = 'Adidas'\n",
    "\n",
    "    # Public Instance Attribute \n",
    "    def __init__(self, name, age, salary):\n",
    "        self.name = name \n",
    "        self.age = age \n",
    "        self.salary = salary \n",
    "\n",
    "    # Public Instance Method \n",
    "    def displayDetails(self):\n",
    "        print(f\"Name : {self.name}\\nAge : {self.age}\\nSalary : {self.salary}\")\n",
    "\n",
    "    @staticmethod\n",
    "    def greet():\n",
    "        print(f'Have a Nice Day') "
   ]
  },
  {
   "cell_type": "code",
   "execution_count": 37,
   "metadata": {},
   "outputs": [],
   "source": [
    "e1 = Company(\"jack\", 20, 200000) "
   ]
  },
  {
   "cell_type": "code",
   "execution_count": 38,
   "metadata": {},
   "outputs": [
    {
     "name": "stdout",
     "output_type": "stream",
     "text": [
      "Have a Nice Day\n"
     ]
    }
   ],
   "source": [
    "e1.greet() "
   ]
  },
  {
   "cell_type": "code",
   "execution_count": 39,
   "metadata": {},
   "outputs": [
    {
     "name": "stdout",
     "output_type": "stream",
     "text": [
      "Have a Nice Day\n"
     ]
    }
   ],
   "source": [
    "Company.greet() "
   ]
  },
  {
   "cell_type": "code",
   "execution_count": 41,
   "metadata": {},
   "outputs": [
    {
     "data": {
      "text/plain": [
       "\"\\nClass Method \\n\\n1. Class Method are created using the @classmethod decorator and like static method they don't need an instance to be invoked. \\n2. Class Methods know about thier class. They can't access specific instance data, but they can access static method. \\n3. Class Method do not need self as an parameter, but they need a parameter called cls. \\n\\n\""
      ]
     },
     "execution_count": 41,
     "metadata": {},
     "output_type": "execute_result"
    }
   ],
   "source": [
    "'''\n",
    "Class Method \n",
    "\n",
    "1. Class Method are created using the @classmethod decorator and like static method they don't need an instance to be invoked. \n",
    "2. Class Methods know about thier class. They can't access specific instance data, but they can access static method. \n",
    "3. Class Method do not need self as an parameter, but they need a parameter called cls. \n",
    "\n",
    "'''"
   ]
  },
  {
   "cell_type": "code",
   "execution_count": 2,
   "metadata": {},
   "outputs": [],
   "source": [
    "class Company:\n",
    "    # Public Class Attribute\n",
    "    company_name = 'Adidas'\n",
    "\n",
    "    # Public Instance Attribute \n",
    "    def __init__(self, name, age, salary):\n",
    "        self.name = name \n",
    "        self.age = age \n",
    "        self.salary = salary \n",
    "        print(f\"Constructor Initialized\")\n",
    "\n",
    "    # Public Instance Method \n",
    "    def displayDetails(self):\n",
    "        print(f\"Name : {self.name}\\nAge : {self.age}\\nSalary : {self.salary}\")\n",
    "\n",
    "    # Public Static Method \n",
    "    @staticmethod\n",
    "    def greet():\n",
    "        return f'Have a Nice Day'\n",
    "\n",
    "    # Public Class Method \n",
    "    @classmethod\n",
    "    def Introduction(cls):\n",
    "        return f\"Welcome to {cls.company_name}\"\n",
    "    \n",
    "    def __del__(self):\n",
    "        print(f\"Constroctor Deleted\") "
   ]
  },
  {
   "cell_type": "code",
   "execution_count": 3,
   "metadata": {},
   "outputs": [
    {
     "name": "stdout",
     "output_type": "stream",
     "text": [
      "Constructor Initialized\n",
      "Name : Jack\n",
      "Age : 20\n",
      "Salary : 200000\n"
     ]
    }
   ],
   "source": [
    "e2 = Company(\"Jack\", 20, 200000) \n",
    "\n",
    "e2.displayDetails() "
   ]
  },
  {
   "cell_type": "code",
   "execution_count": 4,
   "metadata": {},
   "outputs": [
    {
     "data": {
      "text/plain": [
       "'Have a Nice Day'"
      ]
     },
     "execution_count": 4,
     "metadata": {},
     "output_type": "execute_result"
    }
   ],
   "source": [
    "e2.greet() "
   ]
  },
  {
   "cell_type": "code",
   "execution_count": 5,
   "metadata": {},
   "outputs": [
    {
     "data": {
      "text/plain": [
       "'Welcome to Adidas'"
      ]
     },
     "execution_count": 5,
     "metadata": {},
     "output_type": "execute_result"
    }
   ],
   "source": [
    "e2.Introduction() "
   ]
  },
  {
   "cell_type": "code",
   "execution_count": 51,
   "metadata": {},
   "outputs": [
    {
     "name": "stdout",
     "output_type": "stream",
     "text": [
      "Hii, Jack, Welcome to Adidas, Have a Nice Day!\n"
     ]
    }
   ],
   "source": [
    "print(f\"Hii, {e2.name}, {e2.Introduction()}, {e2.greet()}!\")"
   ]
  },
  {
   "cell_type": "code",
   "execution_count": 6,
   "metadata": {},
   "outputs": [
    {
     "name": "stdout",
     "output_type": "stream",
     "text": [
      "Constroctor Deleted\n"
     ]
    }
   ],
   "source": [
    "del e2"
   ]
  },
  {
   "cell_type": "code",
   "execution_count": 7,
   "metadata": {},
   "outputs": [
    {
     "ename": "NameError",
     "evalue": "name 'e2' is not defined",
     "output_type": "error",
     "traceback": [
      "\u001b[1;31m---------------------------------------------------------------------------\u001b[0m",
      "\u001b[1;31mNameError\u001b[0m                                 Traceback (most recent call last)",
      "Cell \u001b[1;32mIn[7], line 1\u001b[0m\n\u001b[1;32m----> 1\u001b[0m \u001b[43me2\u001b[49m \n",
      "\u001b[1;31mNameError\u001b[0m: name 'e2' is not defined"
     ]
    }
   ],
   "source": [
    "e2 "
   ]
  },
  {
   "cell_type": "code",
   "execution_count": null,
   "metadata": {},
   "outputs": [],
   "source": []
  }
 ],
 "metadata": {
  "kernelspec": {
   "display_name": "Python 3",
   "language": "python",
   "name": "python3"
  },
  "language_info": {
   "codemirror_mode": {
    "name": "ipython",
    "version": 3
   },
   "file_extension": ".py",
   "mimetype": "text/x-python",
   "name": "python",
   "nbconvert_exporter": "python",
   "pygments_lexer": "ipython3",
   "version": "3.12.8"
  }
 },
 "nbformat": 4,
 "nbformat_minor": 2
}
