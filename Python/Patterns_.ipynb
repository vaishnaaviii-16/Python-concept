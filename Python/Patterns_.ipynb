{
 "cells": [
  {
   "cell_type": "code",
   "execution_count": 11,
   "metadata": {},
   "outputs": [
    {
     "name": "stdout",
     "output_type": "stream",
     "text": [
      "****\n",
      "****\n",
      "****\n",
      "****\n"
     ]
    }
   ],
   "source": [
    "n = int(input())  \n",
    "\n",
    "for i in range(n):\n",
    "    for j in range(n):\n",
    "        print(f\"*\", end = \"\") \n",
    "    print() "
   ]
  },
  {
   "cell_type": "code",
   "execution_count": 20,
   "metadata": {},
   "outputs": [
    {
     "name": "stdout",
     "output_type": "stream",
     "text": [
      "1 2 3 4 \n",
      "5 6 7 8 \n",
      "9 10 11 12 \n",
      "13 14 15 16 \n"
     ]
    }
   ],
   "source": [
    "n = int(input()) \n",
    "\n",
    "count = 1\n",
    "for i in range(n):\n",
    "    for j in range(n):\n",
    "        print(count, end = \" \")\n",
    "        count += 1  \n",
    "    print() \n",
    "\n"
   ]
  },
  {
   "cell_type": "code",
   "execution_count": 21,
   "metadata": {},
   "outputs": [
    {
     "name": "stdout",
     "output_type": "stream",
     "text": [
      "16 15 14 13 \n",
      "12 11 10 9 \n",
      "8 7 6 5 \n",
      "4 3 2 1 \n"
     ]
    }
   ],
   "source": [
    "n = int(input()) \n",
    "\n",
    "count = n ** 2\n",
    "for i in range(n):\n",
    "    for j in range(n):\n",
    "        print(count, end = \" \")\n",
    "        count -= 1  \n",
    "    print() \n",
    "\n"
   ]
  },
  {
   "cell_type": "code",
   "execution_count": 22,
   "metadata": {},
   "outputs": [
    {
     "name": "stdout",
     "output_type": "stream",
     "text": [
      "A A A A \n",
      "B B B B \n",
      "C C C C \n",
      "D D D D \n"
     ]
    }
   ],
   "source": [
    "n = int(input()) \n",
    "\n",
    "for i in range(n):\n",
    "    for j in range(n):\n",
    "        print(chr(ord('A') + i), end = \" \")\n",
    "    print() "
   ]
  },
  {
   "cell_type": "code",
   "execution_count": 25,
   "metadata": {},
   "outputs": [
    {
     "name": "stdout",
     "output_type": "stream",
     "text": [
      "   *\n",
      "  **\n",
      " ***\n",
      "****\n"
     ]
    }
   ],
   "source": [
    "n = int(input()) \n",
    "\n",
    "for i in range(n):\n",
    "    for sp in range(n-i-1):\n",
    "        print(\" \", end = \"\") \n",
    "    for st in range(i+1):\n",
    "        print(\"*\", end = \"\") \n",
    "    print() "
   ]
  },
  {
   "cell_type": "code",
   "execution_count": 10,
   "metadata": {},
   "outputs": [
    {
     "name": "stdout",
     "output_type": "stream",
     "text": [
      "     *\n",
      "    ***\n",
      "   *****\n",
      "  *******\n",
      " *********\n",
      "***********\n",
      " *********\n",
      "  *******\n",
      "   *****\n",
      "    ***\n",
      "     *\n"
     ]
    }
   ],
   "source": [
    "n = int(input(\"Enter an odd number : \"))\n",
    "\n",
    "a = n // 2 + 1 \n",
    "b = n - a \n",
    "\n",
    "for i in range(a):\n",
    "    for  sp in range(a-i-1):\n",
    "        print(\" \", end = \"\") \n",
    "    for st1 in range(i+1):\n",
    "        print(\"*\", end = \"\") \n",
    "    for st2 in range(i):\n",
    "        print(\"*\", end = \"\") \n",
    "    print() \n",
    "for i in range(b, 0, -1):\n",
    "    for sp in range(b-i+1):\n",
    "        print(\" \", end = \"\") \n",
    "    for st in range(i):\n",
    "        print(\"*\", end = \"\") \n",
    "    for st2 in range(i-1):\n",
    "        print(\"*\", end = \"\") \n",
    "    print() "
   ]
  },
  {
   "cell_type": "code",
   "execution_count": 8,
   "metadata": {},
   "outputs": [
    {
     "name": "stdout",
     "output_type": "stream",
     "text": [
      "* \n",
      "+* * \n",
      "++* * * \n",
      "+++* * * * \n",
      "++++* * * * * \n",
      "+++++* * * * * * \n",
      "++++++* * * * * * * \n",
      "+++++* * * * * * \n",
      "++++* * * * * \n",
      "+++* * * * \n",
      "++* * * \n",
      "+* * \n",
      "* \n"
     ]
    }
   ],
   "source": [
    "'''\n",
    "n = 7 (Note n is always odd number) \n",
    "\n",
    "* \n",
    "** \n",
    "*** \n",
    "**** \n",
    "*** \n",
    "** \n",
    "*\n",
    "\n",
    "\n",
    "'''\n",
    "\n",
    "n = int(input()) \n",
    "\n",
    "a = n // 2 + 1 \n",
    "b = n - a \n",
    "\n",
    "for i in range(a):\n",
    "    for sp in range(i):\n",
    "        print(\"+\", end = \"\") \n",
    "    for st in range(i+1):\n",
    "        print(\"* \", end = \"\") \n",
    "    print() \n",
    "\n",
    "for i in range(b):\n",
    "    for sp in range(b-i-1):\n",
    "        print(\"+\", end = \"\") \n",
    "    for st in range(b-i):\n",
    "        print(\"* \", end = \"\") \n",
    "    print() \n"
   ]
  },
  {
   "cell_type": "code",
   "execution_count": 10,
   "metadata": {},
   "outputs": [
    {
     "name": "stdout",
     "output_type": "stream",
     "text": [
      "    *\n",
      "   ***\n",
      "  *****\n",
      " *******\n",
      "*********\n"
     ]
    }
   ],
   "source": [
    "n = int(input()) \n",
    "\n",
    "for i in range(n):\n",
    "    for sp in range(n-i-1):\n",
    "        print(\" \", end = \"\") \n",
    "    for st1 in range(i+1):\n",
    "        print(\"*\", end = '')\n",
    "    for st2 in range(i):\n",
    "        print(\"*\", end = '') \n",
    "    print() \n",
    "    "
   ]
  },
  {
   "cell_type": "code",
   "execution_count": null,
   "metadata": {},
   "outputs": [],
   "source": []
  },
  {
   "cell_type": "code",
   "execution_count": 21,
   "metadata": {},
   "outputs": [
    {
     "name": "stdout",
     "output_type": "stream",
     "text": [
      "  *\n",
      " ***\n",
      "*****\n",
      " ***\n",
      "  *\n"
     ]
    }
   ],
   "source": [
    "n = int(input()) \n",
    "\n",
    "a = n // 2 + 1 \n",
    "b = n - a \n",
    "\n",
    "for i in range(a):\n",
    "    for sp in range(a-i-1):\n",
    "        print(\" \", end = '')\n",
    "    for st1 in range(2*i+1):\n",
    "        print(\"*\",end = \"\") \n",
    "    print() \n",
    "for i in range(b, 0, -1):\n",
    "    for sp in range(b-i+1):\n",
    "        print(\" \", end = \"\")\n",
    "    for st in range(2*i-1):\n",
    "        print(\"*\", end = \"\") \n",
    "    print() "
   ]
  },
  {
   "cell_type": "code",
   "execution_count": 11,
   "metadata": {},
   "outputs": [
    {
     "name": "stdout",
     "output_type": "stream",
     "text": [
      "* \n",
      " * * \n",
      "  * * * \n",
      "   * * * * \n",
      "    * * * * * \n",
      "     * * * * * * \n",
      "    * * * * * \n",
      "   * * * * \n",
      "  * * * \n",
      " * * \n",
      "* \n"
     ]
    }
   ],
   "source": [
    "n = int(input()) \n",
    "\n",
    "a = n // 2 + 1 \n",
    "b = n - a \n",
    "\n",
    "for i in range(a):\n",
    "    for sp in range(i):\n",
    "        print(\" \", end = \"\") \n",
    "    for st in range(i+1):\n",
    "        print(\"* \", end = \"\") \n",
    "    print() \n",
    "\n",
    "for i in range(b):\n",
    "    for sp in range(b-i-1):\n",
    "        print(\" \", end = \"\") \n",
    "    for st in range(b-i):\n",
    "        print(\"* \", end = \"\") \n",
    "    print() "
   ]
  },
  {
   "cell_type": "code",
   "execution_count": 50,
   "metadata": {},
   "outputs": [
    {
     "name": "stdout",
     "output_type": "stream",
     "text": [
      ".                   .\n",
      " ..               ..\n",
      "  ...           ...\n",
      "   ....       ....\n",
      "    .....   .....\n",
      "     ...........\n",
      "    .....   .....\n",
      "   ....       ....\n",
      "  ...           ...\n",
      " ..               ..\n",
      ".                   .\n"
     ]
    }
   ],
   "source": [
    "n = int(input()) \n",
    "\n",
    "a = n // 2 + 1 \n",
    "b = n - a \n",
    "\n",
    "for i in range(a):\n",
    "    for sp1 in range(i):\n",
    "        print(\" \", end = \"\") \n",
    "    for st in range(i+1):\n",
    "        print(\".\", end = \"\") \n",
    "    for sp2 in range(2 * (a-i-1)):\n",
    "        print(\" \", end = \"\") \n",
    "    for sp2 in range((2 * (a-i-1)) - 1):\n",
    "        print(\" \", end = \"\")\n",
    "    if i != a-1:\n",
    "        for st2 in range(i+1):\n",
    "            print(\".\", end = \"\") \n",
    "    else:\n",
    "        for st2 in range(i):\n",
    "            print(\".\", end = \"\") \n",
    "    print() \n",
    "\n",
    "for i in range(b, 0, -1):\n",
    "    for sp in range(i-1):\n",
    "        print(\" \", end = \"\") \n",
    "    for st in range(i):\n",
    "        print(\".\", end = \"\") \n",
    "    for sp2 in range(2 * (b-i+1)):\n",
    "        print(\" \", end = \"\") \n",
    "    for sp3 in range(2 * (b-i+1) - 1):\n",
    "        print(\" \", end = \"\") \n",
    "    for st2 in range(i):\n",
    "        print(\".\", end = \"\") \n",
    "    print() \n"
   ]
  },
  {
   "cell_type": "code",
   "execution_count": 70,
   "metadata": {},
   "outputs": [
    {
     "name": "stdout",
     "output_type": "stream",
     "text": [
      " *                     *\n",
      " * *                 * *\n",
      " * * *             * * *\n",
      " * * * *         * * * *\n",
      " * * * * *     * * * * *\n",
      " * * * * * * * * * * * *\n",
      " * * * * *     * * * * *\n",
      " * * * *         * * * *\n",
      " * * *             * * *\n",
      " * *                 * *\n",
      " *                     *\n"
     ]
    }
   ],
   "source": [
    "n = int(input()) \n",
    "\n",
    "a = n // 2 + 1\n",
    "b = n - a \n",
    "\n",
    "for i in range(a):\n",
    "    for st1 in range(i+1):\n",
    "        print(\" *\", end = \"\") \n",
    "    for sp in range(2 * (a-i-1)):\n",
    "        print(\"  \", end = \"\") \n",
    "    for st2 in range(i+1):\n",
    "        print(\" *\", end = \"\") \n",
    "    print() \n",
    "for i in range(b, 0, -1):\n",
    "    for st1 in range(i):\n",
    "        print(\" *\", end = \"\") \n",
    "    for sp in range(2 * (b-i + 1)):\n",
    "        print(\"  \", end = \"\") \n",
    "    for st2 in range(i):\n",
    "        print(\" *\", end = \"\") \n",
    "    print() "
   ]
  },
  {
   "cell_type": "code",
   "execution_count": 73,
   "metadata": {},
   "outputs": [
    {
     "name": "stdout",
     "output_type": "stream",
     "text": [
      " *\n",
      " * *\n",
      " * * *\n",
      " * * * *\n",
      " * * * * *\n",
      " * * * * * *\n"
     ]
    }
   ],
   "source": [
    "n = int(input()) \n",
    "\n",
    "a = n // 2 + 1\n",
    "b = n - a \n",
    "\n",
    "for i in range(a):\n",
    "    for st1 in range(i+1):\n",
    "        print(\" *\", end = \"\")\n",
    "    print()    "
   ]
  },
  {
   "cell_type": "code",
   "execution_count": null,
   "metadata": {},
   "outputs": [],
   "source": []
  }
 ],
 "metadata": {
  "kernelspec": {
   "display_name": "Python 3",
   "language": "python",
   "name": "python3"
  },
  "language_info": {
   "codemirror_mode": {
    "name": "ipython",
    "version": 3
   },
   "file_extension": ".py",
   "mimetype": "text/x-python",
   "name": "python",
   "nbconvert_exporter": "python",
   "pygments_lexer": "ipython3",
   "version": "3.12.8"
  }
 },
 "nbformat": 4,
 "nbformat_minor": 2
}
