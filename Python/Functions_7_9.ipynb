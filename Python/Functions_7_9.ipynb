{
 "cells": [
  {
   "cell_type": "code",
   "execution_count": 13,
   "metadata": {},
   "outputs": [
    {
     "name": "stdout",
     "output_type": "stream",
     "text": [
      "3628800\n"
     ]
    }
   ],
   "source": [
    "'''\n",
    "Components of Functions \n",
    "\n",
    "1. Function Declaration \n",
    "2. Function Definition \n",
    "3. Function Call \n",
    "\n",
    "'''\n",
    "\n",
    "# Function Declaration & Function Definition \n",
    "def factorial(n):\n",
    "    ans = 1 \n",
    "\n",
    "    for i in range(1, n+1, 1):\n",
    "        ans *= i \n",
    "    \n",
    "    return ans \n",
    "\n",
    "n = int(input(\"Enter the Number to calculate factorial : \")) \n",
    "solution = factorial(n) \n",
    "\n",
    "print(solution) "
   ]
  },
  {
   "cell_type": "code",
   "execution_count": 14,
   "metadata": {},
   "outputs": [
    {
     "data": {
      "text/plain": [
       "6"
      ]
     },
     "execution_count": 14,
     "metadata": {},
     "output_type": "execute_result"
    }
   ],
   "source": [
    "factorial(3) "
   ]
  },
  {
   "cell_type": "code",
   "execution_count": 15,
   "metadata": {},
   "outputs": [
    {
     "data": {
      "text/plain": [
       "3628800"
      ]
     },
     "execution_count": 15,
     "metadata": {},
     "output_type": "execute_result"
    }
   ],
   "source": [
    "solution "
   ]
  },
  {
   "cell_type": "code",
   "execution_count": 16,
   "metadata": {},
   "outputs": [],
   "source": [
    "solution = factorial(7) "
   ]
  },
  {
   "cell_type": "code",
   "execution_count": 17,
   "metadata": {},
   "outputs": [
    {
     "name": "stdout",
     "output_type": "stream",
     "text": [
      "2\n"
     ]
    },
    {
     "data": {
      "text/plain": [
       "4"
      ]
     },
     "execution_count": 17,
     "metadata": {},
     "output_type": "execute_result"
    }
   ],
   "source": [
    "a, b = 2, 4 \n",
    "\n",
    "# print(a) \n",
    "# print(b) \n",
    "\n",
    "print(a)\n",
    "b"
   ]
  },
  {
   "cell_type": "code",
   "execution_count": 18,
   "metadata": {},
   "outputs": [
    {
     "name": "stdout",
     "output_type": "stream",
     "text": [
      "1! = 1\n",
      "2! = 2\n",
      "3! = 6\n",
      "4! = 24\n",
      "5! = 120\n",
      "6! = 720\n",
      "7! = 5040\n",
      "8! = 40320\n",
      "9! = 362880\n",
      "10! = 3628800\n"
     ]
    }
   ],
   "source": [
    "for i in range(1, 11, 1):\n",
    "    print(f\"{i}! = {factorial(i)}\") "
   ]
  },
  {
   "cell_type": "code",
   "execution_count": 19,
   "metadata": {},
   "outputs": [
    {
     "name": "stdout",
     "output_type": "stream",
     "text": [
      "5040\n"
     ]
    }
   ],
   "source": [
    "print(solution)"
   ]
  },
  {
   "cell_type": "code",
   "execution_count": 20,
   "metadata": {},
   "outputs": [],
   "source": [
    "li = [] \n",
    "\n",
    "for i in range(1, 11, 1):\n",
    "    li.append(f\"{i} --> {factorial(i)}\")"
   ]
  },
  {
   "cell_type": "code",
   "execution_count": 21,
   "metadata": {},
   "outputs": [
    {
     "data": {
      "text/plain": [
       "['1 --> 1',\n",
       " '2 --> 2',\n",
       " '3 --> 6',\n",
       " '4 --> 24',\n",
       " '5 --> 120',\n",
       " '6 --> 720',\n",
       " '7 --> 5040',\n",
       " '8 --> 40320',\n",
       " '9 --> 362880',\n",
       " '10 --> 3628800']"
      ]
     },
     "execution_count": 21,
     "metadata": {},
     "output_type": "execute_result"
    }
   ],
   "source": [
    "li "
   ]
  },
  {
   "cell_type": "code",
   "execution_count": 22,
   "metadata": {},
   "outputs": [
    {
     "data": {
      "text/plain": [
       "['1 --> 1',\n",
       " '2 --> 2',\n",
       " '3 --> 6',\n",
       " '4 --> 24',\n",
       " '5 --> 120',\n",
       " '6 --> 720',\n",
       " '7 --> 5040',\n",
       " '8 --> 40320',\n",
       " '9 --> 362880',\n",
       " '10 --> 3628800']"
      ]
     },
     "execution_count": 22,
     "metadata": {},
     "output_type": "execute_result"
    }
   ],
   "source": [
    "li\n"
   ]
  },
  {
   "cell_type": "code",
   "execution_count": 23,
   "metadata": {},
   "outputs": [
    {
     "data": {
      "text/plain": [
       "55"
      ]
     },
     "execution_count": 23,
     "metadata": {},
     "output_type": "execute_result"
    }
   ],
   "source": [
    "n = int(input()) \n",
    "\n",
    "def new(n): \n",
    "    answer = 0 \n",
    "\n",
    "    for i in range(1, n+1, 1):\n",
    "        answer += i  \n",
    "    \n",
    "    return answer \n",
    "\n",
    "new(n) "
   ]
  },
  {
   "cell_type": "code",
   "execution_count": 24,
   "metadata": {},
   "outputs": [
    {
     "name": "stdout",
     "output_type": "stream",
     "text": [
      "55\n"
     ]
    }
   ],
   "source": [
    "n = int(input()) \n",
    "\n",
    "answer = 0 \n",
    "\n",
    "for i in range(1, n+1, 1):\n",
    "    answer += i \n",
    "\n",
    "print(answer) "
   ]
  },
  {
   "cell_type": "code",
   "execution_count": 25,
   "metadata": {},
   "outputs": [],
   "source": [
    "def add(a, b):\n",
    "    return a + b "
   ]
  },
  {
   "cell_type": "code",
   "execution_count": 26,
   "metadata": {},
   "outputs": [
    {
     "name": "stdout",
     "output_type": "stream",
     "text": [
      "20\n"
     ]
    }
   ],
   "source": [
    "a = int(input() )\n",
    "b = int(input()) \n",
    "\n",
    "answer = add(a, b) \n",
    "print(answer) "
   ]
  },
  {
   "cell_type": "code",
   "execution_count": 27,
   "metadata": {},
   "outputs": [],
   "source": [
    "def factorial(n):\n",
    "    ans = 1 \n",
    "\n",
    "    for i in range(1, n+1, 1):\n",
    "        ans *= i \n",
    "    \n",
    "    return ans "
   ]
  },
  {
   "cell_type": "code",
   "execution_count": 28,
   "metadata": {},
   "outputs": [],
   "source": [
    "def add(li):\n",
    "    ans = 0 \n",
    "\n",
    "    for item in li:\n",
    "        ans += item \n",
    "\n",
    "    return ans  \n",
    "\n",
    "def dictval(a):\n",
    "    for key, value in a.items():\n",
    "        print(f\"{key} --> {value}\") "
   ]
  },
  {
   "cell_type": "code",
   "execution_count": 29,
   "metadata": {},
   "outputs": [
    {
     "data": {
      "text/plain": [
       "15"
      ]
     },
     "execution_count": 29,
     "metadata": {},
     "output_type": "execute_result"
    }
   ],
   "source": [
    "add((1, 2, 3, 4, 5)) "
   ]
  },
  {
   "cell_type": "code",
   "execution_count": 30,
   "metadata": {},
   "outputs": [
    {
     "name": "stdout",
     "output_type": "stream",
     "text": [
      "a --> 2\n",
      "b --> 3\n"
     ]
    }
   ],
   "source": [
    "dictval({'a' : 2, 'b' : 3})"
   ]
  },
  {
   "cell_type": "code",
   "execution_count": null,
   "metadata": {},
   "outputs": [],
   "source": []
  },
  {
   "cell_type": "code",
   "execution_count": 31,
   "metadata": {},
   "outputs": [
    {
     "data": {
      "text/plain": [
       "265252859812191058636308480000000"
      ]
     },
     "execution_count": 31,
     "metadata": {},
     "output_type": "execute_result"
    }
   ],
   "source": [
    "factorial(30) "
   ]
  },
  {
   "cell_type": "code",
   "execution_count": 32,
   "metadata": {},
   "outputs": [],
   "source": [
    "solution = factorial(30) "
   ]
  },
  {
   "cell_type": "code",
   "execution_count": 33,
   "metadata": {},
   "outputs": [
    {
     "data": {
      "text/plain": [
       "265252859812191058636308480000000"
      ]
     },
     "execution_count": 33,
     "metadata": {},
     "output_type": "execute_result"
    }
   ],
   "source": [
    "solution "
   ]
  },
  {
   "cell_type": "code",
   "execution_count": 34,
   "metadata": {},
   "outputs": [],
   "source": [
    "def factorial(n):\n",
    "    ans = 1 \n",
    "\n",
    "    for i in range(1, n+1, 1):\n",
    "        ans *= i \n",
    "\n",
    "    return ans "
   ]
  },
  {
   "cell_type": "code",
   "execution_count": 35,
   "metadata": {},
   "outputs": [],
   "source": [
    "def factorial_final(n : int) -> int:\n",
    "    ans = 1\n",
    "\n",
    "    for i in range(1, n+1, 1):\n",
    "        ans = ans * i \n",
    "\n",
    "    return ans "
   ]
  },
  {
   "cell_type": "code",
   "execution_count": 36,
   "metadata": {},
   "outputs": [
    {
     "data": {
      "text/plain": [
       "3628800"
      ]
     },
     "execution_count": 36,
     "metadata": {},
     "output_type": "execute_result"
    }
   ],
   "source": [
    "factorial_final(10) "
   ]
  },
  {
   "cell_type": "code",
   "execution_count": 37,
   "metadata": {},
   "outputs": [
    {
     "name": "stdout",
     "output_type": "stream",
     "text": [
      "8\n",
      "11\n"
     ]
    }
   ],
   "source": [
    "def myfunction(a, b):\n",
    "    c = a + b \n",
    "    return c \n",
    "\n",
    "print(myfunction(3, 5)) \n",
    "print(myfunction(int(input()), int(input())))"
   ]
  },
  {
   "cell_type": "code",
   "execution_count": 38,
   "metadata": {},
   "outputs": [
    {
     "name": "stdout",
     "output_type": "stream",
     "text": [
      "10\n",
      "12\n"
     ]
    }
   ],
   "source": [
    "def fun(a):\n",
    "    return a + 2 \n",
    "\n",
    "a = 10 \n",
    "print(a) \n",
    "a = fun(a) \n",
    "print(a) "
   ]
  },
  {
   "cell_type": "code",
   "execution_count": 39,
   "metadata": {},
   "outputs": [
    {
     "name": "stdout",
     "output_type": "stream",
     "text": [
      "20\n",
      "30\n",
      "10\n",
      "20\n"
     ]
    },
    {
     "ename": "NameError",
     "evalue": "name 'b1' is not defined",
     "output_type": "error",
     "traceback": [
      "\u001b[1;31m---------------------------------------------------------------------------\u001b[0m",
      "\u001b[1;31mNameError\u001b[0m                                 Traceback (most recent call last)",
      "Cell \u001b[1;32mIn[39], line 11\u001b[0m\n\u001b[0;32m      9\u001b[0m fun(a1) \n\u001b[0;32m     10\u001b[0m \u001b[38;5;28mprint\u001b[39m(a1)\n\u001b[1;32m---> 11\u001b[0m \u001b[38;5;28mprint\u001b[39m(\u001b[43mb1\u001b[49m) \n",
      "\u001b[1;31mNameError\u001b[0m: name 'b1' is not defined"
     ]
    }
   ],
   "source": [
    "def fun(a1):\n",
    "    b1 = 10 \n",
    "    a1 = a1 + b1 \n",
    "    print(a1) \n",
    "    print(b1) \n",
    "\n",
    "a1 = 20 \n",
    "print(a1)\n",
    "fun(a1) \n",
    "print(a1)\n",
    "print(b1) "
   ]
  },
  {
   "cell_type": "code",
   "execution_count": null,
   "metadata": {},
   "outputs": [
    {
     "name": "stdout",
     "output_type": "stream",
     "text": [
      "20\n",
      "20\n"
     ]
    }
   ],
   "source": [
    "def fun(a1):\n",
    "    b1 = 10 \n",
    "\n",
    "    return a1 + b1 \n",
    "\n",
    "a1 = 20 \n",
    "print(a1) \n",
    "fun(a1) \n",
    "print(a1) "
   ]
  },
  {
   "cell_type": "code",
   "execution_count": null,
   "metadata": {},
   "outputs": [
    {
     "name": "stdout",
     "output_type": "stream",
     "text": [
      "20\n",
      "20\n"
     ]
    }
   ],
   "source": [
    "def fun(a1):\n",
    "    b1 = 10 \n",
    "\n",
    "    return a1 + b1 \n",
    "\n",
    "a1 = 20 \n",
    "print(a1) \n",
    "fun(a1) \n",
    "print(a1) "
   ]
  },
  {
   "cell_type": "code",
   "execution_count": null,
   "metadata": {},
   "outputs": [
    {
     "data": {
      "text/plain": [
       "89"
      ]
     },
     "execution_count": 61,
     "metadata": {},
     "output_type": "execute_result"
    }
   ],
   "source": [
    "def add(a, b, c, d):\n",
    "    return a + b + c + d \n",
    "\n",
    "add(10, 72, 3, 4) \n",
    "add(1, 2) "
   ]
  },
  {
   "cell_type": "code",
   "execution_count": null,
   "metadata": {},
   "outputs": [
    {
     "data": {
      "text/plain": [
       "10"
      ]
     },
     "execution_count": 64,
     "metadata": {},
     "output_type": "execute_result"
    }
   ],
   "source": [
    "def add(a, b, c = 0, d = 0):\n",
    "    return a + b + c + d \n",
    "\n",
    "add(1, 2, 3, 4) "
   ]
  },
  {
   "cell_type": "code",
   "execution_count": null,
   "metadata": {},
   "outputs": [
    {
     "ename": "SyntaxError",
     "evalue": "parameter without a default follows parameter with a default (923254820.py, line 1)",
     "output_type": "error",
     "traceback": [
      "\u001b[1;36m  Cell \u001b[1;32mIn[65], line 1\u001b[1;36m\u001b[0m\n\u001b[1;33m    def add(a = 0, b = 0, c, d):\u001b[0m\n\u001b[1;37m                          ^\u001b[0m\n\u001b[1;31mSyntaxError\u001b[0m\u001b[1;31m:\u001b[0m parameter without a default follows parameter with a default\n"
     ]
    }
   ],
   "source": [
    "def add(a = 0, b = 0, c, d):\n",
    "    return a + b + c + d  "
   ]
  },
  {
   "cell_type": "code",
   "execution_count": null,
   "metadata": {},
   "outputs": [
    {
     "name": "stdout",
     "output_type": "stream",
     "text": [
      "10 20\n",
      "30\n"
     ]
    }
   ],
   "source": [
    "def addition():\n",
    "    a = int(input()) \n",
    "    b = int(input()) \n",
    "    print(a, b) \n",
    "    c = a + b \n",
    "\n",
    "    return c \n",
    "\n",
    "a = addition() \n",
    "print(a) "
   ]
  },
  {
   "cell_type": "code",
   "execution_count": null,
   "metadata": {},
   "outputs": [],
   "source": []
  }
 ],
 "metadata": {
  "kernelspec": {
   "display_name": "Python 3",
   "language": "python",
   "name": "python3"
  },
  "language_info": {
   "codemirror_mode": {
    "name": "ipython",
    "version": 3
   },
   "file_extension": ".py",
   "mimetype": "text/x-python",
   "name": "python",
   "nbconvert_exporter": "python",
   "pygments_lexer": "ipython3",
   "version": "3.12.8"
  }
 },
 "nbformat": 4,
 "nbformat_minor": 2
}
