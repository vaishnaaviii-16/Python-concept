{
 "cells": [
  {
   "cell_type": "code",
   "execution_count": 4,
   "metadata": {},
   "outputs": [
    {
     "data": {
      "text/plain": [
       "'\\nAccess Modifiers : \\n\\n1. Public\\n2. Protected \\n3. Private \\n\\n\\n'"
      ]
     },
     "execution_count": 4,
     "metadata": {},
     "output_type": "execute_result"
    }
   ],
   "source": [
    "'''\n",
    "Encapsulation \n",
    "\n",
    "Encapsulation is the principle of binding data (attributes) and methods (function) that operate on a single unit (class), while controling the access of data through access modifiers. \n",
    "'''\n",
    "\n",
    "'''\n",
    "Access Modifiers : \n",
    "\n",
    "1. Public\n",
    "2. Protected \n",
    "3. Private \n",
    "\n",
    "\n",
    "'''"
   ]
  },
  {
   "cell_type": "code",
   "execution_count": null,
   "metadata": {},
   "outputs": [
    {
     "name": "stdout",
     "output_type": "stream",
     "text": [
      "Name : Jack\n",
      "Age : 20\n"
     ]
    }
   ],
   "source": [
    "# Public : The member of a class that are declared public are easily accessible from any part of the mprogram. All data members and member function of a class are public by default. \n",
    "\n",
    "class Geek:\n",
    "    def __init__(self, name, age):\n",
    "        # Public Instance Attributes\n",
    "        self.name = name \n",
    "        self.age = age \n",
    "\n",
    "    # Public Instance Method \n",
    "    def displayDetails(self):\n",
    "        print(f\"Age : {self.age}\")\n",
    "\n",
    "g = Geek(\"Jack\", 20) \n",
    "print(f\"Name : {g.name}\")\n",
    "g.displayDetails() \n"
   ]
  },
  {
   "cell_type": "code",
   "execution_count": 7,
   "metadata": {},
   "outputs": [
    {
     "data": {
      "text/plain": [
       "{'name': 'Jack', 'age': 20}"
      ]
     },
     "execution_count": 7,
     "metadata": {},
     "output_type": "execute_result"
    }
   ],
   "source": [
    "vars(g) "
   ]
  },
  {
   "cell_type": "code",
   "execution_count": 10,
   "metadata": {},
   "outputs": [
    {
     "data": {
      "text/plain": [
       "mappingproxy({'__module__': '__main__',\n",
       "              '__init__': <function __main__.Geek.__init__(self, name, age)>,\n",
       "              'displayDetails': <function __main__.Geek.displayDetails(self)>,\n",
       "              '__dict__': <attribute '__dict__' of 'Geek' objects>,\n",
       "              '__weakref__': <attribute '__weakref__' of 'Geek' objects>,\n",
       "              '__doc__': None})"
      ]
     },
     "execution_count": 10,
     "metadata": {},
     "output_type": "execute_result"
    }
   ],
   "source": [
    "vars(Geek) "
   ]
  },
  {
   "cell_type": "code",
   "execution_count": 8,
   "metadata": {},
   "outputs": [],
   "source": [
    "g.name = 'Python' \n",
    "g.age = 25"
   ]
  },
  {
   "cell_type": "code",
   "execution_count": 9,
   "metadata": {},
   "outputs": [
    {
     "name": "stdout",
     "output_type": "stream",
     "text": [
      "Name : Python\n",
      "Age : 25\n"
     ]
    }
   ],
   "source": [
    "print(f\"Name : {g.name}\")\n",
    "g.displayDetails()"
   ]
  },
  {
   "cell_type": "code",
   "execution_count": 11,
   "metadata": {},
   "outputs": [],
   "source": [
    "# Protected : The Members of a class that are declared protected are only accessible to a class derived from it. Data Members of class are declared protected by adding a sligne  underscore (_) symbol beforet the data members of that class. "
   ]
  },
  {
   "cell_type": "code",
   "execution_count": 18,
   "metadata": {},
   "outputs": [
    {
     "name": "stdout",
     "output_type": "stream",
     "text": [
      "{'_name': 'Jack', '_roll': '01', '_branch': 'Information Technology'}\n",
      "Name : Jack\n",
      "Roll No : 01\n",
      "Branch : Information Technology\n",
      "Name : Sparrow\n",
      "Roll No : 10\n",
      "Branch : Computer Science\n"
     ]
    }
   ],
   "source": [
    "class Student:\n",
    "    # Protected Class Attributes (This is just declaration, the input will be taken from the user with the help of constructor.)\n",
    "    _name = None \n",
    "    _roll = None \n",
    "    _branch = None \n",
    "\n",
    "    # Protected Instance Attributes\n",
    "    def __init__(self, name, roll, branch):\n",
    "        self._name = name\n",
    "        self._roll = roll \n",
    "        self._branch = branch \n",
    "\n",
    "    # Protected Instance Method  \n",
    "    def _printDetails(self):\n",
    "        print(f\"Roll No : {self._roll}\\nBranch : {self._branch}\") \n",
    "    \n",
    "\n",
    "class geek(Student):\n",
    "    # Public Instance Attributes\n",
    "    def __init__(self, name, roll, branch):\n",
    "        super().__init__(name, roll, branch) \n",
    "\n",
    "    # Public Instance Method \n",
    "    def displayDetails(self):\n",
    "        self._printDetails() \n",
    "    \n",
    "g = geek('Jack', '01', 'Information Technology')\n",
    "print(vars(g)) \n",
    "print(f\"Name : {g._name}\")\n",
    "g.displayDetails() \n",
    "\n",
    "g._name = 'Sparrow'\n",
    "g._roll = 10\n",
    "g._branch = 'Computer Science' \n",
    "\n",
    "print(f\"Name : {g._name}\")\n",
    "g.displayDetails() "
   ]
  },
  {
   "cell_type": "code",
   "execution_count": 20,
   "metadata": {},
   "outputs": [
    {
     "name": "stdout",
     "output_type": "stream",
     "text": [
      "Name : Jack\n",
      "Roll : 25\n",
      "Branch : Mechanical\n"
     ]
    }
   ],
   "source": [
    "# Private : The Members of a class that are declared private are accessible within the class. Private access modifiers is the most secured access modifier. Data Members of a class are declared private by adding a double underscore (__) symbol before teh data member of that class. \n",
    "\n",
    "class Geek:\n",
    "    # Private Class Attributes \n",
    "    __name = None  \n",
    "    __roll = None \n",
    "    __branch = None \n",
    "\n",
    "    # Private Instance Attributes \n",
    "    def __init__(self, name, roll, branch):\n",
    "        self.__name = name \n",
    "        self.__roll = roll \n",
    "        self.__branch = branch \n",
    "\n",
    "    # Private Instance Method \n",
    "    def __DisplayDetails(self):\n",
    "        print(f'Name : {self.__name}\\nRoll : {self.__roll}\\nBranch : {self.__branch}') \n",
    "\n",
    "    # Public Instance Method \n",
    "    def displayDetails(self):\n",
    "        # calling Private Instance Method \n",
    "        self.__DisplayDetails() \n",
    "\n",
    "obj = Geek(\"Jack\", 25, 'Mechanical') \n",
    "obj.displayDetails() "
   ]
  },
  {
   "cell_type": "code",
   "execution_count": 21,
   "metadata": {},
   "outputs": [
    {
     "ename": "AttributeError",
     "evalue": "'Geek' object has no attribute '__name'",
     "output_type": "error",
     "traceback": [
      "\u001b[1;31m---------------------------------------------------------------------------\u001b[0m",
      "\u001b[1;31mAttributeError\u001b[0m                            Traceback (most recent call last)",
      "Cell \u001b[1;32mIn[21], line 1\u001b[0m\n\u001b[1;32m----> 1\u001b[0m \u001b[43mobj\u001b[49m\u001b[38;5;241;43m.\u001b[39;49m\u001b[43m__name\u001b[49m \n",
      "\u001b[1;31mAttributeError\u001b[0m: 'Geek' object has no attribute '__name'"
     ]
    }
   ],
   "source": [
    "obj.__name "
   ]
  },
  {
   "cell_type": "code",
   "execution_count": 22,
   "metadata": {},
   "outputs": [
    {
     "data": {
      "text/plain": [
       "{'_Geek__name': 'Jack', '_Geek__roll': 25, '_Geek__branch': 'Mechanical'}"
      ]
     },
     "execution_count": 22,
     "metadata": {},
     "output_type": "execute_result"
    }
   ],
   "source": [
    "vars(obj) "
   ]
  },
  {
   "cell_type": "code",
   "execution_count": 24,
   "metadata": {},
   "outputs": [],
   "source": [
    "obj._Geek__name  = 'Sparrow' "
   ]
  },
  {
   "cell_type": "code",
   "execution_count": 25,
   "metadata": {},
   "outputs": [
    {
     "name": "stdout",
     "output_type": "stream",
     "text": [
      "Name : Sparrow\n",
      "Roll : 25\n",
      "Branch : Mechanical\n"
     ]
    }
   ],
   "source": [
    "obj.displayDetails() "
   ]
  },
  {
   "cell_type": "code",
   "execution_count": null,
   "metadata": {},
   "outputs": [],
   "source": []
  }
 ],
 "metadata": {
  "kernelspec": {
   "display_name": "Python 3",
   "language": "python",
   "name": "python3"
  },
  "language_info": {
   "codemirror_mode": {
    "name": "ipython",
    "version": 3
   },
   "file_extension": ".py",
   "mimetype": "text/x-python",
   "name": "python",
   "nbconvert_exporter": "python",
   "pygments_lexer": "ipython3",
   "version": "3.12.8"
  }
 },
 "nbformat": 4,
 "nbformat_minor": 2
}
