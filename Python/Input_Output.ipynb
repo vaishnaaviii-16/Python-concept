{
 "cells": [
  {
   "cell_type": "code",
   "execution_count": 1,
   "metadata": {},
   "outputs": [],
   "source": [
    "# Taking input from the user "
   ]
  },
  {
   "cell_type": "code",
   "execution_count": 8,
   "metadata": {},
   "outputs": [
    {
     "name": "stdout",
     "output_type": "stream",
     "text": [
      "True <class 'str'>\n"
     ]
    }
   ],
   "source": [
    "# Area of Square = Side * side (Side ** 2) \n",
    "\n",
    "side = input()\n",
    "print(side, type(side))   "
   ]
  },
  {
   "cell_type": "code",
   "execution_count": 9,
   "metadata": {},
   "outputs": [
    {
     "ename": "TypeError",
     "evalue": "can't multiply sequence by non-int of type 'str'",
     "output_type": "error",
     "traceback": [
      "\u001b[1;31m---------------------------------------------------------------------------\u001b[0m",
      "\u001b[1;31mTypeError\u001b[0m                                 Traceback (most recent call last)",
      "Cell \u001b[1;32mIn[9], line 1\u001b[0m\n\u001b[1;32m----> 1\u001b[0m \u001b[38;5;28mprint\u001b[39m(\u001b[43mside\u001b[49m\u001b[43m \u001b[49m\u001b[38;5;241;43m*\u001b[39;49m\u001b[43m \u001b[49m\u001b[43mside\u001b[49m) \n",
      "\u001b[1;31mTypeError\u001b[0m: can't multiply sequence by non-int of type 'str'"
     ]
    }
   ],
   "source": [
    "print(side * side) "
   ]
  },
  {
   "cell_type": "code",
   "execution_count": 10,
   "metadata": {},
   "outputs": [
    {
     "name": "stdout",
     "output_type": "stream",
     "text": [
      "400\n"
     ]
    }
   ],
   "source": [
    "side = input() \n",
    "side = int(side) \n",
    "\n",
    "print(side * side) "
   ]
  },
  {
   "cell_type": "code",
   "execution_count": 19,
   "metadata": {},
   "outputs": [
    {
     "name": "stdout",
     "output_type": "stream",
     "text": [
      "15 <class 'int'>\n",
      "225 <class 'int'>\n"
     ]
    }
   ],
   "source": [
    "side = int(input()) \n",
    "print(side, type(side)) \n",
    "\n",
    "area = side ** 2 \n",
    "\n",
    "print(area, type(area))  "
   ]
  },
  {
   "cell_type": "code",
   "execution_count": 18,
   "metadata": {},
   "outputs": [
    {
     "name": "stdout",
     "output_type": "stream",
     "text": [
      "22000.0\n"
     ]
    }
   ],
   "source": [
    "principal = int(input(\"Enter the Principal Ammount : \")) \n",
    "rate = float(input(\"Enter the Rate of Interest : \"))\n",
    "time = int(input(\"Enter the time period (in months) : \")) \n",
    "\n",
    "simple_interest = (principal * rate * time) / (100 * 12) \n",
    "\n",
    "print(simple_interest)"
   ]
  },
  {
   "cell_type": "code",
   "execution_count": 24,
   "metadata": {},
   "outputs": [
    {
     "name": "stdout",
     "output_type": "stream",
     "text": [
      "10\n",
      "a\n",
      "a\n",
      "100\n",
      "area\n"
     ]
    }
   ],
   "source": [
    "a = 10 \n",
    "\n",
    "print(a) \n",
    "print('a')\n",
    "print(\"a\")\n",
    "\n",
    "area = a * a \n",
    "\n",
    "print(area) \n",
    "print(\"area\") "
   ]
  },
  {
   "cell_type": "code",
   "execution_count": 28,
   "metadata": {},
   "outputs": [
    {
     "name": "stdout",
     "output_type": "stream",
     "text": [
      "The Area of Square for side 15 is 225\n",
      "The Area of Square for side 15 is 225\n",
      "The Area of Sqaure for side 15 is 225\n"
     ]
    }
   ],
   "source": [
    "# Taking input from the user \n",
    "side = int(input(\"Enter the side of Square : \"))\n",
    "\n",
    "# Formula Calculation \n",
    "area = side ** 2 \n",
    "\n",
    "# Printing format \n",
    "\n",
    "# 1. Normal Method  \n",
    "print(\"The Area of Square for side\", side, \"is\", area) \n",
    "\n",
    "# 2. fstring method \n",
    "print(f\"The Area of Square for side {side} is {area}\")\n",
    "\n",
    "# 3. format method \n",
    "print(\"The Area of Sqaure for side {} is {}\".format(side, area)) "
   ]
  },
  {
   "cell_type": "code",
   "execution_count": 33,
   "metadata": {},
   "outputs": [
    {
     "name": "stdout",
     "output_type": "stream",
     "text": [
      "The  Simple interest for Principal 500000 for 5.0% rate of interest for 60 months is 125000.0\n",
      "The  Simple interest for Principal 500000 for 5.0% rate of interest for 60 months is 125000.0\n"
     ]
    }
   ],
   "source": [
    "# Taking input from the user \n",
    "principal = int(input(\"Enter the Principal Ammount : \")) \n",
    "rate = float(input(\"Enter the Rate of Interest : \"))\n",
    "time = int(input(\"Enter the time period (in months) : \")) \n",
    "\n",
    "# formula calculation \n",
    "simple_interest = (principal * rate * time) // (100 * 12) \n",
    "\n",
    "# printing format \n",
    "print(f\"The  Simple interest for Principal {principal} for {rate}% rate of interest for {time} months is {simple_interest}\")\n",
    "\n",
    "# Fromat Method\n",
    "# printing format \n",
    "print(\"The  Simple interest for Principal {} for {}% rate of interest for {} months is {}\".format(principal,rate,time,simple_interest))"
   ]
  },
  {
   "cell_type": "code",
   "execution_count": 42,
   "metadata": {},
   "outputs": [
    {
     "name": "stdout",
     "output_type": "stream",
     "text": [
      "And Gate\n",
      "True and True : True\n",
      "True and False : False\n",
      "False and True : False\n",
      "False and False : False\n",
      "\n",
      "Or Gate\n",
      "True or True : True\n",
      "True or False : True\n",
      "False or True : True\n",
      "False or False : False\n",
      "\n",
      "Not\n",
      "not True : False\n",
      "not False : True\n"
     ]
    }
   ],
   "source": [
    "# Logical Operator \n",
    "\n",
    "a = True \n",
    "b = False \n",
    "\n",
    "print(\"And Gate\") \n",
    "\n",
    "print(f\"{a} and {a} : {a and a }\")\n",
    "print(f\"{a} and {b} : {a and b }\")\n",
    "print(f\"{b} and {a} : {b and a }\")\n",
    "print(f\"{b} and {b} : {b and b }\")\n",
    "\n",
    "print(\"\\nOr Gate\") \n",
    "\n",
    "print(f\"{a} or {a} : {a or a }\")\n",
    "print(f\"{a} or {b} : {a or b }\")\n",
    "print(f\"{b} or {a} : {b or a }\")\n",
    "print(f\"{b} or {b} : {b or b }\")\n",
    "\n",
    "print(\"\\nNot\")\n",
    "print(f\"not {a} : {not a}\")\n",
    "print(f\"not {b} : {not b}\")"
   ]
  },
  {
   "cell_type": "code",
   "execution_count": 6,
   "metadata": {},
   "outputs": [
    {
     "name": "stdout",
     "output_type": "stream",
     "text": [
      "a = 100\n",
      "a = 130\n",
      "a = 120\n",
      "a = 240\n",
      "a = 120.0\n",
      "a = 60.0\n"
     ]
    }
   ],
   "source": [
    "# Assignment Operator \n",
    "\n",
    "a = 100 \n",
    "\n",
    "print(f\"a = {a}\") \n",
    "a += 30 \n",
    "print(f\"a = {a}\") \n",
    "a -= 10 \n",
    "print(f\"a = {a}\") \n",
    "a *= 2 \n",
    "print(f\"a = {a}\") \n",
    "a /= 2 \n",
    "print(f\"a = {a}\") \n",
    "a //= 2 \n",
    "print(f\"a = {a}\") \n",
    "\n"
   ]
  },
  {
   "cell_type": "code",
   "execution_count": 7,
   "metadata": {},
   "outputs": [
    {
     "name": "stdout",
     "output_type": "stream",
     "text": [
      "100 110 90 200 50.0 50\n"
     ]
    }
   ],
   "source": [
    "a = 100 \n",
    "\n",
    "b = a + 10 \n",
    "c = a - 10 \n",
    "d = a * 2 \n",
    "e = a / 2 \n",
    "f = a // 2 \n",
    "\n",
    "\n",
    "print(a, b, c, d, e, f) "
   ]
  },
  {
   "cell_type": "code",
   "execution_count": 14,
   "metadata": {},
   "outputs": [
    {
     "name": "stdout",
     "output_type": "stream",
     "text": [
      "True True False\n"
     ]
    }
   ],
   "source": [
    "a = 20 \n",
    "b = 20 \n",
    "\n",
    "print(a is b, a == b, a is not b)  "
   ]
  },
  {
   "cell_type": "code",
   "execution_count": 20,
   "metadata": {},
   "outputs": [
    {
     "name": "stdout",
     "output_type": "stream",
     "text": [
      "False False True\n",
      "140719328201112\n",
      "140719328196120\n",
      "140719328201112\n"
     ]
    }
   ],
   "source": [
    "a = 256\n",
    "b = 100 \n",
    "c = 256 \n",
    "\n",
    "print(a is b, b is c, a is c) \n",
    "print(id(a)) \n",
    "print(id(b)) \n",
    "print(id(c)) \n"
   ]
  },
  {
   "cell_type": "code",
   "execution_count": 27,
   "metadata": {},
   "outputs": [
    {
     "name": "stdout",
     "output_type": "stream",
     "text": [
      "[1, 2, 3] [1, 2, 3]\n",
      "2615815022784 2615814890304\n",
      "False\n",
      "True\n"
     ]
    }
   ],
   "source": [
    "a = [1, 2, 3] \n",
    "b = a.copy() \n",
    "\n",
    "print(a, b) \n",
    "print(id(a) , id(b)) \n",
    "print(a is b) \n",
    "\n",
    "print(a == b)"
   ]
  },
  {
   "cell_type": "code",
   "execution_count": 26,
   "metadata": {},
   "outputs": [
    {
     "name": "stdout",
     "output_type": "stream",
     "text": [
      "[1, 2, 3] [1, 2, 3]\n",
      "2615814888448 2615814888448\n",
      "True\n"
     ]
    }
   ],
   "source": [
    "a = [1, 2, 3] \n",
    "b = a\n",
    "\n",
    "print(a, b) \n",
    "print(id(a) , id(b)) \n",
    "print(a is b) "
   ]
  },
  {
   "cell_type": "code",
   "execution_count": 31,
   "metadata": {},
   "outputs": [
    {
     "name": "stdout",
     "output_type": "stream",
     "text": [
      "True\n",
      "False\n",
      "False\n",
      "True\n"
     ]
    }
   ],
   "source": [
    "# Membership \n",
    "\n",
    "li = [1, 2, 3, 4, 5] \n",
    "\n",
    "print(1 in li) \n",
    "print(10 in li) \n",
    "print(5 not in li) \n",
    "print(100 not in li) "
   ]
  },
  {
   "cell_type": "code",
   "execution_count": 32,
   "metadata": {},
   "outputs": [],
   "source": [
    "import numpy as np \n",
    "import random "
   ]
  },
  {
   "cell_type": "code",
   "execution_count": 45,
   "metadata": {},
   "outputs": [],
   "source": [
    "li = [chr(int(item)) for item in np.random.randint(65, 91, 30)] "
   ]
  },
  {
   "cell_type": "code",
   "execution_count": 51,
   "metadata": {},
   "outputs": [
    {
     "name": "stdout",
     "output_type": "stream",
     "text": [
      "['Z', 'W', 'V', 'W', 'P', 'Y', 'G', 'O', 'P', 'W', 'E', 'R', 'R', 'J', 'F', 'N', 'F', 'M', 'X', 'T', 'Y', 'E', 'R', 'R', 'Q', 'O', 'X', 'I', 'N', 'Z']\n"
     ]
    }
   ],
   "source": [
    "print(li) "
   ]
  },
  {
   "cell_type": "code",
   "execution_count": 52,
   "metadata": {},
   "outputs": [
    {
     "data": {
      "text/plain": [
       "['Z',\n",
       " 'W',\n",
       " 'V',\n",
       " 'W',\n",
       " 'P',\n",
       " 'Y',\n",
       " 'G',\n",
       " 'O',\n",
       " 'P',\n",
       " 'W',\n",
       " 'E',\n",
       " 'R',\n",
       " 'R',\n",
       " 'J',\n",
       " 'F',\n",
       " 'N',\n",
       " 'F',\n",
       " 'M',\n",
       " 'X',\n",
       " 'T',\n",
       " 'Y',\n",
       " 'E',\n",
       " 'R',\n",
       " 'R',\n",
       " 'Q',\n",
       " 'O',\n",
       " 'X',\n",
       " 'I',\n",
       " 'N',\n",
       " 'Z']"
      ]
     },
     "execution_count": 52,
     "metadata": {},
     "output_type": "execute_result"
    }
   ],
   "source": [
    "li"
   ]
  },
  {
   "cell_type": "code",
   "execution_count": 50,
   "metadata": {},
   "outputs": [
    {
     "name": "stdout",
     "output_type": "stream",
     "text": [
      "4\n"
     ]
    }
   ],
   "source": [
    "count_r = 0 \n",
    "\n",
    "for item in li:\n",
    "    if item.lower() == 'r':\n",
    "        count_r += 1\n",
    "print(count_r)\n",
    "    \n"
   ]
  },
  {
   "cell_type": "code",
   "execution_count": 68,
   "metadata": {},
   "outputs": [
    {
     "name": "stdout",
     "output_type": "stream",
     "text": [
      "True False False\n"
     ]
    }
   ],
   "source": [
    "s = 'jack sparrow123' \n",
    "\n",
    "print('c' in s, '10' in s, 'c' in s and '10' in s)"
   ]
  },
  {
   "cell_type": "code",
   "execution_count": 69,
   "metadata": {},
   "outputs": [
    {
     "name": "stdout",
     "output_type": "stream",
     "text": [
      "4\n",
      "7\n",
      "-7\n"
     ]
    }
   ],
   "source": [
    "print(5 & 6) \n",
    "print(5 | 6) \n",
    "print(~6) "
   ]
  },
  {
   "cell_type": "code",
   "execution_count": 70,
   "metadata": {},
   "outputs": [
    {
     "name": "stdout",
     "output_type": "stream",
     "text": [
      "0 : 0\n",
      "1 : 1\n",
      "2 : 10\n",
      "3 : 11\n",
      "4 : 100\n",
      "5 : 101\n",
      "6 : 110\n",
      "7 : 111\n",
      "8 : 1000\n",
      "9 : 1001\n",
      "10 : 1010\n"
     ]
    }
   ],
   "source": [
    "for i in range(0, 11):\n",
    "    print(f\"{i} : {bin(i)[2:]}\")"
   ]
  },
  {
   "cell_type": "code",
   "execution_count": 71,
   "metadata": {},
   "outputs": [
    {
     "data": {
      "text/plain": [
       "4"
      ]
     },
     "execution_count": 71,
     "metadata": {},
     "output_type": "execute_result"
    }
   ],
   "source": [
    "~-5"
   ]
  },
  {
   "cell_type": "code",
   "execution_count": 75,
   "metadata": {},
   "outputs": [
    {
     "name": "stdout",
     "output_type": "stream",
     "text": [
      "10\n",
      "-10\n",
      "-20\n",
      "20\n"
     ]
    }
   ],
   "source": [
    "a = 10 \n",
    "b = -20 \n",
    "\n",
    "print(+a) \n",
    "print(-a) \n",
    "\n",
    "print(+b) \n",
    "print(-b) # -(-20)  = 20 "
   ]
  },
  {
   "cell_type": "code",
   "execution_count": null,
   "metadata": {},
   "outputs": [],
   "source": []
  }
 ],
 "metadata": {
  "kernelspec": {
   "display_name": "Python 3",
   "language": "python",
   "name": "python3"
  },
  "language_info": {
   "codemirror_mode": {
    "name": "ipython",
    "version": 3
   },
   "file_extension": ".py",
   "mimetype": "text/x-python",
   "name": "python",
   "nbconvert_exporter": "python",
   "pygments_lexer": "ipython3",
   "version": "3.12.8"
  }
 },
 "nbformat": 4,
 "nbformat_minor": 2
}
