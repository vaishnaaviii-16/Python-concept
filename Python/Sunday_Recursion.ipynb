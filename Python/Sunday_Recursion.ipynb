{
 "cells": [
  {
   "cell_type": "code",
   "execution_count": 1,
   "metadata": {},
   "outputs": [],
   "source": [
    "def Sum_of_n(n):\n",
    "    # Base case \n",
    "    if n == 0 or n == 1:\n",
    "        return n \n",
    "    # Induction Hypothesis \n",
    "    small_ans = Sum_of_n(n-1) \n",
    "    # Induction Step \n",
    "    final_ans = small_ans + n \n",
    "\n",
    "    return final_ans"
   ]
  },
  {
   "cell_type": "code",
   "execution_count": 4,
   "metadata": {},
   "outputs": [],
   "source": [
    "def sum_of_n_optimised(n):\n",
    "    # base case \n",
    "    if n == 0 or n == 1:\n",
    "        return n \n",
    "    \n",
    "    # Induction Hypothesis and induction step \n",
    "    return sum_of_n_optimised(n-1) + n "
   ]
  },
  {
   "cell_type": "code",
   "execution_count": 5,
   "metadata": {},
   "outputs": [
    {
     "name": "stdout",
     "output_type": "stream",
     "text": [
      "n = 0, Sum of 0 natural number : 0\n",
      "n = 1, Sum of 1 natural number : 1\n",
      "n = 2, Sum of 2 natural number : 3\n",
      "n = 3, Sum of 3 natural number : 6\n",
      "n = 4, Sum of 4 natural number : 10\n",
      "n = 5, Sum of 5 natural number : 15\n",
      "n = 6, Sum of 6 natural number : 21\n",
      "n = 7, Sum of 7 natural number : 28\n",
      "n = 8, Sum of 8 natural number : 36\n",
      "n = 9, Sum of 9 natural number : 45\n",
      "n = 10, Sum of 10 natural number : 55\n"
     ]
    }
   ],
   "source": [
    "for i in range(0, 11, 1):\n",
    "    print(f\"n = {i}, Sum of {i} natural number : {sum_of_n_optimised(i)}\")"
   ]
  },
  {
   "cell_type": "code",
   "execution_count": 4,
   "metadata": {},
   "outputs": [],
   "source": [
    "# Factorial of a number \n",
    "# 5! = 5 x 4 x 3 x 2 x 1\n",
    "\n",
    "# assume = 5!, then 4! is already calculated \n",
    "\n",
    "def factorial(n):\n",
    "    # base case \n",
    "    if n == 1:\n",
    "        return 1 \n",
    "    \n",
    "    # special case \n",
    "    if n == 0:\n",
    "        return 1 \n",
    "    \n",
    "    # Induction Hypothesis \n",
    "    small_ans = factorial(n-1) \n",
    "\n",
    "    # Induction Step \n",
    "    final_ans = small_ans * n \n",
    "    \n",
    "    return final_ans"
   ]
  },
  {
   "cell_type": "code",
   "execution_count": 6,
   "metadata": {},
   "outputs": [],
   "source": [
    "def factorial_optimised(n):\n",
    "    if n ==  0 or n == 1:\n",
    "        return 1 \n",
    "    return factorial_optimised(n-1) * n \n"
   ]
  },
  {
   "cell_type": "code",
   "execution_count": 7,
   "metadata": {},
   "outputs": [
    {
     "name": "stdout",
     "output_type": "stream",
     "text": [
      "0! = 1\n",
      "1! = 1\n",
      "2! = 2\n",
      "3! = 6\n",
      "4! = 24\n",
      "5! = 120\n",
      "6! = 720\n",
      "7! = 5040\n",
      "8! = 40320\n",
      "9! = 362880\n",
      "10! = 3628800\n"
     ]
    }
   ],
   "source": [
    "for i in range(0, 11, 1):\n",
    "    print(f\"{i}! = {factorial_optimised(i)}\")"
   ]
  },
  {
   "cell_type": "code",
   "execution_count": 1,
   "metadata": {},
   "outputs": [],
   "source": [
    "def fibonacci(n):\n",
    "    # base case \n",
    "    if n == 0 or n == 1:\n",
    "        return n \n",
    "    \n",
    "    # Induction Hypothesis \n",
    "    small_ans_1 = fibonacci(n-1) \n",
    "    small_ans_2 = fibonacci(n-2)\n",
    "\n",
    "    # Induction Step \n",
    "    final_ans = small_ans_1 + small_ans_2\n",
    "    return final_ans"
   ]
  },
  {
   "cell_type": "code",
   "execution_count": 8,
   "metadata": {},
   "outputs": [],
   "source": [
    "def fibo(n):\n",
    "    if n == 0 or n == 1:\n",
    "        return n \n",
    "    return fibo(n-1) + fibo(n-2) "
   ]
  },
  {
   "cell_type": "code",
   "execution_count": 9,
   "metadata": {},
   "outputs": [
    {
     "name": "stdout",
     "output_type": "stream",
     "text": [
      "Fibonacci(0) = 0\n",
      "Fibonacci(1) = 1\n",
      "Fibonacci(2) = 1\n",
      "Fibonacci(3) = 2\n",
      "Fibonacci(4) = 3\n",
      "Fibonacci(5) = 5\n",
      "Fibonacci(6) = 8\n",
      "Fibonacci(7) = 13\n",
      "Fibonacci(8) = 21\n",
      "Fibonacci(9) = 34\n",
      "Fibonacci(10) = 55\n"
     ]
    }
   ],
   "source": [
    "for i in range(0, 11, 1):\n",
    "    print(f\"Fibonacci({i}) = {fibo(i)}\")"
   ]
  },
  {
   "cell_type": "code",
   "execution_count": 10,
   "metadata": {},
   "outputs": [],
   "source": [
    "# Print 1 to n "
   ]
  },
  {
   "cell_type": "code",
   "execution_count": 11,
   "metadata": {},
   "outputs": [],
   "source": [
    "# print n to 1 "
   ]
  },
  {
   "cell_type": "code",
   "execution_count": 20,
   "metadata": {},
   "outputs": [],
   "source": [
    "def print_1_to_n(n):\n",
    "    # base case \n",
    "    if n == 0:\n",
    "        return \n",
    "    \n",
    "    # induction hypothesis \n",
    "    print_1_to_n(n-1) \n",
    "\n",
    "    # step \n",
    "    print(n)"
   ]
  },
  {
   "cell_type": "code",
   "execution_count": 19,
   "metadata": {},
   "outputs": [
    {
     "name": "stdout",
     "output_type": "stream",
     "text": [
      "10\n",
      "9\n",
      "8\n",
      "7\n",
      "6\n",
      "5\n",
      "4\n",
      "3\n",
      "2\n",
      "1\n"
     ]
    }
   ],
   "source": [
    "print_1_to_n(10) "
   ]
  },
  {
   "cell_type": "code",
   "execution_count": null,
   "metadata": {},
   "outputs": [],
   "source": []
  },
  {
   "cell_type": "code",
   "execution_count": null,
   "metadata": {},
   "outputs": [],
   "source": []
  }
 ],
 "metadata": {
  "kernelspec": {
   "display_name": "Python 3",
   "language": "python",
   "name": "python3"
  },
  "language_info": {
   "codemirror_mode": {
    "name": "ipython",
    "version": 3
   },
   "file_extension": ".py",
   "mimetype": "text/x-python",
   "name": "python",
   "nbconvert_exporter": "python",
   "pygments_lexer": "ipython3",
   "version": "3.12.8"
  }
 },
 "nbformat": 4,
 "nbformat_minor": 2
}
