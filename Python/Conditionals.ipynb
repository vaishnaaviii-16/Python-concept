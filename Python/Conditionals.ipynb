{
 "cells": [
  {
   "cell_type": "code",
   "execution_count": 19,
   "metadata": {},
   "outputs": [
    {
     "data": {
      "text/plain": [
       "'\\n1. if - else clause \\n2. if - elif - else clause \\n3. Nested if - else clause\\n'"
      ]
     },
     "execution_count": 19,
     "metadata": {},
     "output_type": "execute_result"
    }
   ],
   "source": [
    "# Conditionals \n",
    "# lksdjglj\n",
    "# dfglsjf\n",
    "\n",
    "'''\n",
    "1. if - else clause \n",
    "2. if - elif - else clause \n",
    "3. Nested if - else clause\n",
    "'''"
   ]
  },
  {
   "cell_type": "code",
   "execution_count": 3,
   "metadata": {},
   "outputs": [
    {
     "name": "stdout",
     "output_type": "stream",
     "text": [
      "You can't vote since you are 10 years old\n"
     ]
    }
   ],
   "source": [
    "age = int(input(\"Enter the age : \")) \n",
    "\n",
    "if age > 17:\n",
    "    print(f\"You can vote since you are {age} years old\") \n",
    "else:\n",
    "    print(f\"You can't vote since you are {age} years old\")"
   ]
  },
  {
   "cell_type": "code",
   "execution_count": 4,
   "metadata": {},
   "outputs": [
    {
     "data": {
      "text/plain": [
       "'\\n> 10 --> green \\n< 10 --> red \\n10 --> white \\n'"
      ]
     },
     "execution_count": 4,
     "metadata": {},
     "output_type": "execute_result"
    }
   ],
   "source": [
    "'''\n",
    "> 10 --> green \n",
    "< 10 --> red \n",
    "10 --> white \n",
    "'''"
   ]
  },
  {
   "cell_type": "code",
   "execution_count": 14,
   "metadata": {},
   "outputs": [
    {
     "name": "stdout",
     "output_type": "stream",
     "text": [
      "Green\n"
     ]
    }
   ],
   "source": [
    "a = int(input()) \n",
    "\n",
    "if a > 10:\n",
    "    print(\"Green\") \n",
    "\n",
    "elif a < 10:\n",
    "    print(\"Red\") \n",
    "\n",
    "else:\n",
    "    print(\"White\")"
   ]
  },
  {
   "cell_type": "markdown",
   "metadata": {},
   "source": [
    "Nested if - else clause "
   ]
  },
  {
   "cell_type": "code",
   "execution_count": 18,
   "metadata": {},
   "outputs": [
    {
     "name": "stdout",
     "output_type": "stream",
     "text": [
      "zero!\n"
     ]
    }
   ],
   "source": [
    "num = int(input()) \n",
    "\n",
    "if num > 0:\n",
    "    if num % 2 == 0:\n",
    "        print(\"Even +ve\") \n",
    "    else:\n",
    "        print(\"Odd +ve\")\n",
    "\n",
    "elif num < 0:\n",
    "    if num % 2 == 0:\n",
    "        print(\"Even -ve\") \n",
    "    else:\n",
    "        print(\"Odd -ve\")\n",
    "\n",
    "else:\n",
    "    print(\"zero!\")"
   ]
  },
  {
   "cell_type": "code",
   "execution_count": null,
   "metadata": {},
   "outputs": [],
   "source": []
  },
  {
   "cell_type": "code",
   "execution_count": null,
   "metadata": {},
   "outputs": [],
   "source": []
  }
 ],
 "metadata": {
  "kernelspec": {
   "display_name": "Python 3",
   "language": "python",
   "name": "python3"
  },
  "language_info": {
   "codemirror_mode": {
    "name": "ipython",
    "version": 3
   },
   "file_extension": ".py",
   "mimetype": "text/x-python",
   "name": "python",
   "nbconvert_exporter": "python",
   "pygments_lexer": "ipython3",
   "version": "3.12.8"
  }
 },
 "nbformat": 4,
 "nbformat_minor": 2
}
