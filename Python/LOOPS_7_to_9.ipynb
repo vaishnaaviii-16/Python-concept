{
 "cells": [
  {
   "cell_type": "code",
   "execution_count": 1,
   "metadata": {},
   "outputs": [
    {
     "data": {
      "text/plain": [
       "'\\nComponents of Loops \\n\\n1. Initialization \\n2. Condition \\n3. Updation \\n'"
      ]
     },
     "execution_count": 1,
     "metadata": {},
     "output_type": "execute_result"
    }
   ],
   "source": [
    "'''\n",
    "Components of Loops \n",
    "\n",
    "1. Initialization \n",
    "2. Condition \n",
    "3. Updation \n",
    "'''\n",
    "\n"
   ]
  },
  {
   "cell_type": "code",
   "execution_count": 1,
   "metadata": {},
   "outputs": [
    {
     "name": "stdout",
     "output_type": "stream",
     "text": [
      "1\n",
      "2\n",
      "3\n",
      "4\n",
      "5\n",
      "6\n",
      "7\n",
      "8\n",
      "9\n",
      "10\n"
     ]
    }
   ],
   "source": [
    "i = 1 # Initialization \n",
    "\n",
    "while i < 11: # Condition / Expression \n",
    "    print(i) \n",
    "    i += 1 # updation \n",
    "\n"
   ]
  },
  {
   "cell_type": "code",
   "execution_count": 40,
   "metadata": {},
   "outputs": [
    {
     "name": "stdout",
     "output_type": "stream",
     "text": [
      "1 2 3 4 5 6 7 8 9 10 "
     ]
    }
   ],
   "source": [
    "for i in range(1, 11, 1):\n",
    "    print(i, end= \" \") "
   ]
  },
  {
   "cell_type": "code",
   "execution_count": 43,
   "metadata": {},
   "outputs": [
    {
     "name": "stdout",
     "output_type": "stream",
     "text": [
      "1 3 5 7 9 11 13 15 17 19 21 23 25 27 29 31 33 35 37 39 41 43 45 47 49 51 53 55 57 59 61 63 65 67 69 71 73 75 77 79 81 83 85 87 89 91 93 95 97 99 "
     ]
    }
   ],
   "source": [
    "for i in range(1, 101, 2):\n",
    "    print(i, end = \" \") "
   ]
  },
  {
   "cell_type": "code",
   "execution_count": 44,
   "metadata": {},
   "outputs": [
    {
     "name": "stdout",
     "output_type": "stream",
     "text": [
      "2 4 6 8 10 12 14 16 18 20 22 24 26 28 30 32 34 36 38 40 42 44 46 48 50 52 54 56 58 60 62 64 66 68 70 72 74 76 78 80 82 84 86 88 90 92 94 96 98 100 "
     ]
    }
   ],
   "source": [
    "for i in range(2, 101, 2):\n",
    "    print(i, end = \" \")"
   ]
  },
  {
   "cell_type": "code",
   "execution_count": 41,
   "metadata": {},
   "outputs": [
    {
     "name": "stdout",
     "output_type": "stream",
     "text": [
      "1 2 3 4 5 6 7 8 9 10 "
     ]
    }
   ],
   "source": [
    "i = 1 # Initialization \n",
    "\n",
    "while i < 11: # Condition / Expression \n",
    "    print(i, end = \" \") \n",
    "    i += 1 # updation"
   ]
  },
  {
   "cell_type": "code",
   "execution_count": null,
   "metadata": {},
   "outputs": [
    {
     "name": "stdout",
     "output_type": "stream",
     "text": [
      "10\n",
      "9\n",
      "8\n",
      "7\n",
      "6\n",
      "5\n",
      "4\n",
      "3\n",
      "2\n",
      "1\n"
     ]
    }
   ],
   "source": [
    "# print numbers from 10 to 1 \n",
    "\n",
    "i = 10 # Initialization \n",
    "\n",
    "while i >= 1: # Condition / Expression \n",
    "    # task \n",
    "    print(i) \n",
    "    i -= 1 # Updation \n"
   ]
  },
  {
   "cell_type": "code",
   "execution_count": 12,
   "metadata": {},
   "outputs": [
    {
     "name": "stdout",
     "output_type": "stream",
     "text": [
      "[3, 8, 13, 18, 23, 28]\n"
     ]
    }
   ],
   "source": [
    "li = [] \n",
    "\n",
    "i = 1 \n",
    "\n",
    "while i <= 30:\n",
    "    if i % 5 == 3:\n",
    "        li.append(i) \n",
    "    i += 1 \n",
    "\n",
    "print(li) "
   ]
  },
  {
   "cell_type": "code",
   "execution_count": 14,
   "metadata": {},
   "outputs": [
    {
     "name": "stdout",
     "output_type": "stream",
     "text": [
      "10\n",
      "9\n",
      "8\n",
      "7\n",
      "6\n",
      "5\n",
      "4\n",
      "3\n",
      "2\n",
      "1\n"
     ]
    }
   ],
   "source": [
    "i = 10 \n",
    "\n",
    "while i > 0:\n",
    "    print(i) \n",
    "    i -= 1 \n"
   ]
  },
  {
   "cell_type": "code",
   "execution_count": 26,
   "metadata": {},
   "outputs": [
    {
     "name": "stdout",
     "output_type": "stream",
     "text": [
      "10 11 12 13 14 15 16 17 18 19 20 21 22 23 "
     ]
    }
   ],
   "source": [
    "i = int(input()) \n",
    "\n",
    "while i <= 23 and i > 0:\n",
    "    print(i, end = \" \")\n",
    "    i += 1 "
   ]
  },
  {
   "cell_type": "code",
   "execution_count": 45,
   "metadata": {},
   "outputs": [
    {
     "name": "stdout",
     "output_type": "stream",
     "text": [
      "5 10 15 20 25 30 35 40 45 50 55 60 65 70 75 80 85 90 95 100 "
     ]
    }
   ],
   "source": [
    "i = 5\n",
    "while i < 101:\n",
    "    print(i, end = \" \") \n",
    "    i += 5"
   ]
  },
  {
   "cell_type": "code",
   "execution_count": 47,
   "metadata": {},
   "outputs": [
    {
     "name": "stdout",
     "output_type": "stream",
     "text": [
      "1 2 3 4 5 6 7 8 9 10 11 12 13 14 15 16 17 18 19 20 21 22 23 24 25 26 27 28 29 30 31 32 33 34 35 36 37 38 39 40 41 42 43 44 45 46 47 48 49 50 51 52 53 54 55 56 57 58 59 60 61 62 63 64 65 66 67 68 69 70 71 72 73 74 75 76 77 78 79 80 81 82 83 84 85 86 87 88 89 90 91 92 93 94 95 96 97 98 99 100 "
     ]
    }
   ],
   "source": [
    "for i in range(1, 101, 1):\n",
    "    print(i, end= \" \") "
   ]
  },
  {
   "cell_type": "code",
   "execution_count": 35,
   "metadata": {},
   "outputs": [
    {
     "name": "stdout",
     "output_type": "stream",
     "text": [
      "False\n",
      "True\n"
     ]
    }
   ],
   "source": [
    "i = 10 \n",
    "\n",
    "print(i < 5) \n",
    "print(i > 4)"
   ]
  },
  {
   "cell_type": "code",
   "execution_count": 49,
   "metadata": {},
   "outputs": [
    {
     "name": "stdout",
     "output_type": "stream",
     "text": [
      "10 9 8 7 6 5 4 3 2 1 "
     ]
    }
   ],
   "source": [
    "for i in range(10, 0, -1):\n",
    "    print(i, end= \" \") "
   ]
  },
  {
   "cell_type": "code",
   "execution_count": 53,
   "metadata": {},
   "outputs": [
    {
     "name": "stdout",
     "output_type": "stream",
     "text": [
      "2 4 6 8 10 12 14 16 18 20 22 24 26 28 30 32 34 36 38 40 42 44 46 48 50 52 54 56 58 60 62 64 66 68 70 72 74 76 78 80 82 84 86 88 90 92 94 96 98 100 "
     ]
    }
   ],
   "source": [
    "i = 1 \n",
    "\n",
    "while i < 101:\n",
    "    if i % 2 == 0:\n",
    "        print(i, end = \" \") \n",
    "    i += 1 "
   ]
  },
  {
   "cell_type": "code",
   "execution_count": 50,
   "metadata": {},
   "outputs": [
    {
     "name": "stdout",
     "output_type": "stream",
     "text": [
      "2 4 6 8 10 12 14 16 18 20 22 24 26 28 30 32 34 36 38 40 42 44 46 48 50 52 54 56 58 60 62 64 66 68 70 72 74 76 78 80 82 84 86 88 90 92 94 96 98 100 "
     ]
    }
   ],
   "source": [
    "for i in range(1, 101, 1):\n",
    "    if i % 2 == 0:\n",
    "        print(i, end = \" \") "
   ]
  },
  {
   "cell_type": "code",
   "execution_count": 51,
   "metadata": {},
   "outputs": [
    {
     "name": "stdout",
     "output_type": "stream",
     "text": [
      "2 4 6 8 10 12 14 16 18 20 22 24 26 28 30 32 34 36 38 40 42 44 46 48 50 52 54 56 58 60 62 64 66 68 70 72 74 76 78 80 82 84 86 88 90 92 94 96 98 100 "
     ]
    }
   ],
   "source": [
    "for i in range(2, 101, 2):\n",
    "    print(i, end = \" \") "
   ]
  },
  {
   "cell_type": "code",
   "execution_count": 55,
   "metadata": {},
   "outputs": [
    {
     "name": "stdout",
     "output_type": "stream",
     "text": [
      "100 95 90 85 80 75 70 65 60 55 50 45 40 35 30 25 20 15 10 5 "
     ]
    }
   ],
   "source": [
    "for i in range(100, 0, -5):\n",
    "    print(i, end= \" \") "
   ]
  },
  {
   "cell_type": "code",
   "execution_count": 56,
   "metadata": {},
   "outputs": [
    {
     "name": "stdout",
     "output_type": "stream",
     "text": [
      "5 10 15 20 25 30 35 40 45 50 55 60 65 70 75 80 85 90 95 100 "
     ]
    }
   ],
   "source": [
    "for i in range(5, 101, 5):\n",
    "    print(i, end = \" \") "
   ]
  },
  {
   "cell_type": "code",
   "execution_count": 60,
   "metadata": {},
   "outputs": [
    {
     "name": "stdout",
     "output_type": "stream",
     "text": [
      "Even : Multiply By 4\n",
      "Odd : Multiply by 3\n",
      "i = 1, ans : 1 * 3 = 3\n",
      "i = 2, ans : 2 * 4 = 8\n",
      "i = 3, ans : 3 * 3 = 9\n",
      "i = 4, ans : 4 * 4 = 16\n",
      "i = 5, ans : 5 * 3 = 15\n",
      "i = 6, ans : 6 * 4 = 24\n",
      "i = 7, ans : 7 * 3 = 21\n",
      "i = 8, ans : 8 * 4 = 32\n",
      "i = 9, ans : 9 * 3 = 27\n",
      "i = 10, ans : 10 * 4 = 40\n",
      "i = 11, ans : 11 * 3 = 33\n",
      "i = 12, ans : 12 * 4 = 48\n",
      "i = 13, ans : 13 * 3 = 39\n",
      "i = 14, ans : 14 * 4 = 56\n",
      "i = 15, ans : 15 * 3 = 45\n",
      "i = 16, ans : 16 * 4 = 64\n",
      "i = 17, ans : 17 * 3 = 51\n",
      "i = 18, ans : 18 * 4 = 72\n",
      "i = 19, ans : 19 * 3 = 57\n",
      "i = 20, ans : 20 * 4 = 80\n",
      "i = 21, ans : 21 * 3 = 63\n",
      "i = 22, ans : 22 * 4 = 88\n",
      "i = 23, ans : 23 * 3 = 69\n",
      "i = 24, ans : 24 * 4 = 96\n",
      "i = 25, ans : 25 * 3 = 75\n",
      "i = 26, ans : 26 * 4 = 104\n",
      "i = 27, ans : 27 * 3 = 81\n",
      "i = 28, ans : 28 * 4 = 112\n",
      "i = 29, ans : 29 * 3 = 87\n",
      "i = 30, ans : 30 * 4 = 120\n",
      "i = 31, ans : 31 * 3 = 93\n",
      "i = 32, ans : 32 * 4 = 128\n",
      "i = 33, ans : 33 * 3 = 99\n",
      "i = 34, ans : 34 * 4 = 136\n",
      "i = 35, ans : 35 * 3 = 105\n",
      "i = 36, ans : 36 * 4 = 144\n",
      "i = 37, ans : 37 * 3 = 111\n",
      "i = 38, ans : 38 * 4 = 152\n",
      "i = 39, ans : 39 * 3 = 117\n",
      "i = 40, ans : 40 * 4 = 160\n",
      "i = 41, ans : 41 * 3 = 123\n",
      "i = 42, ans : 42 * 4 = 168\n",
      "i = 43, ans : 43 * 3 = 129\n",
      "i = 44, ans : 44 * 4 = 176\n",
      "i = 45, ans : 45 * 3 = 135\n",
      "i = 46, ans : 46 * 4 = 184\n",
      "i = 47, ans : 47 * 3 = 141\n",
      "i = 48, ans : 48 * 4 = 192\n",
      "i = 49, ans : 49 * 3 = 147\n",
      "i = 50, ans : 50 * 4 = 200\n"
     ]
    }
   ],
   "source": [
    "print(\"Even : Multiply By 4\\nOdd : Multiply by 3\")\n",
    "\n",
    "for i in range(1, 51, 1):\n",
    "    if i % 2 == 0:\n",
    "        print(f\"i = {i}, ans : {i} * 4 = {i * 4}\") \n",
    "    else:\n",
    "        print(f\"i = {i}, ans : {i} * 3 = {i * 3}\") "
   ]
  },
  {
   "cell_type": "code",
   "execution_count": 61,
   "metadata": {},
   "outputs": [
    {
     "name": "stdout",
     "output_type": "stream",
     "text": [
      "Dividend = 1, Divisor = 2, Quotient = 0, Remainder = 1\n",
      "Dividend = 2, Divisor = 2, Quotient = 1, Remainder = 0\n",
      "Dividend = 3, Divisor = 2, Quotient = 1, Remainder = 1\n",
      "Dividend = 4, Divisor = 2, Quotient = 2, Remainder = 0\n",
      "Dividend = 5, Divisor = 2, Quotient = 2, Remainder = 1\n",
      "Dividend = 6, Divisor = 2, Quotient = 3, Remainder = 0\n",
      "Dividend = 7, Divisor = 2, Quotient = 3, Remainder = 1\n",
      "Dividend = 8, Divisor = 2, Quotient = 4, Remainder = 0\n",
      "Dividend = 9, Divisor = 2, Quotient = 4, Remainder = 1\n",
      "Dividend = 10, Divisor = 2, Quotient = 5, Remainder = 0\n"
     ]
    }
   ],
   "source": [
    "\n",
    "for i in range(1, 11, 1):\n",
    "    print(f\"Dividend = {i}, Divisor = {2}, Quotient = {i // 2}, Remainder = {i % 2}\")\n"
   ]
  },
  {
   "cell_type": "code",
   "execution_count": 62,
   "metadata": {},
   "outputs": [
    {
     "name": "stdout",
     "output_type": "stream",
     "text": [
      "0 1 2 3 4 5 6 7 8 9 10 "
     ]
    }
   ],
   "source": [
    "for i in range(11):\n",
    "    print(i, end = \" \") "
   ]
  },
  {
   "cell_type": "code",
   "execution_count": 64,
   "metadata": {},
   "outputs": [
    {
     "name": "stdout",
     "output_type": "stream",
     "text": [
      "0\n",
      "1\n",
      "2\n",
      "3\n",
      "4\n",
      "5\n",
      "6\n",
      "7\n",
      "8\n",
      "9\n"
     ]
    }
   ],
   "source": [
    "for i in range(10):\n",
    "    print(i) "
   ]
  },
  {
   "cell_type": "code",
   "execution_count": 8,
   "metadata": {},
   "outputs": [],
   "source": [
    "# i = 1 \n",
    "\n",
    "# while i <= 30:\n",
    "#     if i % 2 == 0:\n",
    "#         print(i, end = \" \") \n",
    "#     else:\n",
    "#         continue \n",
    "#     i += 1 "
   ]
  },
  {
   "cell_type": "code",
   "execution_count": 14,
   "metadata": {},
   "outputs": [
    {
     "name": "stdout",
     "output_type": "stream",
     "text": [
      "1\n",
      "2\n",
      "3\n",
      "4\n",
      "5\n"
     ]
    }
   ],
   "source": [
    "# Jump Statements \n",
    "\n",
    "# Printing numbers from 1 to 10 \n",
    "\n",
    "i = 1\n",
    "\n",
    "while i <= 10:\n",
    "    if i > 5:\n",
    "        break \n",
    "    else:\n",
    "        print(i) \n",
    "    i += 1 "
   ]
  },
  {
   "cell_type": "code",
   "execution_count": 15,
   "metadata": {},
   "outputs": [
    {
     "name": "stdout",
     "output_type": "stream",
     "text": [
      "1\n",
      "2\n",
      "3\n",
      "4\n",
      "5\n"
     ]
    }
   ],
   "source": [
    "for i in range(1, 11, 1):\n",
    "    if i > 5:\n",
    "        break \n",
    "    print(i) "
   ]
  },
  {
   "cell_type": "code",
   "execution_count": 17,
   "metadata": {},
   "outputs": [
    {
     "name": "stdout",
     "output_type": "stream",
     "text": [
      "2 4 6 8 10 12 14 16 18 20 22 24 26 28 30 32 34 36 38 40 42 44 46 48 50 52 54 56 58 60 62 64 66 68 70 72 74 76 78 80 82 84 86 88 90 92 94 96 98 100 "
     ]
    }
   ],
   "source": [
    "for i in range(1, 101, 1):\n",
    "    if i % 2 == 0:\n",
    "        print(i, end = \" \") \n",
    " \n"
   ]
  },
  {
   "cell_type": "code",
   "execution_count": 18,
   "metadata": {},
   "outputs": [
    {
     "name": "stdout",
     "output_type": "stream",
     "text": [
      "2 4 6 8 10 12 14 16 18 20 22 24 26 28 30 32 34 36 38 40 42 44 46 48 50 52 54 56 58 60 62 64 66 68 70 72 74 76 78 80 82 84 86 88 90 92 94 96 98 100 "
     ]
    }
   ],
   "source": [
    "for i in range(1, 101, 1):\n",
    "    if i % 2 != 0:\n",
    "        continue \n",
    "    print(i, end = \" \") "
   ]
  },
  {
   "cell_type": "code",
   "execution_count": 25,
   "metadata": {},
   "outputs": [
    {
     "name": "stdout",
     "output_type": "stream",
     "text": [
      "1 3 5 7 9 11 13 15 17 19 21 23 25 27 29 "
     ]
    }
   ],
   "source": [
    "for i in range(1, 31, 1):\n",
    "    if i % 2 == 0:\n",
    "        continue \n",
    "    print(i, end = \" \") "
   ]
  },
  {
   "cell_type": "code",
   "execution_count": 29,
   "metadata": {},
   "outputs": [
    {
     "name": "stdout",
     "output_type": "stream",
     "text": [
      "1 3 5 7 9 11 13 15 17 19 21 23 25 27 29 "
     ]
    }
   ],
   "source": [
    "i = 1 \n",
    "\n",
    "while i <= 30:\n",
    "    if i % 2 == 0:\n",
    "        i += 1 \n",
    "        continue \n",
    "    else:\n",
    "        print(i, end = \" \") \n",
    "    i += 1 "
   ]
  },
  {
   "cell_type": "code",
   "execution_count": 33,
   "metadata": {},
   "outputs": [
    {
     "name": "stdout",
     "output_type": "stream",
     "text": [
      "2 4 6 8 10 12 "
     ]
    }
   ],
   "source": [
    "i = 1 \n",
    "\n",
    "while i <= 30:\n",
    "    if i > 12:\n",
    "        break \n",
    "    elif i % 2 == 0:\n",
    "        print(i, end = \" \") \n",
    "        i += 1 \n",
    "    else:\n",
    "        i += 1 \n",
    "        continue \n"
   ]
  },
  {
   "cell_type": "code",
   "execution_count": 34,
   "metadata": {},
   "outputs": [
    {
     "name": "stdout",
     "output_type": "stream",
     "text": [
      "2 4 6 8 10 12 "
     ]
    }
   ],
   "source": [
    "for i in range(1, 31, 1):\n",
    "    if i > 12:\n",
    "        break \n",
    "    elif i % 2 == 0:\n",
    "        print(i, end = \" \") \n",
    "    else:\n",
    "        continue "
   ]
  },
  {
   "cell_type": "code",
   "execution_count": 35,
   "metadata": {},
   "outputs": [
    {
     "name": "stdout",
     "output_type": "stream",
     "text": [
      "1 2 3 4 5 6 7 8 9 10 11 12 13 14 15 "
     ]
    }
   ],
   "source": [
    "for i in range(1, 31, 1):\n",
    "    if i <= 15:\n",
    "        print(i, end = \" \") \n",
    "    else:\n",
    "        break "
   ]
  },
  {
   "cell_type": "code",
   "execution_count": 36,
   "metadata": {},
   "outputs": [],
   "source": [
    "# 1. Print Numbers from 1 to N \n",
    "# 2. Sum of N Natural Numbers \n",
    "# 3. Even Numbers \n",
    "# 4. Reverse Pattern Printing (N to 1) \n",
    "# 5. Multiplication Table "
   ]
  },
  {
   "cell_type": "code",
   "execution_count": 37,
   "metadata": {},
   "outputs": [
    {
     "name": "stdout",
     "output_type": "stream",
     "text": [
      "1 2 3 4 5 6 7 8 9 10 "
     ]
    }
   ],
   "source": [
    "n = int(input()) \n",
    "for i in range(1, n + 1, 1):\n",
    "    print(i, end = \" \") "
   ]
  },
  {
   "cell_type": "code",
   "execution_count": 42,
   "metadata": {},
   "outputs": [
    {
     "name": "stdout",
     "output_type": "stream",
     "text": [
      "5 X 1 = 5\n",
      "5 X 2 = 10\n",
      "5 X 3 = 15\n",
      "5 X 4 = 20\n",
      "5 X 5 = 25\n",
      "5 X 6 = 30\n",
      "5 X 7 = 35\n",
      "5 X 8 = 40\n",
      "5 X 9 = 45\n",
      "5 X 10 = 50\n"
     ]
    }
   ],
   "source": [
    "n = int(input(\"Enter the Number you want the table for : \"))\n",
    "\n",
    "for i in range(1, 11, 1):\n",
    "    print(f\"{n} X {i} = {n * i}\")"
   ]
  },
  {
   "cell_type": "code",
   "execution_count": 44,
   "metadata": {},
   "outputs": [
    {
     "name": "stdout",
     "output_type": "stream",
     "text": [
      "10 X 1 = 10\n",
      "10 X 2 = 20\n",
      "10 X 3 = 30\n",
      "10 X 4 = 40\n",
      "10 X 5 = 50\n",
      "10 X 6 = 60\n",
      "10 X 7 = 70\n",
      "10 X 8 = 80\n",
      "10 X 9 = 90\n",
      "10 X 10 = 100\n"
     ]
    }
   ],
   "source": [
    "n = int(input(\"Enter the Number you want the table for : \"))\n",
    "\n",
    "for i in range(1, 11, 1):\n",
    "    print(f\"{n} X {i} = {n * i}\")"
   ]
  },
  {
   "cell_type": "code",
   "execution_count": 8,
   "metadata": {},
   "outputs": [
    {
     "name": "stdout",
     "output_type": "stream",
     "text": [
      "15\n"
     ]
    }
   ],
   "source": [
    "n = int(input()) \n",
    "\n",
    "ans = 0 \n",
    "\n",
    "for i in range(1, n+1, 1):\n",
    "    ans += i \n",
    "\n",
    "print(ans )"
   ]
  },
  {
   "cell_type": "code",
   "execution_count": 7,
   "metadata": {},
   "outputs": [
    {
     "name": "stdout",
     "output_type": "stream",
     "text": [
      "Iteration = 1:\n",
      "Before Addition : ans = 0 After Addition : ans = 1\n",
      "Iteration = 2:\n",
      "Before Addition : ans = 1 After Addition : ans = 3\n",
      "Iteration = 3:\n",
      "Before Addition : ans = 3 After Addition : ans = 6\n",
      "Iteration = 4:\n",
      "Before Addition : ans = 6 After Addition : ans = 10\n",
      "Iteration = 5:\n",
      "Before Addition : ans = 10 After Addition : ans = 15\n",
      "Sum of first 5 natural Numbers is 15\n"
     ]
    }
   ],
   "source": [
    "n = int(input()) \n",
    "# print(f\"n = {n}\")\n",
    "ans = 0 \n",
    "for i in range(1, n+1, 1):\n",
    "    print(f\"Iteration = {i}:\\nBefore Addition : ans = {ans}\", end = \" \")\n",
    "    ans = ans + i \n",
    "    print(f\"After Addition : ans = {ans}\")\n",
    "    \n",
    "print(f\"Sum of first {n} natural Numbers is {ans}\")"
   ]
  },
  {
   "cell_type": "code",
   "execution_count": 16,
   "metadata": {},
   "outputs": [
    {
     "name": "stdout",
     "output_type": "stream",
     "text": [
      "n = 6\n",
      "Iteration = 1:\n",
      "Before Multiplication : ans = 1 After Multiplication : ans = 1\n",
      "Iteration = 2:\n",
      "Before Multiplication : ans = 1 After Multiplication : ans = 2\n",
      "Iteration = 3:\n",
      "Before Multiplication : ans = 2 After Multiplication : ans = 6\n",
      "Iteration = 4:\n",
      "Before Multiplication : ans = 6 After Multiplication : ans = 24\n",
      "Iteration = 5:\n",
      "Before Multiplication : ans = 24 After Multiplication : ans = 120\n",
      "Iteration = 6:\n",
      "Before Multiplication : ans = 120 After Multiplication : ans = 720\n",
      "Factorial of 6 is 720\n"
     ]
    }
   ],
   "source": [
    "n = int(input()) \n",
    "print(f\"n = {n}\")\n",
    "ans = 1 \n",
    "for i in range(1, n+1, 1):\n",
    "    print(f\"Iteration = {i}:\\nBefore Multiplication : ans = {ans}\", end = \" \")\n",
    "    ans = ans * i \n",
    "    # ans *= i \n",
    "    print(f\"After Multiplication : ans = {ans}\")\n",
    "    \n",
    "print(f\"Factorial of {n} is {ans}\")"
   ]
  },
  {
   "cell_type": "code",
   "execution_count": 15,
   "metadata": {},
   "outputs": [
    {
     "name": "stdout",
     "output_type": "stream",
     "text": [
      "Ans = 120\n"
     ]
    }
   ],
   "source": [
    "n = int(input()) \n",
    "\n",
    "ans = 1 \n",
    "\n",
    "for i in range(1, n+1, 1):\n",
    "    ans *= i \n",
    "\n",
    "print(f\"Ans = {ans}\")"
   ]
  },
  {
   "cell_type": "code",
   "execution_count": null,
   "metadata": {},
   "outputs": [],
   "source": []
  }
 ],
 "metadata": {
  "kernelspec": {
   "display_name": "Python 3",
   "language": "python",
   "name": "python3"
  },
  "language_info": {
   "codemirror_mode": {
    "name": "ipython",
    "version": 3
   },
   "file_extension": ".py",
   "mimetype": "text/x-python",
   "name": "python",
   "nbconvert_exporter": "python",
   "pygments_lexer": "ipython3",
   "version": "3.12.8"
  }
 },
 "nbformat": 4,
 "nbformat_minor": 2
}
