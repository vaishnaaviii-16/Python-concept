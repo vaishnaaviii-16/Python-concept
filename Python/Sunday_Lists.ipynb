{
 "cells": [
  {
   "cell_type": "code",
   "execution_count": 2,
   "metadata": {},
   "outputs": [
    {
     "name": "stdout",
     "output_type": "stream",
     "text": [
      "[] <class 'list'>\n"
     ]
    }
   ],
   "source": [
    "# Initialize the list \n",
    "\n",
    "li1 = [] \n",
    "print(li1, type(li1)) "
   ]
  },
  {
   "cell_type": "code",
   "execution_count": 3,
   "metadata": {},
   "outputs": [
    {
     "name": "stdout",
     "output_type": "stream",
     "text": [
      "[] <class 'list'>\n"
     ]
    }
   ],
   "source": [
    "li2 = list() \n",
    "print(li2, type(li2)) "
   ]
  },
  {
   "cell_type": "code",
   "execution_count": 4,
   "metadata": {},
   "outputs": [
    {
     "name": "stdout",
     "output_type": "stream",
     "text": [
      "[1, 2, 3, 4, 5] <class 'list'>\n"
     ]
    }
   ],
   "source": [
    "li3 = [1, 2, 3, 4, 5] \n",
    "print(li3, type(li3)) "
   ]
  },
  {
   "cell_type": "code",
   "execution_count": 5,
   "metadata": {},
   "outputs": [
    {
     "name": "stdout",
     "output_type": "stream",
     "text": [
      "[5, 4, 3, 2, 1] <class 'list'>\n"
     ]
    }
   ],
   "source": [
    "li4 = list([5, 4, 3, 2, 1]) \n",
    "print(li4, type(li4)) "
   ]
  },
  {
   "cell_type": "code",
   "execution_count": 15,
   "metadata": {},
   "outputs": [
    {
     "name": "stdout",
     "output_type": "stream",
     "text": [
      "Original List : [11, 12, 32, 91, 74, 3]\n",
      "Forward Indexing\n",
      "11\n",
      "74\n",
      "3\n",
      "Negative Indexing\n",
      "3\n",
      "11\n"
     ]
    }
   ],
   "source": [
    "# Accessing The data (Indexing Method : 1. Forward Indexing, 2. Negative Indexing) \n",
    "\n",
    "li = [11, 12, 32, 91, 74, 3] \n",
    "\n",
    "print(f\"Original List : {li}\")\n",
    "print(\"Forward Indexing\")\n",
    "print(li[0]) \n",
    "print(li[4]) \n",
    "print(li[5]) \n",
    "# print(li[6]) : IndexError: list index out of range\n",
    "print(\"Negative Indexing\") \n",
    "\n",
    "print(li[-1]) \n",
    "print(li[-6])\n",
    "# print(li[-7]) : IndexError: list index out of range"
   ]
  },
  {
   "cell_type": "code",
   "execution_count": 23,
   "metadata": {},
   "outputs": [
    {
     "name": "stdout",
     "output_type": "stream",
     "text": [
      "Original List : [1, 2, 3, 4, 5]\n",
      "Updated List : [10, 2, 3, 4, 5]\n",
      "Updated List : [10, 2, 3, 4, 50]\n",
      "Updated List : [10, 200, 3, 4, 50]\n"
     ]
    }
   ],
   "source": [
    "# Assignment in List \n",
    "\n",
    "li = [1, 2, 3, 4, 5] \n",
    "\n",
    "print(f\"Original List : {li}\") \n",
    "li[0] = 10 \n",
    "\n",
    "print(f\"Updated List : {li}\")\n",
    "li[-1] = 50 \n",
    "\n",
    "print(f\"Updated List : {li}\")\n",
    "li[-4] = 200 \n",
    "\n",
    "print(f\"Updated List : {li}\")\n",
    "\n",
    "\n"
   ]
  },
  {
   "cell_type": "code",
   "execution_count": 29,
   "metadata": {},
   "outputs": [
    {
     "name": "stdout",
     "output_type": "stream",
     "text": [
      "Original List : [1, 2, 3, 4, 5]\n",
      "Updated List : [1, 2, 3, 4, 5, 6]\n",
      "Updated List : [1, 2, 3, 4, 5, 6, 134]\n",
      "Updated List : [0, 1, 2, 3, 4, 5, 6, 134]\n"
     ]
    }
   ],
   "source": [
    "# Insert data in list --> (functions used : insert, append & extend)\n",
    "\n",
    "li = [1, 2, 3, 4, 5] \n",
    "\n",
    "print(f\"Original List : {li}\")\n",
    "\n",
    "# Append : Insert  at last location \n",
    "\n",
    "li.append(6) \n",
    "\n",
    "print(f\"Updated List : {li}\")\n",
    "\n",
    "li.append(134) \n",
    "print(f\"Updated List : {li}\")\n",
    "\n",
    "li.insert(0, 00)\n",
    "\n",
    "print(f\"Updated List : {li}\")\n",
    "\n",
    "# Extend function "
   ]
  },
  {
   "cell_type": "code",
   "execution_count": 32,
   "metadata": {},
   "outputs": [
    {
     "name": "stdout",
     "output_type": "stream",
     "text": [
      "Original List :  [1, 2, 3, 4, 5]\n",
      "Updated List : [1, 2, 3, 4, 5, [6, 7, 8]]\n",
      "Updated List : [1, 2, 3, 4, 5, [6, 7, 8], 9, 10, 11]\n"
     ]
    }
   ],
   "source": [
    "li = [1, 2, 3, 4, 5] \n",
    "\n",
    "# li.append(6, 7, 8) : TypeError: list.append() takes exactly one argument (3 given)\n",
    "\n",
    "print(f\"Original List :  {li}\")\n",
    "\n",
    "li.append([6, 7, 8]) \n",
    "\n",
    "print(f\"Updated List : {li}\")\n",
    "\n",
    "li.extend([9, 10, 11]) \n",
    "\n",
    "print(f\"Updated List : {li}\")"
   ]
  },
  {
   "cell_type": "code",
   "execution_count": 74,
   "metadata": {},
   "outputs": [
    {
     "name": "stdout",
     "output_type": "stream",
     "text": [
      "Original List : [1, 2, 3, 4, 5, 6, 7, 8, 9, 10]\n",
      "Updated List : [1, 2, 3, 4, 5, 6, 7, 8, 9]\n",
      "Updated List : [1, 2, 3, 4, 5, 6, 7, 8]\n",
      "Updated List : [1, 2, 3, 4, 5, 6, 7]\n",
      "Updated List : [2, 3, 4, 5, 6, 7]\n",
      "Updated List : [2, 3, 4, 5, 7]\n",
      "Updated List : [2, 3, 5, 7]\n"
     ]
    }
   ],
   "source": [
    "li = [1, 2, 3, 4, 5, 6, 7, 8, 9, 10]\n",
    "\n",
    "print(f\"Original List : {li}\")\n",
    "\n",
    "li.pop() \n",
    "\n",
    "print(f\"Updated List : {li}\")\n",
    "\n",
    "li.pop() \n",
    "\n",
    "print(f\"Updated List : {li}\")\n",
    "\n",
    "li.pop() \n",
    "\n",
    "print(f\"Updated List : {li}\")\n",
    "\n",
    "li.pop(0) \n",
    "\n",
    "print(f\"Updated List : {li}\")\n",
    "\n",
    "# Object  based \n",
    "\n",
    "li.remove(6) \n",
    "\n",
    "print(f\"Updated List : {li}\")\n",
    "\n",
    "# li.remove(6) : ValueError: list.remove(x): x not in list\n",
    "\n",
    "# print(f\"Updated List : {li}\")\n",
    "\n",
    "li.remove(4) \n",
    "print(f\"Updated List : {li}\")\n"
   ]
  },
  {
   "cell_type": "code",
   "execution_count": 76,
   "metadata": {},
   "outputs": [],
   "source": [
    "li = [1, 2, 44, 48, 50] \n",
    "\n",
    "# li.remove(4) : ValueError: list.remove(x): x not in list"
   ]
  },
  {
   "cell_type": "markdown",
   "metadata": {},
   "source": [
    "## Sorting "
   ]
  },
  {
   "cell_type": "code",
   "execution_count": 33,
   "metadata": {},
   "outputs": [],
   "source": [
    "import numpy as  np \n",
    "import random "
   ]
  },
  {
   "cell_type": "code",
   "execution_count": 55,
   "metadata": {},
   "outputs": [
    {
     "name": "stdout",
     "output_type": "stream",
     "text": [
      "Original List : [33, 5, 42, 25, 38, 1, 1, 12, 32, 5, 35, 18, 13, 46, 12, 11, 47, 26, 46, 21]\n",
      "Updated List : None\n"
     ]
    }
   ],
   "source": [
    "li = [int(num) for num in np.random.randint(1, 50, 20)]\n",
    "print(f'Original List : {li}') \n",
    "li = sorted(li) \n",
    "print(f\"Updated List : {li}\")"
   ]
  },
  {
   "cell_type": "code",
   "execution_count": 66,
   "metadata": {},
   "outputs": [
    {
     "name": "stdout",
     "output_type": "stream",
     "text": [
      "Original List : [36, 46, 42, 25, 33, 19, 48, 26, 32, 28, 10, 39, 41, 30, 49, 47, 45, 45, 19, 12]\n",
      "Updated List : [10, 12, 19, 19, 25, 26, 28, 30, 32, 33, 36, 39, 41, 42, 45, 45, 46, 47, 48, 49]\n"
     ]
    }
   ],
   "source": [
    "li = [int(num) for num in np.random.randint(1, 50, 20)]\n",
    "print(f'Original List : {li}') \n",
    "li.sort() \n",
    "print(f\"Updated List : {li}\")"
   ]
  },
  {
   "cell_type": "code",
   "execution_count": 50,
   "metadata": {},
   "outputs": [
    {
     "name": "stdout",
     "output_type": "stream",
     "text": [
      "[1, 3.14, 'Jack Sparrow', [1, 2, 3], (4, 5, 6), {'a': 1, 'b': 2}, {34, 12, 63}, True, None] <class 'list'>\n"
     ]
    }
   ],
   "source": [
    "li = [1, 3.14, 'Jack Sparrow', [1, 2, 3], (4, 5, 6), {'a' : 1, 'b' : 2}, {12,34, 63}, True, None] \n",
    "print(li, type(li)) \n",
    "# sorted(li) : TypeError: '<' not supported between instances of 'str' and 'float'"
   ]
  },
  {
   "cell_type": "code",
   "execution_count": 85,
   "metadata": {},
   "outputs": [
    {
     "name": "stdout",
     "output_type": "stream",
     "text": [
      "Index : 0 : Data : 10\n",
      "Index : 1 : Data : 12\n",
      "Index : 2 : Data : 23\n",
      "Index : 3 : Data : 34\n",
      "Index : 4 : Data : 45\n",
      "10 12 23 34 45 \n",
      "Index : 0, Data : 10\n",
      "Index : 1, Data : 12\n",
      "Index : 2, Data : 23\n",
      "Index : 3, Data : 34\n",
      "Index : 4, Data : 45\n"
     ]
    }
   ],
   "source": [
    "# Looping in list\n",
    "\n",
    "# 1. Index based  \n",
    "\n",
    "li = [10, 12, 23, 34, 45] \n",
    "\n",
    "for i in range(0, len(li), 1):\n",
    "    print(f\"Index : {i} : Data : {li[i]}\")\n",
    "\n",
    "for item in li:\n",
    "    print(f\"{item}\", end = \" \")\n",
    "\n",
    "print() \n",
    "\n",
    "for index, item in enumerate(li):\n",
    "    print(f\"Index : {index}, Data : {item}\")"
   ]
  },
  {
   "cell_type": "code",
   "execution_count": 87,
   "metadata": {},
   "outputs": [
    {
     "name": "stdout",
     "output_type": "stream",
     "text": [
      "[100, 98, 99, 97, 95]\n"
     ]
    }
   ],
   "source": [
    "# Line Seperated Input \n",
    "\n",
    "li = [] \n",
    "\n",
    "for i in range(5):\n",
    "    marks = int(input()) \n",
    "    li.append(marks) \n",
    "\n",
    "print(li) "
   ]
  },
  {
   "cell_type": "code",
   "execution_count": 98,
   "metadata": {},
   "outputs": [
    {
     "name": "stdout",
     "output_type": "stream",
     "text": [
      "[1, 2, 3, 4, 5]\n"
     ]
    }
   ],
   "source": [
    "# Space Seperated Input \n",
    "\n",
    "marks = input() \n",
    "li = marks.split() \n",
    "newli = [] \n",
    "for item in  li:\n",
    "    newli.append(int(item)) \n",
    "\n",
    "print(newli) "
   ]
  },
  {
   "cell_type": "code",
   "execution_count": 99,
   "metadata": {},
   "outputs": [],
   "source": [
    "a = input() # str \n",
    "b = a.split() # list[str] \n",
    "c = [] \n",
    "\n",
    "for item in b:\n",
    "    c.append(int(item)) "
   ]
  },
  {
   "cell_type": "code",
   "execution_count": 104,
   "metadata": {},
   "outputs": [
    {
     "name": "stdout",
     "output_type": "stream",
     "text": [
      "[10, 20, 30, 40, 50]\n"
     ]
    }
   ],
   "source": [
    "newli = [int(item) for item in input().split()]\n",
    "print(newli) "
   ]
  },
  {
   "cell_type": "code",
   "execution_count": 105,
   "metadata": {},
   "outputs": [
    {
     "name": "stdout",
     "output_type": "stream",
     "text": [
      "[1, 2, 3, 4, 5, 6, 7, 8, 9, 10, 11, 12, 13, 14, 15, 16, 17, 18, 19, 20, 21, 22, 23, 24, 25, 26, 27, 28, 29, 30, 31, 32, 33, 34, 35, 36, 37, 38, 39, 40, 41, 42, 43, 44, 45, 46, 47, 48, 49, 50, 51, 52, 53, 54, 55, 56, 57, 58, 59, 60, 61, 62, 63, 64, 65, 66, 67, 68, 69, 70, 71, 72, 73, 74, 75, 76, 77, 78, 79, 80, 81, 82, 83, 84, 85, 86, 87, 88, 89, 90, 91, 92, 93, 94, 95, 96, 97, 98, 99, 100]\n"
     ]
    }
   ],
   "source": [
    "li = []\n",
    "for i in range(1, 101):\n",
    "    li.append(i) \n",
    "\n",
    "print(li) "
   ]
  },
  {
   "cell_type": "code",
   "execution_count": 106,
   "metadata": {},
   "outputs": [
    {
     "name": "stdout",
     "output_type": "stream",
     "text": [
      "[1, 2, 3, 4, 5, 6, 7, 8, 9, 10, 11, 12, 13, 14, 15, 16, 17, 18, 19, 20, 21, 22, 23, 24, 25, 26, 27, 28, 29, 30, 31, 32, 33, 34, 35, 36, 37, 38, 39, 40, 41, 42, 43, 44, 45, 46, 47, 48, 49, 50, 51, 52, 53, 54, 55, 56, 57, 58, 59, 60, 61, 62, 63, 64, 65, 66, 67, 68, 69, 70, 71, 72, 73, 74, 75, 76, 77, 78, 79, 80, 81, 82, 83, 84, 85, 86, 87, 88, 89, 90, 91, 92, 93, 94, 95, 96, 97, 98, 99, 100]\n"
     ]
    }
   ],
   "source": [
    "li = [item for item in range(1, 101)] \n",
    "print(li) "
   ]
  },
  {
   "cell_type": "code",
   "execution_count": 107,
   "metadata": {},
   "outputs": [
    {
     "name": "stdout",
     "output_type": "stream",
     "text": [
      "[2, 4, 6, 8, 10, 12, 14, 16, 18, 20, 22, 24, 26, 28, 30, 32, 34, 36, 38, 40, 42, 44, 46, 48, 50, 52, 54, 56, 58, 60, 62, 64, 66, 68, 70, 72, 74, 76, 78, 80, 82, 84, 86, 88, 90, 92, 94, 96, 98, 100]\n"
     ]
    }
   ],
   "source": [
    "even = [data for data in range(2, 101, 2)]\n",
    "print(even) "
   ]
  },
  {
   "cell_type": "code",
   "execution_count": 114,
   "metadata": {},
   "outputs": [],
   "source": [
    "char_list = [] \n",
    "for i in range(65, 91, 1):\n",
    "    char_list.append(chr(i)) "
   ]
  },
  {
   "cell_type": "code",
   "execution_count": 115,
   "metadata": {},
   "outputs": [
    {
     "name": "stdout",
     "output_type": "stream",
     "text": [
      "['A', 'B', 'C', 'D', 'E', 'F', 'G', 'H', 'I', 'J', 'K', 'L', 'M', 'N', 'O', 'P', 'Q', 'R', 'S', 'T', 'U', 'V', 'W', 'X', 'Y', 'Z']\n"
     ]
    }
   ],
   "source": [
    "print(char_list)"
   ]
  },
  {
   "cell_type": "code",
   "execution_count": 117,
   "metadata": {},
   "outputs": [
    {
     "name": "stdout",
     "output_type": "stream",
     "text": [
      "['A', 'B', 'C', 'D', 'E', 'F', 'G', 'H', 'I', 'J', 'K', 'L', 'M', 'N', 'O', 'P', 'Q', 'R', 'S', 'T', 'U', 'V', 'W', 'X', 'Y', 'Z']\n"
     ]
    }
   ],
   "source": [
    "li = [chr(item) for item in range(65, 91, 1)]\n",
    "print(li) "
   ]
  },
  {
   "cell_type": "code",
   "execution_count": 120,
   "metadata": {},
   "outputs": [],
   "source": [
    "li = [int(item) for item in np.random.randint(1, 200, 10)] \n"
   ]
  },
  {
   "cell_type": "code",
   "execution_count": 121,
   "metadata": {},
   "outputs": [
    {
     "name": "stdout",
     "output_type": "stream",
     "text": [
      "[32, 57, 88, 143, 121, 137, 41, 167, 2, 61]\n"
     ]
    }
   ],
   "source": [
    "print(li) "
   ]
  },
  {
   "cell_type": "code",
   "execution_count": 127,
   "metadata": {},
   "outputs": [
    {
     "name": "stdout",
     "output_type": "stream",
     "text": [
      "Item not found!\n"
     ]
    }
   ],
   "source": [
    "i = -1 \n",
    "data = int(input())\n",
    "for index, item in enumerate(li):\n",
    "    if item == data:\n",
    "        i = index \n",
    "        break \n",
    "\n",
    "if i == -1:\n",
    "    print(f\"Item not found!\")\n",
    "else:\n",
    "    print(f\"Item Found at index {i}\")"
   ]
  },
  {
   "cell_type": "code",
   "execution_count": 147,
   "metadata": {},
   "outputs": [
    {
     "name": "stdout",
     "output_type": "stream",
     "text": [
      "List : [13, 16, 5, 9, 13, 11, 1, 7, 9, 19]\n",
      "Data : 11\n",
      "Item Found at index 5\n"
     ]
    }
   ],
   "source": [
    "def findLocation(li : list[int], x : int) -> int:\n",
    "    for index, item in enumerate(li):\n",
    "        if item == x:\n",
    "            return index \n",
    "    else:\n",
    "        return -1 \n",
    "    \n",
    "li = [int(item) for item in np.random.randint(1, 20, 10)]\n",
    "x = int(np.random.randint(1, 20)) \n",
    "\n",
    "print(f\"List : {li}\\nData : {x}\") \n",
    "\n",
    "i = findLocation(li, x)\n",
    "\n",
    "if i == -1:\n",
    "    print(f\"Item Not found in list!\")\n",
    "else:\n",
    "    print(f\"Item Found at index {i}\")"
   ]
  },
  {
   "cell_type": "code",
   "execution_count": null,
   "metadata": {},
   "outputs": [],
   "source": []
  }
 ],
 "metadata": {
  "kernelspec": {
   "display_name": "Python 3",
   "language": "python",
   "name": "python3"
  },
  "language_info": {
   "codemirror_mode": {
    "name": "ipython",
    "version": 3
   },
   "file_extension": ".py",
   "mimetype": "text/x-python",
   "name": "python",
   "nbconvert_exporter": "python",
   "pygments_lexer": "ipython3",
   "version": "3.12.8"
  }
 },
 "nbformat": 4,
 "nbformat_minor": 2
}
