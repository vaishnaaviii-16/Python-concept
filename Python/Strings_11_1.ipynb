{
 "cells": [
  {
   "cell_type": "code",
   "execution_count": 2,
   "metadata": {},
   "outputs": [
    {
     "name": "stdout",
     "output_type": "stream",
     "text": [
      "Jack Sparrow <class 'str'> 1981043941680\n",
      "Will Turner <class 'str'> 1981043940912\n"
     ]
    }
   ],
   "source": [
    "# Initialization \n",
    "\n",
    "string1 = \"Jack Sparrow\" \n",
    "string2 = 'Will Turner' \n",
    "\n",
    "print(string1, type(string1), id(string1)) \n",
    "print(string2, type(string2), id(string2)) "
   ]
  },
  {
   "cell_type": "code",
   "execution_count": 3,
   "metadata": {},
   "outputs": [
    {
     "name": "stdout",
     "output_type": "stream",
     "text": [
      "Keira Knightley  <class 'str'> 1981043051568\n"
     ]
    }
   ],
   "source": [
    "name = input(\"Enter the Name : \") \n",
    "print(name, type(name), id(name)) "
   ]
  },
  {
   "cell_type": "code",
   "execution_count": 12,
   "metadata": {},
   "outputs": [
    {
     "name": "stdout",
     "output_type": "stream",
     "text": [
      "J\n",
      " \n",
      "S\n",
      "Negative Indexing\n",
      "w\n",
      " \n",
      "J\n"
     ]
    }
   ],
   "source": [
    "# Accessing \n",
    "\n",
    "# 1. Forward Indexing \n",
    "# 2. Negative Indexing \n",
    "\n",
    "s = \"Jack Sparrow\" \n",
    "\n",
    "print(s[0])\n",
    "print(s[4])\n",
    "print(s[5])\n",
    "# print(s[12]) : IndexError: string index out of range\n",
    "\n",
    "print(\"Negative Indexing\")\n",
    "\n",
    "print(s[-1])\n",
    "print(s[-8])\n",
    "print(s[-12])\n",
    "# print(s[-13]) : IndexError: string index out of range"
   ]
  },
  {
   "cell_type": "code",
   "execution_count": 21,
   "metadata": {},
   "outputs": [
    {
     "name": "stdout",
     "output_type": "stream",
     "text": [
      "Jack Sparrow\n",
      "Jack\n",
      "Jack\n",
      "Jack\n",
      "Sparrow\n",
      "Sparrow\n",
      "Sparrow\n",
      "Sparrow\n"
     ]
    }
   ],
   "source": [
    "# Slicing \n",
    "\n",
    "print(s) \n",
    "\n",
    "print(s[0:4:1])\n",
    "print(s[0:4:])\n",
    "print(s[:4:])\n",
    "# print(s[4:]) : if we pass just 1 value with single semicolon, then it just consider start and stop and consider the stride to be 1  \n",
    "\n",
    "print(s[5:len(s):1])\n",
    "print(s[5::1])\n",
    "print(s[5:len(s):])\n",
    "print(s[5::])"
   ]
  },
  {
   "cell_type": "code",
   "execution_count": 34,
   "metadata": {},
   "outputs": [
    {
     "name": "stdout",
     "output_type": "stream",
     "text": [
      "\n",
      "worr\n",
      "arro\n",
      "Jack\n",
      "kcaJ\n"
     ]
    }
   ],
   "source": [
    "print(s[-1:-5:1]) # output will display nothing (since stride is moving in forward direction and we have to move in the opposite direction)\n",
    "\n",
    "print(s[-1:-5:-1])\n",
    "print(s[-5:-1:1])\n",
    "print(s[-12:-8:1])\n",
    "print(s[-9:-13:-1])"
   ]
  },
  {
   "cell_type": "code",
   "execution_count": 44,
   "metadata": {},
   "outputs": [
    {
     "name": "stdout",
     "output_type": "stream",
     "text": [
      "Jc pro\n",
      "Jkpr\n",
      "worrapS kcaJ\n"
     ]
    }
   ],
   "source": [
    "print(s[0:len(s):2])\n",
    "print(s[::3])\n",
    "print(s[::-1]) #  Reversing a string "
   ]
  },
  {
   "cell_type": "code",
   "execution_count": 24,
   "metadata": {},
   "outputs": [
    {
     "name": "stdout",
     "output_type": "stream",
     "text": [
      "ck Sparr\n",
      "ck Sparr\n",
      "ck Sparr\n"
     ]
    }
   ],
   "source": [
    "print(s[2:10:1])\n",
    "print(s[2:10:])\n",
    "print(s[2:10])"
   ]
  },
  {
   "cell_type": "code",
   "execution_count": 26,
   "metadata": {},
   "outputs": [
    {
     "name": "stdout",
     "output_type": "stream",
     "text": [
      "Jack\n"
     ]
    }
   ],
   "source": [
    "print(s[0:4:1])"
   ]
  },
  {
   "cell_type": "code",
   "execution_count": 27,
   "metadata": {},
   "outputs": [
    {
     "name": "stdout",
     "output_type": "stream",
     "text": [
      "ack Sparrow\n"
     ]
    }
   ],
   "source": [
    "print(s[1::])"
   ]
  },
  {
   "cell_type": "code",
   "execution_count": 48,
   "metadata": {},
   "outputs": [
    {
     "data": {
      "text/plain": [
       "False"
      ]
     },
     "execution_count": 48,
     "metadata": {},
     "output_type": "execute_result"
    }
   ],
   "source": [
    "def palindrome(s : str) -> bool:\n",
    "    s = str(int(s)) \n",
    "    rev_s = s[::-1] \n",
    "\n",
    "    if s == rev_s:\n",
    "        return True \n",
    "    else:\n",
    "        return False \n",
    "    \n",
    "palindrome(input(\"Enter the number to check for palindrome : \"))"
   ]
  },
  {
   "cell_type": "code",
   "execution_count": 51,
   "metadata": {},
   "outputs": [
    {
     "name": "stdout",
     "output_type": "stream",
     "text": [
      "Jack Sparrow\n"
     ]
    },
    {
     "ename": "TypeError",
     "evalue": "'str' object does not support item assignment",
     "output_type": "error",
     "traceback": [
      "\u001b[1;31m---------------------------------------------------------------------------\u001b[0m",
      "\u001b[1;31mTypeError\u001b[0m                                 Traceback (most recent call last)",
      "Cell \u001b[1;32mIn[51], line 2\u001b[0m\n\u001b[0;32m      1\u001b[0m \u001b[38;5;28mprint\u001b[39m(s) \n\u001b[1;32m----> 2\u001b[0m \u001b[43ms\u001b[49m\u001b[43m[\u001b[49m\u001b[38;5;241;43m0\u001b[39;49m\u001b[43m]\u001b[49m \u001b[38;5;241m=\u001b[39m \u001b[38;5;124m'\u001b[39m\u001b[38;5;124mM\u001b[39m\u001b[38;5;124m'\u001b[39m\n",
      "\u001b[1;31mTypeError\u001b[0m: 'str' object does not support item assignment"
     ]
    }
   ],
   "source": [
    "print(s) \n",
    "s[0] = 'M'"
   ]
  },
  {
   "cell_type": "code",
   "execution_count": 54,
   "metadata": {},
   "outputs": [
    {
     "name": "stdout",
     "output_type": "stream",
     "text": [
      "Sparrow\n"
     ]
    }
   ],
   "source": [
    "# concatenation & Repetition \n",
    "\n",
    "print(s[-7:-1:1] + s[-1]) "
   ]
  },
  {
   "cell_type": "code",
   "execution_count": 57,
   "metadata": {},
   "outputs": [
    {
     "name": "stdout",
     "output_type": "stream",
     "text": [
      "JackSparrow\n",
      "Jack Sparrow\n"
     ]
    }
   ],
   "source": [
    "a = \"Jack\" \n",
    "b = \"Sparrow\" \n",
    "\n",
    "print(a + b)\n",
    "print(a + \" \" + b) "
   ]
  },
  {
   "cell_type": "code",
   "execution_count": 64,
   "metadata": {},
   "outputs": [
    {
     "name": "stdout",
     "output_type": "stream",
     "text": [
      "Jack\n",
      "JackJackJack\n",
      "Jack_Jack_Jack_\n",
      "Jack_Jack_Jack\n"
     ]
    }
   ],
   "source": [
    "print(a) \n",
    "print(a * 3) \n",
    "print(((a + '_') * 3))\n",
    "print(((a + '_') * 3)[:-1:1])"
   ]
  },
  {
   "cell_type": "code",
   "execution_count": 91,
   "metadata": {},
   "outputs": [
    {
     "name": "stdout",
     "output_type": "stream",
     "text": [
      "Index : 0, Data : J\n",
      "Index : 1, Data : a\n",
      "Index : 2, Data : c\n",
      "Index : 3, Data : k\n",
      "Index : 4, Data : _\n",
      "Index : 5, Data : S\n"
     ]
    }
   ],
   "source": [
    "# Loops \n",
    "\n",
    "s = \"Jack_S\"\n",
    "\n",
    "# 1. Index based \n",
    "\n",
    "for index in range(0, len(s), 1):\n",
    "    print(f\"Index : {index}, Data : {s[index]}\")"
   ]
  },
  {
   "cell_type": "code",
   "execution_count": 92,
   "metadata": {},
   "outputs": [
    {
     "name": "stdout",
     "output_type": "stream",
     "text": [
      "Jack_S"
     ]
    }
   ],
   "source": [
    "for i in range(len(s)):\n",
    "    print(s[i], end = \"\")"
   ]
  },
  {
   "cell_type": "code",
   "execution_count": 93,
   "metadata": {},
   "outputs": [
    {
     "name": "stdout",
     "output_type": "stream",
     "text": [
      "J\n",
      "a\n",
      "c\n",
      "k\n",
      "_\n",
      "S\n"
     ]
    }
   ],
   "source": [
    "for item in s:\n",
    "    print(item) "
   ]
  },
  {
   "cell_type": "code",
   "execution_count": 94,
   "metadata": {},
   "outputs": [
    {
     "name": "stdout",
     "output_type": "stream",
     "text": [
      "Jack_S"
     ]
    }
   ],
   "source": [
    "for element in s:\n",
    "    print(element, end = \"\") "
   ]
  },
  {
   "cell_type": "code",
   "execution_count": 95,
   "metadata": {},
   "outputs": [
    {
     "name": "stdout",
     "output_type": "stream",
     "text": [
      "Index : 0, Data : J\n",
      "Index : 1, Data : a\n",
      "Index : 2, Data : c\n",
      "Index : 3, Data : k\n",
      "Index : 4, Data : _\n",
      "Index : 5, Data : S\n"
     ]
    }
   ],
   "source": [
    "for index, item in enumerate(s):\n",
    "    print(f\"Index : {index}, Data : {item}\")"
   ]
  },
  {
   "cell_type": "code",
   "execution_count": 96,
   "metadata": {},
   "outputs": [
    {
     "data": {
      "text/plain": [
       "[4]"
      ]
     },
     "execution_count": 96,
     "metadata": {},
     "output_type": "execute_result"
    }
   ],
   "source": [
    "s = \"Jack Sparrow\" \n",
    "\n",
    "def search_space(s : str):\n",
    "    li = [] \n",
    "    for index, item in enumerate(s):\n",
    "        if item == ' ': \n",
    "            li.append(index)  \n",
    "        else:\n",
    "            continue \n",
    "\n",
    "    if not li:\n",
    "        return -1 \n",
    "    return li  # space not found \n",
    "\n",
    "search_space(\"Jack sparrow\")"
   ]
  },
  {
   "cell_type": "code",
   "execution_count": 97,
   "metadata": {},
   "outputs": [
    {
     "data": {
      "text/plain": [
       "[0, 2, 4, 6, 8, 10, 12, 14, 16, 18, 20]"
      ]
     },
     "execution_count": 97,
     "metadata": {},
     "output_type": "execute_result"
    }
   ],
   "source": [
    "s = \"Jack Sparrow\" \n",
    "\n",
    "def search_space(s : str):\n",
    "    li = [] \n",
    "    for index in range(0, len(s), 1):\n",
    "        if s[index] == ' ': \n",
    "            li.append(index)  \n",
    "        else:\n",
    "            continue \n",
    "\n",
    "    if not li:\n",
    "        return -1 \n",
    "    return li  # space not found \n",
    "\n",
    "search_space(\" J a c k s p a r r o w\")"
   ]
  },
  {
   "cell_type": "code",
   "execution_count": 1,
   "metadata": {},
   "outputs": [],
   "source": [
    "# String Functions "
   ]
  },
  {
   "cell_type": "code",
   "execution_count": 14,
   "metadata": {},
   "outputs": [],
   "source": [
    "s = \"Don't judge the future of a person based on his present conditions, because time has t he power to change black coal to shiny diamond.\""
   ]
  },
  {
   "cell_type": "code",
   "execution_count": 15,
   "metadata": {},
   "outputs": [],
   "source": [
    "li = s.split(' ')"
   ]
  },
  {
   "cell_type": "code",
   "execution_count": 16,
   "metadata": {},
   "outputs": [
    {
     "name": "stdout",
     "output_type": "stream",
     "text": [
      "[\"Don't\", 'judge', 'the', 'future', 'of', 'a', 'person', 'based', 'on', 'his', 'present', 'conditions,', 'because', 'time', 'has', 't', 'he', 'power', 'to', 'change', 'black', 'coal', 'to', 'shiny', 'diamond.']\n"
     ]
    }
   ],
   "source": [
    "print(li) "
   ]
  },
  {
   "cell_type": "code",
   "execution_count": 17,
   "metadata": {},
   "outputs": [
    {
     "name": "stdout",
     "output_type": "stream",
     "text": [
      "Jack Sparrow <class 'str'> 2002863259056\n",
      "Jack Daniels <class 'str'> 2002863259184\n"
     ]
    }
   ],
   "source": [
    "s = \"Jack Sparrow\" \n",
    "print(s, type(s), id(s)) \n",
    "s = s.replace(\"Sparrow\", \"Daniels\") \n",
    "print(s, type(s), id(s)) "
   ]
  },
  {
   "cell_type": "code",
   "execution_count": 35,
   "metadata": {},
   "outputs": [
    {
     "name": "stdout",
     "output_type": "stream",
     "text": [
      "don't judge the future of a person based on his present conditions, because time has t he power to change black coal to shiny diamond.\n"
     ]
    }
   ],
   "source": [
    "s = \"don't judge the future of a person based on his present conditions, because time has t he power to change black coal to shiny diamond.\"\n",
    "print(s) "
   ]
  },
  {
   "cell_type": "code",
   "execution_count": 36,
   "metadata": {},
   "outputs": [
    {
     "name": "stdout",
     "output_type": "stream",
     "text": [
      "False\n",
      "True\n"
     ]
    }
   ],
   "source": [
    "print(s.startswith(\"Don't \"))\n",
    "print(s.endswith(\"d.\"))"
   ]
  },
  {
   "cell_type": "code",
   "execution_count": 39,
   "metadata": {},
   "outputs": [
    {
     "name": "stdout",
     "output_type": "stream",
     "text": [
      "don't judge the future of a person based on his present conditions, because time has t he power to change black coal to shiny diamond.\n",
      "don't judge the future of a person based on his present conditions, because time has t he power to change black coal to shiny diamond.\n",
      "DON'T JUDGE THE FUTURE OF A PERSON BASED ON HIS PRESENT CONDITIONS, BECAUSE TIME HAS T HE POWER TO CHANGE BLACK COAL TO SHINY DIAMOND.\n",
      "Don't judge the future of a person based on his present conditions, because time has t he power to change black coal to shiny diamond.\n"
     ]
    }
   ],
   "source": [
    "# Casing \n",
    "\n",
    "print(s) \n",
    "print(s.lower()) \n",
    "print(s.upper())\n",
    "print(s.capitalize())"
   ]
  },
  {
   "cell_type": "code",
   "execution_count": 38,
   "metadata": {},
   "outputs": [
    {
     "data": {
      "text/plain": [
       "\"Don't Judge The Future Of A Person Based On His Present Conditions, Because Time Has T He Power To Change Black Coal To Shiny Diamond.\""
      ]
     },
     "execution_count": 38,
     "metadata": {},
     "output_type": "execute_result"
    }
   ],
   "source": [
    "' '.join(word.capitalize() for word in s.split())"
   ]
  },
  {
   "cell_type": "code",
   "execution_count": 40,
   "metadata": {},
   "outputs": [
    {
     "name": "stdout",
     "output_type": "stream",
     "text": [
      "don't judge the future of a person based on his present conditions, because time has t he power to change black coal to shiny diamond.\n"
     ]
    }
   ],
   "source": [
    "print(s) "
   ]
  },
  {
   "cell_type": "code",
   "execution_count": 41,
   "metadata": {},
   "outputs": [],
   "source": [
    "li = s.split() "
   ]
  },
  {
   "cell_type": "code",
   "execution_count": 42,
   "metadata": {},
   "outputs": [
    {
     "name": "stdout",
     "output_type": "stream",
     "text": [
      "[\"don't\", 'judge', 'the', 'future', 'of', 'a', 'person', 'based', 'on', 'his', 'present', 'conditions,', 'because', 'time', 'has', 't', 'he', 'power', 'to', 'change', 'black', 'coal', 'to', 'shiny', 'diamond.']\n"
     ]
    }
   ],
   "source": [
    "print(li) "
   ]
  },
  {
   "cell_type": "code",
   "execution_count": 46,
   "metadata": {},
   "outputs": [
    {
     "data": {
      "text/plain": [
       "\"don't judge the future of a person based on his present conditions, because time has t he power to change black coal to shiny diamond.\""
      ]
     },
     "execution_count": 46,
     "metadata": {},
     "output_type": "execute_result"
    }
   ],
   "source": [
    "' '.join(li) "
   ]
  },
  {
   "cell_type": "code",
   "execution_count": 52,
   "metadata": {},
   "outputs": [
    {
     "name": "stdout",
     "output_type": "stream",
     "text": [
      "String : ABC, Alphabets : True, Digits : False, Alpha-Numeric : True\n",
      "String : 123, Alphabets : False, Digits : True, Alpha-Numeric : True\n",
      "String : !@#, Alphabets : False, Digits : False, Alpha-Numeric : False\n"
     ]
    }
   ],
   "source": [
    "string = 'ABC123!@#'\n",
    "\n",
    "s1 = 'ABC' \n",
    "s2 = '123' \n",
    "s3 = '!@#'\n",
    "\n",
    "print(f\"String : {s1}, Alphabets : {s1.isalpha()}, Digits : {s1.isnumeric()}, Alpha-Numeric : {s1.isalnum()}\")\n",
    "print(f\"String : {s2}, Alphabets : {s2.isalpha()}, Digits : {s2.isnumeric()}, Alpha-Numeric : {s2.isalnum()}\")\n",
    "\n",
    "print(f\"String : {s3}, Alphabets : {s3.isalpha()}, Digits : {s3.isnumeric()}, Alpha-Numeric : {s3.isalnum()}\")"
   ]
  },
  {
   "cell_type": "code",
   "execution_count": 59,
   "metadata": {},
   "outputs": [
    {
     "data": {
      "text/plain": [
       "'*_#_*PQR'"
      ]
     },
     "execution_count": 59,
     "metadata": {},
     "output_type": "execute_result"
    }
   ],
   "source": [
    "# A : * , B : _ , C : #\n",
    "\n",
    "string = 'ABCBAPQR' \n",
    "\n",
    "new_str = '' \n",
    "\n",
    "for char in string:\n",
    "    if char == 'A':\n",
    "        new_str += '*' \n",
    "    elif char == 'B' : \n",
    "        new_str += '_'\n",
    "    elif char == 'C':\n",
    "        new_str += '#'\n",
    "    else:\n",
    "        new_str += char\n",
    "new_str"
   ]
  },
  {
   "cell_type": "code",
   "execution_count": 62,
   "metadata": {},
   "outputs": [
    {
     "data": {
      "text/plain": [
       "'*_#_*PQR'"
      ]
     },
     "execution_count": 62,
     "metadata": {},
     "output_type": "execute_result"
    }
   ],
   "source": [
    "string = 'ABCBAPQR'\n",
    "string.replace(\"A\", \"*\").replace(\"B\", '_').replace(\"C\", \"#\")"
   ]
  },
  {
   "cell_type": "code",
   "execution_count": 64,
   "metadata": {},
   "outputs": [
    {
     "name": "stdout",
     "output_type": "stream",
     "text": [
      "Alphabet : 3\n",
      "Number : 3\n",
      "Special : 3\n"
     ]
    }
   ],
   "source": [
    "string = 'ABC123   '\n",
    "# print(len(string))\n",
    "\n",
    "alp, digit, sp = 0, 0, 0 \n",
    "\n",
    "for char in string:\n",
    "    if char.isalnum():\n",
    "        if char.isnumeric():\n",
    "            digit += 1 \n",
    "        else:\n",
    "            alp += 1 \n",
    "    else:\n",
    "        sp += 1 \n",
    "\n",
    "print(f\"Alphabet : {alp}\\nNumber : {digit}\\nSpecial : {sp}\")"
   ]
  },
  {
   "cell_type": "code",
   "execution_count": 67,
   "metadata": {},
   "outputs": [
    {
     "data": {
      "text/plain": [
       "(3, 8)"
      ]
     },
     "execution_count": 67,
     "metadata": {},
     "output_type": "execute_result"
    }
   ],
   "source": [
    "def return_vowel_consonants(string):\n",
    "    count = 0 \n",
    "    sp_count = 0 \n",
    "\n",
    "    for char in string:\n",
    "        if char.lower() in ('a', 'e', 'i', 'o', 'u'):\n",
    "            count += 1 \n",
    "        elif char == ' ':\n",
    "            sp_count += 1 \n",
    "        \n",
    "    return count, len(string) - count - sp_count \n",
    "\n",
    "\n",
    "return_vowel_consonants(\"jAck Sparrow\")"
   ]
  },
  {
   "cell_type": "code",
   "execution_count": null,
   "metadata": {},
   "outputs": [],
   "source": []
  }
 ],
 "metadata": {
  "kernelspec": {
   "display_name": "Python 3",
   "language": "python",
   "name": "python3"
  },
  "language_info": {
   "codemirror_mode": {
    "name": "ipython",
    "version": 3
   },
   "file_extension": ".py",
   "mimetype": "text/x-python",
   "name": "python",
   "nbconvert_exporter": "python",
   "pygments_lexer": "ipython3",
   "version": "3.12.8"
  }
 },
 "nbformat": 4,
 "nbformat_minor": 2
}
