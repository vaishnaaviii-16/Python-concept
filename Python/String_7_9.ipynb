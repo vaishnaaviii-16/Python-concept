{
 "cells": [
  {
   "cell_type": "code",
   "execution_count": 2,
   "metadata": {},
   "outputs": [
    {
     "name": "stdout",
     "output_type": "stream",
     "text": [
      " <class 'str'>\n"
     ]
    }
   ],
   "source": [
    "s = '' \n",
    "print(s, type(s)) "
   ]
  },
  {
   "cell_type": "code",
   "execution_count": 3,
   "metadata": {},
   "outputs": [
    {
     "name": "stdout",
     "output_type": "stream",
     "text": [
      "Jack Sparrow <class 'str'>\n"
     ]
    }
   ],
   "source": [
    "s = 'Jack Sparrow' \n",
    "print(s, type(s)) "
   ]
  },
  {
   "cell_type": "code",
   "execution_count": 4,
   "metadata": {},
   "outputs": [
    {
     "name": "stdout",
     "output_type": "stream",
     "text": [
      "10 <class 'str'>\n"
     ]
    }
   ],
   "source": [
    "s = input() \n",
    "\n",
    "print(s, type(s)) "
   ]
  },
  {
   "cell_type": "code",
   "execution_count": 5,
   "metadata": {},
   "outputs": [
    {
     "name": "stdout",
     "output_type": "stream",
     "text": [
      "1020\n"
     ]
    }
   ],
   "source": [
    "s = '10'\n",
    "v = '20'\n",
    "k = s + v\n",
    "print(k)"
   ]
  },
  {
   "cell_type": "code",
   "execution_count": 6,
   "metadata": {},
   "outputs": [
    {
     "name": "stdout",
     "output_type": "stream",
     "text": [
      "10\n"
     ]
    }
   ],
   "source": [
    "print(s) "
   ]
  },
  {
   "cell_type": "code",
   "execution_count": 7,
   "metadata": {},
   "outputs": [
    {
     "name": "stdout",
     "output_type": "stream",
     "text": [
      "1\n"
     ]
    }
   ],
   "source": [
    "print(s[0])"
   ]
  },
  {
   "cell_type": "code",
   "execution_count": 8,
   "metadata": {},
   "outputs": [
    {
     "name": "stdout",
     "output_type": "stream",
     "text": [
      "0\n"
     ]
    }
   ],
   "source": [
    "print(s[-1]) "
   ]
  },
  {
   "cell_type": "code",
   "execution_count": 9,
   "metadata": {},
   "outputs": [
    {
     "ename": "IndexError",
     "evalue": "string index out of range",
     "output_type": "error",
     "traceback": [
      "\u001b[1;31m---------------------------------------------------------------------------\u001b[0m",
      "\u001b[1;31mIndexError\u001b[0m                                Traceback (most recent call last)",
      "Cell \u001b[1;32mIn[9], line 1\u001b[0m\n\u001b[1;32m----> 1\u001b[0m \u001b[38;5;28mprint\u001b[39m(\u001b[43ms\u001b[49m\u001b[43m[\u001b[49m\u001b[38;5;241;43m4\u001b[39;49m\u001b[43m]\u001b[49m)\n",
      "\u001b[1;31mIndexError\u001b[0m: string index out of range"
     ]
    }
   ],
   "source": [
    "print(s[4])"
   ]
  },
  {
   "cell_type": "code",
   "execution_count": null,
   "metadata": {},
   "outputs": [
    {
     "ename": "IndexError",
     "evalue": "string index out of range",
     "output_type": "error",
     "traceback": [
      "\u001b[1;31m---------------------------------------------------------------------------\u001b[0m",
      "\u001b[1;31mIndexError\u001b[0m                                Traceback (most recent call last)",
      "Cell \u001b[1;32mIn[16], line 1\u001b[0m\n\u001b[1;32m----> 1\u001b[0m \u001b[38;5;28mprint\u001b[39m(\u001b[43ms\u001b[49m\u001b[43m[\u001b[49m\u001b[38;5;241;43m15\u001b[39;49m\u001b[43m]\u001b[49m) \n",
      "\u001b[1;31mIndexError\u001b[0m: string index out of range"
     ]
    }
   ],
   "source": [
    "print(s[15]) "
   ]
  },
  {
   "cell_type": "code",
   "execution_count": null,
   "metadata": {},
   "outputs": [
    {
     "ename": "IndexError",
     "evalue": "string index out of range",
     "output_type": "error",
     "traceback": [
      "\u001b[1;31m---------------------------------------------------------------------------\u001b[0m",
      "\u001b[1;31mIndexError\u001b[0m                                Traceback (most recent call last)",
      "Cell \u001b[1;32mIn[18], line 1\u001b[0m\n\u001b[1;32m----> 1\u001b[0m \u001b[38;5;28mprint\u001b[39m(\u001b[43ms\u001b[49m\u001b[43m[\u001b[49m\u001b[38;5;241;43m-\u001b[39;49m\u001b[38;5;241;43m13\u001b[39;49m\u001b[43m]\u001b[49m)\n",
      "\u001b[1;31mIndexError\u001b[0m: string index out of range"
     ]
    }
   ],
   "source": [
    "print(s[-13])"
   ]
  },
  {
   "cell_type": "code",
   "execution_count": null,
   "metadata": {},
   "outputs": [
    {
     "data": {
      "text/plain": [
       "True"
      ]
     },
     "execution_count": 25,
     "metadata": {},
     "output_type": "execute_result"
    }
   ],
   "source": [
    "'bc' >= 'bb'"
   ]
  },
  {
   "cell_type": "code",
   "execution_count": null,
   "metadata": {},
   "outputs": [
    {
     "data": {
      "text/plain": [
       "97"
      ]
     },
     "execution_count": 26,
     "metadata": {},
     "output_type": "execute_result"
    }
   ],
   "source": [
    "ord('a')"
   ]
  },
  {
   "cell_type": "code",
   "execution_count": null,
   "metadata": {},
   "outputs": [
    {
     "data": {
      "text/plain": [
       "98"
      ]
     },
     "execution_count": 27,
     "metadata": {},
     "output_type": "execute_result"
    }
   ],
   "source": [
    "ord('b')"
   ]
  },
  {
   "cell_type": "code",
   "execution_count": null,
   "metadata": {},
   "outputs": [
    {
     "name": "stdout",
     "output_type": "stream",
     "text": [
      "Jack Sparrow\n"
     ]
    }
   ],
   "source": [
    "print(s) "
   ]
  },
  {
   "cell_type": "code",
   "execution_count": null,
   "metadata": {},
   "outputs": [
    {
     "name": "stdout",
     "output_type": "stream",
     "text": [
      "Jack\n",
      "Sparrow\n",
      "ck Spa\n"
     ]
    }
   ],
   "source": [
    "print(s[0:4])\n",
    "print(s[5:12])\n",
    "print(s[2:8])"
   ]
  },
  {
   "cell_type": "code",
   "execution_count": null,
   "metadata": {},
   "outputs": [
    {
     "name": "stdout",
     "output_type": "stream",
     "text": [
      "Jack\n",
      "Jack\n",
      "Jack\n",
      "Jack\n"
     ]
    }
   ],
   "source": [
    "print(s[0:4:1])\n",
    "print(s[0:4:])\n",
    "print(s[:4:])\n",
    "print(s[:4]) # aviod : this use both colons"
   ]
  },
  {
   "cell_type": "code",
   "execution_count": null,
   "metadata": {},
   "outputs": [
    {
     "name": "stdout",
     "output_type": "stream",
     "text": [
      "Sparrow\n",
      "Sparrow\n",
      "Sparrow\n",
      "Sparrow\n"
     ]
    }
   ],
   "source": [
    "print(s[5:len(s):1])\n",
    "print(s[5:len(s):])\n",
    "print(s[5::])\n",
    "print(s[5:])"
   ]
  },
  {
   "cell_type": "code",
   "execution_count": null,
   "metadata": {},
   "outputs": [
    {
     "name": "stdout",
     "output_type": "stream",
     "text": [
      "ck Spa\n",
      "ck Spa\n"
     ]
    }
   ],
   "source": [
    "print(s[2:8:1])\n",
    "print(s[2:8])"
   ]
  },
  {
   "cell_type": "code",
   "execution_count": null,
   "metadata": {},
   "outputs": [
    {
     "name": "stdout",
     "output_type": "stream",
     "text": [
      "Jack Sparrow\n",
      "Jack Sparrow\n",
      "Jack Sparrow\n"
     ]
    }
   ],
   "source": [
    "print(s[0:len(s):1])\n",
    "print(s[::])\n",
    "print(s) "
   ]
  },
  {
   "cell_type": "code",
   "execution_count": null,
   "metadata": {},
   "outputs": [
    {
     "name": "stdout",
     "output_type": "stream",
     "text": [
      "Jack Sparrow\n",
      "Jc pro\n",
      "Jkpr\n"
     ]
    }
   ],
   "source": [
    "print(s)  \n",
    "print(s[::2])\n",
    "print(s[::3])"
   ]
  },
  {
   "cell_type": "code",
   "execution_count": null,
   "metadata": {},
   "outputs": [
    {
     "name": "stdout",
     "output_type": "stream",
     "text": [
      "Jack Sparrow\n"
     ]
    }
   ],
   "source": [
    "print(s) "
   ]
  },
  {
   "cell_type": "code",
   "execution_count": null,
   "metadata": {},
   "outputs": [
    {
     "name": "stdout",
     "output_type": "stream",
     "text": [
      "Jack\n"
     ]
    }
   ],
   "source": [
    "print(s[-12:-8:1])"
   ]
  },
  {
   "cell_type": "code",
   "execution_count": null,
   "metadata": {},
   "outputs": [
    {
     "name": "stdout",
     "output_type": "stream",
     "text": [
      "kcaJ\n"
     ]
    }
   ],
   "source": [
    "print(s[-9:-13:-1])"
   ]
  },
  {
   "cell_type": "code",
   "execution_count": null,
   "metadata": {},
   "outputs": [
    {
     "name": "stdout",
     "output_type": "stream",
     "text": [
      "worrapS\n"
     ]
    }
   ],
   "source": [
    "print(s[-1:-8:-1])"
   ]
  },
  {
   "cell_type": "code",
   "execution_count": null,
   "metadata": {},
   "outputs": [
    {
     "name": "stdout",
     "output_type": "stream",
     "text": [
      "Sparro\n",
      "w\n",
      "Sparrow J\n"
     ]
    }
   ],
   "source": [
    "print(s[-7:-1:1])\n",
    "print(s[-1])\n",
    "print(s[-7:-1:1] + s[-1] + ' ' + s[0])"
   ]
  },
  {
   "cell_type": "code",
   "execution_count": null,
   "metadata": {},
   "outputs": [
    {
     "data": {
      "text/plain": [
       "'Sparrow Jack'"
      ]
     },
     "execution_count": 74,
     "metadata": {},
     "output_type": "execute_result"
    }
   ],
   "source": [
    "s[5::] + ' ' + s[:4:] "
   ]
  },
  {
   "cell_type": "code",
   "execution_count": null,
   "metadata": {},
   "outputs": [
    {
     "data": {
      "text/plain": [
       "'SparroJ'"
      ]
     },
     "execution_count": 76,
     "metadata": {},
     "output_type": "execute_result"
    }
   ],
   "source": [
    "s[-7:-1:1] + s[0]"
   ]
  },
  {
   "cell_type": "code",
   "execution_count": null,
   "metadata": {},
   "outputs": [
    {
     "data": {
      "text/plain": [
       "'worrapS kcaJ'"
      ]
     },
     "execution_count": 79,
     "metadata": {},
     "output_type": "execute_result"
    }
   ],
   "source": [
    "s[::-1]"
   ]
  },
  {
   "cell_type": "code",
   "execution_count": null,
   "metadata": {},
   "outputs": [
    {
     "name": "stdout",
     "output_type": "stream",
     "text": [
      "Mangesh Jayesh Palyekar\n",
      "Omprakash Raj Yadav\n",
      "Shankar Suraj Mirjolkar\n"
     ]
    }
   ],
   "source": [
    "n1 =  'Jayesh Mangesh Palyekar' \n",
    "n2 = 'Raj Omprakash Yadav' \n",
    "n3 = 'Suraj Shankar Mirjolkar'\n",
    "\n",
    "t = (n1, n2, n3) \n",
    "\n",
    "li = [] \n",
    "\n",
    "for item in t:\n",
    "    li.append(item.split()) \n",
    "\n",
    "for item in li:\n",
    "    print(f\"{item[1]} {item[0]} {item[2]}\")"
   ]
  },
  {
   "cell_type": "code",
   "execution_count": null,
   "metadata": {},
   "outputs": [
    {
     "name": "stdout",
     "output_type": "stream",
     "text": [
      "Jack Sparrow 2691775931248\n"
     ]
    }
   ],
   "source": [
    "s = \"Jack Sparrow\" \n",
    "print(s, id(s)) "
   ]
  },
  {
   "cell_type": "code",
   "execution_count": null,
   "metadata": {},
   "outputs": [
    {
     "data": {
      "text/plain": [
       "'J'"
      ]
     },
     "execution_count": 90,
     "metadata": {},
     "output_type": "execute_result"
    }
   ],
   "source": [
    "s[0]"
   ]
  },
  {
   "cell_type": "code",
   "execution_count": null,
   "metadata": {},
   "outputs": [
    {
     "ename": "TypeError",
     "evalue": "'str' object does not support item assignment",
     "output_type": "error",
     "traceback": [
      "\u001b[1;31m---------------------------------------------------------------------------\u001b[0m",
      "\u001b[1;31mTypeError\u001b[0m                                 Traceback (most recent call last)",
      "Cell \u001b[1;32mIn[91], line 1\u001b[0m\n\u001b[1;32m----> 1\u001b[0m \u001b[43ms\u001b[49m\u001b[43m[\u001b[49m\u001b[38;5;241;43m0\u001b[39;49m\u001b[43m]\u001b[49m \u001b[38;5;241m=\u001b[39m \u001b[38;5;124m'\u001b[39m\u001b[38;5;124mW\u001b[39m\u001b[38;5;124m'\u001b[39m\n",
      "\u001b[1;31mTypeError\u001b[0m: 'str' object does not support item assignment"
     ]
    }
   ],
   "source": [
    "s[0] = 'W'"
   ]
  },
  {
   "cell_type": "code",
   "execution_count": null,
   "metadata": {},
   "outputs": [],
   "source": [
    "s = s.replace('J', 'W').replace('k', 'l')"
   ]
  },
  {
   "cell_type": "code",
   "execution_count": null,
   "metadata": {},
   "outputs": [
    {
     "name": "stdout",
     "output_type": "stream",
     "text": [
      "Wacl Sparrow 2691767881328\n"
     ]
    }
   ],
   "source": [
    "print(s, id(s)) "
   ]
  },
  {
   "cell_type": "code",
   "execution_count": null,
   "metadata": {},
   "outputs": [
    {
     "name": "stdout",
     "output_type": "stream",
     "text": [
      "Jack Sparrow\n"
     ]
    }
   ],
   "source": [
    "s = \"Jack Sparrow\" \n",
    "\n",
    "print(s) "
   ]
  },
  {
   "cell_type": "code",
   "execution_count": null,
   "metadata": {},
   "outputs": [],
   "source": [
    "new = s.replace(\"J\", \"W\")"
   ]
  },
  {
   "cell_type": "code",
   "execution_count": null,
   "metadata": {},
   "outputs": [
    {
     "data": {
      "text/plain": [
       "'Wack Sparrow'"
      ]
     },
     "execution_count": 99,
     "metadata": {},
     "output_type": "execute_result"
    }
   ],
   "source": [
    "new"
   ]
  },
  {
   "cell_type": "code",
   "execution_count": 10,
   "metadata": {},
   "outputs": [
    {
     "data": {
      "text/plain": [
       "'10'"
      ]
     },
     "execution_count": 10,
     "metadata": {},
     "output_type": "execute_result"
    }
   ],
   "source": [
    "s\n"
   ]
  },
  {
   "cell_type": "code",
   "execution_count": 11,
   "metadata": {},
   "outputs": [],
   "source": [
    "s = input() "
   ]
  },
  {
   "cell_type": "code",
   "execution_count": 12,
   "metadata": {},
   "outputs": [
    {
     "data": {
      "text/plain": [
       "'Jack Sparrow'"
      ]
     },
     "execution_count": 12,
     "metadata": {},
     "output_type": "execute_result"
    }
   ],
   "source": [
    "s"
   ]
  },
  {
   "cell_type": "code",
   "execution_count": 13,
   "metadata": {},
   "outputs": [
    {
     "data": {
      "text/plain": [
       "'worrapS kcaJ'"
      ]
     },
     "execution_count": 13,
     "metadata": {},
     "output_type": "execute_result"
    }
   ],
   "source": [
    "s[::-1]"
   ]
  },
  {
   "cell_type": "code",
   "execution_count": 20,
   "metadata": {},
   "outputs": [],
   "source": [
    "li = [1, 2, 3, 4, 5] "
   ]
  },
  {
   "cell_type": "code",
   "execution_count": 22,
   "metadata": {},
   "outputs": [
    {
     "name": "stdout",
     "output_type": "stream",
     "text": [
      "[1, 2, 3, 4, 5]\n"
     ]
    }
   ],
   "source": [
    "print(li) "
   ]
  },
  {
   "cell_type": "code",
   "execution_count": 24,
   "metadata": {},
   "outputs": [
    {
     "name": "stdout",
     "output_type": "stream",
     "text": [
      "1 2 3 4 5\n"
     ]
    }
   ],
   "source": [
    "print(' '.join(str(item) for item in li) )"
   ]
  },
  {
   "cell_type": "code",
   "execution_count": 41,
   "metadata": {},
   "outputs": [
    {
     "data": {
      "text/plain": [
       "'w-o-r-r-a-p-S- -k-c-a-J'"
      ]
     },
     "execution_count": 41,
     "metadata": {},
     "output_type": "execute_result"
    }
   ],
   "source": [
    "'-'.join(reversed(s)) "
   ]
  },
  {
   "cell_type": "code",
   "execution_count": 30,
   "metadata": {},
   "outputs": [
    {
     "data": {
      "text/plain": [
       "'worrapS kcaJ'"
      ]
     },
     "execution_count": 30,
     "metadata": {},
     "output_type": "execute_result"
    }
   ],
   "source": [
    "s[::-1]"
   ]
  },
  {
   "cell_type": "code",
   "execution_count": 44,
   "metadata": {},
   "outputs": [
    {
     "name": "stdout",
     "output_type": "stream",
     "text": [
      "Jack Sparrow\n"
     ]
    }
   ],
   "source": [
    "print(s) "
   ]
  },
  {
   "cell_type": "code",
   "execution_count": 45,
   "metadata": {},
   "outputs": [
    {
     "data": {
      "text/plain": [
       "'J'"
      ]
     },
     "execution_count": 45,
     "metadata": {},
     "output_type": "execute_result"
    }
   ],
   "source": [
    "s[0] "
   ]
  },
  {
   "cell_type": "code",
   "execution_count": 46,
   "metadata": {},
   "outputs": [
    {
     "ename": "TypeError",
     "evalue": "'str' object does not support item assignment",
     "output_type": "error",
     "traceback": [
      "\u001b[1;31m---------------------------------------------------------------------------\u001b[0m",
      "\u001b[1;31mTypeError\u001b[0m                                 Traceback (most recent call last)",
      "Cell \u001b[1;32mIn[46], line 1\u001b[0m\n\u001b[1;32m----> 1\u001b[0m \u001b[43ms\u001b[49m\u001b[43m[\u001b[49m\u001b[38;5;241;43m0\u001b[39;49m\u001b[43m]\u001b[49m \u001b[38;5;241m=\u001b[39m \u001b[38;5;124m'\u001b[39m\u001b[38;5;124mM\u001b[39m\u001b[38;5;124m'\u001b[39m\n",
      "\u001b[1;31mTypeError\u001b[0m: 'str' object does not support item assignment"
     ]
    }
   ],
   "source": [
    "s[0] = 'M'"
   ]
  },
  {
   "cell_type": "code",
   "execution_count": 47,
   "metadata": {},
   "outputs": [
    {
     "data": {
      "text/plain": [
       "'wack'"
      ]
     },
     "execution_count": 47,
     "metadata": {},
     "output_type": "execute_result"
    }
   ],
   "source": [
    "a = 'Jack' \n",
    "b = 'w' \n",
    "\n",
    "b + a[1::]"
   ]
  },
  {
   "cell_type": "code",
   "execution_count": 49,
   "metadata": {},
   "outputs": [
    {
     "data": {
      "text/plain": [
       "'ack'"
      ]
     },
     "execution_count": 49,
     "metadata": {},
     "output_type": "execute_result"
    }
   ],
   "source": [
    "a[1::] "
   ]
  },
  {
   "cell_type": "code",
   "execution_count": 50,
   "metadata": {},
   "outputs": [
    {
     "data": {
      "text/plain": [
       "'w'"
      ]
     },
     "execution_count": 50,
     "metadata": {},
     "output_type": "execute_result"
    }
   ],
   "source": [
    "b"
   ]
  },
  {
   "cell_type": "code",
   "execution_count": 52,
   "metadata": {},
   "outputs": [],
   "source": [
    "c = b + a[1::]"
   ]
  },
  {
   "cell_type": "code",
   "execution_count": 53,
   "metadata": {},
   "outputs": [
    {
     "name": "stdout",
     "output_type": "stream",
     "text": [
      "wack <class 'str'> 2568570394816\n"
     ]
    }
   ],
   "source": [
    "print(c, type(c), id(c)) "
   ]
  },
  {
   "cell_type": "code",
   "execution_count": 54,
   "metadata": {},
   "outputs": [
    {
     "data": {
      "text/plain": [
       "'Jack'"
      ]
     },
     "execution_count": 54,
     "metadata": {},
     "output_type": "execute_result"
    }
   ],
   "source": [
    "a "
   ]
  },
  {
   "cell_type": "code",
   "execution_count": 55,
   "metadata": {},
   "outputs": [],
   "source": [
    "a = c "
   ]
  },
  {
   "cell_type": "code",
   "execution_count": 56,
   "metadata": {},
   "outputs": [
    {
     "data": {
      "text/plain": [
       "'wack'"
      ]
     },
     "execution_count": 56,
     "metadata": {},
     "output_type": "execute_result"
    }
   ],
   "source": [
    "c "
   ]
  },
  {
   "cell_type": "code",
   "execution_count": null,
   "metadata": {},
   "outputs": [
    {
     "data": {
      "text/plain": [
       "'wack'"
      ]
     },
     "execution_count": 58,
     "metadata": {},
     "output_type": "execute_result"
    }
   ],
   "source": [
    "a "
   ]
  },
  {
   "cell_type": "code",
   "execution_count": 63,
   "metadata": {},
   "outputs": [
    {
     "name": "stdout",
     "output_type": "stream",
     "text": [
      "Thank You So Much jayesh for your best wishes\n",
      "Thank You So Much suraj for your best wishes\n"
     ]
    }
   ],
   "source": [
    "def greet(name):\n",
    "    print(f\"Thank You So Much {name} for your best wishes\") \n",
    "\n",
    "li = ['jayesh', 'raj', 'suraj', 'None'] \n",
    "\n",
    "for item in li:\n",
    "    if item == 'raj' or item == 'None':\n",
    "        continue \n",
    "    greet(item) "
   ]
  },
  {
   "cell_type": "code",
   "execution_count": 66,
   "metadata": {},
   "outputs": [
    {
     "data": {
      "text/plain": [
       "1010"
      ]
     },
     "execution_count": 66,
     "metadata": {},
     "output_type": "execute_result"
    }
   ],
   "source": [
    "def function(a, b):\n",
    "    if a + b > 1000:\n",
    "        return a + b \n",
    "    else:\n",
    "        return a * b \n",
    "    \n",
    "function(10, 1000)     "
   ]
  },
  {
   "cell_type": "code",
   "execution_count": 68,
   "metadata": {},
   "outputs": [
    {
     "name": "stdout",
     "output_type": "stream",
     "text": [
      "JackSparrow\n",
      "Jack Sparrow\n"
     ]
    }
   ],
   "source": [
    "a = \"Jack\" \n",
    "b = \"Sparrow\" \n",
    "\n",
    "print(a + b) \n",
    "print(a + \" \" + b) "
   ]
  },
  {
   "cell_type": "code",
   "execution_count": 71,
   "metadata": {},
   "outputs": [
    {
     "name": "stdout",
     "output_type": "stream",
     "text": [
      "JackJackJackJackJack\n",
      "Jack Jack Jack Jack Jack \n"
     ]
    }
   ],
   "source": [
    "a = \"Jack\" \n",
    "print(a * 5) \n",
    "b = \"Jack \" \n",
    "print(b * 5) "
   ]
  },
  {
   "cell_type": "code",
   "execution_count": 74,
   "metadata": {},
   "outputs": [
    {
     "name": "stdout",
     "output_type": "stream",
     "text": [
      "Jack JJJJJ\n"
     ]
    }
   ],
   "source": [
    "print(a + \" \" + (a[0] * 5))"
   ]
  },
  {
   "cell_type": "code",
   "execution_count": 85,
   "metadata": {},
   "outputs": [
    {
     "name": "stdout",
     "output_type": "stream",
     "text": [
      "Mack\n"
     ]
    }
   ],
   "source": [
    "a = 'Jack' \n",
    "b = 'M' \n",
    "\n",
    "print(b + a[1:])"
   ]
  },
  {
   "cell_type": "code",
   "execution_count": 86,
   "metadata": {},
   "outputs": [
    {
     "name": "stdout",
     "output_type": "stream",
     "text": [
      "M\n"
     ]
    }
   ],
   "source": [
    "print(b) "
   ]
  },
  {
   "cell_type": "code",
   "execution_count": 87,
   "metadata": {},
   "outputs": [
    {
     "name": "stdout",
     "output_type": "stream",
     "text": [
      "\n",
      "slkfdj\n",
      "alsdjflas\n",
      "lasjdflksdjf\n",
      "lsjflsjd\n"
     ]
    }
   ],
   "source": [
    "b = '''\n",
    "slkfdj\n",
    "alsdjflas\n",
    "lasjdflksdjf\n",
    "lsjflsjd'''\n",
    "\n",
    "print(b) "
   ]
  },
  {
   "cell_type": "code",
   "execution_count": 89,
   "metadata": {},
   "outputs": [
    {
     "name": "stdout",
     "output_type": "stream",
     "text": [
      "0 --> J\n",
      "1 --> a\n",
      "2 --> c\n",
      "3 --> k\n",
      "4 -->  \n",
      "5 --> s\n",
      "6 --> p\n",
      "7 --> a\n",
      "8 --> r\n",
      "9 --> r\n",
      "10 --> o\n",
      "11 --> w\n"
     ]
    }
   ],
   "source": [
    "s = \"Jack sparrow\" \n",
    "\n",
    "for i in range(0, len(s), 1):\n",
    "    print(f\"{i} --> {s[i]}\")"
   ]
  },
  {
   "cell_type": "code",
   "execution_count": 90,
   "metadata": {},
   "outputs": [
    {
     "name": "stdout",
     "output_type": "stream",
     "text": [
      "J\n",
      "a\n",
      "c\n",
      "k\n",
      " \n",
      "s\n",
      "p\n",
      "a\n",
      "r\n",
      "r\n",
      "o\n",
      "w\n"
     ]
    }
   ],
   "source": [
    "for i in range(0, len(s), 1):\n",
    "    print(s[i])"
   ]
  },
  {
   "cell_type": "code",
   "execution_count": 91,
   "metadata": {},
   "outputs": [
    {
     "name": "stdout",
     "output_type": "stream",
     "text": [
      "Jack sparrow"
     ]
    }
   ],
   "source": [
    "for i in range(0, len(s), 1):\n",
    "    print(s[i], end = \"\") "
   ]
  },
  {
   "cell_type": "code",
   "execution_count": 94,
   "metadata": {},
   "outputs": [
    {
     "name": "stdout",
     "output_type": "stream",
     "text": [
      "Jack sparrow"
     ]
    }
   ],
   "source": [
    "for i in  range(-12, 0, 1):\n",
    "    print(s[i], end = \"\") "
   ]
  },
  {
   "cell_type": "code",
   "execution_count": 95,
   "metadata": {},
   "outputs": [
    {
     "data": {
      "text/plain": [
       "''"
      ]
     },
     "execution_count": 95,
     "metadata": {},
     "output_type": "execute_result"
    }
   ],
   "source": [
    "s[-12:0:1]"
   ]
  },
  {
   "cell_type": "code",
   "execution_count": 100,
   "metadata": {},
   "outputs": [
    {
     "data": {
      "text/plain": [
       "''"
      ]
     },
     "execution_count": 100,
     "metadata": {},
     "output_type": "execute_result"
    }
   ],
   "source": [
    "s[-12:0:1] "
   ]
  },
  {
   "cell_type": "code",
   "execution_count": 103,
   "metadata": {},
   "outputs": [
    {
     "name": "stdout",
     "output_type": "stream",
     "text": [
      "Jack sparrow"
     ]
    }
   ],
   "source": [
    "for i in range(-12, 0, 1):\n",
    "    print(s[i], end = \"\") "
   ]
  },
  {
   "cell_type": "code",
   "execution_count": 104,
   "metadata": {},
   "outputs": [
    {
     "data": {
      "text/plain": [
       "'Jack sparrow'"
      ]
     },
     "execution_count": 104,
     "metadata": {},
     "output_type": "execute_result"
    }
   ],
   "source": [
    "s "
   ]
  },
  {
   "cell_type": "code",
   "execution_count": 109,
   "metadata": {},
   "outputs": [
    {
     "name": "stdout",
     "output_type": "stream",
     "text": [
      "Jack sparrow"
     ]
    }
   ],
   "source": [
    "for item in s:\n",
    "    print(item, end = \"\") "
   ]
  },
  {
   "cell_type": "code",
   "execution_count": 11,
   "metadata": {},
   "outputs": [
    {
     "name": "stdout",
     "output_type": "stream",
     "text": [
      "0 - J\n",
      "1 - a\n",
      "2 - c\n",
      "3 - k\n",
      "4 -  \n",
      "5 - S\n",
      "6 - p\n",
      "7 - a\n",
      "8 - r\n",
      "9 - r\n",
      "10 - o\n",
      "11 - w\n"
     ]
    }
   ],
   "source": [
    "s = \"Jack Sparrow\" \n",
    "\n",
    "for i in range(0, len(s), 1):\n",
    "    print(i, s[i], sep=' - ')"
   ]
  },
  {
   "cell_type": "code",
   "execution_count": 10,
   "metadata": {},
   "outputs": [
    {
     "name": "stdout",
     "output_type": "stream",
     "text": [
      "10 | 20 | 30\n"
     ]
    }
   ],
   "source": [
    "print(10, 20, 30, sep = ' | ')"
   ]
  },
  {
   "cell_type": "code",
   "execution_count": 18,
   "metadata": {},
   "outputs": [
    {
     "name": "stdout",
     "output_type": "stream",
     "text": [
      "0 1 2 3 4 5 6 7 8 9 10 11 \n",
      "J a c k   S p a r r o w "
     ]
    }
   ],
   "source": [
    "s = \"Jack Sparrow\" \n",
    "\n",
    "for i in range(0, len(s), 1):\n",
    "    print(i, end = ' ')\n",
    "\n",
    "print() \n",
    "for i in range(0, len(s), 1):\n",
    "    print(s[i], end = \" \") "
   ]
  },
  {
   "cell_type": "code",
   "execution_count": 19,
   "metadata": {},
   "outputs": [
    {
     "name": "stdout",
     "output_type": "stream",
     "text": [
      "Jack"
     ]
    }
   ],
   "source": [
    "for i in range(0, len(s), 1):\n",
    "    if s[i] == ' ':\n",
    "        break \n",
    "    else:\n",
    "        print(s[i],end = \"\") "
   ]
  },
  {
   "cell_type": "code",
   "execution_count": 20,
   "metadata": {},
   "outputs": [
    {
     "name": "stdout",
     "output_type": "stream",
     "text": [
      "Jack"
     ]
    }
   ],
   "source": [
    "s = \"JackSparrow\" \n",
    "\n",
    "for i in range(0, len(s), 1):\n",
    "    if i == 4:\n",
    "        break \n",
    "    else:\n",
    "        print(s[i], end = \"\") "
   ]
  },
  {
   "cell_type": "code",
   "execution_count": null,
   "metadata": {},
   "outputs": [
    {
     "name": "stdout",
     "output_type": "stream",
     "text": [
      "Jkpr"
     ]
    }
   ],
   "source": [
    "s = \"Jack Sparrow\" \n",
    "\n",
    "for i in range(0, len(s), 3):\n",
    "    print(s[i], end = \"\") \n",
    "\n"
   ]
  },
  {
   "cell_type": "code",
   "execution_count": null,
   "metadata": {},
   "outputs": [
    {
     "name": "stdout",
     "output_type": "stream",
     "text": [
      "J\n",
      "a\n",
      "c\n",
      "k\n",
      " \n",
      "S\n",
      "p\n",
      "a\n",
      "r\n",
      "r\n",
      "o\n",
      "w\n"
     ]
    }
   ],
   "source": [
    "# Item based \n",
    "\n",
    "s = \"Jack Sparrow\" \n",
    "\n",
    "for item in s:\n",
    "    print(item) "
   ]
  },
  {
   "cell_type": "code",
   "execution_count": 30,
   "metadata": {},
   "outputs": [
    {
     "name": "stdout",
     "output_type": "stream",
     "text": [
      "Current Item To Compare : J\n"
     ]
    },
    {
     "data": {
      "text/plain": [
       "True"
      ]
     },
     "execution_count": 30,
     "metadata": {},
     "output_type": "execute_result"
    }
   ],
   "source": [
    "# if char is present in string, then return True, else return False \n",
    "\n",
    "def checkCharacter(string : str, char : str) -> bool:\n",
    "    for item in string:\n",
    "        print(f\"Current Item To Compare : {item}\")\n",
    "        if item == char:\n",
    "            return True \n",
    "        \n",
    "    else:\n",
    "        return False\n",
    "\n",
    "checkCharacter('Jack Sparrow', 'J')"
   ]
  },
  {
   "cell_type": "code",
   "execution_count": 26,
   "metadata": {},
   "outputs": [
    {
     "name": "stdout",
     "output_type": "stream",
     "text": [
      "Jack Sparrow\n"
     ]
    }
   ],
   "source": [
    "print(s) "
   ]
  },
  {
   "cell_type": "code",
   "execution_count": 42,
   "metadata": {},
   "outputs": [
    {
     "name": "stdout",
     "output_type": "stream",
     "text": [
      "Index : 0, Data : J\n",
      "Index : 1, Data : a\n",
      "Index : 2, Data : c\n",
      "Index : 3, Data : k\n",
      "Index : 4, Data :  \n",
      "Index : 5, Data : S\n",
      "Index : 6, Data : p\n",
      "Index : 7, Data : a\n",
      "Index : 8, Data : r\n",
      "Index : 9, Data : r\n",
      "Index : 10, Data : o\n",
      "Index : 11, Data : w\n"
     ]
    }
   ],
   "source": [
    "for index, item in enumerate(s):\n",
    "    print(f\"Index : {index }, Data : {item}\")"
   ]
  },
  {
   "cell_type": "code",
   "execution_count": 41,
   "metadata": {},
   "outputs": [
    {
     "name": "stdout",
     "output_type": "stream",
     "text": [
      "Index : -1, Data : w\n",
      "Index : -2, Data : o\n",
      "Index : -3, Data : r\n",
      "Index : -4, Data : r\n",
      "Index : -5, Data : a\n",
      "Index : -6, Data : p\n",
      "Index : -7, Data : S\n",
      "Index : -8, Data :  \n",
      "Index : -9, Data : k\n",
      "Index : -10, Data : c\n",
      "Index : -11, Data : a\n",
      "Index : -12, Data : J\n"
     ]
    }
   ],
   "source": [
    "for index, item in enumerate(s[::-1]):\n",
    "    print(f\"Index : -{index + 1}, Data : {item}\")"
   ]
  },
  {
   "cell_type": "code",
   "execution_count": null,
   "metadata": {},
   "outputs": [],
   "source": []
  },
  {
   "cell_type": "code",
   "execution_count": 37,
   "metadata": {},
   "outputs": [
    {
     "name": "stdout",
     "output_type": "stream",
     "text": [
      "Current Item To Compare : J\n",
      "Current Item To Compare : a\n",
      "Current Item To Compare : c\n",
      "Current Item To Compare : k\n",
      "Current Item To Compare :  \n",
      "Current Item To Compare : S\n"
     ]
    },
    {
     "data": {
      "text/plain": [
       "True"
      ]
     },
     "execution_count": 37,
     "metadata": {},
     "output_type": "execute_result"
    }
   ],
   "source": [
    "def checkCharacter(string : str, char : str) -> bool:\n",
    "    for item in string:\n",
    "        print(f\"Current Item To Compare : {item}\")\n",
    "        if item != char:\n",
    "            continue \n",
    "        else:\n",
    "            return True\n",
    "    else:\n",
    "        return False\n",
    "\n",
    "checkCharacter('Jack Sparrow', 'S')"
   ]
  },
  {
   "cell_type": "code",
   "execution_count": 48,
   "metadata": {},
   "outputs": [
    {
     "name": "stdout",
     "output_type": "stream",
     "text": [
      "x not found in Jack Sparrow\n"
     ]
    }
   ],
   "source": [
    "def findIndex(string : str, char : str) -> int:\n",
    "    for index, item in enumerate(string):\n",
    "        if item == char:\n",
    "            return index \n",
    "    else:\n",
    "        return -1 \n",
    "    \n",
    "string = \"Jack Sparrow\" \n",
    "char = 'x' \n",
    "ans = findIndex(string, char)\n",
    "\n",
    "if ans == -1:\n",
    "    print(f'{char} not found in {string}')\n",
    "else:\n",
    "    print(f\"{char} Found in {string} at index {ans}\") "
   ]
  },
  {
   "cell_type": "code",
   "execution_count": 53,
   "metadata": {},
   "outputs": [
    {
     "name": "stdout",
     "output_type": "stream",
     "text": [
      "Name\n",
      "Jack\n",
      "Sparrow\n"
     ]
    }
   ],
   "source": [
    "string = \"My Name Is Jack Sparrow\" \n",
    "char = 'a' \n",
    "\n",
    "li = string.split() \n",
    "\n",
    "for item in li:\n",
    "    if char in item:\n",
    "        print(item) "
   ]
  },
  {
   "cell_type": "code",
   "execution_count": 56,
   "metadata": {},
   "outputs": [
    {
     "data": {
      "text/plain": [
       "['a', 'b', 'c', 'd', 'e']"
      ]
     },
     "execution_count": 56,
     "metadata": {},
     "output_type": "execute_result"
    }
   ],
   "source": [
    "s = \"a,b,c,d,e\" \n",
    "\n",
    "s.split(',')"
   ]
  },
  {
   "cell_type": "code",
   "execution_count": 62,
   "metadata": {},
   "outputs": [
    {
     "name": "stdout",
     "output_type": "stream",
     "text": [
      "['a', 'b', 'c', 'd', 'e', 'f', 'g', 'h', 'i', 'j', 'k', 'l', 'm']\n"
     ]
    }
   ],
   "source": [
    "string = 'a.b.c.d.e.f.g.h.i.j.k.l.m.n.o.p.q.r.s.t.u.v.w.x.y.z'\n",
    "\n",
    "print(string.split('.')[:13] )"
   ]
  },
  {
   "cell_type": "code",
   "execution_count": 71,
   "metadata": {},
   "outputs": [
    {
     "data": {
      "text/plain": [
       "'Jayesh'"
      ]
     },
     "execution_count": 71,
     "metadata": {},
     "output_type": "execute_result"
    }
   ],
   "source": [
    "email = 'Jayesh@Nettech.com'\n",
    "email.split('.')[0].split(\"@\")[0]"
   ]
  },
  {
   "cell_type": "code",
   "execution_count": 87,
   "metadata": {},
   "outputs": [
    {
     "name": "stdout",
     "output_type": "stream",
     "text": [
      "Jack <class 'str'> 1586117315968\n",
      "Mack <class 'str'> 1586115447664\n"
     ]
    }
   ],
   "source": [
    "s = 'Jack' \n",
    "print(s, type(s), id(s)) \n",
    "s = s.replace('J', 'M') \n",
    "print(s, type(s), id(s)) "
   ]
  },
  {
   "cell_type": "code",
   "execution_count": 90,
   "metadata": {},
   "outputs": [
    {
     "name": "stdout",
     "output_type": "stream",
     "text": [
      "my name is jayesh palyekar\n",
      "MY NAME IS JAYESH PALYEKAR\n",
      "My name is jayesh palyekar\n"
     ]
    }
   ],
   "source": [
    "s = 'my name is jayesh palyekar' \n",
    "\n",
    "ans = 'My Name Is Jayesh Palyekar' \n",
    "\n",
    "print(s.lower()) \n",
    "print(s.upper()) \n",
    "print(s.capitalize())"
   ]
  },
  {
   "cell_type": "code",
   "execution_count": 91,
   "metadata": {},
   "outputs": [
    {
     "name": "stdout",
     "output_type": "stream",
     "text": [
      "my name is jayesh palyekar\n"
     ]
    }
   ],
   "source": [
    "print(s) "
   ]
  },
  {
   "cell_type": "code",
   "execution_count": 92,
   "metadata": {},
   "outputs": [],
   "source": [
    "li = s.split() "
   ]
  },
  {
   "cell_type": "code",
   "execution_count": 93,
   "metadata": {},
   "outputs": [
    {
     "data": {
      "text/plain": [
       "['my', 'name', 'is', 'jayesh', 'palyekar']"
      ]
     },
     "execution_count": 93,
     "metadata": {},
     "output_type": "execute_result"
    }
   ],
   "source": [
    "li "
   ]
  },
  {
   "cell_type": "code",
   "execution_count": 95,
   "metadata": {},
   "outputs": [
    {
     "data": {
      "text/plain": [
       "'My Name Is Jayesh Palyekar'"
      ]
     },
     "execution_count": 95,
     "metadata": {},
     "output_type": "execute_result"
    }
   ],
   "source": [
    "string = \"my name is jayesh palyekar\"\n",
    "\n",
    "newli = [] \n",
    "for item in string.split():\n",
    "    newli.append(item.capitalize()) \n",
    "\n",
    "\" \".join(newli) "
   ]
  },
  {
   "cell_type": "code",
   "execution_count": 96,
   "metadata": {},
   "outputs": [
    {
     "data": {
      "text/plain": [
       "'My Name Is Jayesh Palyekar'"
      ]
     },
     "execution_count": 96,
     "metadata": {},
     "output_type": "execute_result"
    }
   ],
   "source": [
    "string.title() "
   ]
  },
  {
   "cell_type": "code",
   "execution_count": 16,
   "metadata": {},
   "outputs": [
    {
     "name": "stdout",
     "output_type": "stream",
     "text": [
      "True\n",
      "True\n"
     ]
    }
   ],
   "source": [
    "s = \"Jack Sparrow\" \n",
    "\n",
    "print(s.startswith('Jack Sparrow'))\n",
    "print(s.endswith('Sparrow'))"
   ]
  },
  {
   "cell_type": "code",
   "execution_count": 20,
   "metadata": {},
   "outputs": [
    {
     "name": "stdout",
     "output_type": "stream",
     "text": [
      "0\n",
      "1\n",
      "10\n"
     ]
    }
   ],
   "source": [
    "print(s.find('J'))\n",
    "print(s.find('a'))\n",
    "print(s.find('o'))"
   ]
  },
  {
   "cell_type": "code",
   "execution_count": 33,
   "metadata": {},
   "outputs": [
    {
     "name": "stdout",
     "output_type": "stream",
     "text": [
      "String = abc\n",
      "Alphabets : True\n",
      "Numeric : False\n",
      "Alpha-Numeric : True\n",
      "\n",
      "String = 123\n",
      "Alphabets : False\n",
      "Numeric : True\n",
      "Alpha-Numeric : True\n",
      "\n",
      "String = !@#\n",
      "Alphabets : False\n",
      "Numeric : False\n",
      "Alpha-Numeric : False\n",
      "\n",
      "String = abc123\n",
      "Alphabets : False\n",
      "Numeric : False\n",
      "Alpha-Numeric : True\n"
     ]
    }
   ],
   "source": [
    "s1 = 'abc'\n",
    "s2 = '123' \n",
    "s3 = '!@#'\n",
    "s4 = 'abc123'\n",
    "print(f\"String = {s1}\")\n",
    "print(f\"Alphabets : {s1.isalpha()}\")\n",
    "print(f\"Numeric : {s1.isnumeric()}\")\n",
    "print(f\"Alpha-Numeric : {s1.isalnum()}\")\n",
    "\n",
    "print(f\"\\nString = {s2}\")\n",
    "print(f\"Alphabets : {s2.isalpha()}\")\n",
    "print(f\"Numeric : {s2.isnumeric()}\")\n",
    "print(f\"Alpha-Numeric : {s2.isalnum()}\")\n",
    "\n",
    "print(f\"\\nString = {s3}\")\n",
    "print(f\"Alphabets : {s3.isalpha()}\")\n",
    "print(f\"Numeric : {s3.isnumeric()}\")\n",
    "print(f\"Alpha-Numeric : {s3.isalnum()}\")\n",
    "\n",
    "print(f\"\\nString = {s4}\")\n",
    "print(f\"Alphabets : {s4.isalpha()}\")\n",
    "print(f\"Numeric : {s4.isnumeric()}\")\n",
    "print(f\"Alpha-Numeric : {s4.isalnum()}\")"
   ]
  },
  {
   "cell_type": "code",
   "execution_count": null,
   "metadata": {},
   "outputs": [
    {
     "name": "stdout",
     "output_type": "stream",
     "text": [
      "Sabbash\n"
     ]
    }
   ],
   "source": [
    "a = input() \n",
    "b = input() \n",
    "\n",
    "if a.isalpha() == True and b.isnumeric() == True:\n",
    "    print(\"Yes can do this\")\n",
    "else:\n",
    "    print(\"Can't do that \")"
   ]
  },
  {
   "cell_type": "code",
   "execution_count": 41,
   "metadata": {},
   "outputs": [
    {
     "name": "stdout",
     "output_type": "stream",
     "text": [
      "No of Alphabets : 3\n",
      "No of Digist : 3\n",
      "No of Special Characters : 3\n"
     ]
    }
   ],
   "source": [
    "string = 'a1!b2@c3#' \n",
    "\n",
    "'''\n",
    "count  no of alphabets, no of numeric and no of special characters \n",
    "'''\n",
    "alp = 0 \n",
    "num = 0 \n",
    "sp = 0 \n",
    "\n",
    "for char in string:\n",
    "    # print(char) \n",
    "    if char.isalpha():\n",
    "        alp += 1 \n",
    "    elif char.isnumeric():\n",
    "        num += 1 \n",
    "    else:\n",
    "        sp += 1 \n",
    "    \n",
    "print(f\"No of Alphabets : {alp}\\nNo of Digist : {num}\\nNo of Special Characters : {sp}\")"
   ]
  },
  {
   "cell_type": "code",
   "execution_count": 36,
   "metadata": {},
   "outputs": [
    {
     "data": {
      "text/plain": [
       "True"
      ]
     },
     "execution_count": 36,
     "metadata": {},
     "output_type": "execute_result"
    }
   ],
   "source": [
    "'1'.isnumeric() "
   ]
  },
  {
   "cell_type": "code",
   "execution_count": 42,
   "metadata": {},
   "outputs": [],
   "source": [
    "from typing import List "
   ]
  },
  {
   "cell_type": "code",
   "execution_count": 48,
   "metadata": {},
   "outputs": [
    {
     "name": "stdout",
     "output_type": "stream",
     "text": [
      "[11, 10, 10]\n"
     ]
    }
   ],
   "source": [
    "def charCount(string : str) -> List[int]:\n",
    "    alp, dig, sp = 0, 0, 0 \n",
    "\n",
    "    for item in string:\n",
    "        if item.isalpha():\n",
    "            alp += 1 \n",
    "        elif item.isnumeric():\n",
    "            dig += 1 \n",
    "        else:\n",
    "            sp += 1 \n",
    "    \n",
    "    return [alp, dig, sp] \n",
    "\n",
    "a = charCount('ABCtdgjrtdj12   3635000(-2)!@# ')\n",
    "print(a) "
   ]
  },
  {
   "cell_type": "code",
   "execution_count": null,
   "metadata": {},
   "outputs": [
    {
     "name": "stdout",
     "output_type": "stream",
     "text": [
      "vinay\n"
     ]
    }
   ],
   "source": [
    "s = 'Jack Jayesh Suraj Raj vinay' \n",
    "\n",
    "for item in s.split(' '):\n",
    "    if item.startswith(\"J\") or item.endswith('j'):\n",
    "        print(item) "
   ]
  },
  {
   "cell_type": "code",
   "execution_count": 61,
   "metadata": {},
   "outputs": [
    {
     "name": "stdout",
     "output_type": "stream",
     "text": [
      "Jack\n",
      "Jayesh\n",
      "Suraj\n",
      "Raj\n",
      "vinay\n"
     ]
    }
   ],
   "source": [
    "for item in s.split():\n",
    "    if not item.startswith('J') or not item.endswith('j'):\n",
    "        print(item) \n"
   ]
  },
  {
   "cell_type": "code",
   "execution_count": 50,
   "metadata": {},
   "outputs": [
    {
     "data": {
      "text/plain": [
       "['Jack', 'Jayesh', 'Suraj', 'Raj']"
      ]
     },
     "execution_count": 50,
     "metadata": {},
     "output_type": "execute_result"
    }
   ],
   "source": [
    "s.split() "
   ]
  },
  {
   "cell_type": "markdown",
   "metadata": {},
   "source": []
  },
  {
   "cell_type": "code",
   "execution_count": null,
   "metadata": {},
   "outputs": [],
   "source": []
  }
 ],
 "metadata": {
  "kernelspec": {
   "display_name": "Python 3",
   "language": "python",
   "name": "python3"
  },
  "language_info": {
   "codemirror_mode": {
    "name": "ipython",
    "version": 3
   },
   "file_extension": ".py",
   "mimetype": "text/x-python",
   "name": "python",
   "nbconvert_exporter": "python",
   "pygments_lexer": "ipython3",
   "version": "3.12.8"
  }
 },
 "nbformat": 4,
 "nbformat_minor": 2
}
