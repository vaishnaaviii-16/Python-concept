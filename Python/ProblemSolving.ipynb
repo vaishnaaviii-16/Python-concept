{
 "cells": [
  {
   "cell_type": "code",
   "execution_count": 3,
   "metadata": {},
   "outputs": [
    {
     "name": "stdout",
     "output_type": "stream",
     "text": [
      "Before Swap\n",
      "a = 10, b = 20\n",
      "After Swap\n",
      "a = 20, b = 10\n"
     ]
    }
   ],
   "source": [
    "# Swapping Using Third Variable \n",
    "\n",
    "a = int(input(\"Enter the First Number : \"))\n",
    "b = int(input(\"Enter the Second Number : \"))\n",
    "\n",
    "print(f\"Before Swap\\na = {a}, b = {b}\") \n",
    "c = a \n",
    "a = b \n",
    "b = c \n",
    "print(f\"After Swap\\na = {a}, b = {b}\")"
   ]
  },
  {
   "cell_type": "code",
   "execution_count": null,
   "metadata": {},
   "outputs": [
    {
     "name": "stdout",
     "output_type": "stream",
     "text": [
      "Before Swap\n",
      "a = -10, b = 20\n",
      "After Swap\n",
      "a = 20, b = -10\n"
     ]
    }
   ],
   "source": [
    "# Swapping Without Using Third Variable \n",
    "\n",
    "a = int(input(\"Enter the First Number : \"))\n",
    "b = int(input(\"Enter the Second Number : \"))\n",
    "\n",
    "print(f\"Before Swap\\na = {a}, b = {b}\") \n",
    "a = a + b\n",
    "b = a - b \n",
    "a = a - b \n",
    "print(f\"Afbter Swap\\na = {a}, b = {b}\")"
   ]
  },
  {
   "cell_type": "code",
   "execution_count": 9,
   "metadata": {},
   "outputs": [
    {
     "name": "stdout",
     "output_type": "stream",
     "text": [
      "17 is a prime number!\n"
     ]
    }
   ],
   "source": [
    "n = int(input(\"Enter the number to check : \"))\n",
    "\n",
    "i = 2 \n",
    "\n",
    "while i < n:\n",
    "    if n % i == 0:\n",
    "        print(f\"{n} is not a prime number\") \n",
    "        break\n",
    "    i = i + 1\n",
    "\n",
    "else:\n",
    "    print(f\"{n} is a prime number!\")"
   ]
  },
  {
   "cell_type": "code",
   "execution_count": 12,
   "metadata": {},
   "outputs": [
    {
     "name": "stdout",
     "output_type": "stream",
     "text": [
      "2 3 5 7 11 13 17 19 23 29 31 37 41 43 47 53 59 61 67 71 73 79 83 89 97 "
     ]
    }
   ],
   "source": [
    "def isPrime(n : int) -> bool:\n",
    "    # True : Prime Number , False : Not a prime number\n",
    "    # base case =\n",
    "    if n < 2:\n",
    "        return False\n",
    "\n",
    "    # induction hypothesis and induction step  \n",
    "    for i in range(2, n):\n",
    "        if n % i == 0:\n",
    "            return False \n",
    "    \n",
    "    else:\n",
    "        return True \n",
    "    \n",
    "for i in range(1, 101):\n",
    "    if isPrime(i):\n",
    "        print(i, end = \" \") "
   ]
  },
  {
   "cell_type": "code",
   "execution_count": null,
   "metadata": {},
   "outputs": [],
   "source": []
  }
 ],
 "metadata": {
  "kernelspec": {
   "display_name": "Python 3",
   "language": "python",
   "name": "python3"
  },
  "language_info": {
   "codemirror_mode": {
    "name": "ipython",
    "version": 3
   },
   "file_extension": ".py",
   "mimetype": "text/x-python",
   "name": "python",
   "nbconvert_exporter": "python",
   "pygments_lexer": "ipython3",
   "version": "3.12.8"
  }
 },
 "nbformat": 4,
 "nbformat_minor": 2
}
