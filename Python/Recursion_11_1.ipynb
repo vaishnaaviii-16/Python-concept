{
 "cells": [
  {
   "cell_type": "code",
   "execution_count": 4,
   "metadata": {},
   "outputs": [
    {
     "name": "stdout",
     "output_type": "stream",
     "text": [
      "bcb\n"
     ]
    }
   ],
   "source": [
    "s = input() \n",
    "\n",
    "def replaceString(s):\n",
    "    # base case \n",
    "    if len(s) == 0:\n",
    "        return s \n",
    "    # induction hypothesis \n",
    "    small_ans = replaceString(s[1:])\n",
    "    # induction step \n",
    "    if s[0] == 'a':\n",
    "        return '' + small_ans\n",
    "    else:\n",
    "        return s[0] + small_ans\n",
    "\n",
    "print(replaceString(s)) "
   ]
  },
  {
   "cell_type": "code",
   "execution_count": 6,
   "metadata": {},
   "outputs": [
    {
     "name": "stdout",
     "output_type": "stream",
     "text": [
      "10\n"
     ]
    }
   ],
   "source": [
    "# Taking input from the user \n",
    "li = [int(x) for x in input().split()] \n",
    "\n",
    "ans = -1 \n",
    "\n",
    "for item in li:\n",
    "    if ans < item:\n",
    "        ans = item \n",
    "\n",
    "print(ans) "
   ]
  },
  {
   "cell_type": "code",
   "execution_count": null,
   "metadata": {},
   "outputs": [
    {
     "name": "stdout",
     "output_type": "stream",
     "text": [
      "10\n"
     ]
    }
   ],
   "source": [
    "li = [int(x) for x in input().split()] \n",
    "\n",
    "ans = -1 \n",
    "\n",
    "for item in li:\n",
    "    ans = max(item, ans) \n",
    "\n",
    "print(ans) "
   ]
  },
  {
   "cell_type": "code",
   "execution_count": 9,
   "metadata": {},
   "outputs": [],
   "source": [
    "from typing import List "
   ]
  },
  {
   "cell_type": "code",
   "execution_count": 10,
   "metadata": {},
   "outputs": [],
   "source": [
    "def maxli(li : List[int]) -> int:\n",
    "    if len(li) == 0:\n",
    "        return 0 \n",
    "    \n",
    "    small_ans = maxli(li[1:])\n",
    "\n",
    "    if li[0] > small_ans:\n",
    "        return li[0] \n",
    "    \n",
    "    else:\n",
    "        return small_ans"
   ]
  },
  {
   "cell_type": "code",
   "execution_count": 13,
   "metadata": {},
   "outputs": [
    {
     "data": {
      "text/plain": [
       "True"
      ]
     },
     "execution_count": 13,
     "metadata": {},
     "output_type": "execute_result"
    }
   ],
   "source": [
    "def isSorted(li : List[int]) -> bool:\n",
    "    if not li or len(li) == 1:\n",
    "        return True \n",
    "    \n",
    "    if li[0] <= li[1]:\n",
    "        return isSorted(li[1:])\n",
    "    \n",
    "    else:\n",
    "        return False \n",
    "    \n",
    "li = [1, 1, 3, 4, 5] \n",
    "isSorted(li) "
   ]
  },
  {
   "cell_type": "code",
   "execution_count": 14,
   "metadata": {},
   "outputs": [],
   "source": [
    "def arraySum(li : List[int]) -> int:\n",
    "    if not li:\n",
    "        return 0 \n",
    "    \n",
    "    if len(li) == 1:\n",
    "        return li[0] \n",
    "    \n",
    "    small_ans = arraySum(li[1:])\n",
    "\n",
    "\n",
    "    return small_ans + li[0] \n",
    "\n"
   ]
  },
  {
   "cell_type": "code",
   "execution_count": 15,
   "metadata": {},
   "outputs": [
    {
     "data": {
      "text/plain": [
       "15"
      ]
     },
     "execution_count": 15,
     "metadata": {},
     "output_type": "execute_result"
    }
   ],
   "source": [
    "arraySum([1, 2, 3, 4, 5])"
   ]
  },
  {
   "cell_type": "code",
   "execution_count": 18,
   "metadata": {},
   "outputs": [],
   "source": [
    "def getIndex(li : List[int] , x : int) -> int: \n",
    "    if not li:\n",
    "        return -1 \n",
    "    \n",
    "    if li[0] == x:\n",
    "        return 0 \n",
    "    \n",
    "    small_ans = getIndex(li[1:], x)\n",
    "\n",
    "    if small_ans == -1:\n",
    "        return -1 \n",
    "    else:\n",
    "        return small_ans + 1 "
   ]
  },
  {
   "cell_type": "code",
   "execution_count": 19,
   "metadata": {},
   "outputs": [
    {
     "data": {
      "text/plain": [
       "4"
      ]
     },
     "execution_count": 19,
     "metadata": {},
     "output_type": "execute_result"
    }
   ],
   "source": [
    "getIndex([1, 2, 3, 4, 5], 5)"
   ]
  },
  {
   "cell_type": "code",
   "execution_count": 31,
   "metadata": {},
   "outputs": [],
   "source": [
    "def getIndexBetter(li : List[int], x : int, i : int) -> int:\n",
    "    if i == len(li):\n",
    "        return -1 \n",
    "    \n",
    "    small_ans = getIndexBetter(li, x, i + 1) \n",
    "\n",
    "    if small_ans == -1:\n",
    "        if li[i] == x:\n",
    "            return i \n",
    "        else:\n",
    "            return -1 \n",
    "    else:\n",
    "        return small_ans"
   ]
  },
  {
   "cell_type": "code",
   "execution_count": 32,
   "metadata": {},
   "outputs": [
    {
     "name": "stdout",
     "output_type": "stream",
     "text": [
      "4\n"
     ]
    }
   ],
   "source": [
    "print(getIndexBetter([1, 2, 3, 4, 5], 5, 0))"
   ]
  },
  {
   "cell_type": "code",
   "execution_count": 35,
   "metadata": {},
   "outputs": [],
   "source": [
    "def replacePi(s : str) -> str:\n",
    "    if not s or len(s) == 1:\n",
    "        return s \n",
    "    \n",
    "    if s[0].lower() == 'p':\n",
    "        if s[1].lower() == 'i':\n",
    "            return '3.14' + replacePi(s[2:])\n",
    "        else:\n",
    "            return s[0] + replacePi(s[1:])\n",
    "    else:\n",
    "        return s[0] + replacePi(s[1:])"
   ]
  },
  {
   "cell_type": "code",
   "execution_count": 36,
   "metadata": {},
   "outputs": [
    {
     "data": {
      "text/plain": [
       "'abcp3.143.14p'"
      ]
     },
     "execution_count": 36,
     "metadata": {},
     "output_type": "execute_result"
    }
   ],
   "source": [
    "replacePi('abcppipip')\n"
   ]
  },
  {
   "cell_type": "code",
   "execution_count": null,
   "metadata": {},
   "outputs": [],
   "source": []
  }
 ],
 "metadata": {
  "kernelspec": {
   "display_name": "Python 3",
   "language": "python",
   "name": "python3"
  },
  "language_info": {
   "codemirror_mode": {
    "name": "ipython",
    "version": 3
   },
   "file_extension": ".py",
   "mimetype": "text/x-python",
   "name": "python",
   "nbconvert_exporter": "python",
   "pygments_lexer": "ipython3",
   "version": "3.12.8"
  }
 },
 "nbformat": 4,
 "nbformat_minor": 2
}
