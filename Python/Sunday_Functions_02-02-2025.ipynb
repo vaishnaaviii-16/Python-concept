{
 "cells": [
  {
   "cell_type": "code",
   "execution_count": 9,
   "metadata": {},
   "outputs": [
    {
     "name": "stdout",
     "output_type": "stream",
     "text": [
      "5040\n"
     ]
    }
   ],
   "source": [
    "n = int(input())  \n",
    "\n",
    "ans = 1 \n",
    "\n",
    "for i in range(1, n+1):\n",
    "    ans *= i\n",
    "\n",
    "print(ans) "
   ]
  },
  {
   "cell_type": "code",
   "execution_count": 37,
   "metadata": {},
   "outputs": [
    {
     "name": "stdout",
     "output_type": "stream",
     "text": [
      "10 + 2 = 12\n"
     ]
    }
   ],
   "source": [
    "# Function Declaration & Definition \n",
    "def add(a : int, b : int) -> int:\n",
    "    return a + b \n",
    "\n",
    "x = int(input()) \n",
    "y = int(input()) \n",
    "\n",
    "ans = add(x, y) # Function Call \n",
    "print(f\"{x} + {y} = {ans}\")"
   ]
  },
  {
   "cell_type": "code",
   "execution_count": 40,
   "metadata": {},
   "outputs": [],
   "source": [
    "# Creating a Calculator \n",
    "\n",
    "def add(a, b):\n",
    "    return a + b \n",
    "\n",
    "def subtract(a, b):\n",
    "    pass \n",
    "\n",
    "def multiplication(a, b):\n",
    "    pass \n",
    "\n",
    "def divide(a : int, b : int) -> float:\n",
    "    return a / b \n"
   ]
  },
  {
   "cell_type": "code",
   "execution_count": 39,
   "metadata": {},
   "outputs": [
    {
     "data": {
      "text/plain": [
       "5.0"
      ]
     },
     "execution_count": 39,
     "metadata": {},
     "output_type": "execute_result"
    }
   ],
   "source": [
    "divide(10, 2) "
   ]
  },
  {
   "cell_type": "code",
   "execution_count": 31,
   "metadata": {},
   "outputs": [],
   "source": [
    "def factorial(n):\n",
    "    ans = 1 \n",
    "\n",
    "    for i in range(1, n+1):\n",
    "        ans = ans * i \n",
    "    \n",
    "    return ans"
   ]
  },
  {
   "cell_type": "code",
   "execution_count": 26,
   "metadata": {},
   "outputs": [
    {
     "name": "stdout",
     "output_type": "stream",
     "text": [
      "0 : 1\n",
      "1 : 1\n",
      "2 : 2\n",
      "3 : 6\n",
      "4 : 24\n",
      "5 : 120\n",
      "6 : 720\n",
      "7 : 5040\n",
      "8 : 40320\n",
      "9 : 362880\n",
      "10 : 3628800\n"
     ]
    }
   ],
   "source": [
    "for i in range(0, 11):\n",
    "    print(f\"{i} : {factorial(i)}\")"
   ]
  },
  {
   "cell_type": "code",
   "execution_count": 29,
   "metadata": {},
   "outputs": [
    {
     "name": "stdout",
     "output_type": "stream",
     "text": [
      "252.0\n"
     ]
    }
   ],
   "source": [
    "# Combination (factorial(n) / (factorial(r) * factorial(n-r)))\n",
    "n = 10\n",
    "r = 5\n",
    "\n",
    "n_fact = 1 \n",
    "r_fact = 1 \n",
    "n_r_fact = 1 \n",
    "\n",
    "for i in range(1, n+1):\n",
    "    n_fact *= i \n",
    "\n",
    "for i in range(1, r+1):\n",
    "    r_fact *= i \n",
    "\n",
    "for i in range(1, n-r+1):\n",
    "    n_r_fact *= i \n",
    "\n",
    "ans = (n_fact) / (r_fact * n_r_fact) \n",
    "print(ans) "
   ]
  },
  {
   "cell_type": "code",
   "execution_count": 36,
   "metadata": {},
   "outputs": [],
   "source": [
    "def factorial(n : int) -> int:\n",
    "    ans = 1 \n",
    "\n",
    "    for i in range(1, n+1):\n",
    "        ans = ans * i \n",
    "    \n",
    "    return ans"
   ]
  },
  {
   "cell_type": "code",
   "execution_count": 47,
   "metadata": {},
   "outputs": [
    {
     "name": "stdout",
     "output_type": "stream",
     "text": [
      "120\n"
     ]
    }
   ],
   "source": [
    "print(factorial(5)) "
   ]
  },
  {
   "cell_type": "code",
   "execution_count": 35,
   "metadata": {},
   "outputs": [
    {
     "name": "stdout",
     "output_type": "stream",
     "text": [
      "120.0\n"
     ]
    }
   ],
   "source": [
    "n = 10 \n",
    "r = 7\n",
    "\n",
    "print((factorial(n))/(factorial(r) * factorial(n-r)))"
   ]
  },
  {
   "cell_type": "code",
   "execution_count": 64,
   "metadata": {},
   "outputs": [],
   "source": [
    "def greet(name  : str) -> None:\n",
    "    print(f\"Good Morning {name}!\")"
   ]
  },
  {
   "cell_type": "code",
   "execution_count": 65,
   "metadata": {},
   "outputs": [
    {
     "name": "stdout",
     "output_type": "stream",
     "text": [
      "Good Morning Jack!\n"
     ]
    }
   ],
   "source": [
    "greet(\"Jack\")"
   ]
  },
  {
   "cell_type": "code",
   "execution_count": 66,
   "metadata": {},
   "outputs": [
    {
     "name": "stdout",
     "output_type": "stream",
     "text": [
      "    *\n",
      "   **\n",
      "  ***\n",
      " ****\n",
      "*****\n"
     ]
    }
   ],
   "source": [
    "n = 5 \n",
    "\n",
    "for i in range(n):\n",
    "    for sp in range(n-i-1):\n",
    "        print(\" \", end = \"\") \n",
    "    for st in range(i+1):\n",
    "        print(\"*\", end = \"\") \n",
    "    print() "
   ]
  },
  {
   "cell_type": "code",
   "execution_count": 60,
   "metadata": {},
   "outputs": [],
   "source": [
    "def pattern(n : int) -> None:\n",
    "    for i in range(n):\n",
    "        for sp in range(n-i-1):\n",
    "            print(\" \", end = \"\") \n",
    "        for st in range(i+1):\n",
    "            print(\"*\", end = \"\") \n",
    "        for st2 in range(i):\n",
    "            print(\"*\", end = \"\") \n",
    "        print() "
   ]
  },
  {
   "cell_type": "code",
   "execution_count": 67,
   "metadata": {},
   "outputs": [
    {
     "name": "stdout",
     "output_type": "stream",
     "text": [
      "  *\n",
      " ***\n",
      "*****\n",
      "   *\n",
      "  ***\n",
      " *****\n",
      "*******\n",
      "    *\n",
      "   ***\n",
      "  *****\n",
      " *******\n",
      "*********\n"
     ]
    }
   ],
   "source": [
    "for i in range(3, 6):\n",
    "    pattern(i) "
   ]
  },
  {
   "cell_type": "code",
   "execution_count": 73,
   "metadata": {},
   "outputs": [],
   "source": [
    "# Function calling another function \n",
    "\n",
    "def combination(a : int, b : int) -> float:\n",
    "    \n",
    "    def factorial(n : int) -> int:\n",
    "        ans = 1 \n",
    "\n",
    "        for i in range(1, n+1):\n",
    "            ans = ans * i \n",
    "        \n",
    "        return ans\n",
    "\n",
    "    return factorial(a) / (factorial(b) * factorial(a-b)) "
   ]
  },
  {
   "cell_type": "code",
   "execution_count": 74,
   "metadata": {},
   "outputs": [
    {
     "data": {
      "text/plain": [
       "45.0"
      ]
     },
     "execution_count": 74,
     "metadata": {},
     "output_type": "execute_result"
    }
   ],
   "source": [
    "combination(10, 2) "
   ]
  },
  {
   "cell_type": "code",
   "execution_count": 83,
   "metadata": {},
   "outputs": [
    {
     "name": "stdout",
     "output_type": "stream",
     "text": [
      "10\n",
      "Global a : 140711830416088\n",
      "Local a : 140711830416152\n",
      "12\n"
     ]
    }
   ],
   "source": [
    "def fun(a):\n",
    "    a = a + 2 \n",
    "    print(f\"Local a : {id(a)}\") \n",
    "    return a \n",
    "\n",
    "a = 10 \n",
    "\n",
    "print(a)\n",
    "print(f\"Global a : {id(a)}\")  \n",
    "a = fun(a) \n",
    "print(a) \n"
   ]
  },
  {
   "cell_type": "code",
   "execution_count": 87,
   "metadata": {},
   "outputs": [
    {
     "name": "stdout",
     "output_type": "stream",
     "text": [
      "10\n"
     ]
    },
    {
     "ename": "NameError",
     "evalue": "name 'y1' is not defined",
     "output_type": "error",
     "traceback": [
      "\u001b[1;31m---------------------------------------------------------------------------\u001b[0m",
      "\u001b[1;31mNameError\u001b[0m                                 Traceback (most recent call last)",
      "Cell \u001b[1;32mIn[87], line 8\u001b[0m\n\u001b[0;32m      6\u001b[0m \u001b[38;5;28mprint\u001b[39m(x1) \n\u001b[0;32m      7\u001b[0m new(x1) \n\u001b[1;32m----> 8\u001b[0m \u001b[38;5;28mprint\u001b[39m(\u001b[43my1\u001b[49m) \n",
      "\u001b[1;31mNameError\u001b[0m: name 'y1' is not defined"
     ]
    }
   ],
   "source": [
    "def new(x1):\n",
    "    x1 = x1 + 2 \n",
    "    y1 = 10 \n",
    "\n",
    "x1 = 10 \n",
    "print(x1) \n",
    "new(x1) \n",
    "print(y1) "
   ]
  },
  {
   "cell_type": "code",
   "execution_count": 97,
   "metadata": {},
   "outputs": [
    {
     "name": "stdout",
     "output_type": "stream",
     "text": [
      "10\n",
      "12\n"
     ]
    }
   ],
   "source": [
    "global a2 \n",
    "def new():\n",
    "    global a2\n",
    "    a2 += 2 \n",
    "\n",
    "a2 = 10 \n",
    "print(a2) \n",
    "new() \n",
    "print(a2) "
   ]
  },
  {
   "cell_type": "code",
   "execution_count": 98,
   "metadata": {},
   "outputs": [],
   "source": [
    "def square(x : int) -> int:\n",
    "    return x ** 2 "
   ]
  },
  {
   "cell_type": "code",
   "execution_count": 99,
   "metadata": {},
   "outputs": [
    {
     "name": "stdout",
     "output_type": "stream",
     "text": [
      "25\n"
     ]
    }
   ],
   "source": [
    "print(square(5)) "
   ]
  },
  {
   "cell_type": "code",
   "execution_count": 103,
   "metadata": {},
   "outputs": [],
   "source": [
    "# Anonymous Function  (lambda function) \n",
    "cube = lambda x : x ** 3 "
   ]
  },
  {
   "cell_type": "code",
   "execution_count": 104,
   "metadata": {},
   "outputs": [
    {
     "name": "stdout",
     "output_type": "stream",
     "text": [
      "125\n"
     ]
    }
   ],
   "source": [
    "print(cube(5)) "
   ]
  },
  {
   "cell_type": "code",
   "execution_count": 107,
   "metadata": {},
   "outputs": [],
   "source": [
    "sqrt = lambda x : int(x ** 0.5) "
   ]
  },
  {
   "cell_type": "code",
   "execution_count": 108,
   "metadata": {},
   "outputs": [
    {
     "name": "stdout",
     "output_type": "stream",
     "text": [
      "5\n"
     ]
    }
   ],
   "source": [
    "print(sqrt(25)) "
   ]
  },
  {
   "cell_type": "code",
   "execution_count": 109,
   "metadata": {},
   "outputs": [
    {
     "data": {
      "text/plain": [
       "6"
      ]
     },
     "execution_count": 109,
     "metadata": {},
     "output_type": "execute_result"
    }
   ],
   "source": [
    "def add(a, b):\n",
    "    return a + b \n",
    "\n",
    "add(2, 4) "
   ]
  },
  {
   "cell_type": "code",
   "execution_count": 118,
   "metadata": {},
   "outputs": [
    {
     "name": "stdout",
     "output_type": "stream",
     "text": [
      "a = 1, b = 2, c = 3, d = 0, e = 0, f = 0\n"
     ]
    },
    {
     "data": {
      "text/plain": [
       "6"
      ]
     },
     "execution_count": 118,
     "metadata": {},
     "output_type": "execute_result"
    }
   ],
   "source": [
    "def add(a : int, b : int, c = 0, d = 0, e = 0, f = 0) -> int:\n",
    "    print(f\"a = {a}, b = {b}, c = {c}, d = {d}, e = {e}, f = {f}\")\n",
    "    return a + b + c + d\n",
    "\n",
    "add(1, 2, 3)   "
   ]
  },
  {
   "cell_type": "code",
   "execution_count": 122,
   "metadata": {},
   "outputs": [
    {
     "name": "stdout",
     "output_type": "stream",
     "text": [
      "Hello World\n"
     ]
    }
   ],
   "source": [
    "print(\"Hello\", end = \" \") \n",
    "print(\"World\")"
   ]
  },
  {
   "cell_type": "code",
   "execution_count": 123,
   "metadata": {},
   "outputs": [
    {
     "name": "stdout",
     "output_type": "stream",
     "text": [
      "\n"
     ]
    }
   ],
   "source": [
    "print()"
   ]
  },
  {
   "cell_type": "code",
   "execution_count": null,
   "metadata": {},
   "outputs": [],
   "source": []
  }
 ],
 "metadata": {
  "kernelspec": {
   "display_name": "Python 3",
   "language": "python",
   "name": "python3"
  },
  "language_info": {
   "codemirror_mode": {
    "name": "ipython",
    "version": 3
   },
   "file_extension": ".py",
   "mimetype": "text/x-python",
   "name": "python",
   "nbconvert_exporter": "python",
   "pygments_lexer": "ipython3",
   "version": "3.12.8"
  }
 },
 "nbformat": 4,
 "nbformat_minor": 2
}
