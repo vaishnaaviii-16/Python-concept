{
 "cells": [
  {
   "cell_type": "code",
   "execution_count": 15,
   "metadata": {},
   "outputs": [
    {
     "name": "stdout",
     "output_type": "stream",
     "text": [
      "2149656238112 2149656241472 False\n"
     ]
    }
   ],
   "source": [
    "# Keywords --> class, def, pass, return\n",
    "\n",
    "'''\n",
    "Components of class \n",
    "1. Attributes (variables) \n",
    "2. Methods (functions) \n",
    "'''\n",
    "\n",
    "class Company:\n",
    "    # Attribute \n",
    "    company_name = 'Adidas' \n",
    "\n",
    "c1 = Company() \n",
    "c2 = Company() \n",
    "\n",
    "print(id(c1), id(c2), id(c1) == id(c2))   \n"
   ]
  },
  {
   "cell_type": "code",
   "execution_count": 8,
   "metadata": {},
   "outputs": [
    {
     "name": "stdout",
     "output_type": "stream",
     "text": [
      "Company Name Is Adidas\n",
      "Services Provided : We Provide the best shoes across the globe!\n"
     ]
    }
   ],
   "source": [
    "class Company:\n",
    "    # class attribute \n",
    "    company_name = \"Adidas\" \n",
    "\n",
    "    # Method : Function\n",
    "    def get_service(self):\n",
    "        return \"We Provide the best shoes across the globe!\"\n",
    "    \n",
    "c = Company() \n",
    "print(f\"Company Name Is {c.company_name}\\nServices Provided : {c.get_service()}\")"
   ]
  },
  {
   "cell_type": "code",
   "execution_count": 9,
   "metadata": {},
   "outputs": [
    {
     "name": "stdout",
     "output_type": "stream",
     "text": [
      "Company : Adidas\n",
      "Employee Name : Sanjay Kadam\n",
      "Employee Age : 21\n",
      "Employee Gender : Male\n"
     ]
    }
   ],
   "source": [
    "class Company:\n",
    "    company_name = \"Adidas\" \n",
    "\n",
    "    def __init__(self, name, age, gender):\n",
    "        self.name = name \n",
    "        self.age = age \n",
    "        self.gender = gender \n",
    "\n",
    "    def printDetail(self):\n",
    "        print(f\"Company : {Company.company_name}\\nEmployee Name : {self.name}\\nEmployee Age : {self.age}\\nEmployee Gender : {self.gender}\")\n",
    "\n",
    "sanjay = Company(\"Sanjay Kadam\", 21, \"Male\") \n",
    "rushikesh = Company(\"Rushikesh\", 26, \"Male\") \n",
    "\n",
    "sanjay.printDetail() "
   ]
  },
  {
   "cell_type": "code",
   "execution_count": 10,
   "metadata": {},
   "outputs": [
    {
     "name": "stdout",
     "output_type": "stream",
     "text": [
      "Company : Adidas\n",
      "Employee Name : Rushikesh\n",
      "Employee Age : 26\n",
      "Employee Gender : Male\n"
     ]
    }
   ],
   "source": [
    "rushikesh.printDetail() "
   ]
  },
  {
   "cell_type": "code",
   "execution_count": 3,
   "metadata": {},
   "outputs": [
    {
     "name": "stdout",
     "output_type": "stream",
     "text": [
      "2465442249280\n"
     ]
    },
    {
     "data": {
      "text/plain": [
       "2465442249280"
      ]
     },
     "execution_count": 3,
     "metadata": {},
     "output_type": "execute_result"
    }
   ],
   "source": [
    "class ABC:\n",
    "    def return_address(self):\n",
    "        return id(self) \n",
    "    \n",
    "\n",
    "a = ABC() \n",
    "print(id(a)) \n",
    "a.return_address() "
   ]
  },
  {
   "cell_type": "code",
   "execution_count": 2,
   "metadata": {},
   "outputs": [
    {
     "name": "stdout",
     "output_type": "stream",
     "text": [
      "2166030146816\n"
     ]
    },
    {
     "data": {
      "text/plain": [
       "2166030146816"
      ]
     },
     "execution_count": 2,
     "metadata": {},
     "output_type": "execute_result"
    }
   ],
   "source": [
    "class ABC:\n",
    "    def get_address(self):\n",
    "        return id(self)\n",
    "    \n",
    "abc = ABC() \n",
    "print(id(abc)) \n",
    "abc.get_address() "
   ]
  },
  {
   "cell_type": "code",
   "execution_count": 12,
   "metadata": {},
   "outputs": [],
   "source": [
    "class Product:\n",
    "    count = 0 \n",
    "\n",
    "    def __init__(self, name, phone, email, item, price):\n",
    "        self.name = name \n",
    "        self.phone =  phone \n",
    "        self.email = email \n",
    "        self.item = item \n",
    "        self.price = price \n",
    "        Product.count += 1 \n",
    "\n",
    "    def get_discount(self):\n",
    "        self.price = self.price - ((self.price * 10)/100) \n",
    "\n",
    "    def get_details(self):\n",
    "        print(f\"Name : {self.name}\\nPhone Number : {self.phone}\\nEmail Address : {self.email}\\nProduct Bought : {self.item}\\nPrice : {self.price}\")\n",
    "\n",
    "p1 = Product(\"Sanjay\", 32048308, 'wehtjlagl', 'Iphone 16 Pro Max', 150000)\n",
    "p2 = Product(\"Hrishikesh\", 35085, 'ealgmal', 'Macbook 7 Series', 100000)  \n"
   ]
  },
  {
   "cell_type": "code",
   "execution_count": 9,
   "metadata": {},
   "outputs": [
    {
     "name": "stdout",
     "output_type": "stream",
     "text": [
      "Name : Sanjay\n",
      "Phone Number : 32048308\n",
      "Email Address : wehtjlagl\n",
      "Product Bought : Iphone 16 Pro Max\n",
      "Price : 150000\n"
     ]
    }
   ],
   "source": [
    "p1.get_details() "
   ]
  },
  {
   "cell_type": "code",
   "execution_count": 10,
   "metadata": {},
   "outputs": [],
   "source": [
    "p1.get_discount() "
   ]
  },
  {
   "cell_type": "code",
   "execution_count": 11,
   "metadata": {},
   "outputs": [
    {
     "name": "stdout",
     "output_type": "stream",
     "text": [
      "Name : Sanjay\n",
      "Phone Number : 32048308\n",
      "Email Address : wehtjlagl\n",
      "Product Bought : Iphone 16 Pro Max\n",
      "Price : 135000.0\n"
     ]
    }
   ],
   "source": [
    "p1.get_details() "
   ]
  },
  {
   "cell_type": "code",
   "execution_count": 15,
   "metadata": {},
   "outputs": [
    {
     "name": "stdout",
     "output_type": "stream",
     "text": [
      "Name : Hrishikesh\n",
      "Phone Number : 35085\n",
      "Email Address : ealgmal\n",
      "Product Bought : Macbook 7 Series\n",
      "Price : 90000.0\n"
     ]
    }
   ],
   "source": [
    "p2.get_details() "
   ]
  },
  {
   "cell_type": "code",
   "execution_count": 14,
   "metadata": {},
   "outputs": [],
   "source": [
    "p2.get_discount() "
   ]
  },
  {
   "cell_type": "code",
   "execution_count": 16,
   "metadata": {},
   "outputs": [],
   "source": [
    "import numpy as np \n",
    "import random "
   ]
  },
  {
   "cell_type": "code",
   "execution_count": 108,
   "metadata": {},
   "outputs": [],
   "source": [
    "class Product:\n",
    "    count = 0 \n",
    "\n",
    "    def __init__(self, name, phone, email, item, price):\n",
    "        self.name = name \n",
    "        self.phone =  phone \n",
    "        self.email = email \n",
    "        self.item = item \n",
    "        self.price = price \n",
    "        Product.count += 1 \n",
    "\n",
    "    def get_discount(self):\n",
    "        discount_value = int(np.random.randint(3, 6)) \n",
    "        self.price = self.price - ((self.price * discount_value)/100)\n",
    "        print(f\"Hurray! you got a {discount_value}% discount.\") \n",
    "\n",
    "    def get_details(self):\n",
    "        print(f\"Name : {self.name}\\nPhone Number : {self.phone}\\nEmail Address : {self.email}\\nProduct Bought : {self.item}\\nPrice : {self.price}\")"
   ]
  },
  {
   "cell_type": "code",
   "execution_count": 109,
   "metadata": {},
   "outputs": [],
   "source": [
    "p1 = Product(\"Sanjay\", 293784235, \"KadamSanjay@123\", \"Iphone 16 Pro Max\", 150000) "
   ]
  },
  {
   "cell_type": "code",
   "execution_count": 110,
   "metadata": {},
   "outputs": [
    {
     "name": "stdout",
     "output_type": "stream",
     "text": [
      "Name : Sanjay\n",
      "Phone Number : 293784235\n",
      "Email Address : KadamSanjay@123\n",
      "Product Bought : Iphone 16 Pro Max\n",
      "Price : 150000\n"
     ]
    }
   ],
   "source": [
    "p1.get_details() "
   ]
  },
  {
   "cell_type": "code",
   "execution_count": 111,
   "metadata": {},
   "outputs": [
    {
     "name": "stdout",
     "output_type": "stream",
     "text": [
      "Hurray! you got a 4% discount.\n"
     ]
    }
   ],
   "source": [
    "p1.get_discount() "
   ]
  },
  {
   "cell_type": "code",
   "execution_count": 118,
   "metadata": {},
   "outputs": [
    {
     "name": "stdout",
     "output_type": "stream",
     "text": [
      "Name : Hrishikesh\n",
      "Phone Number : 35085\n",
      "Email Address : ealgmal\n",
      "Product Bought : Macbook 7 Series\n",
      "Price : 100000\n",
      "Hurray! you got a 5% discount.\n",
      "Name : Hrishikesh\n",
      "Phone Number : 35085\n",
      "Email Address : ealgmal\n",
      "Product Bought : Macbook 7 Series\n",
      "Price : 95000.0\n"
     ]
    }
   ],
   "source": [
    "p2 = Product(\"Hrishikesh\", 35085, 'ealgmal', 'Macbook 7 Series', 100000)  \n",
    "p2.get_details() \n",
    "p2.get_discount() \n",
    "p2.get_details() \n"
   ]
  },
  {
   "cell_type": "code",
   "execution_count": null,
   "metadata": {},
   "outputs": [],
   "source": []
  },
  {
   "cell_type": "code",
   "execution_count": null,
   "metadata": {},
   "outputs": [],
   "source": []
  },
  {
   "cell_type": "code",
   "execution_count": 113,
   "metadata": {},
   "outputs": [
    {
     "name": "stdout",
     "output_type": "stream",
     "text": [
      "Name : Hrishikesh\n",
      "Phone Number : 35085\n",
      "Email Address : ealgmal\n",
      "Product Bought : Macbook 7 Series\n",
      "Price : 96000.0\n"
     ]
    }
   ],
   "source": [
    "p2.get_details() "
   ]
  },
  {
   "cell_type": "markdown",
   "metadata": {},
   "source": [
    "## Access Modifiers \n",
    "\n",
    "### Public "
   ]
  },
  {
   "cell_type": "code",
   "execution_count": 1,
   "metadata": {},
   "outputs": [],
   "source": [
    "class Product:\n",
    "    count = 0 \n",
    "\n",
    "    def __init__(self, name, phone, email, item, price, discount):\n",
    "        self.name = name \n",
    "        self.phone =  phone \n",
    "        self.email = email \n",
    "        self.item = item \n",
    "        self.price = price \n",
    "        self.discount = discount \n",
    "        Product.count += 1 \n",
    "\n",
    "    def get_discount(self):\n",
    "        \n",
    "        self.price = self.price - ((self.price * self.discount)/100)\n",
    "        # print(f\"Hurray! you got a {discount_value}% discount.\") \n",
    "\n",
    "    def get_details(self):\n",
    "        print(f\"Name : {self.name}\\nPhone Number : {self.phone}\\nEmail Address : {self.email}\\nProduct Bought : {self.item}\\nPrice : {self.price}\")"
   ]
  },
  {
   "cell_type": "code",
   "execution_count": 2,
   "metadata": {},
   "outputs": [],
   "source": [
    "p1 = Product(\"Sanjay\", 293784235, \"KadamSanjay@123\", \"Iphone 16 Pro Max\", 150000, 10) "
   ]
  },
  {
   "cell_type": "code",
   "execution_count": 3,
   "metadata": {},
   "outputs": [
    {
     "name": "stdout",
     "output_type": "stream",
     "text": [
      "Name : Sanjay\n",
      "Phone Number : 293784235\n",
      "Email Address : KadamSanjay@123\n",
      "Product Bought : Iphone 16 Pro Max\n",
      "Price : 150000\n",
      "Name : Sanjay\n",
      "Phone Number : 293784235\n",
      "Email Address : KadamSanjay@123\n",
      "Product Bought : Iphone 16 Pro Max\n",
      "Price : 135000.0\n"
     ]
    }
   ],
   "source": [
    "p1.get_details() \n",
    "p1.get_discount() \n",
    "p1.get_details() "
   ]
  },
  {
   "cell_type": "code",
   "execution_count": 4,
   "metadata": {},
   "outputs": [
    {
     "data": {
      "text/plain": [
       "{'name': 'Sanjay',\n",
       " 'phone': 293784235,\n",
       " 'email': 'KadamSanjay@123',\n",
       " 'item': 'Iphone 16 Pro Max',\n",
       " 'price': 135000.0,\n",
       " 'discount': 10}"
      ]
     },
     "execution_count": 4,
     "metadata": {},
     "output_type": "execute_result"
    }
   ],
   "source": [
    "vars(p1) "
   ]
  },
  {
   "cell_type": "code",
   "execution_count": 5,
   "metadata": {},
   "outputs": [
    {
     "data": {
      "text/plain": [
       "10"
      ]
     },
     "execution_count": 5,
     "metadata": {},
     "output_type": "execute_result"
    }
   ],
   "source": [
    "p1.discount"
   ]
  },
  {
   "cell_type": "code",
   "execution_count": 6,
   "metadata": {},
   "outputs": [],
   "source": [
    "p1.discount = 100 "
   ]
  },
  {
   "cell_type": "code",
   "execution_count": 7,
   "metadata": {},
   "outputs": [],
   "source": [
    "p1.get_discount() "
   ]
  },
  {
   "cell_type": "code",
   "execution_count": 8,
   "metadata": {},
   "outputs": [
    {
     "name": "stdout",
     "output_type": "stream",
     "text": [
      "Name : Sanjay\n",
      "Phone Number : 293784235\n",
      "Email Address : KadamSanjay@123\n",
      "Product Bought : Iphone 16 Pro Max\n",
      "Price : 0.0\n"
     ]
    }
   ],
   "source": [
    "p1.get_details() "
   ]
  },
  {
   "cell_type": "code",
   "execution_count": 9,
   "metadata": {},
   "outputs": [
    {
     "data": {
      "text/plain": [
       "{'name': 'Sanjay',\n",
       " 'phone': 293784235,\n",
       " 'email': 'KadamSanjay@123',\n",
       " 'item': 'Iphone 16 Pro Max',\n",
       " 'price': 0.0,\n",
       " 'discount': 100}"
      ]
     },
     "execution_count": 9,
     "metadata": {},
     "output_type": "execute_result"
    }
   ],
   "source": [
    "p1.__dict__"
   ]
  },
  {
   "cell_type": "code",
   "execution_count": 9,
   "metadata": {},
   "outputs": [
    {
     "data": {
      "text/plain": [
       "7"
      ]
     },
     "execution_count": 9,
     "metadata": {},
     "output_type": "execute_result"
    }
   ],
   "source": [
    "np.random.randint(1, 8) "
   ]
  },
  {
   "cell_type": "code",
   "execution_count": 51,
   "metadata": {},
   "outputs": [
    {
     "data": {
      "text/plain": [
       "2"
      ]
     },
     "execution_count": 51,
     "metadata": {},
     "output_type": "execute_result"
    }
   ],
   "source": [
    "np.random.randint(1, 3)"
   ]
  },
  {
   "cell_type": "markdown",
   "metadata": {},
   "source": [
    "### Protected"
   ]
  },
  {
   "cell_type": "code",
   "execution_count": 14,
   "metadata": {},
   "outputs": [
    {
     "name": "stdout",
     "output_type": "stream",
     "text": [
      "Name : Jack Sparrow\n",
      "Phone Number : 123456789\n",
      "Email Address : JackSparrow@pirate.com\n",
      "Product Bought : The Black Pearl\n",
      "Price : 100000\n",
      "Name : Jack Sparrow\n",
      "Phone Number : 123456789\n",
      "Email Address : JackSparrow@pirate.com\n",
      "Product Bought : The Black Pearl\n",
      "Price : 90000.0\n"
     ]
    }
   ],
   "source": [
    "class Product:\n",
    "    def __init__(self, name, email, phone, item, price, discount):\n",
    "        self._name = name \n",
    "        self._email = email \n",
    "        self._phone =  phone \n",
    "        self._price = price \n",
    "        self._item = item \n",
    "        self._discount = discount \n",
    "\n",
    "    def _get_discount(self):\n",
    "        \n",
    "        self._price = self._price - ((self._price * self._discount)/100)\n",
    "        # print(f\"Hurray! you got a {discount_value}% discount.\") \n",
    "\n",
    "    def _get_details(self):\n",
    "        print(f\"Name : {self._name}\\nPhone Number : {self._phone}\\nEmail Address : {self._email}\\nProduct Bought : {self._item}\\nPrice : {self._price}\")\n",
    "\n",
    "\n",
    "class FinalResult(Product):\n",
    "    def __init__(self, name, email, phone,item,  price, discount):\n",
    "        super().__init__(name, email, phone, item, price, discount)\n",
    "\n",
    "    def get_details(self):\n",
    "        return  super()._get_details() \n",
    "    \n",
    "    def apply_discount(self):\n",
    "        super()._get_discount() \n",
    "\n",
    "p1 = FinalResult(\"Jack Sparrow\", \"JackSparrow@pirate.com\", 123456789, 'The Black Pearl', 100000, 10) \n",
    "p1.get_details() \n",
    "p1.apply_discount() \n",
    "p1.get_details() \n",
    "\n",
    "        "
   ]
  },
  {
   "cell_type": "code",
   "execution_count": 15,
   "metadata": {},
   "outputs": [
    {
     "data": {
      "text/plain": [
       "{'_name': 'Jack Sparrow',\n",
       " '_email': 'JackSparrow@pirate.com',\n",
       " '_phone': 123456789,\n",
       " '_price': 90000.0,\n",
       " '_item': 'The Black Pearl',\n",
       " '_discount': 10}"
      ]
     },
     "execution_count": 15,
     "metadata": {},
     "output_type": "execute_result"
    }
   ],
   "source": [
    "vars(p1) "
   ]
  },
  {
   "cell_type": "code",
   "execution_count": 16,
   "metadata": {},
   "outputs": [
    {
     "data": {
      "text/plain": [
       "{'_name': 'Jack Sparrow',\n",
       " '_email': 'JackSparrow@pirate.com',\n",
       " '_phone': 123456789,\n",
       " '_price': 90000.0,\n",
       " '_item': 'The Black Pearl',\n",
       " '_discount': 10}"
      ]
     },
     "execution_count": 16,
     "metadata": {},
     "output_type": "execute_result"
    }
   ],
   "source": [
    "p1.__dict__"
   ]
  },
  {
   "cell_type": "code",
   "execution_count": 19,
   "metadata": {},
   "outputs": [],
   "source": [
    "p1._discount = 100 "
   ]
  },
  {
   "cell_type": "code",
   "execution_count": 20,
   "metadata": {},
   "outputs": [],
   "source": [
    "p1.apply_discount() "
   ]
  },
  {
   "cell_type": "code",
   "execution_count": 21,
   "metadata": {},
   "outputs": [
    {
     "name": "stdout",
     "output_type": "stream",
     "text": [
      "Name : Jack Sparrow\n",
      "Phone Number : 123456789\n",
      "Email Address : JackSparrow@pirate.com\n",
      "Product Bought : The Black Pearl\n",
      "Price : 0.0\n"
     ]
    }
   ],
   "source": [
    "p1.get_details() "
   ]
  },
  {
   "cell_type": "markdown",
   "metadata": {},
   "source": [
    "### Private "
   ]
  },
  {
   "cell_type": "code",
   "execution_count": 36,
   "metadata": {},
   "outputs": [],
   "source": [
    "class FinalProduct:\n",
    "    __count = 0 \n",
    "    def __init__(self, name, email, phone, item, price, discount):\n",
    "        self.__name = name \n",
    "        self.__email = email \n",
    "        self.__phone = phone \n",
    "        self.__item = item \n",
    "        self.__price = price \n",
    "        self.__discount = discount \n",
    "\n",
    "    def __get_discount(self):\n",
    "        \n",
    "        self.__price = self.__price - ((self.__price * self.__discount)/100)\n",
    "        # print(f\"Hurray! you got a {discount_value}% discount.\") \n",
    "\n",
    "    def get_discount(self):\n",
    "        self.__get_discount() \n",
    "\n",
    "    def __get_details(self):\n",
    "        print(f\"Name : {self.__name}\\nPhone Number : {self.__phone}\\nEmail Address : {self.__email}\\nProduct Bought : {self.__item}\\nPrice : {self.__price}\")\n",
    "\n",
    "\n",
    "    def get_details(self):\n",
    "        self.__get_details() "
   ]
  },
  {
   "cell_type": "code",
   "execution_count": 38,
   "metadata": {},
   "outputs": [
    {
     "name": "stdout",
     "output_type": "stream",
     "text": [
      "Name : Jack Sparrow\n",
      "Phone Number : 123456789\n",
      "Email Address : JackSparrow@pirate.com\n",
      "Product Bought : The Black Pearl\n",
      "Price : 100000\n",
      "Name : Jack Sparrow\n",
      "Phone Number : 123456789\n",
      "Email Address : JackSparrow@pirate.com\n",
      "Product Bought : The Black Pearl\n",
      "Price : 90000.0\n"
     ]
    }
   ],
   "source": [
    "p2 = FinalProduct(\"Jack Sparrow\", \"JackSparrow@pirate.com\", 123456789, 'The Black Pearl', 100000, 10) \n",
    "p2.get_details() \n",
    "p2.get_discount() \n",
    "p2.get_details()"
   ]
  },
  {
   "cell_type": "code",
   "execution_count": 46,
   "metadata": {},
   "outputs": [
    {
     "data": {
      "text/plain": [
       "{'_FinalProduct__name': 'Jack Sparrow',\n",
       " '_FinalProduct__email': 'JackSparrow@pirate.com',\n",
       " '_FinalProduct__phone': 123456789,\n",
       " '_FinalProduct__item': 'The Black Pearl',\n",
       " '_FinalProduct__price': 90000.0,\n",
       " '_FinalProduct__discount': 100}"
      ]
     },
     "execution_count": 46,
     "metadata": {},
     "output_type": "execute_result"
    }
   ],
   "source": [
    "vars(p2) "
   ]
  },
  {
   "cell_type": "code",
   "execution_count": 45,
   "metadata": {},
   "outputs": [],
   "source": [
    "p2._FinalProduct__discount  = 100 "
   ]
  },
  {
   "cell_type": "code",
   "execution_count": 47,
   "metadata": {},
   "outputs": [
    {
     "data": {
      "text/plain": [
       "mappingproxy({'__module__': '__main__',\n",
       "              '_Product__count': 0,\n",
       "              '__init__': <function __main__.Product.__init__(self, name, email, phone, item, price, discount)>,\n",
       "              '_Product__get_discount': <function __main__.Product.__get_discount(self)>,\n",
       "              '_Product__get_details': <function __main__.Product.__get_details(self)>,\n",
       "              '__dict__': <attribute '__dict__' of 'Product' objects>,\n",
       "              '__weakref__': <attribute '__weakref__' of 'Product' objects>,\n",
       "              '__doc__': None})"
      ]
     },
     "execution_count": 47,
     "metadata": {},
     "output_type": "execute_result"
    }
   ],
   "source": [
    "Product.__dict__"
   ]
  },
  {
   "cell_type": "code",
   "execution_count": 48,
   "metadata": {},
   "outputs": [
    {
     "name": "stdout",
     "output_type": "stream",
     "text": [
      "Name : Jack Sparrow\n",
      "Phone Number : 123456789\n",
      "Email Address : JackSparrow@pirate.com\n",
      "Product Bought : The Black Pearl\n",
      "Price : 0.0\n"
     ]
    }
   ],
   "source": [
    "p2.get_discount() \n",
    "p2.get_details() "
   ]
  },
  {
   "cell_type": "code",
   "execution_count": 9,
   "metadata": {},
   "outputs": [
    {
     "name": "stdout",
     "output_type": "stream",
     "text": [
      "Product : Clothes\n",
      "Final Price : 900.0\n",
      "Product : Mircowave\n",
      "Final Price : 9000.0\n",
      "Product : Chocolate\n",
      "Final Price : 800.0\n"
     ]
    }
   ],
   "source": [
    "class Product:\n",
    "    def __init__(self, item, price, discount):\n",
    "        self.item = item \n",
    "        self.price = price \n",
    "        self.discount = discount \n",
    "\n",
    "    def apply_discount(self):\n",
    "        self.price =  self.price - ((self.price * self.discount) / 100)\n",
    "    \n",
    "    def display_final_price(self):\n",
    "        print(f\"Product : {self.item}\\nFinal Price : {self.price}\")\n",
    "    \n",
    "class LightWeight(Product):\n",
    "    def __init__(self, item, price, discount, weight):\n",
    "        super().__init__(item, price, discount) \n",
    "        self.weight = weight\n",
    "\n",
    "    def apply_light_weight_discount(self):\n",
    "        if self.weight <= 5:\n",
    "            self.price = self.price - (self.price * 0.2)\n",
    "        else:\n",
    "            super().apply_discount() \n",
    "    \n",
    "    def display_final_price(self):\n",
    "        print(f\"Product : {self.item}\\nFinal Price : {self.price}\")\n",
    "\n",
    "p = Product(\"Clothes\", 1000, 10)\n",
    "p.apply_discount() \n",
    "p.display_final_price() \n",
    "\n",
    "lp = LightWeight(\"Mircowave\", 10000, 10, 20)\n",
    "lp.apply_light_weight_discount() \n",
    "lp.display_final_price() \n",
    "\n",
    "lp2 = LightWeight(\"Chocolate\", 1000, 10, 3)\n",
    "lp2.apply_light_weight_discount() \n",
    "lp2.display_final_price() "
   ]
  },
  {
   "cell_type": "code",
   "execution_count": 14,
   "metadata": {},
   "outputs": [],
   "source": [
    "import numpy as np \n",
    "import random \n",
    "import warnings\n",
    "warnings.filterwarnings(\"ignore\")"
   ]
  },
  {
   "cell_type": "code",
   "execution_count": 51,
   "metadata": {},
   "outputs": [
    {
     "name": "stdout",
     "output_type": "stream",
     "text": [
      "Hurry Up! Get upto 6% discount on Groceries\n",
      "Iphone 16 Pro Max added to your cart!\n"
     ]
    }
   ],
   "source": [
    "class User:\n",
    "    def __init__(self, name, email, contact, age, gender):\n",
    "        self.name = name \n",
    "        self.email = email \n",
    "        self.contact = contact \n",
    "        self.age = age \n",
    "        self.gender = gender \n",
    "\n",
    "    def display_discount_template(self):\n",
    "        item = ['Mobiles', 'Eletronics', 'Clothes', 'Accessaries', 'Shoes', 'Groceries', 'Watches', 'Belts', 'Sports', 'Toys']\n",
    "        print(f\"Hurry Up! Get upto {int(np.random.randint(5, 11, 1))}% discount on {item[int(np.random.randint(0, 10, 1))]}\")\n",
    "\n",
    "class Customer(User):\n",
    "    def __init__(self, name, email, contact, age, gender,item, payment_details, address):\n",
    "        super().__init__(name, email, contact,  age, gender) \n",
    "        self.item = item \n",
    "        self.payment_details = payment_details\n",
    "        self.address = address \n",
    "        super().display_discount_template() \n",
    "\n",
    "    def add_to_cart(self):\n",
    "        cart = [] \n",
    "        cart.append(self.item) \n",
    "        print(f\"{self.item} added to your cart!\")\n",
    "\n",
    "        \n",
    "\n",
    "# u1 = User(\"Jack\", \"JackSparrow@Pirate.com\", 203482038, 19, 'Male') \n",
    "# u1.display_discount_template() \n",
    "\n",
    "c1 = Customer(\"Sanju\", \"SanjayKadam@123\", 234238083, 21, \"Male\", \"Iphone 16 Pro Max\", \"NetBanking\", \"Gharpe\") \n",
    "c1.add_to_cart() "
   ]
  },
  {
   "cell_type": "code",
   "execution_count": 20,
   "metadata": {},
   "outputs": [],
   "source": [
    "class User:\n",
    "    def __init__(self, name):\n",
    "        self.name = name \n",
    "\n",
    "    def browsing(self):\n",
    "        print(f\"{self.name} is Browsing!\")\n",
    "    \n",
    "class Customer(User):\n",
    "    def __init__(self, name, customer_id):\n",
    "        super().__init__(name) \n",
    "        self.customer_id = customer_id \n",
    "\n",
    "    def get_Cid(self):\n",
    "        print(f\"Hii {self.name}, Your order is placed for Customer id : {self.customer_id}\")\n",
    "\n",
    "    \n",
    "class PrimeCustomer(Customer):\n",
    "    def __init__(self, name, customer_id, premiumPlan):\n",
    "        super().__init__(name, customer_id) \n",
    "        self.premiumPlan = premiumPlan\n",
    "    \n",
    "    def showPrimePlan(self):\n",
    "        print(f\"Hii {self.name}, your premium plan is {self.premiumPlan}!\")\n",
    "\n"
   ]
  },
  {
   "cell_type": "code",
   "execution_count": 7,
   "metadata": {},
   "outputs": [],
   "source": [
    "p1 = PrimeCustomer(\"Rishi\", 23048028208, \"$12.99/Year\")\n"
   ]
  },
  {
   "cell_type": "code",
   "execution_count": 9,
   "metadata": {},
   "outputs": [
    {
     "name": "stdout",
     "output_type": "stream",
     "text": [
      "Hii Rishi, Your order is placed for Customer id : 23048028208\n"
     ]
    }
   ],
   "source": [
    "p1.get_Cid() "
   ]
  },
  {
   "cell_type": "code",
   "execution_count": 11,
   "metadata": {},
   "outputs": [
    {
     "name": "stdout",
     "output_type": "stream",
     "text": [
      "Hii Rishi, your premium plan is $12.99/Year!\n"
     ]
    }
   ],
   "source": [
    "p1.showPrimePlan() "
   ]
  },
  {
   "cell_type": "code",
   "execution_count": 12,
   "metadata": {},
   "outputs": [],
   "source": [
    "class Phone:\n",
    "    def __init__(self, name):\n",
    "        self.name = name \n",
    "\n",
    "    def calling(self):\n",
    "        print(f\"You Are Calling!\")\n",
    "    \n",
    "    def sms(self):\n",
    "        print(\"You are Sending SMS\")\n",
    "\n",
    "class Computer:\n",
    "    def __init__(self, name):\n",
    "        self.computer_name = name \n",
    "\n",
    "    def browsing(self):\n",
    "        print(f\"You are Browsing!\")\n",
    "\n",
    "    def gaming(self):\n",
    "        print(f\"You are Playing Games!\")\n",
    "\n",
    "class SmartPhone(Phone, Computer):\n",
    "    def __init__(self, name):\n",
    "        self.name = name \n",
    "\n",
    "    def photography(self):\n",
    "        print(f\"You are Taking selfie!\")\n",
    "\n",
    "    def moneytransfer(self):\n",
    "        print(f\"You can Transfer Money!\")\n",
    "\n"
   ]
  },
  {
   "cell_type": "code",
   "execution_count": 13,
   "metadata": {},
   "outputs": [],
   "source": [
    "p1 = SmartPhone(\"Iphone 16 Pro Max\")"
   ]
  },
  {
   "cell_type": "code",
   "execution_count": 14,
   "metadata": {},
   "outputs": [
    {
     "name": "stdout",
     "output_type": "stream",
     "text": [
      "You Are Calling!\n"
     ]
    }
   ],
   "source": [
    "p1.calling() "
   ]
  },
  {
   "cell_type": "code",
   "execution_count": 15,
   "metadata": {},
   "outputs": [
    {
     "name": "stdout",
     "output_type": "stream",
     "text": [
      "You are Sending SMS\n"
     ]
    }
   ],
   "source": [
    "p1.sms() "
   ]
  },
  {
   "cell_type": "code",
   "execution_count": 16,
   "metadata": {},
   "outputs": [
    {
     "name": "stdout",
     "output_type": "stream",
     "text": [
      "You are Playing Games!\n"
     ]
    }
   ],
   "source": [
    "p1.gaming() "
   ]
  },
  {
   "cell_type": "code",
   "execution_count": 17,
   "metadata": {},
   "outputs": [
    {
     "name": "stdout",
     "output_type": "stream",
     "text": [
      "You are Browsing!\n"
     ]
    }
   ],
   "source": [
    "p1.browsing() "
   ]
  },
  {
   "cell_type": "code",
   "execution_count": 18,
   "metadata": {},
   "outputs": [
    {
     "name": "stdout",
     "output_type": "stream",
     "text": [
      "You can Transfer Money!\n"
     ]
    }
   ],
   "source": [
    "p1.moneytransfer() "
   ]
  },
  {
   "cell_type": "code",
   "execution_count": 19,
   "metadata": {},
   "outputs": [
    {
     "name": "stdout",
     "output_type": "stream",
     "text": [
      "You are Taking selfie!\n"
     ]
    }
   ],
   "source": [
    "p1.photography() "
   ]
  },
  {
   "cell_type": "code",
   "execution_count": 1,
   "metadata": {},
   "outputs": [
    {
     "name": "stdout",
     "output_type": "stream",
     "text": [
      "Accelerator is applied\n"
     ]
    }
   ],
   "source": [
    "# Hierarichal Inheritence \n",
    "\n",
    "class Vehicle:\n",
    "    def brakes(self):\n",
    "        print(f\"Brakes are applied\") \n",
    "    \n",
    "    def accelerate(self):\n",
    "        print(f\"Accelerator is applied\")\n",
    "\n",
    "    def left_turn(self):\n",
    "        print(f\"Taking Left Turn\")\n",
    "\n",
    "    def right_turn(self):\n",
    "        print(f\"Taking Left turn\")\n",
    "\n",
    "class Bike(Vehicle):\n",
    "    def HorsePower(self):\n",
    "        print(f\"Having Great Horse Power\") \n",
    "\n",
    "class Car(Vehicle):\n",
    "    def ac(self):\n",
    "        print(f\"Ac is started\") \n",
    "    \n",
    "class Train(  ):\n",
    "    def cargo(self):\n",
    "        print(f\"Cargo Container's Could be loaded\") \n",
    "\n",
    "vb = Train() \n",
    "vb.accelerate() "
   ]
  },
  {
   "cell_type": "code",
   "execution_count": 5,
   "metadata": {},
   "outputs": [],
   "source": [
    "# class SavingAccount:\n",
    "#     def __init__(self, name, age, gender, phone, acc_no):\n",
    "#         self.name = name \n",
    "#         self.age = age \n",
    "#         self.gender = gender \n",
    "#         self.phone =  phone \n",
    "#         self.acc_no = acc_no\n",
    "\n",
    "#     def SavingAccountOpen(self):\n",
    "#         print(f\"Congratulations {self.name}! Your saving account is successfully created and your account number is {self.acc_no}\")\n",
    "\n",
    "#     def DebitCard(self):\n",
    "#         print(f\"Congratulations {self.name}! Your Debit Card for {self.acc_no} is issued\")\n",
    "    \n",
    "\n",
    "# class Credit_Card(SavingAccount):\n",
    "#     def __init__(self, name, age, gender, phone, acc_no, credit_card_no, credit_limit):\n",
    "#         super().__init__(name, age, gender, phone, acc_no)\n",
    "#         self.credit_card_no = credit_card_no\n",
    "#         self.credit_limit = credit_limit \n",
    " \n",
    "#     def creditCardActivation(self):\n",
    "#         print(f\"Congratulations {self.name}! Your Credit Card for {self.credit_card_no} is issued\")\n",
    "\n",
    "#     def NotifyCreditLimit(self):\n",
    "#         print(f\"Your Credit Card Limit is {self.credit_limit}\")   \n",
    "\n",
    "# class BankLoan(SavingAccount):\n",
    "#     def __init__(self, name, age, gender, phone, acc_no, pan_no, loan_ammount, itr):\n",
    "#         super().__init__(name, age, gender, phone, acc_no)\n",
    "#         self.pan_no =  pan_no\n",
    "#         self.loan_ammount = loan_ammount\n",
    "#         self.itr = itr \n",
    "\n",
    "#     def loanProcess(self):\n",
    "#         print(f\"Congratulations {self.name}! Your loan process is accepted\") \n",
    "    \n",
    "# class StudentAccount(Credit_Card, BankLoan):\n",
    "#     def __init__(self, name, age, gender, phone, acc_no, credit_card_no, credit_limit, pan_no, loan_ammount, itr):\n",
    "#         Credit_Card.__init__(self, name, age, gender, phone, acc_no, credit_card_no, credit_limit)\n",
    "#         BankLoan.__init__(self, name, age, gender, phone, acc_no, pan_no, loan_ammount, itr)\n",
    "    \n",
    "#     def StudentAccountActivation(self):\n",
    "#         print(f\"Congratulations {self.name}! Your Student Account has been activated!\")  \n",
    "\n"
   ]
  },
  {
   "cell_type": "code",
   "execution_count": 4,
   "metadata": {},
   "outputs": [],
   "source": [
    "# # Creating a StudentAccount instance\n",
    "# s1 = StudentAccount(\"Sanjay\", 20, \"M\", 2374937, 2397498237893, 93284723987923, 500000, \"ghsdun523\", 20383, \"202489sfh\")\n",
    "\n",
    "# # Testing the methods\n",
    "# s1.StudentAccountActivation()\n",
    "# s1.creditCardActivation()\n",
    "# s1.NotifyCreditLimit()\n",
    "# s1.loanProcess()\n"
   ]
  },
  {
   "cell_type": "code",
   "execution_count": 3,
   "metadata": {},
   "outputs": [],
   "source": [
    "# class SavingAccount:\n",
    "#     def __init__(self, name, age, gender, phone, acc_no):\n",
    "#         self.name = name \n",
    "#         self.age = age \n",
    "#         self.gender = gender \n",
    "#         self.phone = phone \n",
    "#         self.acc_no = acc_no\n",
    "\n",
    "#     def SavingAccountOpen(self):\n",
    "#         print(f\"Congratulations {self.name}! Your saving account is successfully created and your account number is {self.acc_no}\")\n",
    "\n",
    "#     def DebitCard(self):\n",
    "#         print(f\"Congratulations {self.name}! Your Debit Card for {self.acc_no} is issued\")\n",
    "\n",
    "\n",
    "# class Credit_Card:\n",
    "#     def __init__(self, credit_card_no, credit_limit):\n",
    "#         self.credit_card_no = credit_card_no\n",
    "#         self.credit_limit = credit_limit\n",
    "\n",
    "#     def creditCardActivation(self):\n",
    "#         print(f\"Congratulations! Your Credit Card {self.credit_card_no} is issued.\")\n",
    "\n",
    "#     def NotifyCreditLimit(self):\n",
    "#         print(f\"Your Credit Card Limit is {self.credit_limit}\")\n",
    "\n",
    "\n",
    "# class BankLoan:\n",
    "#     def __init__(self, pan_no, loan_amount, itr):\n",
    "#         self.pan_no = pan_no\n",
    "#         self.loan_amount = loan_amount\n",
    "#         self.itr = itr\n",
    "\n",
    "#     def loanProcess(self):\n",
    "#         print(f\"Congratulations! Your loan process is accepted.\")\n",
    "\n",
    "\n",
    "# class StudentAccount:\n",
    "#     def __init__(self, name, age, gender, phone, acc_no, credit_card_no, credit_limit, pan_no, loan_amount, itr):\n",
    "#         # Instead of multiple inheritance, we use composition\n",
    "#         self.saving_account = SavingAccount(name, age, gender, phone, acc_no)\n",
    "#         self.credit_card = Credit_Card(credit_card_no, credit_limit)\n",
    "#         self.bank_loan = BankLoan(pan_no, loan_amount, itr)\n",
    "\n",
    "#     def StudentAccountActivation(self):\n",
    "#         print(f\"Congratulations {self.saving_account.name}! Your Student Account has been activated!\")\n",
    "\n",
    "#     def showLoanDetails(self):\n",
    "#         print(f\"Loan Amount: {self.bank_loan.loan_amount}, ITR: {self.bank_loan.itr}, PAN: {self.bank_loan.pan_no}\")\n",
    "\n",
    "\n",
    "# # Creating a StudentAccount instance\n",
    "# s1 = StudentAccount(\"Sanjay\", 20, \"M\", 2374937, 2397498237893, 93284723987923, 500000, \"ghsdun523\", 20383, \"202489sfh\")\n",
    "\n",
    "# # Testing the methods\n",
    "# s1.StudentAccountActivation()\n",
    "# s1.credit_card.creditCardActivation()\n",
    "# s1.credit_card.NotifyCreditLimit()\n",
    "# s1.bank_loan.loanProcess()\n",
    "# s1.showLoanDetails()\n"
   ]
  },
  {
   "cell_type": "code",
   "execution_count": null,
   "metadata": {},
   "outputs": [],
   "source": []
  }
 ],
 "metadata": {
  "kernelspec": {
   "display_name": "Python 3",
   "language": "python",
   "name": "python3"
  },
  "language_info": {
   "codemirror_mode": {
    "name": "ipython",
    "version": 3
   },
   "file_extension": ".py",
   "mimetype": "text/x-python",
   "name": "python",
   "nbconvert_exporter": "python",
   "pygments_lexer": "ipython3",
   "version": "3.12.8"
  }
 },
 "nbformat": 4,
 "nbformat_minor": 2
}
