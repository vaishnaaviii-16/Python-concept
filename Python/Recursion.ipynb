{
 "cells": [
  {
   "cell_type": "code",
   "execution_count": 1,
   "metadata": {},
   "outputs": [],
   "source": [
    "# Recursion "
   ]
  },
  {
   "cell_type": "code",
   "execution_count": null,
   "metadata": {},
   "outputs": [],
   "source": []
  },
  {
   "cell_type": "code",
   "execution_count": 5,
   "metadata": {},
   "outputs": [
    {
     "name": "stdout",
     "output_type": "stream",
     "text": [
      "0 : 0\n",
      "1 : 1\n",
      "2 : 3\n",
      "3 : 6\n",
      "4 : 10\n",
      "5 : 15\n",
      "6 : 21\n",
      "7 : 28\n",
      "8 : 36\n",
      "9 : 45\n",
      "10 : 55\n"
     ]
    }
   ],
   "source": [
    "def fun(n):\n",
    "    if n == 0:\n",
    "        return 0 \n",
    "    if n == 1:\n",
    "        return 1 \n",
    "    \n",
    "    return n + fun(n-1) \n",
    "\n",
    "for i in range(0, 11):\n",
    "    print(f\"{i} : {fun(i)}\")"
   ]
  },
  {
   "cell_type": "code",
   "execution_count": 8,
   "metadata": {},
   "outputs": [
    {
     "name": "stdout",
     "output_type": "stream",
     "text": [
      "0 : 0\n",
      "1 : 1\n",
      "2 : 3\n",
      "3 : 6\n",
      "4 : 10\n",
      "5 : 15\n",
      "6 : 21\n",
      "7 : 28\n",
      "8 : 36\n",
      "9 : 45\n",
      "10 : 55\n"
     ]
    }
   ],
   "source": [
    "def fun(n : int) -> int:\n",
    "    if n == 0 or n == 1:\n",
    "        return n \n",
    "    \n",
    "    return n + fun(n-1) \n",
    "\n",
    "for i in range(0, 11):\n",
    "    print(f\"{i} : {fun(i)}\")"
   ]
  },
  {
   "cell_type": "code",
   "execution_count": 10,
   "metadata": {},
   "outputs": [
    {
     "name": "stdout",
     "output_type": "stream",
     "text": [
      "0 : 0\n",
      "1 : 1\n",
      "2 : 3\n",
      "3 : 6\n",
      "4 : 10\n",
      "5 : 15\n",
      "6 : 21\n",
      "7 : 28\n",
      "8 : 36\n",
      "9 : 45\n",
      "10 : 55\n"
     ]
    }
   ],
   "source": [
    "def sum_of_n_natural_number(n : int) -> int:\n",
    "    # base case \n",
    "    if n ==  0 or n == 1:\n",
    "        return n \n",
    "    \n",
    "    # induction hypothesis \n",
    "    small_ans = sum_of_n_natural_number(n-1) \n",
    "\n",
    "    # induction step \n",
    "    final_ans = small_ans + n \n",
    "    return final_ans\n",
    "\n",
    "for i in range(0, 11):\n",
    "    print(f\"{i} : {sum_of_n_natural_number(i)}\")"
   ]
  },
  {
   "cell_type": "code",
   "execution_count": 11,
   "metadata": {},
   "outputs": [
    {
     "name": "stdout",
     "output_type": "stream",
     "text": [
      "0 : 1\n",
      "1 : 1\n",
      "2 : 2\n",
      "3 : 6\n",
      "4 : 24\n",
      "5 : 120\n",
      "6 : 720\n",
      "7 : 5040\n",
      "8 : 40320\n",
      "9 : 362880\n",
      "10 : 3628800\n"
     ]
    }
   ],
   "source": [
    "# Factorial of a number \n",
    "\n",
    "def factorial(n : int) -> int:\n",
    "    # base case \n",
    "    if n == 0 or n == 1:\n",
    "        return 1\n",
    "    \n",
    "    # induction hypothesis \n",
    "    small_ans = factorial(n-1) \n",
    "\n",
    "    # induction step \n",
    "    final_ans = small_ans * n \n",
    "    return final_ans\n",
    "\n",
    "for i in range(0, 11):\n",
    "    print(f\"{i} : {factorial(i)}\")"
   ]
  },
  {
   "cell_type": "code",
   "execution_count": 12,
   "metadata": {},
   "outputs": [
    {
     "data": {
      "text/plain": [
       "9455"
      ]
     },
     "execution_count": 12,
     "metadata": {},
     "output_type": "execute_result"
    }
   ],
   "source": []
  },
  {
   "cell_type": "code",
   "execution_count": 13,
   "metadata": {},
   "outputs": [
    {
     "name": "stdout",
     "output_type": "stream",
     "text": [
      "1\n",
      "2\n",
      "3\n",
      "4\n",
      "5\n"
     ]
    }
   ],
   "source": [
    "\n",
    "\n",
    "def print_1_to_n(n):\n",
    "    if n==0:\n",
    "     return\n",
    "    print_1_to_n(n-1)\n",
    "\n",
    "    print(n)\n",
    "\n",
    "print_1_to_n(5)"
   ]
  },
  {
   "cell_type": "code",
   "execution_count": 14,
   "metadata": {},
   "outputs": [],
   "source": [
    "def factorial(n : int) -> int:\n",
    "    # base case \n",
    "    if n == 0 or n == 1:\n",
    "        return 1\n",
    "    # induction  hypothesis \n",
    "    ans = factorial(n-1) \n",
    "    # induction step \n",
    "    return ans * n \n",
    "\n"
   ]
  },
  {
   "cell_type": "code",
   "execution_count": 15,
   "metadata": {},
   "outputs": [
    {
     "name": "stdout",
     "output_type": "stream",
     "text": [
      "0 : 1\n",
      "1 : 1\n",
      "2 : 2\n",
      "3 : 6\n",
      "4 : 24\n",
      "5 : 120\n",
      "6 : 720\n",
      "7 : 5040\n",
      "8 : 40320\n",
      "9 : 362880\n",
      "10 : 3628800\n"
     ]
    }
   ],
   "source": [
    "for i in range(0, 11):\n",
    "    print(f\"{i} : {factorial(i)}\")"
   ]
  },
  {
   "cell_type": "code",
   "execution_count": 19,
   "metadata": {},
   "outputs": [
    {
     "data": {
      "text/plain": [
       "15"
      ]
     },
     "execution_count": 19,
     "metadata": {},
     "output_type": "execute_result"
    }
   ],
   "source": [
    "def n_number(n):\n",
    "\n",
    "    #base case\n",
    "    if n==0:\n",
    "        return 0\n",
    "    else:\n",
    "        if n==1:\n",
    "            return 1\n",
    "        #induction hyp\n",
    "        ans=n_number(n-1)\n",
    "        #induction step\n",
    "        return ans+n\n",
    "n_number(5)\n",
    "n  nb \n",
    "\n"
   ]
  },
  {
   "cell_type": "code",
   "execution_count": 22,
   "metadata": {},
   "outputs": [],
   "source": [
    "def printTable(n, i):\n",
    "    if i == 0:\n",
    "        return \n",
    "    \n",
    "    printTable(n, i-1) \n",
    "\n",
    "    print(f\"{n} * {i} = {n*i}\")"
   ]
  },
  {
   "cell_type": "code",
   "execution_count": 24,
   "metadata": {},
   "outputs": [
    {
     "name": "stdout",
     "output_type": "stream",
     "text": [
      "25 * 1 = 25\n",
      "25 * 2 = 50\n",
      "25 * 3 = 75\n",
      "25 * 4 = 100\n",
      "25 * 5 = 125\n",
      "25 * 6 = 150\n",
      "25 * 7 = 175\n",
      "25 * 8 = 200\n",
      "25 * 9 = 225\n",
      "25 * 10 = 250\n"
     ]
    }
   ],
   "source": [
    "printTable(int(input()),10) "
   ]
  },
  {
   "cell_type": "code",
   "execution_count": null,
   "metadata": {},
   "outputs": [],
   "source": []
  },
  {
   "cell_type": "code",
   "execution_count": null,
   "metadata": {},
   "outputs": [],
   "source": []
  },
  {
   "cell_type": "code",
   "execution_count": 2,
   "metadata": {},
   "outputs": [
    {
     "name": "stdout",
     "output_type": "stream",
     "text": [
      "8312.5\n"
     ]
    }
   ],
   "source": [
    "a = int(input()) \n",
    "b = int(input()) \n",
    "c = int(input()) \n",
    "\n",
    "ans = ((a + b) * c) * (5 / (100 * 2))\n",
    "print(ans)   "
   ]
  },
  {
   "cell_type": "code",
   "execution_count": 4,
   "metadata": {},
   "outputs": [],
   "source": [
    "# ghkvhk"
   ]
  },
  {
   "cell_type": "code",
   "execution_count": null,
   "metadata": {},
   "outputs": [],
   "source": []
  },
  {
   "cell_type": "markdown",
   "metadata": {},
   "source": [
    "# HI\n",
    "\n",
    "## HI\n",
    "\n",
    "### HI\n",
    "\n",
    "#### HI\n",
    "\n",
    "##### HI|\n"
   ]
  },
  {
   "cell_type": "markdown",
   "metadata": {},
   "source": []
  }
 ],
 "metadata": {
  "kernelspec": {
   "display_name": "Python 3",
   "language": "python",
   "name": "python3"
  },
  "language_info": {
   "codemirror_mode": {
    "name": "ipython",
    "version": 3
   },
   "file_extension": ".py",
   "mimetype": "text/x-python",
   "name": "python",
   "nbconvert_exporter": "python",
   "pygments_lexer": "ipython3",
   "version": "3.12.8"
  }
 },
 "nbformat": 4,
 "nbformat_minor": 2
}
