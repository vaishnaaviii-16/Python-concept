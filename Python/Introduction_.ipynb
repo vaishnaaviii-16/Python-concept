{
 "cells": [
  {
   "cell_type": "code",
   "execution_count": 1,
   "metadata": {},
   "outputs": [
    {
     "name": "stdout",
     "output_type": "stream",
     "text": [
      "225\n"
     ]
    }
   ],
   "source": [
    "'''\n",
    "\n",
    "Area of Square : side * side \n",
    "\n",
    "input : Side \n",
    "output : Area\n",
    "'''\n",
    "\n",
    "side = 15 \n",
    "area = side * side \n",
    "print(area) "
   ]
  },
  {
   "cell_type": "code",
   "execution_count": 2,
   "metadata": {},
   "outputs": [
    {
     "name": "stdout",
     "output_type": "stream",
     "text": [
      "70\n"
     ]
    }
   ],
   "source": [
    "'''\n",
    "Rectangle \n",
    "\n",
    "Area = Length * breadth \n",
    "\n",
    "input : Length , Breadth \n",
    "Area : length * breadth \n",
    "\n",
    "'''\n",
    "\n",
    "# Single LIne comment \n",
    "\n",
    "length = 10 \n",
    "breadth = 7\n",
    "\n",
    "area = length * breadth\n",
    "print(area) "
   ]
  },
  {
   "cell_type": "code",
   "execution_count": 3,
   "metadata": {},
   "outputs": [
    {
     "name": "stdout",
     "output_type": "stream",
     "text": [
      "10 <class 'int'>\n"
     ]
    }
   ],
   "source": [
    "a = 10 \n",
    "print(a, type(a)) "
   ]
  },
  {
   "cell_type": "code",
   "execution_count": 4,
   "metadata": {},
   "outputs": [
    {
     "name": "stdout",
     "output_type": "stream",
     "text": [
      "3 <class 'int'>\n"
     ]
    }
   ],
   "source": [
    "pi = 3\n",
    "print(pi, type(pi)) "
   ]
  },
  {
   "cell_type": "code",
   "execution_count": 5,
   "metadata": {},
   "outputs": [
    {
     "name": "stdout",
     "output_type": "stream",
     "text": [
      "(5+2j) <class 'complex'>\n"
     ]
    }
   ],
   "source": [
    "cmp = 5 + 2j \n",
    "print(cmp, type(cmp))"
   ]
  },
  {
   "cell_type": "code",
   "execution_count": 6,
   "metadata": {},
   "outputs": [
    {
     "name": "stdout",
     "output_type": "stream",
     "text": [
      "Jack Sparrow <class 'str'>\n"
     ]
    }
   ],
   "source": [
    "s = \"Jack Sparrow\" \n",
    "print(s, type(s)) "
   ]
  },
  {
   "cell_type": "code",
   "execution_count": 7,
   "metadata": {},
   "outputs": [
    {
     "name": "stdout",
     "output_type": "stream",
     "text": [
      "[1, 2, 3, 4, 5] <class 'list'>\n"
     ]
    }
   ],
   "source": [
    "li = [1, 2, 3, 4, 5] \n",
    "print(li, type(li)) "
   ]
  },
  {
   "cell_type": "code",
   "execution_count": 8,
   "metadata": {},
   "outputs": [
    {
     "name": "stdout",
     "output_type": "stream",
     "text": [
      "(1, 2, 3, 4, 5) <class 'tuple'>\n"
     ]
    }
   ],
   "source": [
    "a = (1, 2, 3, 4, 5) \n",
    "print(a, type(a)) "
   ]
  },
  {
   "cell_type": "code",
   "execution_count": 17,
   "metadata": {},
   "outputs": [
    {
     "name": "stdout",
     "output_type": "stream",
     "text": [
      "True <class 'bool'>\n"
     ]
    }
   ],
   "source": [
    "x = True \n",
    "print(x, type(x)) "
   ]
  },
  {
   "cell_type": "code",
   "execution_count": 9,
   "metadata": {},
   "outputs": [
    {
     "name": "stdout",
     "output_type": "stream",
     "text": [
      "{'Movie_name': 'Pirates of the Carribean', 'Movie cast': 'Johny Depp, Keira Knightley', 'Movie Duration': 119} <class 'dict'>\n"
     ]
    }
   ],
   "source": [
    "c = {\n",
    "    'Movie_name' : \"Pirates of the Carribean\", \n",
    "    'Movie cast' : 'Johny Depp, Keira Knightley', \n",
    "    'Movie Duration' : 119\n",
    "}\n",
    "\n",
    "print(c, type(c)) "
   ]
  },
  {
   "cell_type": "code",
   "execution_count": 10,
   "metadata": {},
   "outputs": [],
   "source": [
    "# square = lambda x : x ** 2 \n",
    "# cube = lambda x : x ** 3 \n",
    "# sqrt = lambda x : x ** (1/2) \n",
    "# cbrt = lambda x : x ** (1/3) \n",
    "\n",
    "# for i in range(1, 26):\n",
    "#     print(f\"Element = {i}, Square : {square(i)}, Cube : {cube(i)}, Square Root : {sqrt(i)}, Cube Root : {cbrt(i)}\")"
   ]
  },
  {
   "cell_type": "code",
   "execution_count": 25,
   "metadata": {},
   "outputs": [
    {
     "name": "stdout",
     "output_type": "stream",
     "text": [
      "a = 100.5, b = 11, Data Type of a : <class 'float'>, Data type of b : <class 'int'>\n",
      "100.5 + 11 = 111.5\n",
      "100.5 - 11 = 89.5\n",
      "100.5 * 11 = 1105.5\n",
      "100.5 / 11 =  9.14\n",
      "100.5 // 11 = 9.0\n",
      "100.5 % 11 = 1.5\n",
      "100.5 ** 11 = 1.0563958327009945e+22\n"
     ]
    }
   ],
   "source": [
    "# AritheMatic Operators (input : int/float, output : int/ float)\n",
    "\n",
    "a = 100.5\n",
    "b =  11\n",
    "print(f\"a = {a}, b = {b}, Data Type of a : {type(a)}, Data type of b : {type(b)}\")\n",
    "\n",
    "print(f\"{a} + {b} = {a + b}\")\n",
    "print(f\"{a} - {b} = {a - b}\")\n",
    "print(f\"{a} * {b} = {a * b}\")\n",
    "print(f\"{a} / {b} = {a / b : .2f}\")\n",
    "print(f\"{a} // {b} = {a // b}\")\n",
    "print(f\"{a} % {b} = {a % b}\")\n",
    "print(f\"{a} ** {b} = {a ** b}\")\n"
   ]
  },
  {
   "cell_type": "code",
   "execution_count": 12,
   "metadata": {},
   "outputs": [],
   "source": [
    "temp = (a + b) * (a - b) "
   ]
  },
  {
   "cell_type": "code",
   "execution_count": 13,
   "metadata": {},
   "outputs": [
    {
     "data": {
      "text/plain": [
       "99.39315871829409"
      ]
     },
     "execution_count": 13,
     "metadata": {},
     "output_type": "execute_result"
    }
   ],
   "source": [
    "temp ** 0.5"
   ]
  },
  {
   "cell_type": "code",
   "execution_count": 14,
   "metadata": {},
   "outputs": [
    {
     "data": {
      "text/plain": [
       "9878.3721"
      ]
     },
     "execution_count": 14,
     "metadata": {},
     "output_type": "execute_result"
    }
   ],
   "source": [
    "99.39 ** 2"
   ]
  },
  {
   "cell_type": "code",
   "execution_count": 15,
   "metadata": {},
   "outputs": [
    {
     "data": {
      "text/plain": [
       "3"
      ]
     },
     "execution_count": 15,
     "metadata": {},
     "output_type": "execute_result"
    }
   ],
   "source": [
    "pi "
   ]
  },
  {
   "cell_type": "code",
   "execution_count": 16,
   "metadata": {},
   "outputs": [
    {
     "name": "stdout",
     "output_type": "stream",
     "text": [
      "300\n"
     ]
    }
   ],
   "source": [
    "r = 10 \n",
    "ans = pi * r * r \n",
    "print(ans) "
   ]
  },
  {
   "cell_type": "code",
   "execution_count": 49,
   "metadata": {},
   "outputs": [
    {
     "name": "stdout",
     "output_type": "stream",
     "text": [
      "10 == 10 : True\n",
      "10 != 10 : False\n",
      "10 < 10 : False\n",
      "10 > 10 : False\n",
      "10 <= 10 : True\n",
      "10 >= 10 : True\n"
     ]
    }
   ],
   "source": [
    "# Comparison Operator \n",
    "\n",
    "a = 10 \n",
    "b = 10 \n",
    "\n",
    "print(f\"{a} == {b} : {a == b}\")\n",
    "print(f\"{a} != {b} : {a != b}\")\n",
    "print(f\"{a} < {b} : {a < b}\")\n",
    "print(f\"{a} > {b} : {a > b}\")\n",
    "print(f\"{a} <= {b} : {a <= b}\")\n",
    "print(f\"{a} >= {b} : {a >= b}\")\n"
   ]
  },
  {
   "cell_type": "code",
   "execution_count": 28,
   "metadata": {},
   "outputs": [
    {
     "name": "stdout",
     "output_type": "stream",
     "text": [
      "False\n"
     ]
    }
   ],
   "source": [
    "print('Raj Singh' == 'Raj Om Singh')"
   ]
  },
  {
   "cell_type": "code",
   "execution_count": 40,
   "metadata": {},
   "outputs": [
    {
     "name": "stdout",
     "output_type": "stream",
     "text": [
      "True\n"
     ]
    }
   ],
   "source": [
    "a = 10 \n",
    "b = 20 \n",
    "\n",
    "print(a != b) "
   ]
  },
  {
   "cell_type": "code",
   "execution_count": 50,
   "metadata": {},
   "outputs": [
    {
     "name": "stdout",
     "output_type": "stream",
     "text": [
      "False False False True\n"
     ]
    }
   ],
   "source": [
    "a = 10 \n",
    "b = 3 \n",
    "\n",
    "print(a < b, b > a, a == b, a != b) "
   ]
  },
  {
   "cell_type": "code",
   "execution_count": null,
   "metadata": {},
   "outputs": [],
   "source": []
  }
 ],
 "metadata": {
  "kernelspec": {
   "display_name": "Python 3",
   "language": "python",
   "name": "python3"
  },
  "language_info": {
   "codemirror_mode": {
    "name": "ipython",
    "version": 3
   },
   "file_extension": ".py",
   "mimetype": "text/x-python",
   "name": "python",
   "nbconvert_exporter": "python",
   "pygments_lexer": "ipython3",
   "version": "3.12.8"
  }
 },
 "nbformat": 4,
 "nbformat_minor": 2
}
