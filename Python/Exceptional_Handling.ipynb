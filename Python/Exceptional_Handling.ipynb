{
 "cells": [
  {
   "cell_type": "code",
   "execution_count": 5,
   "metadata": {},
   "outputs": [
    {
     "name": "stdout",
     "output_type": "stream",
     "text": [
      "3.0\n"
     ]
    },
    {
     "ename": "ZeroDivisionError",
     "evalue": "division by zero",
     "output_type": "error",
     "traceback": [
      "\u001b[1;31m---------------------------------------------------------------------------\u001b[0m",
      "\u001b[1;31mZeroDivisionError\u001b[0m                         Traceback (most recent call last)",
      "Cell \u001b[1;32mIn[5], line 5\u001b[0m\n\u001b[0;32m      2\u001b[0m     \u001b[38;5;28;01mreturn\u001b[39;00m a \u001b[38;5;241m/\u001b[39m b \n\u001b[0;32m      4\u001b[0m \u001b[38;5;28mprint\u001b[39m(div(\u001b[38;5;241m9\u001b[39m, \u001b[38;5;241m3\u001b[39m)) \n\u001b[1;32m----> 5\u001b[0m \u001b[38;5;28mprint\u001b[39m(\u001b[43mdiv\u001b[49m\u001b[43m(\u001b[49m\u001b[38;5;241;43m9\u001b[39;49m\u001b[43m,\u001b[49m\u001b[43m \u001b[49m\u001b[38;5;241;43m0\u001b[39;49m\u001b[43m)\u001b[49m) \n",
      "Cell \u001b[1;32mIn[5], line 2\u001b[0m, in \u001b[0;36mdiv\u001b[1;34m(a, b)\u001b[0m\n\u001b[0;32m      1\u001b[0m \u001b[38;5;28;01mdef\u001b[39;00m \u001b[38;5;21mdiv\u001b[39m(a, b):\n\u001b[1;32m----> 2\u001b[0m     \u001b[38;5;28;01mreturn\u001b[39;00m \u001b[43ma\u001b[49m\u001b[43m \u001b[49m\u001b[38;5;241;43m/\u001b[39;49m\u001b[43m \u001b[49m\u001b[43mb\u001b[49m\n",
      "\u001b[1;31mZeroDivisionError\u001b[0m: division by zero"
     ]
    }
   ],
   "source": [
    "def div(a, b):\n",
    "    return a / b \n",
    "\n",
    "print(div(9, 3)) \n",
    "print(div(9, 0)) "
   ]
  },
  {
   "cell_type": "markdown",
   "metadata": {},
   "source": [
    "try-except-else clause "
   ]
  },
  {
   "cell_type": "code",
   "execution_count": 14,
   "metadata": {},
   "outputs": [
    {
     "name": "stdout",
     "output_type": "stream",
     "text": [
      "This is Always Executed!\n",
      "3.0\n"
     ]
    }
   ],
   "source": [
    "def div(a, b):\n",
    "    try:\n",
    "        ans = a / b \n",
    "    except ZeroDivisionError:\n",
    "        return \"Denominator Cannot Be Zero!\"\n",
    "    else:\n",
    "        return ans \n",
    "    finally:\n",
    "        print(\"This is Always Executed!\")\n",
    "    \n",
    "print(div(9, 3)) "
   ]
  },
  {
   "cell_type": "code",
   "execution_count": 15,
   "metadata": {},
   "outputs": [
    {
     "name": "stdout",
     "output_type": "stream",
     "text": [
      "This is Always Executed!\n",
      "Denominator Cannot Be Zero!\n"
     ]
    }
   ],
   "source": [
    "print(div(9,0)) "
   ]
  },
  {
   "cell_type": "code",
   "execution_count": 19,
   "metadata": {},
   "outputs": [
    {
     "name": "stdout",
     "output_type": "stream",
     "text": [
      "My Job is Done!\n",
      "100\n"
     ]
    }
   ],
   "source": [
    "def CalculateArea(side):\n",
    "    try:\n",
    "        area = side * side \n",
    "    except TypeError:\n",
    "        return \"Excpected int data type!\"\n",
    "    else:\n",
    "        return area \n",
    "    finally:\n",
    "        print(\"My Job is Done!\")\n",
    "side = 10\n",
    "print(CalculateArea(side)) \n"
   ]
  },
  {
   "cell_type": "code",
   "execution_count": 22,
   "metadata": {},
   "outputs": [
    {
     "name": "stdout",
     "output_type": "stream",
     "text": [
      "0 : 1\n",
      "1 : 1\n",
      "2 : 2\n",
      "3 : 6\n",
      "4 : 24\n",
      "5 : 120\n",
      "6 : 720\n",
      "7 : 5040\n",
      "8 : 40320\n",
      "9 : 362880\n"
     ]
    }
   ],
   "source": [
    "# Iterative \n",
    "\n",
    "def fact(n):\n",
    "    ans = 1 \n",
    "    for i in range(1, n+1):\n",
    "        ans = ans * i \n",
    "    \n",
    "    return ans \n",
    "\n",
    "for i in range(0, 10):\n",
    "    print(f\"{i} : {fact(i)}\")"
   ]
  },
  {
   "cell_type": "code",
   "execution_count": 30,
   "metadata": {},
   "outputs": [
    {
     "name": "stdout",
     "output_type": "stream",
     "text": [
      "0 : 1\n",
      "1 : 1\n",
      "2 : 2\n",
      "3 : 6\n",
      "4 : 24\n",
      "5 : 120\n",
      "6 : 720\n",
      "7 : 5040\n",
      "8 : 40320\n",
      "9 : 362880\n"
     ]
    }
   ],
   "source": [
    "def fact_rec(n):\n",
    "    if n == 0 or n == 1:\n",
    "        return 1 \n",
    "    small_ans = fact_rec(n-1) \n",
    "    ans = small_ans * n \n",
    "    return ans \n",
    "\n",
    "for i in range(0, 10):\n",
    "    print(f\"{i} : {fact_rec(i)}\")"
   ]
  },
  {
   "cell_type": "code",
   "execution_count": null,
   "metadata": {},
   "outputs": [],
   "source": []
  },
  {
   "cell_type": "code",
   "execution_count": null,
   "metadata": {},
   "outputs": [],
   "source": []
  }
 ],
 "metadata": {
  "kernelspec": {
   "display_name": "Python 3",
   "language": "python",
   "name": "python3"
  },
  "language_info": {
   "codemirror_mode": {
    "name": "ipython",
    "version": 3
   },
   "file_extension": ".py",
   "mimetype": "text/x-python",
   "name": "python",
   "nbconvert_exporter": "python",
   "pygments_lexer": "ipython3",
   "version": "3.12.8"
  }
 },
 "nbformat": 4,
 "nbformat_minor": 2
}
