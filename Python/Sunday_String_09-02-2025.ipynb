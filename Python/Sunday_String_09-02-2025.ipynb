{
 "cells": [
  {
   "cell_type": "code",
   "execution_count": 1,
   "metadata": {},
   "outputs": [],
   "source": [
    "# How to Initialize a string "
   ]
  },
  {
   "cell_type": "code",
   "execution_count": 5,
   "metadata": {},
   "outputs": [
    {
     "name": "stdout",
     "output_type": "stream",
     "text": [
      "Jack sparrow <class 'str'> 2411258384240\n"
     ]
    }
   ],
   "source": [
    "s = 'Jack sparrow'\n",
    "\n",
    "print(s, type(s), id(s)) "
   ]
  },
  {
   "cell_type": "code",
   "execution_count": 6,
   "metadata": {},
   "outputs": [
    {
     "name": "stdout",
     "output_type": "stream",
     "text": [
      "Micheal Jackson <class 'str'> 2411256948720\n"
     ]
    }
   ],
   "source": [
    "k = \"Micheal Jackson\" \n",
    "\n",
    "print(k, type(k), id(k)) "
   ]
  },
  {
   "cell_type": "code",
   "execution_count": 7,
   "metadata": {},
   "outputs": [
    {
     "name": "stdout",
     "output_type": "stream",
     "text": [
      "Keira Knightley  <class 'str'> 2411256943984\n"
     ]
    }
   ],
   "source": [
    "# Taking input from the user \n",
    "\n",
    "name = input(\"Enter your name : \")\n",
    "print(name, type(name), id(name)) "
   ]
  },
  {
   "cell_type": "code",
   "execution_count": 17,
   "metadata": {},
   "outputs": [
    {
     "name": "stdout",
     "output_type": "stream",
     "text": [
      "J\n",
      "w\n",
      "Negative Indexing\n",
      "w\n",
      " \n",
      "J\n"
     ]
    }
   ],
   "source": [
    "# Indexing \n",
    "\n",
    "'''\n",
    "1. Normal Indexing (forward indexing) \n",
    "\n",
    "2. Negative Indexing \n",
    "'''\n",
    "\n",
    "s = 'Jack Sparrow' \n",
    "\n",
    "print(s[0]) \n",
    "print(s[11]) \n",
    "# print(s[12]) : IndexError: string index out of range \n",
    "print(\"Negative Indexing\")\n",
    "print(s[-1]) \n",
    "print(s[-8])\n",
    "print(s[-12])\n",
    "# print(s[-14]) : IndexError: string index out of range "
   ]
  },
  {
   "cell_type": "code",
   "execution_count": 30,
   "metadata": {},
   "outputs": [
    {
     "name": "stdout",
     "output_type": "stream",
     "text": [
      "Jack Sparrow\n",
      "Jack\n",
      "Sparrow\n",
      "ck Spa\n",
      "Length of string : 12\n"
     ]
    }
   ],
   "source": [
    "# Slicing ([start : stop : step/stride])\n",
    "'''\n",
    "Default Values of slicing \n",
    "\n",
    "Start : 0 \n",
    "Stop : len(string) \n",
    "Step : 1 \n",
    "\n",
    "'''\n",
    "\n",
    "print(s) \n",
    "\n",
    "\n",
    "print(s[0:4:1])\n",
    "print(s[5:12:1])\n",
    "print(s[2:8:1])\n",
    "print(f\"Length of string : {len(s)}\")"
   ]
  },
  {
   "cell_type": "code",
   "execution_count": 35,
   "metadata": {},
   "outputs": [
    {
     "name": "stdout",
     "output_type": "stream",
     "text": [
      "Jack Sparrow\n",
      "Jack\n",
      "Jack\n",
      "Jack\n",
      "Sparrow\n",
      "Sparrow\n",
      "Sparrow\n",
      "Sparrow\n",
      "ack Sparrow\n",
      "ack Sparrow\n"
     ]
    }
   ],
   "source": [
    "print(s) \n",
    "\n",
    "print(s[0:4:1])\n",
    "print(s[0:4:])\n",
    "print(s[:4:])\n",
    "\n",
    "print(s[5:12:1])\n",
    "print(s[5:12:])\n",
    "print(s[5:len(s):])\n",
    "print(s[5::])\n",
    "print(s[1:len(s):1])\n",
    "print(s[1::])"
   ]
  },
  {
   "cell_type": "code",
   "execution_count": 37,
   "metadata": {},
   "outputs": [
    {
     "name": "stdout",
     "output_type": "stream",
     "text": [
      "worr\n"
     ]
    }
   ],
   "source": [
    "print(s[-1:-5:-1])"
   ]
  },
  {
   "cell_type": "code",
   "execution_count": 38,
   "metadata": {},
   "outputs": [
    {
     "name": "stdout",
     "output_type": "stream",
     "text": [
      "kcaJ\n"
     ]
    }
   ],
   "source": [
    "print(s[-9:-13:-1])"
   ]
  },
  {
   "cell_type": "code",
   "execution_count": 40,
   "metadata": {},
   "outputs": [
    {
     "name": "stdout",
     "output_type": "stream",
     "text": [
      "worrapS kcaJ\n"
     ]
    }
   ],
   "source": [
    "# Reversing a string \n",
    "\n",
    "print(s[::-1])"
   ]
  },
  {
   "cell_type": "code",
   "execution_count": 43,
   "metadata": {},
   "outputs": [
    {
     "name": "stdout",
     "output_type": "stream",
     "text": [
      "Jack Sparrow\n",
      "Jc pro\n",
      "Jkpr\n"
     ]
    }
   ],
   "source": [
    "print(s[::1])\n",
    "print(s[::2])\n",
    "print(s[::3])"
   ]
  },
  {
   "cell_type": "code",
   "execution_count": 44,
   "metadata": {},
   "outputs": [
    {
     "name": "stdout",
     "output_type": "stream",
     "text": [
      "Jack Sparrow\n"
     ]
    }
   ],
   "source": [
    "print(s) "
   ]
  },
  {
   "cell_type": "code",
   "execution_count": 46,
   "metadata": {},
   "outputs": [
    {
     "ename": "TypeError",
     "evalue": "'str' object does not support item assignment",
     "output_type": "error",
     "traceback": [
      "\u001b[1;31m---------------------------------------------------------------------------\u001b[0m",
      "\u001b[1;31mTypeError\u001b[0m                                 Traceback (most recent call last)",
      "Cell \u001b[1;32mIn[46], line 1\u001b[0m\n\u001b[1;32m----> 1\u001b[0m \u001b[43ms\u001b[49m\u001b[43m[\u001b[49m\u001b[38;5;241;43m0\u001b[39;49m\u001b[43m]\u001b[49m \u001b[38;5;241m=\u001b[39m \u001b[38;5;124m'\u001b[39m\u001b[38;5;124mM\u001b[39m\u001b[38;5;124m'\u001b[39m\n",
      "\u001b[1;31mTypeError\u001b[0m: 'str' object does not support item assignment"
     ]
    }
   ],
   "source": [
    "s[0] = 'M'"
   ]
  },
  {
   "cell_type": "code",
   "execution_count": 48,
   "metadata": {},
   "outputs": [
    {
     "name": "stdout",
     "output_type": "stream",
     "text": [
      "JackSparrow\n",
      "Jack Sparrow\n"
     ]
    }
   ],
   "source": [
    "# Concatenation \n",
    "\n",
    "a = \"Jack\" \n",
    "b = \"Sparrow\" \n",
    "\n",
    "print(a + b) \n",
    "print(a + \" \" + b)"
   ]
  },
  {
   "cell_type": "code",
   "execution_count": 57,
   "metadata": {},
   "outputs": [
    {
     "name": "stdout",
     "output_type": "stream",
     "text": [
      "Jack\n",
      "Jack Jack Jack Jack Jack \n"
     ]
    }
   ],
   "source": [
    "# Repetation \n",
    "\n",
    "print(a) \n",
    "print((a + \" \") * 5) "
   ]
  },
  {
   "cell_type": "code",
   "execution_count": 58,
   "metadata": {},
   "outputs": [
    {
     "name": "stdout",
     "output_type": "stream",
     "text": [
      "Jack Jack Jack Jack Jack \n",
      "Jack\n",
      "Jack\n",
      "Jack\n",
      "Jack\n",
      "Jack\n"
     ]
    }
   ],
   "source": [
    "new = (a + \" \") * 5 \n",
    "print(new) \n",
    "for item in new.split():\n",
    "    print(item)  \n"
   ]
  },
  {
   "cell_type": "code",
   "execution_count": 60,
   "metadata": {},
   "outputs": [
    {
     "name": "stdout",
     "output_type": "stream",
     "text": [
      "Jack Sparrow\n",
      "Length of string : 12\n"
     ]
    }
   ],
   "source": [
    "print(s) \n",
    "print(f\"Length of string : {len(s)}\")"
   ]
  },
  {
   "cell_type": "code",
   "execution_count": 64,
   "metadata": {},
   "outputs": [
    {
     "name": "stdout",
     "output_type": "stream",
     "text": [
      "0 : J\n",
      "1 : a\n",
      "2 : c\n",
      "3 : k\n",
      "4 :  \n",
      "5 : S\n",
      "6 : p\n",
      "7 : a\n",
      "8 : r\n",
      "9 : r\n",
      "10 : o\n",
      "11 : w\n"
     ]
    }
   ],
   "source": [
    "for i in range(0, len(s), 1):\n",
    "    print(f\"{i} : {s[i]}\") "
   ]
  },
  {
   "cell_type": "code",
   "execution_count": 72,
   "metadata": {},
   "outputs": [
    {
     "name": "stdout",
     "output_type": "stream",
     "text": [
      "J\n",
      "a\n",
      "c\n",
      "k\n",
      " \n",
      "S\n",
      "p\n",
      "a\n",
      "r\n",
      "r\n",
      "o\n",
      "w\n"
     ]
    }
   ],
   "source": [
    "for i in range(len(s)):\n",
    "    print(s[i], end = \"\\n\")"
   ]
  },
  {
   "cell_type": "code",
   "execution_count": 73,
   "metadata": {},
   "outputs": [
    {
     "name": "stdout",
     "output_type": "stream",
     "text": [
      "J\ta\tc\tk\t \tS\tp\ta\tr\tr\to\tw\t"
     ]
    }
   ],
   "source": [
    "for i in range(len(s)):\n",
    "    print(s[i], end = \"\\t\")"
   ]
  },
  {
   "cell_type": "code",
   "execution_count": 74,
   "metadata": {},
   "outputs": [
    {
     "name": "stdout",
     "output_type": "stream",
     "text": [
      "J a c k   S p a r r o w "
     ]
    }
   ],
   "source": [
    "for i in range(len(s)):\n",
    "    print(s[i], end = \" \")"
   ]
  },
  {
   "cell_type": "code",
   "execution_count": 75,
   "metadata": {},
   "outputs": [
    {
     "name": "stdout",
     "output_type": "stream",
     "text": [
      "Jack Sparrow"
     ]
    }
   ],
   "source": [
    "for i in range(len(s)):\n",
    "    print(s[i], end = \"\")"
   ]
  },
  {
   "cell_type": "code",
   "execution_count": 78,
   "metadata": {},
   "outputs": [
    {
     "name": "stdout",
     "output_type": "stream",
     "text": [
      "J\n",
      "a\n",
      "c\n",
      "k\n",
      " \n",
      "S\n",
      "p\n",
      "a\n",
      "r\n",
      "r\n",
      "o\n",
      "w\n"
     ]
    }
   ],
   "source": [
    "for character in s:\n",
    "    print(character, end = \"\\n\") "
   ]
  },
  {
   "cell_type": "code",
   "execution_count": 80,
   "metadata": {},
   "outputs": [
    {
     "name": "stdout",
     "output_type": "stream",
     "text": [
      "Jack Sparrow"
     ]
    }
   ],
   "source": [
    "for character in s:\n",
    "    print(character, end = \"\") "
   ]
  },
  {
   "cell_type": "code",
   "execution_count": 83,
   "metadata": {},
   "outputs": [
    {
     "name": "stdout",
     "output_type": "stream",
     "text": [
      "0 : J  J\n",
      "1 : a  a\n",
      "2 : c  c\n",
      "3 : k  k\n",
      "4 :     \n",
      "5 : S  S\n",
      "6 : p  p\n",
      "7 : a  a\n",
      "8 : r  r\n",
      "9 : r  r\n",
      "10 : o  o\n",
      "11 : w  w\n"
     ]
    }
   ],
   "source": [
    "for index, item in enumerate(s):\n",
    "    print(f\"{index} : {item}  {s[index]}\")"
   ]
  },
  {
   "cell_type": "code",
   "execution_count": 84,
   "metadata": {},
   "outputs": [
    {
     "name": "stdout",
     "output_type": "stream",
     "text": [
      "4\n"
     ]
    }
   ],
   "source": [
    "for index, item in enumerate(s):\n",
    "    if item == ' ':\n",
    "        print(index) \n",
    "    else:\n",
    "        continue "
   ]
  },
  {
   "cell_type": "code",
   "execution_count": 85,
   "metadata": {},
   "outputs": [
    {
     "name": "stdout",
     "output_type": "stream",
     "text": [
      "4\n"
     ]
    }
   ],
   "source": [
    "for i in range(len(s)): # getting the index \n",
    "    if s[i] == ' ': # s[i] : accessing , s[i] == ' ': comparison \n",
    "        print(i) # printing the index \n",
    "    else:\n",
    "        continue # skipping the iteration "
   ]
  },
  {
   "cell_type": "code",
   "execution_count": 127,
   "metadata": {},
   "outputs": [],
   "source": [
    "s = \"Do not reveal what you have thought upon doing, but by wise council keep it secret being determined to carry it into execution\""
   ]
  },
  {
   "cell_type": "code",
   "execution_count": 96,
   "metadata": {},
   "outputs": [
    {
     "data": {
      "text/plain": [
       "['Do',\n",
       " 'not',\n",
       " 'reveal',\n",
       " 'what',\n",
       " 'you',\n",
       " 'have',\n",
       " 'thought',\n",
       " 'upon',\n",
       " 'doing,',\n",
       " 'but',\n",
       " 'by',\n",
       " 'wise',\n",
       " 'council',\n",
       " 'keep',\n",
       " 'it',\n",
       " 'secret',\n",
       " 'being',\n",
       " 'determined',\n",
       " 'to',\n",
       " 'carry',\n",
       " 'it',\n",
       " 'into',\n",
       " 'execution']"
      ]
     },
     "execution_count": 96,
     "metadata": {},
     "output_type": "execute_result"
    }
   ],
   "source": [
    "s.split() "
   ]
  },
  {
   "cell_type": "code",
   "execution_count": 97,
   "metadata": {},
   "outputs": [
    {
     "data": {
      "text/plain": [
       "23"
      ]
     },
     "execution_count": 97,
     "metadata": {},
     "output_type": "execute_result"
    }
   ],
   "source": [
    "len(s.split(' ')) "
   ]
  },
  {
   "cell_type": "code",
   "execution_count": 98,
   "metadata": {},
   "outputs": [
    {
     "data": {
      "text/plain": [
       "102"
      ]
     },
     "execution_count": 98,
     "metadata": {},
     "output_type": "execute_result"
    }
   ],
   "source": [
    "len(s) - len(s.split()) -1 "
   ]
  },
  {
   "cell_type": "code",
   "execution_count": 99,
   "metadata": {},
   "outputs": [
    {
     "data": {
      "text/plain": [
       "104"
      ]
     },
     "execution_count": 99,
     "metadata": {},
     "output_type": "execute_result"
    }
   ],
   "source": [
    "len(\"Donotrevealwhatyouhavethoughtupondoing,butbywisecouncilkeepitsecretbeingdeterminedtocarryitintoexecution\")"
   ]
  },
  {
   "cell_type": "code",
   "execution_count": 93,
   "metadata": {},
   "outputs": [
    {
     "name": "stdout",
     "output_type": "stream",
     "text": [
      "31\n",
      "6\n"
     ]
    }
   ],
   "source": [
    "s = \"Jack sparrow is the best pirate\" \n",
    "li = s.split() \n",
    "\n",
    "print(len(s)) \n",
    "print(len(li)) "
   ]
  },
  {
   "cell_type": "code",
   "execution_count": 103,
   "metadata": {},
   "outputs": [],
   "source": [
    "count = 0 \n",
    "\n",
    "for char in s:\n",
    "    if char == ' ':\n",
    "        continue \n",
    "    else:\n",
    "        count += 1 "
   ]
  },
  {
   "cell_type": "code",
   "execution_count": 104,
   "metadata": {},
   "outputs": [
    {
     "name": "stdout",
     "output_type": "stream",
     "text": [
      "104\n"
     ]
    }
   ],
   "source": [
    "print(count) "
   ]
  },
  {
   "cell_type": "code",
   "execution_count": 105,
   "metadata": {},
   "outputs": [
    {
     "data": {
      "text/plain": [
       "['a', 'an', 'the', 'a', 'an', 'the', 'a', 'an', 'the', 'a', 'an', 'the']"
      ]
     },
     "execution_count": 105,
     "metadata": {},
     "output_type": "execute_result"
    }
   ],
   "source": [
    "s = 'a an the a an the a an the a an the'\n",
    "\n",
    "s.split() "
   ]
  },
  {
   "cell_type": "code",
   "execution_count": 106,
   "metadata": {},
   "outputs": [
    {
     "name": "stdout",
     "output_type": "stream",
     "text": [
      "{'a': 4, 'an': 4, 'the': 4}\n"
     ]
    }
   ],
   "source": [
    "d = {} \n",
    "\n",
    "for word in s.split():\n",
    "    d[word] = d.get(word, 0) + 1 \n",
    "\n",
    "print(d) "
   ]
  },
  {
   "cell_type": "code",
   "execution_count": 108,
   "metadata": {},
   "outputs": [
    {
     "name": "stdout",
     "output_type": "stream",
     "text": [
      "{'d': 4, 'o': 10, ' ': 22, 'n': 8, 't': 12, 'r': 5, 'e': 14, 'v': 2, 'a': 4, 'l': 2, 'w': 2, 'h': 4, 'y': 3, 'u': 6, 'g': 3, 'p': 2, 'i': 9, ',': 1, 'b': 3, 's': 2, 'c': 5, 'k': 1, 'm': 1, 'x': 1}\n"
     ]
    }
   ],
   "source": [
    "s = \"Do not reveal what you have thought upon doing, but by wise council keep it secret being determined to carry it into execution\" \n",
    "\n",
    "\n",
    "char_dict = {} \n",
    "\n",
    "for char in s:\n",
    "    char_dict[char.lower()] = char_dict.get(char.lower(), 0) + 1 \n",
    "\n",
    "print(char_dict)"
   ]
  },
  {
   "cell_type": "code",
   "execution_count": 111,
   "metadata": {},
   "outputs": [
    {
     "name": "stdout",
     "output_type": "stream",
     "text": [
      "{'Do': 1, 'not': 1, 'reveal': 1, 'what': 1, 'you': 1, 'have': 1, 'thought': 1, 'upon': 1, 'doing,': 1, 'but': 1, 'by': 1, 'wise': 1, 'council': 1, 'keep': 1, 'it': 2, 'secret': 1, 'being': 1, 'determined': 1, 'to': 1, 'carry': 1, 'into': 1, 'execution': 1}\n"
     ]
    }
   ],
   "source": [
    "word_dict = {} \n",
    "\n",
    "for word in s.split():\n",
    "    word_dict[word] = word_dict.get(word, 0) + 1 \n",
    "\n",
    "print(word_dict)"
   ]
  },
  {
   "cell_type": "code",
   "execution_count": 119,
   "metadata": {},
   "outputs": [],
   "source": [
    "s = \"Jack Sparrow\" \n",
    "# s[0] = \"M\""
   ]
  },
  {
   "cell_type": "code",
   "execution_count": 120,
   "metadata": {},
   "outputs": [
    {
     "name": "stdout",
     "output_type": "stream",
     "text": [
      "Jack Sparrow 2411266423600\n"
     ]
    }
   ],
   "source": [
    "print(s, id(s)) "
   ]
  },
  {
   "cell_type": "code",
   "execution_count": 121,
   "metadata": {},
   "outputs": [],
   "source": [
    "s = s.replace(\"Sparrow\", \"Daniels\") "
   ]
  },
  {
   "cell_type": "code",
   "execution_count": 123,
   "metadata": {},
   "outputs": [
    {
     "name": "stdout",
     "output_type": "stream",
     "text": [
      "Jack Daniels 2411266513328\n"
     ]
    }
   ],
   "source": [
    "print(s, id(s)) "
   ]
  },
  {
   "cell_type": "code",
   "execution_count": 126,
   "metadata": {},
   "outputs": [
    {
     "name": "stdout",
     "output_type": "stream",
     "text": [
      "J\n",
      "Ji\n",
      "Jic\n",
      "Jick\n",
      "Jick \n",
      "Jick s\n",
      "Jick sp\n",
      "Jick spi\n",
      "Jick spir\n",
      "Jick spirr\n",
      "Jick spirro\n",
      "Jick spirrow\n",
      "Jack sparrow 2411266085872\n",
      "Jick spirrow 2411266083376\n"
     ]
    }
   ],
   "source": [
    "s = \"Jack sparrow\" \n",
    "new_s = '' \n",
    "\n",
    "for char in s:\n",
    "    if char == 'a':\n",
    "        new_s += 'i' \n",
    "    else:\n",
    "        new_s += char \n",
    "    \n",
    "    print(new_s) \n",
    "\n",
    "\n",
    "print(s, id(s)) \n",
    "print(new_s, id(new_s)) "
   ]
  },
  {
   "cell_type": "code",
   "execution_count": 129,
   "metadata": {},
   "outputs": [],
   "source": [
    "s = \"Do not reveal what you have thought upon doing, but by wise council keep it secret being determined to carry it into execution\""
   ]
  },
  {
   "cell_type": "code",
   "execution_count": 136,
   "metadata": {},
   "outputs": [
    {
     "data": {
      "text/plain": [
       "False"
      ]
     },
     "execution_count": 136,
     "metadata": {},
     "output_type": "execute_result"
    }
   ],
   "source": [
    "s.startswith(\"Do not  \")"
   ]
  },
  {
   "cell_type": "code",
   "execution_count": 138,
   "metadata": {},
   "outputs": [
    {
     "data": {
      "text/plain": [
       "False"
      ]
     },
     "execution_count": 138,
     "metadata": {},
     "output_type": "execute_result"
    }
   ],
   "source": [
    "google = 'https://www.google.com'\n",
    "brave = 'http://www.brave.com' \n",
    "\n",
    "brave.startswith(\"https\")"
   ]
  },
  {
   "cell_type": "code",
   "execution_count": 139,
   "metadata": {},
   "outputs": [
    {
     "data": {
      "text/plain": [
       "True"
      ]
     },
     "execution_count": 139,
     "metadata": {},
     "output_type": "execute_result"
    }
   ],
   "source": [
    "google.endswith(\".com\")"
   ]
  },
  {
   "cell_type": "code",
   "execution_count": 140,
   "metadata": {},
   "outputs": [
    {
     "name": "stdout",
     "output_type": "stream",
     "text": [
      "Do not reveal what you have thought upon doing, but by wise council keep it secret being determined to carry it into execution\n"
     ]
    }
   ],
   "source": [
    "print(s) "
   ]
  },
  {
   "cell_type": "code",
   "execution_count": 141,
   "metadata": {},
   "outputs": [
    {
     "data": {
      "text/plain": [
       "'DO NOT REVEAL WHAT YOU HAVE THOUGHT UPON DOING, BUT BY WISE COUNCIL KEEP IT SECRET BEING DETERMINED TO CARRY IT INTO EXECUTION'"
      ]
     },
     "execution_count": 141,
     "metadata": {},
     "output_type": "execute_result"
    }
   ],
   "source": [
    "s.upper() "
   ]
  },
  {
   "cell_type": "code",
   "execution_count": 142,
   "metadata": {},
   "outputs": [
    {
     "data": {
      "text/plain": [
       "'do not reveal what you have thought upon doing, but by wise council keep it secret being determined to carry it into execution'"
      ]
     },
     "execution_count": 142,
     "metadata": {},
     "output_type": "execute_result"
    }
   ],
   "source": [
    "s.lower() "
   ]
  },
  {
   "cell_type": "code",
   "execution_count": 143,
   "metadata": {},
   "outputs": [
    {
     "data": {
      "text/plain": [
       "'Do not reveal what you have thought upon doing, but by wise council keep it secret being determined to carry it into execution'"
      ]
     },
     "execution_count": 143,
     "metadata": {},
     "output_type": "execute_result"
    }
   ],
   "source": [
    "s.capitalize() "
   ]
  },
  {
   "cell_type": "code",
   "execution_count": 144,
   "metadata": {},
   "outputs": [
    {
     "data": {
      "text/plain": [
       "126"
      ]
     },
     "execution_count": 144,
     "metadata": {},
     "output_type": "execute_result"
    }
   ],
   "source": [
    "len(s) "
   ]
  },
  {
   "cell_type": "code",
   "execution_count": 147,
   "metadata": {},
   "outputs": [],
   "source": [
    "s1 = 'abc' \n",
    "s2 = '123' \n",
    "s3 = 'abc123' "
   ]
  },
  {
   "cell_type": "code",
   "execution_count": null,
   "metadata": {},
   "outputs": [],
   "source": [
    "print(f\"String : {s1}\")\n",
    "print(f\"Alphabets : {s1.isalpha()}\")\n",
    "print(f\"Numbers : {s1.isnumeric()}\")\n",
    "print(f'Alpha-Numeric : {s1.isalnum()}')\n",
    "\n",
    "print(f\"\\nString : {s2}\")\n",
    "print(f\"Alphabets : {s2.isalpha()}\")\n",
    "print(f\"Numbers : {s2.isnumeric()}\")\n",
    "print(f'Alpha-Numeric : {s2.isalnum()}')\n",
    "\n",
    "print(f\"\\nString : {s3}\")\n",
    "print(f\"Alphabets : {s3.isalpha()}\")\n",
    "print(f\"Numbers : {s3.isnumeric()}\")\n",
    "print(f'Alpha-Numeric : {s3.isalnum()}')"
   ]
  },
  {
   "cell_type": "code",
   "execution_count": 167,
   "metadata": {},
   "outputs": [
    {
     "name": "stdout",
     "output_type": "stream",
     "text": [
      "ABCXYZ54321 ,&%)\n",
      "Length of string : 16\n",
      "Alphabets : 6\n",
      "Number : 5\n",
      "Special Characters : 5\n"
     ]
    }
   ],
   "source": [
    "string = 'ABCXYZ54321 ,&%)'\n",
    "\n",
    "print(string) \n",
    "print(f\"Length of string : {len(string)}\")\n",
    "\n",
    "alpha_count = 0 \n",
    "num_count = 0 \n",
    "sp_count = 0 \n",
    "for char in string:\n",
    "    if char.isalnum():\n",
    "        if char.isalpha():\n",
    "            alpha_count += 1 \n",
    "        elif char.isnumeric():\n",
    "            num_count += 1 \n",
    "    else:\n",
    "        sp_count += 1 \n",
    "print(f\"Alphabets : {alpha_count}\\nNumber : {num_count}\\nSpecial Characters : {sp_count}\")"
   ]
  },
  {
   "cell_type": "code",
   "execution_count": 165,
   "metadata": {},
   "outputs": [
    {
     "name": "stdout",
     "output_type": "stream",
     "text": [
      "Character : A, Alphabet : True, Number : False, AlphaNumeric : True\n",
      "Character : B, Alphabet : True, Number : False, AlphaNumeric : True\n",
      "Character : C, Alphabet : True, Number : False, AlphaNumeric : True\n",
      "Character : 1, Alphabet : False, Number : True, AlphaNumeric : True\n",
      "Character : 2, Alphabet : False, Number : True, AlphaNumeric : True\n",
      "Character : 3, Alphabet : False, Number : True, AlphaNumeric : True\n",
      "Character : !, Alphabet : False, Number : False, AlphaNumeric : False\n",
      "Character : @, Alphabet : False, Number : False, AlphaNumeric : False\n",
      "Character : #, Alphabet : False, Number : False, AlphaNumeric : False\n"
     ]
    }
   ],
   "source": [
    "string = \"ABC123!@#\" \n",
    "\n",
    "for item in string:\n",
    "    print(f\"Character : {item}, Alphabet : {item.isalpha()}, Number : {item.isnumeric()}, AlphaNumeric : {item.isalnum()}\") "
   ]
  },
  {
   "cell_type": "code",
   "execution_count": null,
   "metadata": {},
   "outputs": [],
   "source": []
  }
 ],
 "metadata": {
  "kernelspec": {
   "display_name": "Python 3",
   "language": "python",
   "name": "python3"
  },
  "language_info": {
   "codemirror_mode": {
    "name": "ipython",
    "version": 3
   },
   "file_extension": ".py",
   "mimetype": "text/x-python",
   "name": "python",
   "nbconvert_exporter": "python",
   "pygments_lexer": "ipython3",
   "version": "3.12.8"
  }
 },
 "nbformat": 4,
 "nbformat_minor": 2
}
