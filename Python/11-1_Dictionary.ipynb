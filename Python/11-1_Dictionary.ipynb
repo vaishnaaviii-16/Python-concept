{
 "cells": [
  {
   "cell_type": "code",
   "execution_count": 1,
   "metadata": {},
   "outputs": [
    {
     "name": "stdout",
     "output_type": "stream",
     "text": [
      "{} <class 'dict'>\n"
     ]
    }
   ],
   "source": [
    "d = {} \n",
    "\n",
    "print(d, type(d)) "
   ]
  },
  {
   "cell_type": "code",
   "execution_count": 2,
   "metadata": {},
   "outputs": [],
   "source": [
    "d = {\n",
    "    'a': 1, \n",
    "    'b': 2, \n",
    "    'c' : 3\n",
    "}"
   ]
  },
  {
   "cell_type": "code",
   "execution_count": 3,
   "metadata": {},
   "outputs": [
    {
     "name": "stdout",
     "output_type": "stream",
     "text": [
      "{'a': 1, 'b': 2, 'c': 3} <class 'dict'>\n"
     ]
    }
   ],
   "source": [
    "print(d, type(d)) "
   ]
  },
  {
   "cell_type": "code",
   "execution_count": 4,
   "metadata": {},
   "outputs": [
    {
     "name": "stdout",
     "output_type": "stream",
     "text": [
      "{} <class 'dict'>\n"
     ]
    }
   ],
   "source": [
    "d = dict() \n",
    "\n",
    "print(d, type(d)) "
   ]
  },
  {
   "cell_type": "code",
   "execution_count": 6,
   "metadata": {},
   "outputs": [
    {
     "name": "stdout",
     "output_type": "stream",
     "text": [
      "{140: 2, 150: 5, 147: 8} <class 'dict'>\n"
     ]
    }
   ],
   "source": [
    "d = dict([(140 , 2), (150, 5), (147, 8)])\n",
    "\n",
    "print(d, type(d)) "
   ]
  },
  {
   "cell_type": "code",
   "execution_count": null,
   "metadata": {},
   "outputs": [
    {
     "name": "stdout",
     "output_type": "stream",
     "text": [
      "{'Jack': 1, 'IronMan': 2, 'CaptainAmerica': 3, 'BlackWidow': 4, 'Loki': 5}\n"
     ]
    }
   ],
   "source": [
    "n = int(input(\"Enter the Number of elements you want to input in a dictionary : \"))\n",
    "\n",
    "d = dict() \n",
    "for i in range(n):\n",
    "    key, value = input().split() \n",
    "\n",
    "    d[key] = int(value) \n",
    "\n",
    "print(d) \n"
   ]
  },
  {
   "cell_type": "code",
   "execution_count": 13,
   "metadata": {},
   "outputs": [
    {
     "name": "stdout",
     "output_type": "stream",
     "text": [
      "{}\n",
      "{'JackSparrow': 200}\n",
      "{'JackSparrow': 200, 'BlackWidow': 500}\n",
      "{'JackSparrow': 200, 'BlackWidow': 500, 'IronMan': 1000}\n",
      "{'JackSparrow': 200, 'BlackWidow': 500, 'IronMan': 1000, 'CaptainAmerica': 2000}\n"
     ]
    }
   ],
   "source": [
    "d = {} \n",
    "\n",
    "print(d) \n",
    "\n",
    "d['JackSparrow'] = 200\n",
    "\n",
    "print(d) \n",
    "\n",
    "d['BlackWidow'] = 500 \n",
    "\n",
    "print(d) \n",
    "\n",
    "d['IronMan'] = 1000 \n",
    "\n",
    "print(d) \n",
    "\n",
    "d['CaptainAmerica'] = 2000 \n",
    "\n",
    "print(d) "
   ]
  },
  {
   "cell_type": "code",
   "execution_count": 11,
   "metadata": {},
   "outputs": [
    {
     "data": {
      "text/plain": [
       "\"\\ninput ==> 'JackSparrow 200'\\ninput().split() ==> ['JackSparrow', '200'] \\n\\nkey, value = input().split() ==> key = 'JackSparrow', value = '200' \\n\\nd[key] = int(value) ==> d['JackSparrow'] = 200 \\n\""
      ]
     },
     "execution_count": 11,
     "metadata": {},
     "output_type": "execute_result"
    }
   ],
   "source": [
    "'''\n",
    "input ==> 'JackSparrow 200'\n",
    "input().split() ==> ['JackSparrow', '200'] \n",
    "\n",
    "key, value = input().split() ==> key = 'JackSparrow', value = '200' \n",
    "\n",
    "d[key] = int(value) ==> d['JackSparrow'] = 200 \n",
    "'''\n"
   ]
  },
  {
   "cell_type": "code",
   "execution_count": 15,
   "metadata": {},
   "outputs": [
    {
     "name": "stdout",
     "output_type": "stream",
     "text": [
      "2000\n"
     ]
    }
   ],
   "source": [
    "print(d['CaptainAmerica'])"
   ]
  },
  {
   "cell_type": "code",
   "execution_count": 16,
   "metadata": {},
   "outputs": [
    {
     "ename": "KeyError",
     "evalue": "'SpiderMan'",
     "output_type": "error",
     "traceback": [
      "\u001b[1;31m---------------------------------------------------------------------------\u001b[0m",
      "\u001b[1;31mKeyError\u001b[0m                                  Traceback (most recent call last)",
      "Cell \u001b[1;32mIn[16], line 1\u001b[0m\n\u001b[1;32m----> 1\u001b[0m \u001b[43md\u001b[49m\u001b[43m[\u001b[49m\u001b[38;5;124;43m'\u001b[39;49m\u001b[38;5;124;43mSpiderMan\u001b[39;49m\u001b[38;5;124;43m'\u001b[39;49m\u001b[43m]\u001b[49m\n",
      "\u001b[1;31mKeyError\u001b[0m: 'SpiderMan'"
     ]
    }
   ],
   "source": [
    "d['SpiderMan']"
   ]
  },
  {
   "cell_type": "code",
   "execution_count": 17,
   "metadata": {},
   "outputs": [
    {
     "name": "stdout",
     "output_type": "stream",
     "text": [
      "{'JackSparrow': 200, 'BlackWidow': 500, 'IronMan': 1000, 'CaptainAmerica': 2000}\n"
     ]
    }
   ],
   "source": [
    "print(d) "
   ]
  },
  {
   "cell_type": "code",
   "execution_count": 22,
   "metadata": {},
   "outputs": [
    {
     "name": "stdout",
     "output_type": "stream",
     "text": [
      "0\n"
     ]
    }
   ],
   "source": [
    "print(d.get('SpiderMan', 0))"
   ]
  },
  {
   "cell_type": "code",
   "execution_count": 23,
   "metadata": {},
   "outputs": [
    {
     "name": "stdout",
     "output_type": "stream",
     "text": [
      "{'JackSparrow': 200, 'BlackWidow': 500, 'IronMan': 1000, 'CaptainAmerica': 2000}\n"
     ]
    }
   ],
   "source": [
    "print(d) "
   ]
  },
  {
   "cell_type": "code",
   "execution_count": 24,
   "metadata": {},
   "outputs": [
    {
     "data": {
      "text/plain": [
       "dict_keys(['JackSparrow', 'BlackWidow', 'IronMan', 'CaptainAmerica'])"
      ]
     },
     "execution_count": 24,
     "metadata": {},
     "output_type": "execute_result"
    }
   ],
   "source": [
    "d.keys() "
   ]
  },
  {
   "cell_type": "code",
   "execution_count": 25,
   "metadata": {},
   "outputs": [
    {
     "data": {
      "text/plain": [
       "dict_values([200, 500, 1000, 2000])"
      ]
     },
     "execution_count": 25,
     "metadata": {},
     "output_type": "execute_result"
    }
   ],
   "source": [
    "d.values() "
   ]
  },
  {
   "cell_type": "code",
   "execution_count": 26,
   "metadata": {},
   "outputs": [
    {
     "data": {
      "text/plain": [
       "dict_items([('JackSparrow', 200), ('BlackWidow', 500), ('IronMan', 1000), ('CaptainAmerica', 2000)])"
      ]
     },
     "execution_count": 26,
     "metadata": {},
     "output_type": "execute_result"
    }
   ],
   "source": [
    "d.items() "
   ]
  },
  {
   "cell_type": "code",
   "execution_count": 30,
   "metadata": {},
   "outputs": [
    {
     "name": "stdout",
     "output_type": "stream",
     "text": [
      "JackSparrow --> 200\n",
      "BlackWidow --> 500\n",
      "IronMan --> 1000\n",
      "CaptainAmerica --> 2000\n"
     ]
    }
   ],
   "source": [
    "for each_tuple in d.items():\n",
    "    key, value = each_tuple \n",
    "\n",
    "    print(f\"{key} --> {value}\") "
   ]
  },
  {
   "cell_type": "code",
   "execution_count": 31,
   "metadata": {},
   "outputs": [
    {
     "name": "stdout",
     "output_type": "stream",
     "text": [
      "JackSparrow\n",
      "BlackWidow\n",
      "IronMan\n",
      "CaptainAmerica\n"
     ]
    }
   ],
   "source": [
    "for key in d.keys():\n",
    "    print(key) "
   ]
  },
  {
   "cell_type": "code",
   "execution_count": 32,
   "metadata": {},
   "outputs": [
    {
     "name": "stdout",
     "output_type": "stream",
     "text": [
      "200\n",
      "500\n",
      "1000\n",
      "2000\n"
     ]
    }
   ],
   "source": [
    "for value in d.values():\n",
    "    print(value) "
   ]
  },
  {
   "cell_type": "code",
   "execution_count": 33,
   "metadata": {},
   "outputs": [],
   "source": [
    "import numpy as np \n",
    "import random "
   ]
  },
  {
   "cell_type": "code",
   "execution_count": 40,
   "metadata": {},
   "outputs": [
    {
     "name": "stdout",
     "output_type": "stream",
     "text": [
      "{'a': 3, 'b': 4, 'c': 2, 'd': 1}\n"
     ]
    }
   ],
   "source": [
    "d = {} \n",
    "\n",
    "string = 'abcbabdacb' \n",
    "\n",
    "for item in string:\n",
    "    d[item] = d.get(item, 0) + 1 \n",
    "\n",
    "print(d) "
   ]
  },
  {
   "cell_type": "code",
   "execution_count": 41,
   "metadata": {},
   "outputs": [
    {
     "name": "stdout",
     "output_type": "stream",
     "text": [
      "watermelon strawberry watermelon pineapple mango watermelon pineapple pineapple pineapple apple watermelon mango pineapple apple strawberry strawberry apple watermelon watermelon watermelon mango strawberry mango pineapple watermelon mango apple strawberry pineapple apple watermelon strawberry watermelon pineapple apple watermelon mango apple apple mango apple pineapple strawberry pineapple watermelon pineapple mango apple watermelon mango\n"
     ]
    }
   ],
   "source": [
    "li = ['apple', 'mango', 'strawberry', 'pineapple', 'watermelon'] \n",
    "\n",
    "newli = []\n",
    "for i in range(50):\n",
    "    n = np.random.randint(0, 5)\n",
    "    newli.append(li[n])\n",
    "\n",
    "string = ' '.join([char for char in newli])\n",
    "\n",
    "print(string) "
   ]
  },
  {
   "cell_type": "code",
   "execution_count": 42,
   "metadata": {},
   "outputs": [
    {
     "data": {
      "text/plain": [
       "'watermelon strawberry watermelon pineapple mango watermelon pineapple pineapple pineapple apple watermelon mango pineapple apple strawberry strawberry apple watermelon watermelon watermelon mango strawberry mango pineapple watermelon mango apple strawberry pineapple apple watermelon strawberry watermelon pineapple apple watermelon mango apple apple mango apple pineapple strawberry pineapple watermelon pineapple mango apple watermelon mango'"
      ]
     },
     "execution_count": 42,
     "metadata": {},
     "output_type": "execute_result"
    }
   ],
   "source": [
    "string "
   ]
  },
  {
   "cell_type": "code",
   "execution_count": 44,
   "metadata": {},
   "outputs": [
    {
     "name": "stdout",
     "output_type": "stream",
     "text": [
      "{'watermelon': 13, 'strawberry': 7, 'pineapple': 11, 'mango': 9, 'apple': 10}\n"
     ]
    }
   ],
   "source": [
    "d = {} \n",
    "for word in string.split():\n",
    "    d[word] = d.get(word, 0) + 1 \n",
    "\n",
    "print(d) "
   ]
  },
  {
   "cell_type": "code",
   "execution_count": null,
   "metadata": {},
   "outputs": [],
   "source": []
  }
 ],
 "metadata": {
  "kernelspec": {
   "display_name": "Python 3",
   "language": "python",
   "name": "python3"
  },
  "language_info": {
   "codemirror_mode": {
    "name": "ipython",
    "version": 3
   },
   "file_extension": ".py",
   "mimetype": "text/x-python",
   "name": "python",
   "nbconvert_exporter": "python",
   "pygments_lexer": "ipython3",
   "version": "3.12.8"
  }
 },
 "nbformat": 4,
 "nbformat_minor": 2
}
