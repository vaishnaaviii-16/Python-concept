{
 "cells": [
  {
   "cell_type": "code",
   "execution_count": 2,
   "metadata": {},
   "outputs": [
    {
     "name": "stdout",
     "output_type": "stream",
     "text": [
      "2 + 2 = 4\n"
     ]
    }
   ],
   "source": [
    "# Functions in Python \n",
    "\n",
    "# Function Declaration & Function Definition \n",
    "def add(a, b):\n",
    "    return a + b \n",
    "\n",
    "# Taking input from the user \n",
    "a = int(input()) \n",
    "b = int(input()) \n",
    "\n",
    "ans = add(a, b) # Function call \n",
    "\n",
    "# Displaying output \n",
    "print(f\"{a} + {b} = {ans}\")"
   ]
  },
  {
   "cell_type": "code",
   "execution_count": 3,
   "metadata": {},
   "outputs": [],
   "source": [
    "def add(a : int, b : int) -> int:\n",
    "    return a + b \n",
    "\n",
    "def divide(a : int, b : int) -> float:\n",
    "    return a / b \n",
    "\n",
    "def integer_divide(a : int, b : int) -> int:\n",
    "    return a // b \n",
    "\n"
   ]
  },
  {
   "cell_type": "code",
   "execution_count": 4,
   "metadata": {},
   "outputs": [
    {
     "name": "stdout",
     "output_type": "stream",
     "text": [
      "10.0\n"
     ]
    }
   ],
   "source": [
    "#   Combination (nfact / (rfact * nrfact))\n",
    "\n",
    "n = int(input()) \n",
    "r = int(input()) \n",
    "\n",
    "n_fact = 1 \n",
    "r_fact = 1 \n",
    "n_r_fact = 1 \n",
    "\n",
    "for i in range(n, 0, -1):\n",
    "    n_fact = n_fact * i \n",
    "\n",
    "for i in range(r, 0, -1):\n",
    "    r_fact = r_fact * i \n",
    "\n",
    "for i in range(n-r, 0, -1):\n",
    "    n_r_fact = n_r_fact * i \n",
    "\n",
    "ans = (n_fact) / (r_fact * n_r_fact )\n",
    "print(ans)  "
   ]
  },
  {
   "cell_type": "code",
   "execution_count": 5,
   "metadata": {},
   "outputs": [],
   "source": [
    "def factorial(n : int) -> int:\n",
    "    ans = 1 \n",
    "\n",
    "    for i in range(1, n+1):\n",
    "        ans *= i \n",
    "    \n",
    "    return ans "
   ]
  },
  {
   "cell_type": "code",
   "execution_count": 9,
   "metadata": {},
   "outputs": [
    {
     "name": "stdout",
     "output_type": "stream",
     "text": [
      "1 : 1\n",
      "2 : 2\n",
      "3 : 6\n",
      "4 : 24\n",
      "5 : 120\n",
      "6 : 720\n",
      "7 : 5040\n",
      "8 : 40320\n",
      "9 : 362880\n",
      "10 : 3628800\n"
     ]
    }
   ],
   "source": [
    "for i in range(1, 11):\n",
    "    print(f\"{i} : {factorial(i)}\")"
   ]
  },
  {
   "cell_type": "code",
   "execution_count": 13,
   "metadata": {},
   "outputs": [
    {
     "name": "stdout",
     "output_type": "stream",
     "text": [
      "10.0\n"
     ]
    }
   ],
   "source": [
    "n = 5 \n",
    "r = 3\n",
    "\n",
    "ans = factorial(n) / (factorial(r) * factorial(n-r)) \n",
    "print(ans) "
   ]
  },
  {
   "cell_type": "code",
   "execution_count": 16,
   "metadata": {},
   "outputs": [
    {
     "name": "stdout",
     "output_type": "stream",
     "text": [
      "6435.0\n"
     ]
    }
   ],
   "source": [
    "def combination(n : int, r : int) -> float:\n",
    "\n",
    "    def factorial(n : int) -> int:\n",
    "        ans = 1 \n",
    "\n",
    "        for i in range(1, n+1):\n",
    "            ans *= i \n",
    "        \n",
    "        return ans \n",
    "    \n",
    "    return (factorial(n) / (factorial(r) * factorial(n-r))) \n",
    "\n",
    "    \n",
    "print(combination(15, 7)) "
   ]
  },
  {
   "cell_type": "code",
   "execution_count": 19,
   "metadata": {},
   "outputs": [
    {
     "name": "stdout",
     "output_type": "stream",
     "text": [
      "Data = 1, Square = 1, Cube = 1, Square root : 1.0, Cube Root : 1.0 \n",
      "Data = 2, Square = 4, Cube = 8, Square root : 1.4142135623730951, Cube Root : 1.2599210498948732 \n",
      "Data = 3, Square = 9, Cube = 27, Square root : 1.7320508075688772, Cube Root : 1.4422495703074083 \n",
      "Data = 4, Square = 16, Cube = 64, Square root : 2.0, Cube Root : 1.5874010519681994 \n",
      "Data = 5, Square = 25, Cube = 125, Square root : 2.23606797749979, Cube Root : 1.7099759466766968 \n",
      "Data = 6, Square = 36, Cube = 216, Square root : 2.449489742783178, Cube Root : 1.8171205928321397 \n",
      "Data = 7, Square = 49, Cube = 343, Square root : 2.6457513110645907, Cube Root : 1.912931182772389 \n",
      "Data = 8, Square = 64, Cube = 512, Square root : 2.8284271247461903, Cube Root : 2.0 \n",
      "Data = 9, Square = 81, Cube = 729, Square root : 3.0, Cube Root : 2.080083823051904 \n",
      "Data = 10, Square = 100, Cube = 1000, Square root : 3.1622776601683795, Cube Root : 2.154434690031884 \n"
     ]
    }
   ],
   "source": [
    "square = lambda x : x ** 2 \n",
    "cube = lambda x : x ** 3\n",
    "sqrt = lambda x : x ** 0.5 \n",
    "cbrt = lambda x : x ** (1/3)\n",
    "\n",
    "for i in range(1, 11):\n",
    "    print(f\"Data = {i}, Square = {square(i)}, Cube = {cube(i)}, Square root : {sqrt(i)}, Cube Root : {cbrt(i)} \")"
   ]
  },
  {
   "cell_type": "code",
   "execution_count": 48,
   "metadata": {},
   "outputs": [],
   "source": [
    "def pattern(n : int ) -> None:\n",
    "    for i in range(n):\n",
    "        for sp in range(n-i-1):\n",
    "            print(\" \", end = \"\") \n",
    "        for st in range(i+1):\n",
    "            print(\"*\", end = \"\") \n",
    "        print() \n",
    "        "
   ]
  },
  {
   "cell_type": "code",
   "execution_count": 50,
   "metadata": {},
   "outputs": [
    {
     "name": "stdout",
     "output_type": "stream",
     "text": [
      "    *\n",
      "   **\n",
      "  ***\n",
      " ****\n",
      "*****\n",
      "None\n",
      "         *\n",
      "        **\n",
      "       ***\n",
      "      ****\n",
      "     *****\n",
      "    ******\n",
      "   *******\n",
      "  ********\n",
      " *********\n",
      "**********\n"
     ]
    }
   ],
   "source": [
    "print(pattern(5))\n",
    "pattern(10)"
   ]
  },
  {
   "cell_type": "code",
   "execution_count": 1,
   "metadata": {},
   "outputs": [
    {
     "name": "stdout",
     "output_type": "stream",
     "text": [
      "A Started\n",
      "B Started\n",
      "C Started\n",
      "D Started\n",
      "D Ended\n",
      "C Ended\n",
      "B Ended\n",
      "A Ended\n"
     ]
    }
   ],
   "source": [
    "# How does function call work \n",
    "\n",
    "def a():\n",
    "    print(f\"A Started\") \n",
    "    b() \n",
    "    print(f\"A Ended\") \n",
    "\n",
    "def b():\n",
    "    print(f\"B Started\") \n",
    "    c() \n",
    "    print(f\"B Ended\") \n",
    "\n",
    "def c():\n",
    "    print(f\"C Started\") \n",
    "    d() \n",
    "    print(f\"C Ended\") \n",
    "\n",
    "def d():\n",
    "    print(f\"D Started\")  \n",
    "    print(f\"D Ended\") \n",
    "\n",
    "a() "
   ]
  },
  {
   "cell_type": "code",
   "execution_count": 3,
   "metadata": {},
   "outputs": [
    {
     "name": "stdout",
     "output_type": "stream",
     "text": [
      "A Started\n",
      "B Started\n",
      "D Started\n",
      "D Ended\n",
      "B Ended\n",
      "C Started\n",
      "C Ended\n",
      "A Ended\n"
     ]
    }
   ],
   "source": [
    "def a():\n",
    "    print(f\"A Started\") \n",
    "    b() \n",
    "    c() \n",
    "    print(f\"A Ended\") \n",
    "\n",
    "def b():\n",
    "    print(f\"B Started\") \n",
    "    d() \n",
    "    print(f\"B Ended\") \n",
    "\n",
    "def c():\n",
    "    print(f\"C Started\") \n",
    "    print(f\"C Ended\") \n",
    "\n",
    "def d():\n",
    "    print(f\"D Started\")  \n",
    "    print(f\"D Ended\") \n",
    "\n",
    "a() "
   ]
  },
  {
   "cell_type": "code",
   "execution_count": 7,
   "metadata": {},
   "outputs": [
    {
     "name": "stdout",
     "output_type": "stream",
     "text": [
      " Global : 140718757767896\n",
      "10\n",
      "Local : 140718757767960\n",
      "10\n"
     ]
    }
   ],
   "source": [
    "def fun(a):\n",
    "    a += 2 \n",
    "    print(f\"Local : {id(a)}\") \n",
    "\n",
    "a = 10 \n",
    "print(f\" Global : {id(a)}\")\n",
    "print(a) \n",
    "fun(a) \n",
    "print(a) \n"
   ]
  },
  {
   "cell_type": "code",
   "execution_count": 11,
   "metadata": {},
   "outputs": [
    {
     "name": "stdout",
     "output_type": "stream",
     "text": [
      "10\n",
      "10\n",
      "20\n"
     ]
    },
    {
     "ename": "NameError",
     "evalue": "name 'b1' is not defined",
     "output_type": "error",
     "traceback": [
      "\u001b[1;31m---------------------------------------------------------------------------\u001b[0m",
      "\u001b[1;31mNameError\u001b[0m                                 Traceback (most recent call last)",
      "Cell \u001b[1;32mIn[11], line 9\u001b[0m\n\u001b[0;32m      7\u001b[0m \u001b[38;5;28mprint\u001b[39m(a1) \n\u001b[0;32m      8\u001b[0m new(a1) \n\u001b[1;32m----> 9\u001b[0m \u001b[38;5;28mprint\u001b[39m(\u001b[43mb1\u001b[49m) \n",
      "\u001b[1;31mNameError\u001b[0m: name 'b1' is not defined"
     ]
    }
   ],
   "source": [
    "def new(a1):\n",
    "    print(a1) \n",
    "    b1 = 20 \n",
    "    print(b1) \n",
    "\n",
    "a1 = 10 \n",
    "print(a1) \n",
    "new(a1) \n",
    "print(b1) "
   ]
  },
  {
   "cell_type": "code",
   "execution_count": 17,
   "metadata": {},
   "outputs": [
    {
     "name": "stdout",
     "output_type": "stream",
     "text": [
      "10\n",
      "20\n"
     ]
    }
   ],
   "source": [
    "def final():\n",
    "    print(a2) \n",
    "    b2 = 20 # local varaible : can be accessed within the scope of the function \n",
    "    print(b2) \n",
    "\n",
    "a2 = 10 # global variable : can be accessed anywhere in the code block  \n",
    "final() \n",
    "# print(b2) : NameError: name 'b2' is not defined\n"
   ]
  },
  {
   "cell_type": "code",
   "execution_count": 20,
   "metadata": {},
   "outputs": [
    {
     "name": "stdout",
     "output_type": "stream",
     "text": [
      "10\t20\n"
     ]
    }
   ],
   "source": [
    "a = 10 \n",
    "b = 20 \n",
    "\n",
    "print(a, b, sep = '\\t') "
   ]
  },
  {
   "cell_type": "code",
   "execution_count": 23,
   "metadata": {},
   "outputs": [],
   "source": [
    "def factorial(n : int) -> int:\n",
    "    # base case \n",
    "    if n == 1 or n == 0:\n",
    "        return 1 \n",
    "    # induction hypothesis \n",
    "    small_ans = factorial(n-1) \n",
    "    # induction step \n",
    "    final_ans = small_ans * n \n",
    "    return final_ans "
   ]
  },
  {
   "cell_type": "code",
   "execution_count": 26,
   "metadata": {},
   "outputs": [
    {
     "data": {
      "text/plain": [
       "2"
      ]
     },
     "execution_count": 26,
     "metadata": {},
     "output_type": "execute_result"
    }
   ],
   "source": [
    "factorial(2) "
   ]
  },
  {
   "cell_type": "code",
   "execution_count": 25,
   "metadata": {},
   "outputs": [
    {
     "name": "stdout",
     "output_type": "stream",
     "text": [
      "0 : 1\n",
      "1 : 1\n",
      "2 : 2\n",
      "3 : 6\n",
      "4 : 24\n",
      "5 : 120\n",
      "6 : 720\n",
      "7 : 5040\n",
      "8 : 40320\n",
      "9 : 362880\n",
      "10 : 3628800\n"
     ]
    }
   ],
   "source": [
    "for i in range(0, 11):\n",
    "    print(f\"{i} : {factorial(i)}\")"
   ]
  },
  {
   "cell_type": "code",
   "execution_count": 27,
   "metadata": {},
   "outputs": [],
   "source": [
    "import numpy as np  \n",
    "import random "
   ]
  },
  {
   "cell_type": "code",
   "execution_count": 28,
   "metadata": {},
   "outputs": [],
   "source": [
    "li = [int(x) for x in np.random.randint(1, 100, 10)]"
   ]
  },
  {
   "cell_type": "code",
   "execution_count": 29,
   "metadata": {},
   "outputs": [
    {
     "data": {
      "text/plain": [
       "[60, 77, 29, 30, 94, 80, 14, 85, 67, 72]"
      ]
     },
     "execution_count": 29,
     "metadata": {},
     "output_type": "execute_result"
    }
   ],
   "source": [
    "li "
   ]
  },
  {
   "cell_type": "code",
   "execution_count": 30,
   "metadata": {},
   "outputs": [
    {
     "data": {
      "text/plain": [
       "94"
      ]
     },
     "execution_count": 30,
     "metadata": {},
     "output_type": "execute_result"
    }
   ],
   "source": [
    "max(li) "
   ]
  },
  {
   "cell_type": "code",
   "execution_count": 31,
   "metadata": {},
   "outputs": [],
   "source": [
    "def max_li(li):\n",
    "    # special case \n",
    "    if len(li) == 0:\n",
    "        return 0 \n",
    "\n",
    "    # base case     \n",
    "    if len(li) == 1:\n",
    "        return li[0] \n",
    "    \n",
    "    # induction hypothesis \n",
    "    small_ans = max_li(li[1:])\n",
    "    \n",
    "    if li[0] >= small_ans:\n",
    "        return li[0] \n",
    "    else:\n",
    "        return small_ans"
   ]
  },
  {
   "cell_type": "code",
   "execution_count": 32,
   "metadata": {},
   "outputs": [
    {
     "data": {
      "text/plain": [
       "94"
      ]
     },
     "execution_count": 32,
     "metadata": {},
     "output_type": "execute_result"
    }
   ],
   "source": [
    "max_li(li) "
   ]
  },
  {
   "cell_type": "code",
   "execution_count": 33,
   "metadata": {},
   "outputs": [],
   "source": [
    "li.remove(94) "
   ]
  },
  {
   "cell_type": "code",
   "execution_count": 34,
   "metadata": {},
   "outputs": [
    {
     "data": {
      "text/plain": [
       "[60, 77, 29, 30, 80, 14, 85, 67, 72]"
      ]
     },
     "execution_count": 34,
     "metadata": {},
     "output_type": "execute_result"
    }
   ],
   "source": [
    "li "
   ]
  },
  {
   "cell_type": "code",
   "execution_count": 35,
   "metadata": {},
   "outputs": [
    {
     "data": {
      "text/plain": [
       "85"
      ]
     },
     "execution_count": 35,
     "metadata": {},
     "output_type": "execute_result"
    }
   ],
   "source": [
    "max(li) "
   ]
  },
  {
   "cell_type": "code",
   "execution_count": 36,
   "metadata": {},
   "outputs": [
    {
     "data": {
      "text/plain": [
       "85"
      ]
     },
     "execution_count": 36,
     "metadata": {},
     "output_type": "execute_result"
    }
   ],
   "source": [
    "max_li(li) "
   ]
  },
  {
   "cell_type": "code",
   "execution_count": 37,
   "metadata": {},
   "outputs": [],
   "source": [
    "def sum_of_n(n : int) -> int:\n",
    "    if n == 0:\n",
    "        return 0 \n",
    "    if n == 1:\n",
    "        return 1 \n",
    "    \n",
    "    # induction hypothesis \n",
    "    small_ans = sum_of_n(n-1) \n",
    "\n",
    "    # induction  step \n",
    "    final_ans = small_ans + n \n",
    "    return final_ans "
   ]
  },
  {
   "cell_type": "code",
   "execution_count": 39,
   "metadata": {},
   "outputs": [
    {
     "name": "stdout",
     "output_type": "stream",
     "text": [
      "0 : 0\n",
      "1 : 1\n",
      "2 : 3\n",
      "3 : 6\n",
      "4 : 10\n",
      "5 : 15\n",
      "6 : 21\n",
      "7 : 28\n",
      "8 : 36\n",
      "9 : 45\n",
      "10 : 55\n"
     ]
    }
   ],
   "source": [
    "for i in range(0, 11):\n",
    "    print(f\"{i} : {sum_of_n(i)}\")"
   ]
  },
  {
   "cell_type": "code",
   "execution_count": null,
   "metadata": {},
   "outputs": [],
   "source": []
  }
 ],
 "metadata": {
  "kernelspec": {
   "display_name": "Python 3",
   "language": "python",
   "name": "python3"
  },
  "language_info": {
   "codemirror_mode": {
    "name": "ipython",
    "version": 3
   },
   "file_extension": ".py",
   "mimetype": "text/x-python",
   "name": "python",
   "nbconvert_exporter": "python",
   "pygments_lexer": "ipython3",
   "version": "3.12.8"
  }
 },
 "nbformat": 4,
 "nbformat_minor": 2
}
