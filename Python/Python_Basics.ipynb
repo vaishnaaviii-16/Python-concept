{
 "cells": [
  {
   "cell_type": "markdown",
   "id": "dfa4d092-17fe-4e59-b3ea-d041622168af",
   "metadata": {},
   "source": [
    "# Variables, Input, Output and Comments"
   ]
  },
  {
   "cell_type": "code",
   "execution_count": 54,
   "id": "ac8bc605-4b78-46a1-859c-a1ea4f19a5ae",
   "metadata": {},
   "outputs": [
    {
     "name": "stdout",
     "output_type": "stream",
     "text": [
      "Hello World\n"
     ]
    }
   ],
   "source": [
    "print(\"Hello World\")"
   ]
  },
  {
   "cell_type": "code",
   "execution_count": 12,
   "id": "c228ff59-d0e3-4f16-afde-cd57e75ca749",
   "metadata": {},
   "outputs": [
    {
     "name": "stdout",
     "output_type": "stream",
     "text": [
      "Hello World\n"
     ]
    }
   ],
   "source": [
    "print('Hello World')"
   ]
  },
  {
   "cell_type": "code",
   "execution_count": 13,
   "id": "70c22010-4902-44e6-9904-d5fe65a182c0",
   "metadata": {},
   "outputs": [
    {
     "name": "stdout",
     "output_type": "stream",
     "text": [
      "Hello World\n"
     ]
    }
   ],
   "source": [
    "print(\"\"\"Hello World\"\"\")"
   ]
  },
  {
   "cell_type": "code",
   "execution_count": 14,
   "id": "64f36f45-3f8d-4aec-acde-f365c6b60b23",
   "metadata": {},
   "outputs": [
    {
     "name": "stdout",
     "output_type": "stream",
     "text": [
      "Hello World\n"
     ]
    }
   ],
   "source": [
    "print('''Hello World''')"
   ]
  },
  {
   "cell_type": "markdown",
   "id": "a5c51d0a-a2a5-4d50-a173-84ddfc5e67f8",
   "metadata": {},
   "source": [
    "I said,\"Hello Good Morning.\""
   ]
  },
  {
   "cell_type": "code",
   "execution_count": 18,
   "id": "8ccec64e-2fad-4587-ab88-85d707d466a0",
   "metadata": {},
   "outputs": [
    {
     "name": "stdout",
     "output_type": "stream",
     "text": [
      "I said,\"Hello Good Morning.\"\n"
     ]
    }
   ],
   "source": [
    "print('I said,\"Hello Good Morning.\"')"
   ]
  },
  {
   "cell_type": "code",
   "execution_count": 19,
   "id": "9f70bde4-f9be-47cf-8092-cb01c0e7a0c7",
   "metadata": {},
   "outputs": [
    {
     "name": "stdout",
     "output_type": "stream",
     "text": [
      "I said,'Hello Good Morning.'\n"
     ]
    }
   ],
   "source": [
    "print(\"I said,'Hello Good Morning.'\")"
   ]
  },
  {
   "cell_type": "code",
   "execution_count": 26,
   "id": "64776614-ceeb-45bd-b9e6-197c04f77a6b",
   "metadata": {},
   "outputs": [
    {
     "name": "stdout",
     "output_type": "stream",
     "text": [
      "Hello \n",
      "fhdgg\n",
      "srgsg\n",
      "sfgsfg\n",
      "SgSg\n",
      "sg\n",
      "World\n"
     ]
    }
   ],
   "source": [
    "print('''Hello \n",
    "fhdgg\n",
    "srgsg\n",
    "sfgsfg\n",
    "SgSg\n",
    "sg\n",
    "World''')"
   ]
  },
  {
   "cell_type": "code",
   "execution_count": null,
   "id": "5101bbd1-fde6-4c74-94f2-d5ff0ae8c9a9",
   "metadata": {},
   "outputs": [],
   "source": []
  },
  {
   "cell_type": "code",
   "execution_count": 29,
   "id": "09b629ad-5070-4109-95bd-261621e7b746",
   "metadata": {},
   "outputs": [
    {
     "data": {
      "text/plain": [
       "18"
      ]
     },
     "execution_count": 29,
     "metadata": {},
     "output_type": "execute_result"
    }
   ],
   "source": [
    "\"Om\"\n",
    "18"
   ]
  },
  {
   "cell_type": "code",
   "execution_count": 30,
   "id": "a2a8f38e-06e3-49ae-9cd6-cf9bc696ff95",
   "metadata": {},
   "outputs": [],
   "source": [
    "name = \"om\"\n",
    "age = 18"
   ]
  },
  {
   "cell_type": "code",
   "execution_count": 31,
   "id": "ed7c3a1a-1dd5-4632-8dd3-2fad17040d0d",
   "metadata": {},
   "outputs": [
    {
     "name": "stdout",
     "output_type": "stream",
     "text": [
      "om\n"
     ]
    }
   ],
   "source": [
    "print(name)"
   ]
  },
  {
   "cell_type": "code",
   "execution_count": 32,
   "id": "beb9b565-b28b-4ac6-81ea-57f2022261e7",
   "metadata": {},
   "outputs": [
    {
     "name": "stdout",
     "output_type": "stream",
     "text": [
      "18\n"
     ]
    }
   ],
   "source": [
    "print(age)"
   ]
  },
  {
   "cell_type": "code",
   "execution_count": 33,
   "id": "ca89970e-f4b4-401d-890f-8e1342cd4c43",
   "metadata": {},
   "outputs": [],
   "source": [
    "name = \"Rohan\""
   ]
  },
  {
   "cell_type": "code",
   "execution_count": 38,
   "id": "bd575823-2908-4e94-ac00-ae25e8984748",
   "metadata": {},
   "outputs": [],
   "source": [
    "name = \"Om\"\n",
    "age = 30"
   ]
  },
  {
   "cell_type": "code",
   "execution_count": 39,
   "id": "f70a558c-a97a-4f2c-bc7e-c7e0bcfe73ad",
   "metadata": {},
   "outputs": [
    {
     "name": "stdout",
     "output_type": "stream",
     "text": [
      "Hello My name is Rohan and my age is 18\n"
     ]
    }
   ],
   "source": [
    "print(\"Hello My name is Rohan and my age is 18\")"
   ]
  },
  {
   "cell_type": "code",
   "execution_count": 43,
   "id": "727d4fec-4792-4feb-ac43-fcac6c12da7c",
   "metadata": {},
   "outputs": [
    {
     "name": "stdout",
     "output_type": "stream",
     "text": [
      "Om 30\n"
     ]
    }
   ],
   "source": [
    "print(name, age)"
   ]
  },
  {
   "cell_type": "code",
   "execution_count": 51,
   "id": "22ce091a-2ee7-4208-9a97-c64af2c21df8",
   "metadata": {},
   "outputs": [
    {
     "name": "stdout",
     "output_type": "stream",
     "text": [
      "Hello My name is Raj and my age is 25\n"
     ]
    }
   ],
   "source": [
    "name = \"Raj\"\n",
    "age = 25\n",
    "print(\"Hello My name is\",name,\"and my age is\",age)"
   ]
  },
  {
   "cell_type": "code",
   "execution_count": 55,
   "id": "c8c5bba6-1101-437d-b7ba-62303e8ae2f9",
   "metadata": {
    "scrolled": true
   },
   "outputs": [],
   "source": [
    "name = \"Om\"\n",
    "marks1 = 25\n",
    "marks2 = 27\n",
    "marks3 = 29\n",
    "marks4 = 30"
   ]
  },
  {
   "cell_type": "markdown",
   "id": "fbdb052d-82d9-4e09-b8d3-89fc10d3b80e",
   "metadata": {},
   "source": [
    "My name is Om and I got 25 in sub1, 27 in sub2, 29 in sub3 and 30 in sub4."
   ]
  },
  {
   "cell_type": "code",
   "execution_count": 56,
   "id": "af104b6b-1a98-453a-9d83-7a795899721a",
   "metadata": {},
   "outputs": [
    {
     "name": "stdout",
     "output_type": "stream",
     "text": [
      "My name is Om and I got 25 in sub1, 27 in sub2, 29 in sub3 and 30 in sub4.\n"
     ]
    }
   ],
   "source": [
    "print(\"My name is\", name, \"and I got\", marks1, \"in sub1,\", marks2, \"in sub2,\", marks3, \"in sub3 and\", marks4, \"in sub4.\")"
   ]
  },
  {
   "cell_type": "code",
   "execution_count": 61,
   "id": "f7baf02a-55e6-45b2-a20c-825187790eb8",
   "metadata": {},
   "outputs": [
    {
     "name": "stdout",
     "output_type": "stream",
     "text": [
      "My name is Om and I got 25 in sub1, 27 in sub2, 29 in sub3 and 30 in sub4.\n"
     ]
    }
   ],
   "source": [
    "#f-string\n",
    "print(f\"My name is {name} and I got {marks1} in sub1, {marks2} in sub2, {marks3} in sub3 and {marks4} in sub4.\")"
   ]
  },
  {
   "cell_type": "code",
   "execution_count": 62,
   "id": "8aed9013-ddb4-47ca-9928-a0f8af4c450f",
   "metadata": {},
   "outputs": [
    {
     "name": "stdout",
     "output_type": "stream",
     "text": [
      "My name is Om and I got 25 in sub1, 27 in sub2, 29 in sub3 and 30 in sub4.\n"
     ]
    }
   ],
   "source": [
    "#dot format\n",
    "print(\"My name is {} and I got {} in sub1, {} in sub2, {} in sub3 and {} in sub4.\".format(name,marks1,marks2,marks3,marks4))"
   ]
  },
  {
   "cell_type": "code",
   "execution_count": 59,
   "id": "35ab818b-c6a5-4fa9-a371-67eaf5006112",
   "metadata": {},
   "outputs": [],
   "source": [
    "# hastags == Single Line Comments\n",
    "\"\"\" \"\"\" == Multi Line Comments"
   ]
  },
  {
   "cell_type": "code",
   "execution_count": 64,
   "id": "d7d5eeb0-4142-4bfc-8ed4-4dc0a82605e7",
   "metadata": {},
   "outputs": [
    {
     "name": "stdout",
     "output_type": "stream",
     "text": [
      "14\n"
     ]
    },
    {
     "data": {
      "text/plain": [
       "'sfgsfgsfg'"
      ]
     },
     "execution_count": 64,
     "metadata": {},
     "output_type": "execute_result"
    }
   ],
   "source": [
    "\"\"\"sfgsfgsfg\"\"\"\n",
    "print(5+9)\n",
    "\"\"\"sfgsfgsfg\"\"\""
   ]
  },
  {
   "cell_type": "code",
   "execution_count": 67,
   "id": "748842c8-a16a-4af2-95a2-cdeddd35c6ec",
   "metadata": {},
   "outputs": [
    {
     "name": "stdout",
     "output_type": "stream",
     "text": [
      "Addition 8\n",
      "Subtraction 1\n"
     ]
    }
   ],
   "source": [
    "print(\"Addition\",5+3)\n",
    "#line2\n",
    "#line3\n",
    "#line4\n",
    "print(\"Subtraction\",5-4)\n",
    "# line1\n",
    "# line2\n",
    "# line3\n",
    "# line4"
   ]
  },
  {
   "cell_type": "code",
   "execution_count": 68,
   "id": "a71fe602-429f-4c80-87de-c3fbbe0eebf2",
   "metadata": {},
   "outputs": [
    {
     "name": "stdout",
     "output_type": "stream",
     "text": [
      "My name is Om and I got 25 in sub1, 27 in sub2, 29 in sub3 and 30 in sub4.\n"
     ]
    }
   ],
   "source": [
    "name = \"Om\"\n",
    "marks1 = 25\n",
    "marks2 = 27\n",
    "marks3 = 29\n",
    "marks4 = 30\n",
    "print(f\"My name is {name} and I got {marks1} in sub1, {marks2} in sub2, {marks3} in sub3 and {marks4} in sub4.\")"
   ]
  },
  {
   "cell_type": "code",
   "execution_count": 69,
   "id": "964d4b13-4889-4628-96a7-4cb9e16e6427",
   "metadata": {},
   "outputs": [
    {
     "name": "stdout",
     "output_type": "stream",
     "text": [
      "My name is Rohan and I got 28 in sub1, 50 in sub2, 89 in sub3 and 90 in sub4.\n"
     ]
    }
   ],
   "source": [
    "name = \"Rohan\"\n",
    "marks1 = 28\n",
    "marks2 = 50\n",
    "marks3 = 89\n",
    "marks4 = 90\n",
    "print(f\"My name is {name} and I got {marks1} in sub1, {marks2} in sub2, {marks3} in sub3 and {marks4} in sub4.\")"
   ]
  },
  {
   "cell_type": "code",
   "execution_count": 81,
   "id": "cf8172c3-57fe-4414-a131-f1bf07993db3",
   "metadata": {},
   "outputs": [
    {
     "name": "stdin",
     "output_type": "stream",
     "text": [
      "Enter your name:  Rohan\n",
      "Enter marks1:  80\n",
      "Enter marks2:  90\n",
      "Enter your age:  18\n",
      "Enter marks3:  70\n",
      "Enter marks4:  6\n"
     ]
    }
   ],
   "source": [
    "name = input(\"Enter your name: \")\n",
    "marks1 = input(\"Enter marks1: \")\n",
    "marks2 = input(\"Enter marks2: \")\n",
    "age = input(\"Enter your age: \")\n",
    "marks3 = input(\"Enter marks3: \")\n",
    "marks4 = input(\"Enter marks4: \")"
   ]
  },
  {
   "cell_type": "code",
   "execution_count": 82,
   "id": "b5717a70-6ca5-4a08-b008-fb824851a01c",
   "metadata": {},
   "outputs": [
    {
     "name": "stdout",
     "output_type": "stream",
     "text": [
      "My name is Rohan and I got 80 in sub1, 90 in sub2, 70 in sub3 and 6 in sub4.\n"
     ]
    }
   ],
   "source": [
    "print(f\"My name is {name} and I got {marks1} in sub1, {marks2} in sub2, {marks3} in sub3 and {marks4} in sub4.\")"
   ]
  },
  {
   "cell_type": "code",
   "execution_count": null,
   "id": "bcdd7ef9-f8f7-48f0-af3e-768f828f2bec",
   "metadata": {},
   "outputs": [],
   "source": [
    "type()"
   ]
  },
  {
   "cell_type": "code",
   "execution_count": null,
   "id": "dff8b65c-9575-42cb-bea2-344612a4cad2",
   "metadata": {},
   "outputs": [],
   "source": [
    "1.5,2.7,100.9,-100.5,0.0"
   ]
  },
  {
   "cell_type": "code",
   "execution_count": null,
   "id": "0b112412-7f4e-473d-b985-587a0d9c6f27",
   "metadata": {},
   "outputs": [],
   "source": [
    "(5,5,9,4,1,1,2)\n",
    "True\n",
    "False"
   ]
  },
  {
   "cell_type": "markdown",
   "id": "a109cc2c-fab4-4e50-9ff8-77be2943000b",
   "metadata": {},
   "source": [
    "1. string\n",
    "2. integer\n",
    "3. float\n",
    "4. complex\n",
    "5. list\n",
    "6. tuple\n",
    "7. boolean\n",
    "8. dictionary\n",
    "9. set\n",
    "10. frozenset\n",
    "11. None"
   ]
  },
  {
   "cell_type": "code",
   "execution_count": null,
   "id": "ae837db9-16fd-4166-ba20-7eb964e36394",
   "metadata": {},
   "outputs": [],
   "source": [
    "{\"name\":\"om\",\"age\":18,\"marks1\":80} #key:value \n",
    "#key-value pair => item"
   ]
  },
  {
   "cell_type": "code",
   "execution_count": 83,
   "id": "7c15e8a9-a331-44b3-b320-cc78365f3df5",
   "metadata": {},
   "outputs": [
    {
     "data": {
      "text/plain": [
       "{1, 2, 3, 4, 5, 6, 8, 9, 45, 89}"
      ]
     },
     "execution_count": 83,
     "metadata": {},
     "output_type": "execute_result"
    }
   ],
   "source": [
    "{1,2,3,4,5,6,6,89,4,9,45,6,8,4}"
   ]
  },
  {
   "cell_type": "code",
   "execution_count": 84,
   "id": "698fc02d-d4a9-4f21-918a-f69bc04328dc",
   "metadata": {},
   "outputs": [
    {
     "data": {
      "text/plain": [
       "frozenset({1, 2, 3, 4, 5, 6})"
      ]
     },
     "execution_count": 84,
     "metadata": {},
     "output_type": "execute_result"
    }
   ],
   "source": [
    "frozenset([1,2,3,4,5,6,1,2,3,4,5])"
   ]
  },
  {
   "cell_type": "code",
   "execution_count": 85,
   "id": "b988378b-31c8-42b4-924d-54628d07738d",
   "metadata": {},
   "outputs": [],
   "source": [
    "None"
   ]
  },
  {
   "cell_type": "code",
   "execution_count": 86,
   "id": "2f5cbbb5-315e-48c9-ad13-398605a33f3e",
   "metadata": {},
   "outputs": [
    {
     "name": "stdin",
     "output_type": "stream",
     "text": [
      "Enter your name:  om\n"
     ]
    }
   ],
   "source": [
    "name = input(\"Enter your name: \")"
   ]
  },
  {
   "cell_type": "code",
   "execution_count": 87,
   "id": "fc58787d-caab-4e16-8991-1c8766a7c29e",
   "metadata": {},
   "outputs": [
    {
     "data": {
      "text/plain": [
       "str"
      ]
     },
     "execution_count": 87,
     "metadata": {},
     "output_type": "execute_result"
    }
   ],
   "source": [
    "type(name)"
   ]
  },
  {
   "cell_type": "code",
   "execution_count": 88,
   "id": "9eeb4c6e-fc8f-4ae3-87e8-ebfdeb1c4521",
   "metadata": {},
   "outputs": [
    {
     "name": "stdin",
     "output_type": "stream",
     "text": [
      "Enter your age:  18\n"
     ]
    }
   ],
   "source": [
    "age = input(\"Enter your age: \")"
   ]
  },
  {
   "cell_type": "code",
   "execution_count": 89,
   "id": "02ff3065-2627-4edb-be1d-9e627dd24ce5",
   "metadata": {},
   "outputs": [
    {
     "data": {
      "text/plain": [
       "str"
      ]
     },
     "execution_count": 89,
     "metadata": {},
     "output_type": "execute_result"
    }
   ],
   "source": [
    "type(age)"
   ]
  },
  {
   "cell_type": "code",
   "execution_count": 90,
   "id": "07847f4d-8008-4a5f-af30-8fb881f3bec0",
   "metadata": {},
   "outputs": [
    {
     "name": "stdout",
     "output_type": "stream",
     "text": [
      "18\n"
     ]
    }
   ],
   "source": [
    "print(age)"
   ]
  },
  {
   "cell_type": "code",
   "execution_count": 101,
   "id": "112411e5-cea0-476f-8e2b-2a849a398227",
   "metadata": {},
   "outputs": [
    {
     "name": "stdin",
     "output_type": "stream",
     "text": [
      "Enter num1:  10\n",
      "Enter num2:  5\n"
     ]
    }
   ],
   "source": [
    "num1 = int(input(\"Enter num1: \"))\n",
    "num2 = input(\"Enter num2: \")\n",
    "num3 = int(num2)"
   ]
  },
  {
   "cell_type": "code",
   "execution_count": 104,
   "id": "68e48882-e191-4c93-83cb-529a94509c2a",
   "metadata": {},
   "outputs": [
    {
     "data": {
      "text/plain": [
       "str"
      ]
     },
     "execution_count": 104,
     "metadata": {},
     "output_type": "execute_result"
    }
   ],
   "source": [
    "type(num2)"
   ]
  },
  {
   "cell_type": "code",
   "execution_count": 106,
   "id": "96d705df-ce32-4454-b49e-337edfbef590",
   "metadata": {},
   "outputs": [
    {
     "name": "stdout",
     "output_type": "stream",
     "text": [
      "50\n"
     ]
    }
   ],
   "source": [
    "print(num1*num3)"
   ]
  },
  {
   "cell_type": "code",
   "execution_count": 107,
   "id": "c282f20e-5b95-47cd-866d-4d06fd73fa69",
   "metadata": {},
   "outputs": [],
   "source": [
    "# Type Casting/Type Conversion\n",
    "# 1. Explicit Type Casting\n",
    "# 2. Implicit Type Casting"
   ]
  },
  {
   "cell_type": "code",
   "execution_count": 111,
   "id": "039354a5-5979-428c-97ad-0489c6764719",
   "metadata": {},
   "outputs": [
    {
     "name": "stdin",
     "output_type": "stream",
     "text": [
      "Enter num1:  10\n"
     ]
    }
   ],
   "source": [
    "num1 = int(input(\"Enter num1: \"))"
   ]
  },
  {
   "cell_type": "code",
   "execution_count": 112,
   "id": "040d4fb5-9342-4894-91c1-f653a7614552",
   "metadata": {},
   "outputs": [
    {
     "data": {
      "text/plain": [
       "int"
      ]
     },
     "execution_count": 112,
     "metadata": {},
     "output_type": "execute_result"
    }
   ],
   "source": [
    "type(num1)"
   ]
  },
  {
   "cell_type": "code",
   "execution_count": 113,
   "id": "e0815637-2694-4b75-9ba3-3e1815cd8f3c",
   "metadata": {},
   "outputs": [],
   "source": [
    "num1 = 10\n",
    "num2 = 5"
   ]
  },
  {
   "cell_type": "code",
   "execution_count": 115,
   "id": "364dcd1a-2949-4dd1-994a-b287a135b21e",
   "metadata": {},
   "outputs": [
    {
     "data": {
      "text/plain": [
       "(int, int)"
      ]
     },
     "execution_count": 115,
     "metadata": {},
     "output_type": "execute_result"
    }
   ],
   "source": [
    "type(num1),type(num2)"
   ]
  },
  {
   "cell_type": "code",
   "execution_count": 116,
   "id": "43248d0c-effb-44b7-82b6-5126441eccdf",
   "metadata": {},
   "outputs": [],
   "source": [
    "num3 = num1/num2"
   ]
  },
  {
   "cell_type": "code",
   "execution_count": 117,
   "id": "66e486a3-079b-4d07-a291-fef12e275627",
   "metadata": {},
   "outputs": [
    {
     "data": {
      "text/plain": [
       "float"
      ]
     },
     "execution_count": 117,
     "metadata": {},
     "output_type": "execute_result"
    }
   ],
   "source": [
    "type(num3)"
   ]
  },
  {
   "cell_type": "code",
   "execution_count": 118,
   "id": "6df103bc-175f-4b08-ae70-b4d5ec214a33",
   "metadata": {},
   "outputs": [
    {
     "data": {
      "text/plain": [
       "2.0"
      ]
     },
     "execution_count": 118,
     "metadata": {},
     "output_type": "execute_result"
    }
   ],
   "source": [
    "num3"
   ]
  },
  {
   "cell_type": "markdown",
   "id": "5356b024-1d5d-4d64-a642-e93af3b6427c",
   "metadata": {},
   "source": [
    "# Operators\n",
    "\n",
    "1. Arithmetic [+,-,*,/,//,%,**]\n",
    "2. Assignment\n",
    "3. Relational/Comparison\n",
    "4. Logical\n",
    "5. Membership\n",
    "6. Identity\n",
    "7. Bitwise"
   ]
  },
  {
   "cell_type": "code",
   "execution_count": 119,
   "id": "d4108444-3bbf-485a-8ae2-afc8668fefed",
   "metadata": {},
   "outputs": [],
   "source": [
    "num1 = 10\n",
    "num2 = 5"
   ]
  },
  {
   "cell_type": "code",
   "execution_count": 120,
   "id": "2efd343e-52ff-433c-a4f1-648ffe06151f",
   "metadata": {},
   "outputs": [
    {
     "data": {
      "text/plain": [
       "15"
      ]
     },
     "execution_count": 120,
     "metadata": {},
     "output_type": "execute_result"
    }
   ],
   "source": [
    "num1+num2"
   ]
  },
  {
   "cell_type": "code",
   "execution_count": 121,
   "id": "08e5717a-f73d-4d99-b2a5-eb6d9d742c1e",
   "metadata": {},
   "outputs": [
    {
     "data": {
      "text/plain": [
       "5"
      ]
     },
     "execution_count": 121,
     "metadata": {},
     "output_type": "execute_result"
    }
   ],
   "source": [
    "num1-num2"
   ]
  },
  {
   "cell_type": "code",
   "execution_count": 122,
   "id": "4fe88d7a-f76c-456a-bfc9-da187cc6ea53",
   "metadata": {},
   "outputs": [
    {
     "data": {
      "text/plain": [
       "50"
      ]
     },
     "execution_count": 122,
     "metadata": {},
     "output_type": "execute_result"
    }
   ],
   "source": [
    "num1*num2"
   ]
  },
  {
   "cell_type": "code",
   "execution_count": 123,
   "id": "050e3b74-63a7-4869-86b2-2104cab1d4ee",
   "metadata": {},
   "outputs": [
    {
     "data": {
      "text/plain": [
       "2.0"
      ]
     },
     "execution_count": 123,
     "metadata": {},
     "output_type": "execute_result"
    }
   ],
   "source": [
    "num1/num2"
   ]
  },
  {
   "cell_type": "code",
   "execution_count": 128,
   "id": "84ea0208-2037-4844-b366-28fb0ab629f4",
   "metadata": {},
   "outputs": [
    {
     "data": {
      "text/plain": [
       "5"
      ]
     },
     "execution_count": 128,
     "metadata": {},
     "output_type": "execute_result"
    }
   ],
   "source": [
    "num1//num2 #Floor Division\n",
    "11//2"
   ]
  },
  {
   "cell_type": "code",
   "execution_count": 130,
   "id": "5aeac277-a8bc-4b9c-b2ed-7a3f05c1e22f",
   "metadata": {},
   "outputs": [
    {
     "data": {
      "text/plain": [
       "1"
      ]
     },
     "execution_count": 130,
     "metadata": {},
     "output_type": "execute_result"
    }
   ],
   "source": [
    "num1%num2 #Modulus = remainder\n",
    "\n",
    "11%2"
   ]
  },
  {
   "cell_type": "code",
   "execution_count": 132,
   "id": "7c1628f0-74d7-45cd-af53-033d1096a4fd",
   "metadata": {},
   "outputs": [
    {
     "data": {
      "text/plain": [
       "125"
      ]
     },
     "execution_count": 132,
     "metadata": {},
     "output_type": "execute_result"
    }
   ],
   "source": [
    "5**3 #Exponent / Power /Raise to"
   ]
  },
  {
   "cell_type": "code",
   "execution_count": null,
   "id": "189abf68-14a7-4f9d-9a7e-8c7ba999f654",
   "metadata": {},
   "outputs": [],
   "source": []
  }
 ],
 "metadata": {
  "kernelspec": {
   "display_name": "Python 3 (ipykernel)",
   "language": "python",
   "name": "python3"
  },
  "language_info": {
   "codemirror_mode": {
    "name": "ipython",
    "version": 3
   },
   "file_extension": ".py",
   "mimetype": "text/x-python",
   "name": "python",
   "nbconvert_exporter": "python",
   "pygments_lexer": "ipython3",
   "version": "3.12.8"
  }
 },
 "nbformat": 4,
 "nbformat_minor": 5
}
