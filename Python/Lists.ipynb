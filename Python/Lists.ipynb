{
 "cells": [
  {
   "cell_type": "code",
   "execution_count": 1,
   "metadata": {},
   "outputs": [],
   "source": [
    "# Initialization "
   ]
  },
  {
   "cell_type": "code",
   "execution_count": 3,
   "metadata": {},
   "outputs": [
    {
     "name": "stdout",
     "output_type": "stream",
     "text": [
      "[] <class 'list'>\n",
      "[] <class 'list'>\n",
      "[1, 2, 3] <class 'list'>\n",
      "[1, 2, 3, 5] <class 'list'>\n"
     ]
    }
   ],
   "source": [
    "li1 = [] \n",
    "li2 = list() \n",
    "li3 = [1, 2, 3] \n",
    "li4 = list([1, 2, 3, 5]) \n",
    "\n",
    "print(li1, type(li1)) \n",
    "print(li2, type(li2)) \n",
    "print(li3, type(li3)) \n",
    "print(li4, type(li4)) \n"
   ]
  },
  {
   "cell_type": "code",
   "execution_count": 11,
   "metadata": {},
   "outputs": [
    {
     "name": "stdout",
     "output_type": "stream",
     "text": [
      "10\n",
      "22\n",
      "22\n",
      "10\n"
     ]
    }
   ],
   "source": [
    "li = [10, 50, 28, 650, 22] \n",
    "\n",
    "# Forward Indexing \n",
    "\n",
    "print(li[0])\n",
    "print(li[4])\n",
    "# print(li[5]) :IndexError: list index out of range\n",
    "\n",
    "# Negative Indexing \n",
    "\n",
    "print(li[-1])\n",
    "print(li[-5])\n",
    "# print(li[-6]) : IndexError: list index out of range"
   ]
  },
  {
   "cell_type": "code",
   "execution_count": 17,
   "metadata": {},
   "outputs": [
    {
     "name": "stdout",
     "output_type": "stream",
     "text": [
      "Original List : [10, 50, 28, 650, 22]\n",
      "[10, 50, 28]\n"
     ]
    }
   ],
   "source": [
    "# String Slicing \n",
    "\n",
    "print(f'Original List : {li}')\n",
    "print(li[0:3:1])"
   ]
  },
  {
   "cell_type": "code",
   "execution_count": 21,
   "metadata": {},
   "outputs": [
    {
     "name": "stdout",
     "output_type": "stream",
     "text": [
      "[50, 28, 650]\n",
      "[50, 28, 650]\n",
      "[50, 28, 650]\n"
     ]
    }
   ],
   "source": [
    "print(li[1:4:1])\n",
    "print(li[1:4:])\n",
    "print(li[1:4])"
   ]
  },
  {
   "cell_type": "code",
   "execution_count": 24,
   "metadata": {},
   "outputs": [
    {
     "name": "stdout",
     "output_type": "stream",
     "text": [
      "[10, 50, 28]\n",
      "[10, 50, 28]\n",
      "[10, 50, 28]\n"
     ]
    }
   ],
   "source": [
    "print(li[0:3:1])\n",
    "print(li[0:3:])\n",
    "print(li[:3:])\n"
   ]
  },
  {
   "cell_type": "code",
   "execution_count": 28,
   "metadata": {},
   "outputs": [
    {
     "name": "stdout",
     "output_type": "stream",
     "text": [
      "[10, 50, 28]\n",
      "[10, 50, 28]\n",
      "[650, 22]\n"
     ]
    }
   ],
   "source": [
    "print(li[:3:])\n",
    "print(li[:3])\n",
    "print(li[3:])\n",
    "\n"
   ]
  },
  {
   "cell_type": "code",
   "execution_count": 29,
   "metadata": {},
   "outputs": [
    {
     "name": "stdout",
     "output_type": "stream",
     "text": [
      "[10, 50, 28, 650, 22]\n"
     ]
    }
   ],
   "source": [
    "print(li[0:5:1])"
   ]
  },
  {
   "cell_type": "code",
   "execution_count": 30,
   "metadata": {},
   "outputs": [
    {
     "name": "stdout",
     "output_type": "stream",
     "text": [
      "[10, 50, 28, 650, 22]\n"
     ]
    }
   ],
   "source": [
    "print(li)"
   ]
  },
  {
   "cell_type": "code",
   "execution_count": 31,
   "metadata": {},
   "outputs": [
    {
     "name": "stdout",
     "output_type": "stream",
     "text": [
      "[10, 50, 28, 650, 22]\n"
     ]
    }
   ],
   "source": [
    "print(li[::])"
   ]
  },
  {
   "cell_type": "code",
   "execution_count": 32,
   "metadata": {},
   "outputs": [],
   "source": [
    "import numpy as np \n",
    "import random "
   ]
  },
  {
   "cell_type": "code",
   "execution_count": 33,
   "metadata": {},
   "outputs": [],
   "source": [
    "li = [int(item) for item in np.random.randint(1, 100, 50)]"
   ]
  },
  {
   "cell_type": "code",
   "execution_count": 34,
   "metadata": {},
   "outputs": [
    {
     "name": "stdout",
     "output_type": "stream",
     "text": [
      "[66, 26, 70, 76, 18, 57, 46, 93, 18, 57, 49, 37, 8, 95, 83, 68, 83, 33, 49, 60, 17, 92, 72, 49, 1, 49, 77, 86, 55, 32, 22, 73, 30, 4, 94, 11, 18, 45, 46, 18, 22, 20, 91, 42, 67, 34, 88, 98, 52, 22]\n"
     ]
    }
   ],
   "source": [
    "print(li) "
   ]
  },
  {
   "cell_type": "code",
   "execution_count": 35,
   "metadata": {},
   "outputs": [
    {
     "data": {
      "text/plain": [
       "50"
      ]
     },
     "execution_count": 35,
     "metadata": {},
     "output_type": "execute_result"
    }
   ],
   "source": [
    "len(li) "
   ]
  },
  {
   "cell_type": "code",
   "execution_count": 37,
   "metadata": {},
   "outputs": [
    {
     "data": {
      "text/plain": [
       "29"
      ]
     },
     "execution_count": 37,
     "metadata": {},
     "output_type": "execute_result"
    }
   ],
   "source": [
    "len(li[4:33:1] )"
   ]
  },
  {
   "cell_type": "code",
   "execution_count": null,
   "metadata": {},
   "outputs": [
    {
     "name": "stdout",
     "output_type": "stream",
     "text": [
      "Original List : [1, 2, 4, 5, 6]\n",
      "Updated List : [1, 2, 4, 5, 6, 100]\n",
      "Updated List : [1, 2, 4, 5, 105, 6, 100]\n",
      "Updated List : [1, 2, 4, 5, 105, 6, 100, [7, 8, 9]]\n",
      "Updated List : [1, 2, 4, 5, 105, 6, 100, [7, 8, 9], 7, 8, 9]\n"
     ]
    }
   ],
   "source": [
    "li  = [1, 2, 4, 5, 6] \n",
    "\n",
    "print(f\"Original List : {li}\")\n",
    "\n",
    "li.append(100) \n",
    "\n",
    "print(f\"Updated List : {li}\")\n",
    "\n",
    "li.insert(4, 105) \n",
    "\n",
    "print(f\"Updated List : {li}\")\n",
    "\n",
    "# li.append(7, 6, 9) : TypeError: list.append() takes exactly one argument (3 given)\n",
    "\n",
    "li.append([7, 8, 9])\n",
    "\n",
    "print(f\"Updated List : {li}\")\n",
    "\n",
    "li.extend([7, 8, 9])\n",
    "\n",
    "print(f\"Updated List : {li}\")\n",
    "\n"
   ]
  },
  {
   "cell_type": "code",
   "execution_count": 47,
   "metadata": {},
   "outputs": [
    {
     "name": "stdout",
     "output_type": "stream",
     "text": [
      "1 <class 'int'>\n",
      "3.14 <class 'float'>\n",
      "Jack <class 'str'>\n",
      "[1, 2, 3] <class 'list'>\n",
      "(4, 5, 6) <class 'tuple'>\n",
      "{'a': 1, 'b': 2} <class 'dict'>\n",
      "{1, 2, 3} <class 'set'>\n",
      "True <class 'bool'>\n",
      "None <class 'NoneType'>\n",
      "(2+5j) <class 'complex'>\n"
     ]
    }
   ],
   "source": [
    "li = [1, 3.14, 'Jack', [1, 2, 3], (4, 5, 6), {'a':1, 'b':2}, {1,2,3}, True, None, 2+5j]\n",
    "\n",
    "\n",
    "for item in li:\n",
    "    print(item, type(item)) "
   ]
  },
  {
   "cell_type": "code",
   "execution_count": 7,
   "metadata": {},
   "outputs": [
    {
     "name": "stdout",
     "output_type": "stream",
     "text": [
      "Original List : [74, 95, 2, 62, 25]\n",
      "Updated List : [74, 95, 2, 62]\n",
      "Updated List : [95, 2, 62]\n",
      "Updated List : [95, 62]\n",
      "Updated List : [95]\n"
     ]
    }
   ],
   "source": [
    "# Removing Data \n",
    "\n",
    "li = [74, 95, 2, 62, 25] \n",
    "\n",
    "# Index based, Item Based \n",
    "\n",
    "print(f\"Original List : {li}\")\n",
    "\n",
    "li.pop() \n",
    "\n",
    "print(f\"Updated List : {li}\")\n",
    "\n",
    "li.pop(0) \n",
    "\n",
    "print(f\"Updated List : {li}\")\n",
    "\n",
    "# li.remove(25) : ValueError: list.remove(x): x not in list\n",
    "\n",
    "li.remove(2) \n",
    "\n",
    "print(f\"Updated List : {li}\")\n",
    "\n",
    "li.remove(62) \n",
    "\n",
    "print(f\"Updated List : {li}\")"
   ]
  },
  {
   "cell_type": "code",
   "execution_count": 8,
   "metadata": {},
   "outputs": [
    {
     "name": "stdout",
     "output_type": "stream",
     "text": [
      "Index : 0, data = 74\n",
      "Index : 1, data = 95\n",
      "Index : 2, data = 2\n",
      "Index : 3, data = 62\n",
      "Index : 4, data = 25\n"
     ]
    }
   ],
   "source": [
    "# Looping On Lists : \n",
    "\n",
    "# 1. Index based \n",
    "# 2. Item based \n",
    "# 3. Enumerate Based \n",
    "\n",
    "li = [74, 95, 2, 62, 25] \n",
    "\n",
    "for i in range(len(li)):\n",
    "    print(f\"Index : {i}, data = {li[i]}\")"
   ]
  },
  {
   "cell_type": "code",
   "execution_count": 9,
   "metadata": {},
   "outputs": [
    {
     "name": "stdout",
     "output_type": "stream",
     "text": [
      "74 95 2 62 25 "
     ]
    }
   ],
   "source": [
    "for item in li:\n",
    "    print(item, end = \" \") "
   ]
  },
  {
   "cell_type": "code",
   "execution_count": 11,
   "metadata": {},
   "outputs": [
    {
     "name": "stdout",
     "output_type": "stream",
     "text": [
      "Index : 0, data : 74\n",
      "Index : 1, data : 95\n",
      "Index : 2, data : 2\n",
      "Index : 3, data : 62\n",
      "Index : 4, data : 25\n"
     ]
    }
   ],
   "source": [
    "for index, item in enumerate(li):\n",
    "    print(f\"Index : {index}, data : {item}\")"
   ]
  },
  {
   "cell_type": "code",
   "execution_count": 13,
   "metadata": {},
   "outputs": [
    {
     "name": "stdout",
     "output_type": "stream",
     "text": [
      "[98, 97, 94, 96, 85]\n"
     ]
    }
   ],
   "source": [
    "# User Defined Input \n",
    "\n",
    "# Line seperated Input \n",
    "\n",
    "li = [] \n",
    "\n",
    "for i in range(5):\n",
    "    x = int(input()) \n",
    "    li.append(x) \n",
    "\n",
    "print(li) "
   ]
  },
  {
   "cell_type": "code",
   "execution_count": 17,
   "metadata": {},
   "outputs": [
    {
     "name": "stdout",
     "output_type": "stream",
     "text": [
      "[1, 5, 3, 7, 9]\n"
     ]
    }
   ],
   "source": [
    "# Space Seperated Input from the user \n",
    "\n",
    "marks = input() # str \n",
    "marks_li = marks.split() # list[str] \n",
    "li = [] \n",
    "\n",
    "for item in  marks_li:\n",
    "    li.append(int(item)) \n",
    "\n",
    "print(li) "
   ]
  },
  {
   "cell_type": "code",
   "execution_count": 19,
   "metadata": {},
   "outputs": [
    {
     "name": "stdout",
     "output_type": "stream",
     "text": [
      "[1, 2, 3, 4, 5]\n"
     ]
    }
   ],
   "source": [
    "marks_li = input().split() \n",
    "li = [] \n",
    "\n",
    "for item in marks_li:\n",
    "    li.append(int(item)) \n",
    "\n",
    "print(li) "
   ]
  },
  {
   "cell_type": "code",
   "execution_count": 20,
   "metadata": {},
   "outputs": [
    {
     "name": "stdout",
     "output_type": "stream",
     "text": [
      "[1, 2, 3, 4, 5]\n"
     ]
    }
   ],
   "source": [
    "li = [] \n",
    "\n",
    "for item in input().split():\n",
    "    li.append(int(item)) \n",
    "\n",
    "print(li) "
   ]
  },
  {
   "cell_type": "code",
   "execution_count": 21,
   "metadata": {},
   "outputs": [
    {
     "name": "stdout",
     "output_type": "stream",
     "text": [
      "[1, 2, 3, 4, 5]\n"
     ]
    }
   ],
   "source": [
    "li = [int(item) for item in input().split()] \n",
    "print(li) "
   ]
  },
  {
   "cell_type": "code",
   "execution_count": 23,
   "metadata": {},
   "outputs": [
    {
     "name": "stdout",
     "output_type": "stream",
     "text": [
      "[1, 2, 3, 4, 5, 6, 7, 8, 9, 10, 11, 12, 13, 14, 15, 16, 17, 18, 19, 20, 21, 22, 23, 24, 25, 26, 27, 28, 29, 30, 31, 32, 33, 34, 35, 36, 37, 38, 39, 40, 41, 42, 43, 44, 45, 46, 47, 48, 49, 50, 51, 52, 53, 54, 55, 56, 57, 58, 59, 60, 61, 62, 63, 64, 65, 66, 67, 68, 69, 70, 71, 72, 73, 74, 75, 76, 77, 78, 79, 80, 81, 82, 83, 84, 85, 86, 87, 88, 89, 90, 91, 92, 93, 94, 95, 96, 97, 98, 99, 100]\n"
     ]
    }
   ],
   "source": [
    "# store 1 to 100 in a list \n",
    "\n",
    "li = [] \n",
    "\n",
    "for i in range(1, 101, 1):\n",
    "    li.append(i) \n",
    "\n",
    "print(li) "
   ]
  },
  {
   "cell_type": "code",
   "execution_count": 26,
   "metadata": {},
   "outputs": [
    {
     "name": "stdout",
     "output_type": "stream",
     "text": [
      "[2, 4, 6, 8, 10, 12, 14, 16, 18, 20, 22, 24, 26, 28, 30, 32, 34, 36, 38, 40, 42, 44, 46, 48, 50, 52, 54, 56, 58, 60, 62, 64, 66, 68, 70, 72, 74, 76, 78, 80, 82, 84, 86, 88, 90, 92, 94, 96, 98, 100]\n"
     ]
    }
   ],
   "source": [
    "li = [item for item in range(2, 101, 2)]\n",
    "print(li) "
   ]
  },
  {
   "cell_type": "code",
   "execution_count": 27,
   "metadata": {},
   "outputs": [
    {
     "data": {
      "text/plain": [
       "65"
      ]
     },
     "execution_count": 27,
     "metadata": {},
     "output_type": "execute_result"
    }
   ],
   "source": [
    "ord('A')"
   ]
  },
  {
   "cell_type": "code",
   "execution_count": 28,
   "metadata": {},
   "outputs": [
    {
     "data": {
      "text/plain": [
       "90"
      ]
     },
     "execution_count": 28,
     "metadata": {},
     "output_type": "execute_result"
    }
   ],
   "source": [
    "ord('Z')"
   ]
  },
  {
   "cell_type": "code",
   "execution_count": 30,
   "metadata": {},
   "outputs": [
    {
     "name": "stdout",
     "output_type": "stream",
     "text": [
      "65 A\n",
      "66 B\n",
      "67 C\n",
      "68 D\n",
      "69 E\n",
      "70 F\n",
      "71 G\n",
      "72 H\n",
      "73 I\n",
      "74 J\n",
      "75 K\n",
      "76 L\n",
      "77 M\n",
      "78 N\n",
      "79 O\n",
      "80 P\n",
      "81 Q\n",
      "82 R\n",
      "83 S\n",
      "84 T\n",
      "85 U\n",
      "86 V\n",
      "87 W\n",
      "88 X\n",
      "89 Y\n",
      "90 Z\n",
      "['A', 'B', 'C', 'D', 'E', 'F', 'G', 'H', 'I', 'J', 'K', 'L', 'M', 'N', 'O', 'P', 'Q', 'R', 'S', 'T', 'U', 'V', 'W', 'X', 'Y', 'Z']\n"
     ]
    }
   ],
   "source": [
    "li = [] \n",
    "for i in range(65, 91):\n",
    "    print(i, chr(i))\n",
    "    li.append(chr(i))\n",
    "\n",
    "print(li) "
   ]
  },
  {
   "cell_type": "code",
   "execution_count": 31,
   "metadata": {},
   "outputs": [
    {
     "name": "stdout",
     "output_type": "stream",
     "text": [
      "['A', 'B', 'C', 'D', 'E', 'F', 'G', 'H', 'I', 'J', 'K', 'L', 'M', 'N', 'O', 'P', 'Q', 'R', 'S', 'T', 'U', 'V', 'W', 'X', 'Y', 'Z']\n"
     ]
    }
   ],
   "source": [
    "li = [chr(i) for i in range(65, 91)]\n",
    "\n",
    "print(li) "
   ]
  },
  {
   "cell_type": "code",
   "execution_count": 32,
   "metadata": {},
   "outputs": [
    {
     "data": {
      "text/plain": [
       "97"
      ]
     },
     "execution_count": 32,
     "metadata": {},
     "output_type": "execute_result"
    }
   ],
   "source": [
    "ord('a')"
   ]
  },
  {
   "cell_type": "code",
   "execution_count": 33,
   "metadata": {},
   "outputs": [
    {
     "data": {
      "text/plain": [
       "122"
      ]
     },
     "execution_count": 33,
     "metadata": {},
     "output_type": "execute_result"
    }
   ],
   "source": [
    "ord('z')"
   ]
  },
  {
   "cell_type": "code",
   "execution_count": 35,
   "metadata": {},
   "outputs": [
    {
     "name": "stdout",
     "output_type": "stream",
     "text": [
      "['a', 'b', 'c', 'd', 'e', 'f', 'g', 'h', 'i', 'j', 'k', 'l', 'm', 'n', 'o', 'p', 'q', 'r', 's', 't', 'u', 'v', 'w', 'x', 'y', 'z']\n"
     ]
    }
   ],
   "source": [
    "small_abcd = [chr(item) for item in range(97, 123)]\n",
    "print(small_abcd)"
   ]
  },
  {
   "cell_type": "code",
   "execution_count": 36,
   "metadata": {},
   "outputs": [
    {
     "name": "stdout",
     "output_type": "stream",
     "text": [
      "[5, 10, 15, 20, 25, 30, 35, 40, 45, 50, 55, 60, 65, 70, 75, 80, 85, 90, 95, 100]\n"
     ]
    }
   ],
   "source": [
    "li = [item for item in range(1, 101, 1) if item % 5 == 0]\n",
    "print(li) "
   ]
  },
  {
   "cell_type": "code",
   "execution_count": 37,
   "metadata": {},
   "outputs": [],
   "source": [
    "import numpy as np \n",
    "import random "
   ]
  },
  {
   "cell_type": "code",
   "execution_count": 58,
   "metadata": {},
   "outputs": [],
   "source": [
    "a = np.random.randint(1, 10, 5) "
   ]
  },
  {
   "cell_type": "code",
   "execution_count": 59,
   "metadata": {},
   "outputs": [
    {
     "name": "stdout",
     "output_type": "stream",
     "text": [
      "[2 1 6 4 4] <class 'numpy.ndarray'>\n"
     ]
    }
   ],
   "source": [
    "print(a, type(a)) "
   ]
  },
  {
   "cell_type": "code",
   "execution_count": 61,
   "metadata": {},
   "outputs": [
    {
     "name": "stdout",
     "output_type": "stream",
     "text": [
      "2 <class 'numpy.int32'>\n",
      "1 <class 'numpy.int32'>\n",
      "6 <class 'numpy.int32'>\n",
      "4 <class 'numpy.int32'>\n",
      "4 <class 'numpy.int32'>\n"
     ]
    }
   ],
   "source": [
    "for item in a:\n",
    "    print(item, type(item)) "
   ]
  },
  {
   "cell_type": "code",
   "execution_count": 78,
   "metadata": {},
   "outputs": [
    {
     "name": "stdout",
     "output_type": "stream",
     "text": [
      "[6, 3, 4, 3, 9]\n"
     ]
    }
   ],
   "source": [
    "li = [int(item) for item in np.random.randint(1, 10, 5)]\n",
    "print(li) "
   ]
  },
  {
   "cell_type": "code",
   "execution_count": 83,
   "metadata": {},
   "outputs": [],
   "source": [
    "li  = [7, 92, 47, 52, 49]"
   ]
  },
  {
   "cell_type": "code",
   "execution_count": 84,
   "metadata": {},
   "outputs": [
    {
     "data": {
      "text/plain": [
       "<function print(*args, sep=' ', end='\\n', file=None, flush=False)>"
      ]
     },
     "execution_count": 84,
     "metadata": {},
     "output_type": "execute_result"
    }
   ],
   "source": [
    "li = [int(item) for index, item in enumerate(input().split()) if index % 2 == 0]\n",
    "print"
   ]
  },
  {
   "cell_type": "code",
   "execution_count": 87,
   "metadata": {},
   "outputs": [],
   "source": [
    "li = [7, 92, 47, 52, 49]"
   ]
  },
  {
   "cell_type": "code",
   "execution_count": 88,
   "metadata": {},
   "outputs": [
    {
     "name": "stdout",
     "output_type": "stream",
     "text": [
      "7\n",
      "47\n",
      "49\n"
     ]
    }
   ],
   "source": [
    "for index, item in enumerate(li):\n",
    "    if index % 2 == 0:\n",
    "        print(item) "
   ]
  },
  {
   "cell_type": "code",
   "execution_count": null,
   "metadata": {},
   "outputs": [],
   "source": []
  }
 ],
 "metadata": {
  "kernelspec": {
   "display_name": "Python 3",
   "language": "python",
   "name": "python3"
  },
  "language_info": {
   "codemirror_mode": {
    "name": "ipython",
    "version": 3
   },
   "file_extension": ".py",
   "mimetype": "text/x-python",
   "name": "python",
   "nbconvert_exporter": "python",
   "pygments_lexer": "ipython3",
   "version": "3.12.8"
  }
 },
 "nbformat": 4,
 "nbformat_minor": 2
}
