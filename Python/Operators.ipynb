{
 "cells": [
  {
   "cell_type": "code",
   "execution_count": 2,
   "metadata": {},
   "outputs": [
    {
     "data": {
      "text/plain": [
       "'\\nOperators In Python : \\n\\n1. Arithematic \\n2. Comparison \\n3. Logical \\n4. Bitwise \\n5. Assignment \\n6. Identity \\n7. Membership \\n8. Unary \\n'"
      ]
     },
     "execution_count": 2,
     "metadata": {},
     "output_type": "execute_result"
    }
   ],
   "source": [
    "'''\n",
    "Operators In Python : \n",
    "\n",
    "1. Arithematic \n",
    "2. Comparison \n",
    "3. Logical \n",
    "4. Bitwise \n",
    "5. Assignment \n",
    "6. Identity \n",
    "7. Membership \n",
    "8. Unary \n",
    "'''"
   ]
  },
  {
   "cell_type": "code",
   "execution_count": 7,
   "metadata": {},
   "outputs": [
    {
     "name": "stdout",
     "output_type": "stream",
     "text": [
      "a = 10, b = 3\n",
      "a + b : 13\n",
      "a - b : 7\n",
      "a * b : 30\n",
      "a / b :  3.33\n",
      "a // b : 3\n",
      "a % b : 1\n",
      "a ** b : 1000\n"
     ]
    }
   ],
   "source": [
    "'''\n",
    "AritheMatic Operators (Input : Number, Output : Number )\n",
    "\n",
    "+ : Addition \n",
    "- : Subtraction \n",
    "* : Multiplication \n",
    "/ : Float division \n",
    "// : Integer division \n",
    "% : Modulas Operator (Remainder) \n",
    "** : Exponential (power) \n",
    "'''\n",
    "\n",
    "a, b = 10, 3\n",
    "print(f\"a = {a}, b = {b}\")\n",
    "print(f\"a + b : {a + b}\")\n",
    "print(f\"a - b : {a - b}\")\n",
    "print(f\"a * b : {a * b}\")\n",
    "print(f\"a / b : {a / b : 0.2f}\")\n",
    "print(f\"a // b : {a // b}\")\n",
    "print(f\"a % b : {a % b}\")\n",
    "print(f\"a ** b : {a ** b}\")\n"
   ]
  },
  {
   "cell_type": "code",
   "execution_count": 10,
   "metadata": {},
   "outputs": [
    {
     "name": "stdout",
     "output_type": "stream",
     "text": [
      "a = 10, b = 3\n",
      "a == b : False\n",
      "a != b : True\n",
      "a < b : False\n",
      "a > b : True\n",
      "a <= b : False\n",
      "a >= b : True\n"
     ]
    }
   ],
   "source": [
    "'''\n",
    "Comparison Operator (input : Number, output : Boolean) \n",
    "\n",
    "== : Exactly Equal to \n",
    "!= : Not equal to \n",
    "< : less than \n",
    "> : greater than \n",
    "<= less than or equal to \n",
    ">= greater than or equal to \n",
    "\n",
    "\n",
    "'''\n",
    "\n",
    "a = 10 \n",
    "b = 3 \n",
    "\n",
    "print(f\"a = {a}, b = {b}\")\n",
    "print(f\"a == b : {a == b}\")\n",
    "print(f\"a != b : {a != b}\")\n",
    "print(f\"a < b : {a < b}\")\n",
    "print(f\"a > b : {a > b}\")\n",
    "print(f\"a <= b : {a <= b}\")\n",
    "print(f\"a >= b : {a >= b}\")\n"
   ]
  },
  {
   "cell_type": "code",
   "execution_count": 25,
   "metadata": {},
   "outputs": [
    {
     "name": "stdout",
     "output_type": "stream",
     "text": [
      "And Operator\n",
      "True and True : True\n",
      "True and False : False\n",
      "False and True : False\n",
      "False and False : False\n",
      "\n",
      "Or Operator\n",
      "True or True : True\n",
      "True or False : True\n",
      "False or True : True\n",
      "False or False : False\n",
      "\n",
      "Not Operator\n",
      "not True : False\n",
      "not False : True\n"
     ]
    }
   ],
   "source": [
    "'''\n",
    "Logical Operators \n",
    "\n",
    "and(*) \n",
    "or(+) \n",
    "not(~) \n",
    "'''\n",
    "\n",
    "a = True \n",
    "b = False \n",
    "\n",
    "print(\"And Operator\")\n",
    "\n",
    "print(f\"True and True : {a and a}\")\n",
    "print(f\"True and False : {a and b}\")\n",
    "print(f\"False and True : {b and a}\")\n",
    "print(f\"False and False : {b and b}\")\n",
    "\n",
    "print(\"\\nOr Operator\")\n",
    "\n",
    "print(f\"True or True : {a or a}\")\n",
    "print(f\"True or False : {a or b}\")\n",
    "print(f\"False or True : {b or a}\")\n",
    "print(f\"False or False : {b or b}\")\n",
    "\n",
    "print(f\"\\nNot Operator\") \n",
    "\n",
    "print(f\"not True : {not a}\")\n",
    "print(f\"not False : {not b}\")\n"
   ]
  },
  {
   "cell_type": "code",
   "execution_count": 24,
   "metadata": {},
   "outputs": [
    {
     "name": "stdout",
     "output_type": "stream",
     "text": [
      "10 20\n",
      "100\n"
     ]
    }
   ],
   "source": [
    "a = 10 \n",
    "b = 20 \n",
    "print(a, end = ' ') \n",
    "print(b)\n",
    "print(100)  "
   ]
  },
  {
   "cell_type": "code",
   "execution_count": 2,
   "metadata": {},
   "outputs": [
    {
     "name": "stdout",
     "output_type": "stream",
     "text": [
      "0 : 0\n",
      "1 : 1\n",
      "2 : 10\n",
      "3 : 11\n",
      "4 : 100\n",
      "5 : 101\n",
      "6 : 110\n",
      "7 : 111\n",
      "8 : 1000\n",
      "9 : 1001\n",
      "10 : 1010\n"
     ]
    }
   ],
   "source": [
    "#  Bitwise Operator \n",
    "\n",
    "'''\n",
    "And (&) \n",
    "Or (|) \n",
    "NOt (~)\n",
    "'''\n",
    "\n",
    "for i in range(0, 11):\n",
    "    print(f\"{i} : {bin(i)[2:]}\")"
   ]
  },
  {
   "cell_type": "code",
   "execution_count": 5,
   "metadata": {},
   "outputs": [
    {
     "name": "stdout",
     "output_type": "stream",
     "text": [
      "4\n",
      "7\n",
      "-6\n"
     ]
    }
   ],
   "source": [
    "print(5 & 6)\n",
    "print(5 | 6)\n",
    "print(~5) "
   ]
  },
  {
   "cell_type": "code",
   "execution_count": 8,
   "metadata": {},
   "outputs": [
    {
     "name": "stdout",
     "output_type": "stream",
     "text": [
      "A = 10, b = 2\n",
      "a += b\n",
      "A = 12, b = 2\n",
      "a -= b\n",
      "A = 10, b = 2\n",
      "a *= b\n",
      "A = 20, b = 2\n",
      "a /= b\n",
      "A = 10.0, b = 2\n",
      "a //= b\n",
      "A = 5.0, b = 2\n",
      "a **= b\n",
      "A = 25.0, b = 2\n",
      "a %= b\n",
      "A = 1.0, b = 2\n"
     ]
    }
   ],
   "source": [
    "a = 10 \n",
    "b = 2 \n",
    "\n",
    "print(f\"A = {a}, b = {b}\")\n",
    "print(f\"a += b\")\n",
    "a += b \n",
    "print(f\"A = {a}, b = {b}\")\n",
    "print(f\"a -= b\")\n",
    "a -= b \n",
    "print(f\"A = {a}, b = {b}\")\n",
    "print(f\"a *= b\")\n",
    "a *= b\n",
    "print(f\"A = {a}, b = {b}\")\n",
    "print(f\"a /= b\")\n",
    "a /= b\n",
    "print(f\"A = {a}, b = {b}\")\n",
    "print(f\"a //= b\")\n",
    "a //= b \n",
    "print(f\"A = {a}, b = {b}\")\n",
    "print(f\"a **= b\")\n",
    "a **= b \n",
    "print(f\"A = {a}, b = {b}\")\n",
    "print(f\"a %= b\")\n",
    "a %= b\n",
    "print(f\"A = {a}, b = {b}\")\n"
   ]
  },
  {
   "cell_type": "code",
   "execution_count": 11,
   "metadata": {},
   "outputs": [
    {
     "name": "stdout",
     "output_type": "stream",
     "text": [
      "a is b : False\n",
      "a == b : False\n",
      "a is not b : True\n",
      "a != b : True\n"
     ]
    }
   ],
   "source": [
    "# Identity & Membership \n",
    "\n",
    "'''\n",
    "Identity : is , is not \n",
    "\n",
    "Membership : in ,  not in \n",
    "'''\n",
    "\n",
    "a = 10 \n",
    "b = 20 \n",
    "\n",
    "print(f\"a is b : {a is b}\")\n",
    "print(f\"a == b : {a == b}\")\n",
    "\n",
    "print(f\"a is not b : {a is not b}\")\n",
    "print(f\"a != b : {a != b}\")"
   ]
  },
  {
   "cell_type": "code",
   "execution_count": 12,
   "metadata": {},
   "outputs": [],
   "source": [
    "import random \n",
    "import numpy as  np "
   ]
  },
  {
   "cell_type": "code",
   "execution_count": 13,
   "metadata": {},
   "outputs": [],
   "source": [
    "# Membership Operator : \n",
    "\n",
    "li = [int(item) for item in np.random.randint(1, 100, 10)] "
   ]
  },
  {
   "cell_type": "code",
   "execution_count": 14,
   "metadata": {},
   "outputs": [
    {
     "name": "stdout",
     "output_type": "stream",
     "text": [
      "[55, 58, 29, 65, 55, 6, 91, 33, 65, 35]\n"
     ]
    }
   ],
   "source": [
    "print(li) "
   ]
  },
  {
   "cell_type": "code",
   "execution_count": 18,
   "metadata": {},
   "outputs": [
    {
     "name": "stdout",
     "output_type": "stream",
     "text": [
      "55 in li : True\n",
      "95 in li : False\n",
      "29 not in li : False\n",
      "100 not in li : True\n"
     ]
    }
   ],
   "source": [
    "print(f\"55 in li : {55 in li}\")\n",
    "print(f\"95 in li : {95 in li}\")\n",
    "\n",
    "print(f\"29 not in li : {29 not in li}\")\n",
    "print(f\"100 not in li : {100 not in li}\")\n"
   ]
  },
  {
   "cell_type": "code",
   "execution_count": 21,
   "metadata": {},
   "outputs": [
    {
     "name": "stdout",
     "output_type": "stream",
     "text": [
      "5\n",
      "-5\n",
      "-10\n",
      "10\n"
     ]
    }
   ],
   "source": [
    "# Unary (+, -) \n",
    "\n",
    "a = 5 \n",
    "print(+a) \n",
    "print(-a) \n",
    "\n",
    "b = -10 \n",
    "print(+b) \n",
    "print(-b)"
   ]
  },
  {
   "cell_type": "code",
   "execution_count": null,
   "metadata": {},
   "outputs": [],
   "source": []
  }
 ],
 "metadata": {
  "kernelspec": {
   "display_name": "Python 3",
   "language": "python",
   "name": "python3"
  },
  "language_info": {
   "codemirror_mode": {
    "name": "ipython",
    "version": 3
   },
   "file_extension": ".py",
   "mimetype": "text/x-python",
   "name": "python",
   "nbconvert_exporter": "python",
   "pygments_lexer": "ipython3",
   "version": "3.12.8"
  }
 },
 "nbformat": 4,
 "nbformat_minor": 2
}
