{
 "cells": [
  {
   "cell_type": "code",
   "execution_count": 2,
   "metadata": {},
   "outputs": [],
   "source": [
    "# from a given string, fecth the index of the character"
   ]
  },
  {
   "cell_type": "code",
   "execution_count": null,
   "metadata": {},
   "outputs": [
    {
     "name": "stdout",
     "output_type": "stream",
     "text": [
      "(2, 'j')\n"
     ]
    }
   ],
   "source": [
    "string = input(\"Enter the String : \") \n",
    "character = input(\"Enter the Character you want to find in the string : \")\n",
    "\n",
    "def getIndex(string : str, character : str ) -> int:\n",
    "    for i in range(0, len(string), 1):\n",
    "        if string[i] == character:\n",
    "            return i,string[i]\n",
    "    else:\n",
    "        return 'not found'\n",
    "    \n",
    "print(getIndex(string, character)) "
   ]
  },
  {
   "cell_type": "code",
   "execution_count": 3,
   "metadata": {},
   "outputs": [],
   "source": [
    "# Counting the number of characters "
   ]
  },
  {
   "cell_type": "code",
   "execution_count": null,
   "metadata": {},
   "outputs": [],
   "source": [
    "# jayesh@1234Jayesh@1234@786895"
   ]
  },
  {
   "cell_type": "code",
   "execution_count": 1,
   "metadata": {},
   "outputs": [],
   "source": [
    "from typing import List "
   ]
  },
  {
   "cell_type": "code",
   "execution_count": 10,
   "metadata": {},
   "outputs": [
    {
     "name": "stdout",
     "output_type": "stream",
     "text": [
      "29 2025 "
     ]
    }
   ],
   "source": [
    "def extract_numeric_data(string :  str) -> List[int]:\n",
    "    li = [] \n",
    "    for item in string.split():\n",
    "        if item.isnumeric():\n",
    "            li.append(int(item)) \n",
    "\n",
    "    return li \n",
    "\n",
    "string = \"Jayesh is 29 Years Old and this is 2025\"\n",
    "# for item in extract_numeric_data(string):\n",
    "#     print(item, end = \" \")\n",
    "\n",
    "ans = extract_numeric_data(string) \n",
    "\n",
    "for item in ans:\n",
    "    print(item, end = \" \") "
   ]
  },
  {
   "cell_type": "code",
   "execution_count": 11,
   "metadata": {},
   "outputs": [
    {
     "name": "stdout",
     "output_type": "stream",
     "text": [
      "29 2025 "
     ]
    }
   ],
   "source": [
    "for item in extract_numeric_data(string):\n",
    "    print(item, end = \" \") "
   ]
  },
  {
   "cell_type": "code",
   "execution_count": 12,
   "metadata": {},
   "outputs": [
    {
     "name": "stdout",
     "output_type": "stream",
     "text": [
      "A B C D E F G H I J K L M N O P Q R S T U V W X Y Z\n"
     ]
    }
   ],
   "source": [
    "# print A to Z using list comprehension \n",
    "\n",
    "print(\" \".join([chr(item) for item in range(65, 91)]))"
   ]
  },
  {
   "cell_type": "code",
   "execution_count": 13,
   "metadata": {},
   "outputs": [
    {
     "data": {
      "text/plain": [
       "65"
      ]
     },
     "execution_count": 13,
     "metadata": {},
     "output_type": "execute_result"
    }
   ],
   "source": [
    "ord('A') "
   ]
  },
  {
   "cell_type": "code",
   "execution_count": 14,
   "metadata": {},
   "outputs": [
    {
     "data": {
      "text/plain": [
       "90"
      ]
     },
     "execution_count": 14,
     "metadata": {},
     "output_type": "execute_result"
    }
   ],
   "source": [
    "ord('Z')"
   ]
  },
  {
   "cell_type": "code",
   "execution_count": 17,
   "metadata": {},
   "outputs": [
    {
     "name": "stdout",
     "output_type": "stream",
     "text": [
      "A B C D E F G H I J K L M N O P Q R S T U V W X Y Z "
     ]
    }
   ],
   "source": [
    "for i in range(65, 91):\n",
    "    print(chr(i), end = \" \") "
   ]
  },
  {
   "cell_type": "code",
   "execution_count": 18,
   "metadata": {},
   "outputs": [],
   "source": [
    "def get_binary_from_character(char):\n",
    "    return bin(ord(char))[2:]"
   ]
  },
  {
   "cell_type": "code",
   "execution_count": 23,
   "metadata": {},
   "outputs": [
    {
     "data": {
      "text/plain": [
       "'100111'"
      ]
     },
     "execution_count": 23,
     "metadata": {},
     "output_type": "execute_result"
    }
   ],
   "source": [
    "get_binary_from_character(\"'\")"
   ]
  },
  {
   "cell_type": "code",
   "execution_count": 27,
   "metadata": {},
   "outputs": [
    {
     "name": "stdout",
     "output_type": "stream",
     "text": [
      "False\n",
      "True\n",
      "True\n"
     ]
    }
   ],
   "source": [
    "a = 'Jack' \n",
    "b = 'jACk'\n",
    "\n",
    "print(a == b)\n",
    "\n",
    "print(a.casefold() == b.casefold()) \n",
    "\n",
    "print(a.lower() == b.lower()) "
   ]
  },
  {
   "cell_type": "code",
   "execution_count": null,
   "metadata": {},
   "outputs": [],
   "source": []
  }
 ],
 "metadata": {
  "kernelspec": {
   "display_name": "Python 3",
   "language": "python",
   "name": "python3"
  },
  "language_info": {
   "codemirror_mode": {
    "name": "ipython",
    "version": 3
   },
   "file_extension": ".py",
   "mimetype": "text/x-python",
   "name": "python",
   "nbconvert_exporter": "python",
   "pygments_lexer": "ipython3",
   "version": "3.12.8"
  }
 },
 "nbformat": 4,
 "nbformat_minor": 2
}
