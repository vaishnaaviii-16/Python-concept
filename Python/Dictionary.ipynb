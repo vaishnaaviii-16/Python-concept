{
 "cells": [
  {
   "cell_type": "code",
   "execution_count": 3,
   "metadata": {},
   "outputs": [
    {
     "name": "stdout",
     "output_type": "stream",
     "text": [
      "{} <class 'dict'>\n"
     ]
    }
   ],
   "source": [
    "d1 = {} \n",
    "print(d1, type(d1)) "
   ]
  },
  {
   "cell_type": "code",
   "execution_count": 4,
   "metadata": {},
   "outputs": [
    {
     "name": "stdout",
     "output_type": "stream",
     "text": [
      "{} <class 'dict'>\n"
     ]
    }
   ],
   "source": [
    "d2 = dict() \n",
    "print(d2, type(d2)) "
   ]
  },
  {
   "cell_type": "code",
   "execution_count": 5,
   "metadata": {},
   "outputs": [],
   "source": [
    "d = {\n",
    "    'Key1' : 'Value1', \n",
    "    'Key2' : 'Value2', \n",
    "    'Key3' : 'Value3'\n",
    "}"
   ]
  },
  {
   "cell_type": "code",
   "execution_count": 6,
   "metadata": {},
   "outputs": [
    {
     "name": "stdout",
     "output_type": "stream",
     "text": [
      "{'Key1': 'Value1', 'Key2': 'Value2', 'Key3': 'Value3'} <class 'dict'>\n"
     ]
    }
   ],
   "source": [
    "print(d, type(d)) "
   ]
  },
  {
   "cell_type": "code",
   "execution_count": 7,
   "metadata": {},
   "outputs": [],
   "source": [
    "pirates = {\n",
    "    'Movie Name' : 'Pirates of the Carribean', \n",
    "    'Movie Cast' : 'Johny Depp, Keira Knightley', \n",
    "    'Movie Duration' : 119, \n",
    "    'Movie Genre' : 'Adventure'\n",
    "}"
   ]
  },
  {
   "cell_type": "code",
   "execution_count": 8,
   "metadata": {},
   "outputs": [
    {
     "data": {
      "text/plain": [
       "{'Movie Name': 'Pirates of the Carribean',\n",
       " 'Movie Cast': 'Johny Depp, Keira Knightley',\n",
       " 'Movie Duration': 119,\n",
       " 'Movie Genre': 'Adventure'}"
      ]
     },
     "execution_count": 8,
     "metadata": {},
     "output_type": "execute_result"
    }
   ],
   "source": [
    "pirates"
   ]
  },
  {
   "cell_type": "code",
   "execution_count": 13,
   "metadata": {},
   "outputs": [
    {
     "data": {
      "text/plain": [
       "'Adventure'"
      ]
     },
     "execution_count": 13,
     "metadata": {},
     "output_type": "execute_result"
    }
   ],
   "source": [
    "# Accessing the data \n",
    "\n",
    "pirates['Movie Genre']"
   ]
  },
  {
   "cell_type": "code",
   "execution_count": 18,
   "metadata": {},
   "outputs": [],
   "source": [
    "# Assigning values to dictionary \n",
    "\n",
    "pirates['Movie Duration'] = 123"
   ]
  },
  {
   "cell_type": "code",
   "execution_count": 19,
   "metadata": {},
   "outputs": [
    {
     "name": "stdout",
     "output_type": "stream",
     "text": [
      "{'Movie Name': 'Pirates of the Carribean', 'Movie Cast': 'Johny Depp, Keira Knightley', 'Movie Duration': 123, 'Movie Genre': 'Adventure'}\n"
     ]
    }
   ],
   "source": [
    "print(pirates)"
   ]
  },
  {
   "cell_type": "code",
   "execution_count": 20,
   "metadata": {},
   "outputs": [
    {
     "data": {
      "text/plain": [
       "dict_keys(['Movie Name', 'Movie Cast', 'Movie Duration', 'Movie Genre'])"
      ]
     },
     "execution_count": 20,
     "metadata": {},
     "output_type": "execute_result"
    }
   ],
   "source": [
    "pirates.keys() "
   ]
  },
  {
   "cell_type": "code",
   "execution_count": 22,
   "metadata": {},
   "outputs": [
    {
     "data": {
      "text/plain": [
       "dict_values(['Pirates of the Carribean', 'Johny Depp, Keira Knightley', 123, 'Adventure'])"
      ]
     },
     "execution_count": 22,
     "metadata": {},
     "output_type": "execute_result"
    }
   ],
   "source": [
    "pirates.values()"
   ]
  },
  {
   "cell_type": "code",
   "execution_count": 23,
   "metadata": {},
   "outputs": [
    {
     "data": {
      "text/plain": [
       "dict_items([('Movie Name', 'Pirates of the Carribean'), ('Movie Cast', 'Johny Depp, Keira Knightley'), ('Movie Duration', 123), ('Movie Genre', 'Adventure')])"
      ]
     },
     "execution_count": 23,
     "metadata": {},
     "output_type": "execute_result"
    }
   ],
   "source": [
    "pirates.items() "
   ]
  },
  {
   "cell_type": "code",
   "execution_count": 24,
   "metadata": {},
   "outputs": [],
   "source": [
    "# Dictionary is a list of tuples "
   ]
  },
  {
   "cell_type": "code",
   "execution_count": 25,
   "metadata": {},
   "outputs": [
    {
     "name": "stdout",
     "output_type": "stream",
     "text": [
      "{'A': 1, 'B': 2, 'C': 3}\n"
     ]
    }
   ],
   "source": [
    "d = dict([('A' , 1), ('B', 2), ('C', 3)])\n",
    "print(d) "
   ]
  },
  {
   "cell_type": "code",
   "execution_count": 31,
   "metadata": {},
   "outputs": [
    {
     "name": "stdout",
     "output_type": "stream",
     "text": [
      "Question: Movie Name ?\n",
      "Answer: Pirates of the Carribean\n",
      "\n",
      "Question: Movie Cast ?\n",
      "Answer: Johny Depp, Keira Knightley\n",
      "\n",
      "Question: Movie Duration ?\n",
      "Answer: 123\n",
      "\n",
      "Question: Movie Genre ?\n",
      "Answer: Adventure\n",
      "\n"
     ]
    }
   ],
   "source": [
    "for key, value in pirates.items():\n",
    "    print(f\"Question: {key} ?\\nAnswer: {value}\\n\") "
   ]
  },
  {
   "cell_type": "code",
   "execution_count": 32,
   "metadata": {},
   "outputs": [
    {
     "name": "stdout",
     "output_type": "stream",
     "text": [
      "Question : Movie Name\n",
      "Question : Movie Cast\n",
      "Question : Movie Duration\n",
      "Question : Movie Genre\n"
     ]
    }
   ],
   "source": [
    "for key in pirates.keys():\n",
    "    print(f\"Question : {key}\")"
   ]
  },
  {
   "cell_type": "code",
   "execution_count": 33,
   "metadata": {},
   "outputs": [
    {
     "name": "stdout",
     "output_type": "stream",
     "text": [
      "Answer : Pirates of the Carribean\n",
      "Answer : Johny Depp, Keira Knightley\n",
      "Answer : 123\n",
      "Answer : Adventure\n"
     ]
    }
   ],
   "source": [
    "for value in pirates.values():\n",
    "    print(f\"Answer : {value}\")"
   ]
  },
  {
   "cell_type": "code",
   "execution_count": 34,
   "metadata": {},
   "outputs": [
    {
     "ename": "KeyError",
     "evalue": "'Movie Director'",
     "output_type": "error",
     "traceback": [
      "\u001b[1;31m---------------------------------------------------------------------------\u001b[0m",
      "\u001b[1;31mKeyError\u001b[0m                                  Traceback (most recent call last)",
      "Cell \u001b[1;32mIn[34], line 2\u001b[0m\n\u001b[0;32m      1\u001b[0m \u001b[38;5;66;03m#\u001b[39;00m\n\u001b[1;32m----> 2\u001b[0m \u001b[43mpirates\u001b[49m\u001b[43m[\u001b[49m\u001b[38;5;124;43m'\u001b[39;49m\u001b[38;5;124;43mMovie Director\u001b[39;49m\u001b[38;5;124;43m'\u001b[39;49m\u001b[43m]\u001b[49m\n",
      "\u001b[1;31mKeyError\u001b[0m: 'Movie Director'"
     ]
    }
   ],
   "source": [
    "#\n",
    "pirates['Movie Director']"
   ]
  },
  {
   "cell_type": "code",
   "execution_count": 42,
   "metadata": {},
   "outputs": [
    {
     "name": "stdout",
     "output_type": "stream",
     "text": [
      "{'Movie Name': 'Pirates of the Carribean', 'Movie Cast': 'Johny Depp, Keira Knightley', 'Movie Duration': 123, 'Movie Genre': 'Adventure'}\n"
     ]
    }
   ],
   "source": [
    "print(pirates)"
   ]
  },
  {
   "cell_type": "code",
   "execution_count": 43,
   "metadata": {},
   "outputs": [
    {
     "name": "stdout",
     "output_type": "stream",
     "text": [
      "-1\n"
     ]
    }
   ],
   "source": [
    "# get method() \n",
    "\n",
    "print(pirates.get('Movie Gross Collection', -1))"
   ]
  },
  {
   "cell_type": "code",
   "execution_count": 45,
   "metadata": {},
   "outputs": [],
   "source": [
    "text = 'The gentle hum of the coffee machine blended with the faint rustle of pages turning in the nearby bookstore. Sunlight filtered through the large windows, casting golden patterns on the polished wooden floor. A cat, lounging lazily by the window, flicked its tail as a soft breeze carried the aroma of fresh pastries. Outside, people moved at their own pace—some hurried, others strolling with smiles, lost in conversations. Among them, a street musician strummed a soulful tune, drawing a small crowd. It was a simple moment, yet it carried the magic of everyday life, unnoticed but deeply meaningful.'\n"
   ]
  },
  {
   "cell_type": "code",
   "execution_count": 49,
   "metadata": {},
   "outputs": [
    {
     "data": {
      "text/plain": [
       "['The',\n",
       " 'gentle',\n",
       " 'hum',\n",
       " 'of',\n",
       " 'the',\n",
       " 'coffee',\n",
       " 'machine',\n",
       " 'blended',\n",
       " 'with',\n",
       " 'the',\n",
       " 'faint',\n",
       " 'rustle',\n",
       " 'of',\n",
       " 'pages',\n",
       " 'turning',\n",
       " 'in',\n",
       " 'the',\n",
       " 'nearby',\n",
       " 'bookstore.',\n",
       " 'Sunlight',\n",
       " 'filtered',\n",
       " 'through',\n",
       " 'the',\n",
       " 'large',\n",
       " 'windows,',\n",
       " 'casting',\n",
       " 'golden',\n",
       " 'patterns',\n",
       " 'on',\n",
       " 'the',\n",
       " 'polished',\n",
       " 'wooden',\n",
       " 'floor.',\n",
       " 'A',\n",
       " 'cat,',\n",
       " 'lounging',\n",
       " 'lazily',\n",
       " 'by',\n",
       " 'the',\n",
       " 'window,',\n",
       " 'flicked',\n",
       " 'its',\n",
       " 'tail',\n",
       " 'as',\n",
       " 'a',\n",
       " 'soft',\n",
       " 'breeze',\n",
       " 'carried',\n",
       " 'the',\n",
       " 'aroma',\n",
       " 'of',\n",
       " 'fresh',\n",
       " 'pastries.',\n",
       " 'Outside,',\n",
       " 'people',\n",
       " 'moved',\n",
       " 'at',\n",
       " 'their',\n",
       " 'own',\n",
       " 'pace—some',\n",
       " 'hurried,',\n",
       " 'others',\n",
       " 'strolling',\n",
       " 'with',\n",
       " 'smiles,',\n",
       " 'lost',\n",
       " 'in',\n",
       " 'conversations.',\n",
       " 'Among',\n",
       " 'them,',\n",
       " 'a',\n",
       " 'street',\n",
       " 'musician',\n",
       " 'strummed',\n",
       " 'a',\n",
       " 'soulful',\n",
       " 'tune,',\n",
       " 'drawing',\n",
       " 'a',\n",
       " 'small',\n",
       " 'crowd.',\n",
       " 'It',\n",
       " 'was',\n",
       " 'a',\n",
       " 'simple',\n",
       " 'moment,',\n",
       " 'yet',\n",
       " 'it',\n",
       " 'carried',\n",
       " 'the',\n",
       " 'magic',\n",
       " 'of',\n",
       " 'everyday',\n",
       " 'life,',\n",
       " 'unnoticed',\n",
       " 'but',\n",
       " 'deeply',\n",
       " 'meaningful.']"
      ]
     },
     "execution_count": 49,
     "metadata": {},
     "output_type": "execute_result"
    }
   ],
   "source": [
    "li = text.split() \n",
    "li "
   ]
  },
  {
   "cell_type": "code",
   "execution_count": 53,
   "metadata": {},
   "outputs": [
    {
     "name": "stdout",
     "output_type": "stream",
     "text": [
      "{'the': 9, 'gentle': 1, 'hum': 1, 'of': 4, 'coffee': 1, 'machine': 1, 'blended': 1, 'with': 2, 'faint': 1, 'rustle': 1, 'pages': 1, 'turning': 1, 'in': 2, 'nearby': 1, 'bookstore.': 1, 'sunlight': 1, 'filtered': 1, 'through': 1, 'large': 1, 'windows,': 1, 'casting': 1, 'golden': 1, 'patterns': 1, 'on': 1, 'polished': 1, 'wooden': 1, 'floor.': 1, 'a': 6, 'cat,': 1, 'lounging': 1, 'lazily': 1, 'by': 1, 'window,': 1, 'flicked': 1, 'its': 1, 'tail': 1, 'as': 1, 'soft': 1, 'breeze': 1, 'carried': 2, 'aroma': 1, 'fresh': 1, 'pastries.': 1, 'outside,': 1, 'people': 1, 'moved': 1, 'at': 1, 'their': 1, 'own': 1, 'pace—some': 1, 'hurried,': 1, 'others': 1, 'strolling': 1, 'smiles,': 1, 'lost': 1, 'conversations.': 1, 'among': 1, 'them,': 1, 'street': 1, 'musician': 1, 'strummed': 1, 'soulful': 1, 'tune,': 1, 'drawing': 1, 'small': 1, 'crowd.': 1, 'it': 2, 'was': 1, 'simple': 1, 'moment,': 1, 'yet': 1, 'magic': 1, 'everyday': 1, 'life,': 1, 'unnoticed': 1, 'but': 1, 'deeply': 1, 'meaningful.': 1}\n"
     ]
    }
   ],
   "source": [
    "word = {} \n",
    "\n",
    "for w in li:\n",
    "    word[w.lower()] = word.get(w.lower(), 0) + 1\n",
    "\n",
    "print(word) "
   ]
  },
  {
   "cell_type": "code",
   "execution_count": 48,
   "metadata": {},
   "outputs": [
    {
     "data": {
      "text/plain": [
       "{'T': 1,\n",
       " 'h': 22,\n",
       " 'e': 61,\n",
       " ' ': 97,\n",
       " 'g': 15,\n",
       " 'n': 32,\n",
       " 't': 44,\n",
       " 'l': 27,\n",
       " 'u': 16,\n",
       " 'm': 17,\n",
       " 'o': 35,\n",
       " 'f': 15,\n",
       " 'c': 13,\n",
       " 'a': 31,\n",
       " 'i': 36,\n",
       " 'b': 6,\n",
       " 'd': 20,\n",
       " 'w': 11,\n",
       " 'r': 28,\n",
       " 's': 29,\n",
       " 'p': 9,\n",
       " 'y': 7,\n",
       " 'k': 2,\n",
       " '.': 6,\n",
       " 'S': 1,\n",
       " ',': 10,\n",
       " 'A': 2,\n",
       " 'z': 2,\n",
       " 'O': 1,\n",
       " 'v': 3,\n",
       " '—': 1,\n",
       " 'I': 1}"
      ]
     },
     "execution_count": 48,
     "metadata": {},
     "output_type": "execute_result"
    }
   ],
   "source": [
    "d = {} \n",
    "\n",
    "for char in text:\n",
    "    d[char] = d.get(char, 0) + 1\n",
    "\n",
    "d "
   ]
  },
  {
   "cell_type": "code",
   "execution_count": null,
   "metadata": {},
   "outputs": [],
   "source": []
  }
 ],
 "metadata": {
  "kernelspec": {
   "display_name": "Python 3",
   "language": "python",
   "name": "python3"
  },
  "language_info": {
   "codemirror_mode": {
    "name": "ipython",
    "version": 3
   },
   "file_extension": ".py",
   "mimetype": "text/x-python",
   "name": "python",
   "nbconvert_exporter": "python",
   "pygments_lexer": "ipython3",
   "version": "3.12.8"
  }
 },
 "nbformat": 4,
 "nbformat_minor": 2
}
