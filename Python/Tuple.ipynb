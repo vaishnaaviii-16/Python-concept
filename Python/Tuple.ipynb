{
 "cells": [
  {
   "cell_type": "code",
   "execution_count": 38,
   "metadata": {},
   "outputs": [],
   "source": [
    "a = (1, 2, 3, 4, 5) "
   ]
  },
  {
   "cell_type": "code",
   "execution_count": 39,
   "metadata": {},
   "outputs": [
    {
     "name": "stdout",
     "output_type": "stream",
     "text": [
      "(1, 2, 3) <class 'tuple'>\n"
     ]
    }
   ],
   "source": [
    "t = tuple((1, 2, 3)) \n",
    "print(t, type(t))  "
   ]
  },
  {
   "cell_type": "code",
   "execution_count": 40,
   "metadata": {},
   "outputs": [
    {
     "name": "stdout",
     "output_type": "stream",
     "text": [
      "(1, 2, 3, 4, 5) <class 'tuple'>\n"
     ]
    }
   ],
   "source": [
    "print(a, type(a)) "
   ]
  },
  {
   "cell_type": "code",
   "execution_count": 41,
   "metadata": {},
   "outputs": [
    {
     "name": "stdout",
     "output_type": "stream",
     "text": [
      "1\n",
      "5\n",
      "5\n",
      "1\n"
     ]
    }
   ],
   "source": [
    "# Accessing of data \n",
    "\n",
    "print(a[0]) \n",
    "print(a[4]) \n",
    "# print(a[5]) : IndexError: tuple index out of range\n",
    "\n",
    "print(a[-1])\n",
    "print(a[-5]) \n",
    "# print(a[-6]) : IndexError: tuple index out of range"
   ]
  },
  {
   "cell_type": "code",
   "execution_count": 42,
   "metadata": {},
   "outputs": [
    {
     "ename": "TypeError",
     "evalue": "'tuple' object does not support item assignment",
     "output_type": "error",
     "traceback": [
      "\u001b[1;31m---------------------------------------------------------------------------\u001b[0m",
      "\u001b[1;31mTypeError\u001b[0m                                 Traceback (most recent call last)",
      "Cell \u001b[1;32mIn[42], line 1\u001b[0m\n\u001b[1;32m----> 1\u001b[0m \u001b[43ma\u001b[49m\u001b[43m[\u001b[49m\u001b[38;5;241;43m0\u001b[39;49m\u001b[43m]\u001b[49m \u001b[38;5;241m=\u001b[39m \u001b[38;5;241m10\u001b[39m \n",
      "\u001b[1;31mTypeError\u001b[0m: 'tuple' object does not support item assignment"
     ]
    }
   ],
   "source": [
    "a[0] = 10 "
   ]
  },
  {
   "cell_type": "code",
   "execution_count": 43,
   "metadata": {},
   "outputs": [
    {
     "name": "stdout",
     "output_type": "stream",
     "text": [
      "(1, 2, 3)\n",
      "(4, 5)\n"
     ]
    }
   ],
   "source": [
    "# Functions in python tuple \n",
    "\n",
    "a = (1, 2, 3) \n",
    "b = 4, 5\n",
    "\n",
    "print(a) \n",
    "print(b) "
   ]
  },
  {
   "cell_type": "code",
   "execution_count": 44,
   "metadata": {},
   "outputs": [
    {
     "name": "stdout",
     "output_type": "stream",
     "text": [
      "(1, 2, 3, 4, 5)\n",
      "((1, 2, 3), (4, 5))\n"
     ]
    }
   ],
   "source": [
    "# concatenation \n",
    "\n",
    "c = a + b \n",
    "d = (a, b) \n",
    "\n",
    "print(c) \n",
    "print(d) "
   ]
  },
  {
   "cell_type": "code",
   "execution_count": 45,
   "metadata": {},
   "outputs": [
    {
     "name": "stdout",
     "output_type": "stream",
     "text": [
      "a = (1, 2, 3)\n",
      "1 in a : True\n",
      "10 in a : False\n"
     ]
    }
   ],
   "source": [
    "# Membership \n",
    "\n",
    "print(f\"a = {a}\\n1 in a : {1 in a}\\n10 in a : {10 in a}\")"
   ]
  },
  {
   "cell_type": "code",
   "execution_count": 46,
   "metadata": {},
   "outputs": [
    {
     "name": "stdout",
     "output_type": "stream",
     "text": [
      "a = (1, 2, 3)\n",
      "3a = (1, 2, 3, 1, 2, 3, 1, 2, 3)\n"
     ]
    }
   ],
   "source": [
    "# repetition \n",
    "\n",
    "print(f\"a = {a}\\n3a = {3 * a}\")"
   ]
  },
  {
   "cell_type": "code",
   "execution_count": 47,
   "metadata": {},
   "outputs": [
    {
     "name": "stdout",
     "output_type": "stream",
     "text": [
      "a = {1, 2.4, 5.5}\n",
      "max(a) = 5.5\n"
     ]
    }
   ],
   "source": [
    "a = {1, 2.4 , 5.5}\n",
    "\n",
    "print(f\"a = {a}\") \n",
    "\n",
    "print(f\"max(a) = {max(a)}\")"
   ]
  },
  {
   "cell_type": "code",
   "execution_count": 48,
   "metadata": {},
   "outputs": [
    {
     "ename": "TypeError",
     "evalue": "'>' not supported between instances of 'str' and 'float'",
     "output_type": "error",
     "traceback": [
      "\u001b[1;31m---------------------------------------------------------------------------\u001b[0m",
      "\u001b[1;31mTypeError\u001b[0m                                 Traceback (most recent call last)",
      "Cell \u001b[1;32mIn[48], line 2\u001b[0m\n\u001b[0;32m      1\u001b[0m c \u001b[38;5;241m=\u001b[39m (\u001b[38;5;241m1\u001b[39m, \u001b[38;5;241m3.55\u001b[39m, \u001b[38;5;124m'\u001b[39m\u001b[38;5;124mjack\u001b[39m\u001b[38;5;124m'\u001b[39m) \n\u001b[1;32m----> 2\u001b[0m \u001b[38;5;28mprint\u001b[39m(\u001b[38;5;28;43mmax\u001b[39;49m\u001b[43m(\u001b[49m\u001b[43mc\u001b[49m\u001b[43m)\u001b[49m) \n",
      "\u001b[1;31mTypeError\u001b[0m: '>' not supported between instances of 'str' and 'float'"
     ]
    }
   ],
   "source": [
    "c = (1, 3.55, 'jack') \n",
    "print(max(c)) "
   ]
  },
  {
   "cell_type": "code",
   "execution_count": 53,
   "metadata": {},
   "outputs": [],
   "source": [
    "a = (1, 2, 40 )"
   ]
  },
  {
   "cell_type": "code",
   "execution_count": 54,
   "metadata": {},
   "outputs": [
    {
     "name": "stdout",
     "output_type": "stream",
     "text": [
      "1 2 40 "
     ]
    }
   ],
   "source": [
    "for i in range(len(a)):\n",
    "    print(a[i], end = \" \") "
   ]
  },
  {
   "cell_type": "code",
   "execution_count": 55,
   "metadata": {},
   "outputs": [
    {
     "name": "stdout",
     "output_type": "stream",
     "text": [
      "1 2 40 "
     ]
    }
   ],
   "source": [
    "for item in a:\n",
    "    print(item, end = \" \") "
   ]
  },
  {
   "cell_type": "code",
   "execution_count": 56,
   "metadata": {},
   "outputs": [
    {
     "name": "stdout",
     "output_type": "stream",
     "text": [
      "Index : 0, Data : 1\n",
      "Index : 1, Data : 2\n",
      "Index : 2, Data : 40\n"
     ]
    }
   ],
   "source": [
    "for index, item in enumerate(a):\n",
    "    print(f\"Index : {index}, Data : {item}\")"
   ]
  },
  {
   "cell_type": "code",
   "execution_count": 63,
   "metadata": {},
   "outputs": [
    {
     "name": "stdout",
     "output_type": "stream",
     "text": [
      "a = 1, b = 2, x = ()\n",
      "3\n",
      "a = 1, b = 2, x = (3,)\n",
      "6\n",
      "a = 1, b = 2, x = (3, 4)\n",
      "10\n",
      "a = 1, b = 2, x = (3, 4, 5)\n",
      "15\n"
     ]
    }
   ],
   "source": [
    "# *_ function \n",
    "\n",
    "def add(a, b, *x):\n",
    "    print(f\"a = {a}, b = {b}, x = {x}\") \n",
    "\n",
    "\n",
    "    ans = a + b \n",
    "    for item in x:\n",
    "        ans += item \n",
    "\n",
    "    return ans \n",
    "\n",
    "print(add(1, 2)) \n",
    "print(add(1, 2, 3)) \n",
    "print(add(1, 2, 3, 4)) \n",
    "print(add(1, 2, 3, 4, 5)) \n"
   ]
  },
  {
   "cell_type": "code",
   "execution_count": 72,
   "metadata": {},
   "outputs": [
    {
     "name": "stdout",
     "output_type": "stream",
     "text": [
      "a = 1, b = 2, x = (3, 4, 5)\n"
     ]
    },
    {
     "data": {
      "text/plain": [
       "15"
      ]
     },
     "execution_count": 72,
     "metadata": {},
     "output_type": "execute_result"
    }
   ],
   "source": [
    "def add(a, b, x):\n",
    "    print(f\"a = {a}, b = {b}, x = {x}\") \n",
    "\n",
    "\n",
    "    ans = a + b \n",
    "    for item in x:\n",
    "        ans += item \n",
    "\n",
    "    return ans \n",
    "\n",
    "\n",
    "li = [int(x) for x in input().split()] \n",
    "\n",
    "add(li[0], li[1], tuple(li[2:]))\n",
    "\n"
   ]
  },
  {
   "cell_type": "code",
   "execution_count": 70,
   "metadata": {},
   "outputs": [
    {
     "data": {
      "text/plain": [
       "15"
      ]
     },
     "execution_count": 70,
     "metadata": {},
     "output_type": "execute_result"
    }
   ],
   "source": [
    "sum([int(item) for item in input().split()])"
   ]
  },
  {
   "cell_type": "code",
   "execution_count": null,
   "metadata": {},
   "outputs": [
    {
     "name": "stdout",
     "output_type": "stream",
     "text": [
      "li : [50, 30, 20]\n",
      "Min : 20\n",
      "Max : 50\n",
      "Count : 3\n",
      "Sum : 100\n",
      "Avg :  33.33\n"
     ]
    }
   ],
   "source": [
    "# Aggreagate function : Sum, Avg, Count, Min, Max\n",
    "\n",
    "li = [int(x) for x in input().split()] \n",
    "\n",
    "print(f\"li : {li}\\nMin : {min(li)}\\nMax : {max(li)}\\nCount : {len(li)}\\nSum : {sum(li)}\\nAvg : {(sum(li) / len(li)) : 0.2f}\") "
   ]
  },
  {
   "cell_type": "code",
   "execution_count": null,
   "metadata": {},
   "outputs": [],
   "source": []
  }
 ],
 "metadata": {
  "kernelspec": {
   "display_name": "Python 3",
   "language": "python",
   "name": "python3"
  },
  "language_info": {
   "codemirror_mode": {
    "name": "ipython",
    "version": 3
   },
   "file_extension": ".py",
   "mimetype": "text/x-python",
   "name": "python",
   "nbconvert_exporter": "python",
   "pygments_lexer": "ipython3",
   "version": "3.12.8"
  }
 },
 "nbformat": 4,
 "nbformat_minor": 2
}
