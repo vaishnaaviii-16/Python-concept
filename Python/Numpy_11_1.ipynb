{
 "cells": [
  {
   "cell_type": "code",
   "execution_count": 2,
   "metadata": {},
   "outputs": [],
   "source": [
    "import numpy as np \n",
    "import pandas as pd \n",
    "\n",
    "import matplotlib.pyplot as plt \n",
    "import random "
   ]
  },
  {
   "cell_type": "code",
   "execution_count": 3,
   "metadata": {},
   "outputs": [
    {
     "name": "stdout",
     "output_type": "stream",
     "text": [
      "[1 2 3 4 5] <class 'numpy.ndarray'>\n"
     ]
    }
   ],
   "source": [
    "a = np.array([1, 2, 3, 4, 5]) \n",
    "print(a, type(a)) "
   ]
  },
  {
   "cell_type": "code",
   "execution_count": 4,
   "metadata": {},
   "outputs": [
    {
     "name": "stdout",
     "output_type": "stream",
     "text": [
      "[[[[  1   2   3   4   5]\n",
      "   [  6   7   8   9  10]\n",
      "   [ 11  12  13  14  15]\n",
      "   [ 16  17  18  19  20]\n",
      "   [ 21  22  23  24  25]]\n",
      "\n",
      "  [[ 26  27  28  29  30]\n",
      "   [ 31  32  33  34  35]\n",
      "   [ 36  37  38  39  40]\n",
      "   [ 41  42  43  44  45]\n",
      "   [ 46  47  48  49  50]]]\n",
      "\n",
      "\n",
      " [[[ 51  52  53  54  55]\n",
      "   [ 56  57  58  59  60]\n",
      "   [ 61  62  63  64  65]\n",
      "   [ 66  67  68  69  70]\n",
      "   [ 71  72  73  74  75]]\n",
      "\n",
      "  [[ 76  77  78  79  80]\n",
      "   [ 81  82  83  84  85]\n",
      "   [ 86  87  88  89  90]\n",
      "   [ 91  92  93  94  95]\n",
      "   [ 96  97  98  99 100]]]] (2, 2, 5, 5)\n"
     ]
    }
   ],
   "source": [
    "a = np.array([item for item in range(1, 101)]).reshape(2, 2, 5, 5)   \n",
    "print(a, a.shape) "
   ]
  },
  {
   "cell_type": "code",
   "execution_count": 5,
   "metadata": {},
   "outputs": [
    {
     "name": "stdout",
     "output_type": "stream",
     "text": [
      "[['A' 'B']\n",
      " ['C' 'D']\n",
      " ['E' 'F']\n",
      " ['G' 'H']\n",
      " ['I' 'J']\n",
      " ['K' 'L']\n",
      " ['M' 'N']\n",
      " ['O' 'P']\n",
      " ['Q' 'R']\n",
      " ['S' 'T']\n",
      " ['U' 'V']\n",
      " ['W' 'X']\n",
      " ['Y' 'Z']]\n"
     ]
    }
   ],
   "source": [
    "alp = np.array([chr(i) for i in range(65, 91)]).reshape(13, 2) \n",
    "print(alp) "
   ]
  },
  {
   "cell_type": "code",
   "execution_count": 6,
   "metadata": {},
   "outputs": [],
   "source": [
    "# 'A'.ord"
   ]
  },
  {
   "cell_type": "code",
   "execution_count": 7,
   "metadata": {},
   "outputs": [
    {
     "data": {
      "text/plain": [
       "65"
      ]
     },
     "execution_count": 7,
     "metadata": {},
     "output_type": "execute_result"
    }
   ],
   "source": [
    "ord('A')"
   ]
  },
  {
   "cell_type": "code",
   "execution_count": 8,
   "metadata": {},
   "outputs": [
    {
     "data": {
      "text/plain": [
       "90"
      ]
     },
     "execution_count": 8,
     "metadata": {},
     "output_type": "execute_result"
    }
   ],
   "source": [
    "ord('Z')"
   ]
  },
  {
   "cell_type": "code",
   "execution_count": 9,
   "metadata": {},
   "outputs": [],
   "source": [
    "zero = np.zeros(shape = (5, 5)) "
   ]
  },
  {
   "cell_type": "code",
   "execution_count": 10,
   "metadata": {},
   "outputs": [],
   "source": [
    "def custom_zero(shape):\n",
    "    summation = 1 \n",
    "    for item in shape:\n",
    "        summation *= item \n",
    "    return np.array([0.00 for i in range(summation)]).reshape(shape) \n"
   ]
  },
  {
   "cell_type": "code",
   "execution_count": 11,
   "metadata": {},
   "outputs": [
    {
     "name": "stdout",
     "output_type": "stream",
     "text": [
      "[[0. 0. 0. 0. 0.]\n",
      " [0. 0. 0. 0. 0.]\n",
      " [0. 0. 0. 0. 0.]\n",
      " [0. 0. 0. 0. 0.]\n",
      " [0. 0. 0. 0. 0.]]\n"
     ]
    }
   ],
   "source": [
    "new = custom_zero((5, 5)) \n",
    "print(new) "
   ]
  },
  {
   "cell_type": "code",
   "execution_count": 12,
   "metadata": {},
   "outputs": [
    {
     "data": {
      "text/plain": [
       "array([[1., 1., 1.],\n",
       "       [1., 1., 1.],\n",
       "       [1., 1., 1.]])"
      ]
     },
     "execution_count": 12,
     "metadata": {},
     "output_type": "execute_result"
    }
   ],
   "source": [
    "np.ones((3, 3)) "
   ]
  },
  {
   "cell_type": "code",
   "execution_count": 13,
   "metadata": {},
   "outputs": [
    {
     "data": {
      "text/plain": [
       "array([[4.67296746e-307, 1.69121096e-306, 1.29061074e-306,\n",
       "        8.34441742e-308],\n",
       "       [1.78022342e-306, 6.23058028e-307, 9.79107872e-307,\n",
       "        6.89807188e-307],\n",
       "       [7.56594375e-307, 6.23060065e-307, 1.78021527e-306,\n",
       "        8.34454050e-308],\n",
       "       [1.11261027e-306, 1.15706896e-306, 1.33512173e-306,\n",
       "        5.87865998e+202]])"
      ]
     },
     "execution_count": 13,
     "metadata": {},
     "output_type": "execute_result"
    }
   ],
   "source": [
    "\n",
    "np.empty(shape = (4, 4)) "
   ]
  },
  {
   "cell_type": "code",
   "execution_count": 14,
   "metadata": {},
   "outputs": [
    {
     "data": {
      "text/plain": [
       "array([[1., 0., 0., 0., 0.],\n",
       "       [0., 1., 0., 0., 0.],\n",
       "       [0., 0., 1., 0., 0.],\n",
       "       [0., 0., 0., 1., 0.],\n",
       "       [0., 0., 0., 0., 1.]])"
      ]
     },
     "execution_count": 14,
     "metadata": {},
     "output_type": "execute_result"
    }
   ],
   "source": [
    "np.eye(5) "
   ]
  },
  {
   "cell_type": "code",
   "execution_count": 15,
   "metadata": {},
   "outputs": [
    {
     "data": {
      "text/plain": [
       "array([[10, 10, 10],\n",
       "       [10, 10, 10],\n",
       "       [10, 10, 10]])"
      ]
     },
     "execution_count": 15,
     "metadata": {},
     "output_type": "execute_result"
    }
   ],
   "source": [
    "np.full(shape=(3, 3), fill_value=10) "
   ]
  },
  {
   "cell_type": "code",
   "execution_count": 16,
   "metadata": {},
   "outputs": [
    {
     "name": "stdout",
     "output_type": "stream",
     "text": [
      "[  1   2   3   4   5   6   7   8   9  10  11  12  13  14  15  16  17  18\n",
      "  19  20  21  22  23  24  25  26  27  28  29  30  31  32  33  34  35  36\n",
      "  37  38  39  40  41  42  43  44  45  46  47  48  49  50  51  52  53  54\n",
      "  55  56  57  58  59  60  61  62  63  64  65  66  67  68  69  70  71  72\n",
      "  73  74  75  76  77  78  79  80  81  82  83  84  85  86  87  88  89  90\n",
      "  91  92  93  94  95  96  97  98  99 100]\n"
     ]
    }
   ],
   "source": [
    "arr = np.arange(1, 101, 1)  \n",
    "print(arr) "
   ]
  },
  {
   "cell_type": "code",
   "execution_count": 17,
   "metadata": {},
   "outputs": [
    {
     "name": "stdout",
     "output_type": "stream",
     "text": [
      "[1, 2, 3, 4, 5, 6, 7, 8, 9, 10, 11, 12, 13, 14, 15, 16, 17, 18, 19, 20, 21, 22, 23, 24, 25, 26, 27, 28, 29, 30, 31, 32, 33, 34, 35, 36, 37, 38, 39, 40, 41, 42, 43, 44, 45, 46, 47, 48, 49, 50, 51, 52, 53, 54, 55, 56, 57, 58, 59, 60, 61, 62, 63, 64, 65, 66, 67, 68, 69, 70, 71, 72, 73, 74, 75, 76, 77, 78, 79, 80, 81, 82, 83, 84, 85, 86, 87, 88, 89, 90, 91, 92, 93, 94, 95, 96, 97, 98, 99, 100]\n"
     ]
    }
   ],
   "source": [
    "li = [i for i in range(1, 101, 1)]\n",
    "print(li) "
   ]
  },
  {
   "cell_type": "code",
   "execution_count": 18,
   "metadata": {},
   "outputs": [
    {
     "name": "stdout",
     "output_type": "stream",
     "text": [
      "[ 1.          1.47368421  1.94736842  2.42105263  2.89473684  3.36842105\n",
      "  3.84210526  4.31578947  4.78947368  5.26315789  5.73684211  6.21052632\n",
      "  6.68421053  7.15789474  7.63157895  8.10526316  8.57894737  9.05263158\n",
      "  9.52631579 10.        ]\n"
     ]
    }
   ],
   "source": [
    "arr = np.linspace(1, 10, 20) \n",
    "print(arr) "
   ]
  },
  {
   "cell_type": "code",
   "execution_count": 19,
   "metadata": {},
   "outputs": [
    {
     "name": "stdout",
     "output_type": "stream",
     "text": [
      "[[84 93 24 74 83]\n",
      " [75 62 36  1 91]\n",
      " [67 16 73 54 18]\n",
      " [54 12 16  9 53]\n",
      " [90 25 45 51  2]]\n"
     ]
    }
   ],
   "source": [
    "arr = np.random.randint(1, 100, 25).reshape((5,5)) \n",
    "print(arr) "
   ]
  },
  {
   "cell_type": "code",
   "execution_count": 20,
   "metadata": {},
   "outputs": [
    {
     "data": {
      "text/plain": [
       "dtype('int32')"
      ]
     },
     "execution_count": 20,
     "metadata": {},
     "output_type": "execute_result"
    }
   ],
   "source": [
    "arr[0, 0].dtype"
   ]
  },
  {
   "cell_type": "code",
   "execution_count": 21,
   "metadata": {},
   "outputs": [],
   "source": [
    "# arr[0, 0].astype(np.int256)   "
   ]
  },
  {
   "cell_type": "code",
   "execution_count": 22,
   "metadata": {},
   "outputs": [],
   "source": [
    "arr = np.array([item for item in range(1, 11, 1)])"
   ]
  },
  {
   "cell_type": "code",
   "execution_count": 23,
   "metadata": {},
   "outputs": [
    {
     "data": {
      "text/plain": [
       "dtype('int64')"
      ]
     },
     "execution_count": 23,
     "metadata": {},
     "output_type": "execute_result"
    }
   ],
   "source": [
    "arr.dtype"
   ]
  },
  {
   "cell_type": "code",
   "execution_count": 24,
   "metadata": {},
   "outputs": [
    {
     "data": {
      "text/plain": [
       "array([ 1,  2,  3,  4,  5,  6,  7,  8,  9, 10], dtype=int32)"
      ]
     },
     "execution_count": 24,
     "metadata": {},
     "output_type": "execute_result"
    }
   ],
   "source": [
    "arr.astype(np.int32)"
   ]
  },
  {
   "cell_type": "code",
   "execution_count": 25,
   "metadata": {},
   "outputs": [
    {
     "data": {
      "text/plain": [
       "dtype('int64')"
      ]
     },
     "execution_count": 25,
     "metadata": {},
     "output_type": "execute_result"
    }
   ],
   "source": [
    "arr.dtype"
   ]
  },
  {
   "cell_type": "code",
   "execution_count": 26,
   "metadata": {},
   "outputs": [
    {
     "data": {
      "text/plain": [
       "dtype('int64')"
      ]
     },
     "execution_count": 26,
     "metadata": {},
     "output_type": "execute_result"
    }
   ],
   "source": [
    "arr.dtype"
   ]
  },
  {
   "cell_type": "code",
   "execution_count": 27,
   "metadata": {},
   "outputs": [
    {
     "data": {
      "text/plain": [
       "array([ 1,  2,  3,  4,  5,  6,  7,  8,  9, 10], dtype=int32)"
      ]
     },
     "execution_count": 27,
     "metadata": {},
     "output_type": "execute_result"
    }
   ],
   "source": [
    "arr.astype(np.int32) "
   ]
  },
  {
   "cell_type": "code",
   "execution_count": 28,
   "metadata": {},
   "outputs": [
    {
     "data": {
      "text/plain": [
       "dtype('int64')"
      ]
     },
     "execution_count": 28,
     "metadata": {},
     "output_type": "execute_result"
    }
   ],
   "source": [
    "arr.dtype"
   ]
  },
  {
   "cell_type": "code",
   "execution_count": 29,
   "metadata": {},
   "outputs": [
    {
     "data": {
      "text/plain": [
       "dtype('int64')"
      ]
     },
     "execution_count": 29,
     "metadata": {},
     "output_type": "execute_result"
    }
   ],
   "source": [
    "arr.dtype"
   ]
  },
  {
   "cell_type": "code",
   "execution_count": 30,
   "metadata": {},
   "outputs": [
    {
     "data": {
      "text/plain": [
       "dtype('int64')"
      ]
     },
     "execution_count": 30,
     "metadata": {},
     "output_type": "execute_result"
    }
   ],
   "source": [
    "arr[0].dtype"
   ]
  },
  {
   "cell_type": "code",
   "execution_count": 31,
   "metadata": {},
   "outputs": [
    {
     "name": "stdout",
     "output_type": "stream",
     "text": [
      "int32\n",
      "int32\n"
     ]
    }
   ],
   "source": [
    "a = np.random.randint(1, 100, 100).reshape(10, 10) \n",
    "print(a.dtype) \n",
    "print(a[0, 0].dtype)"
   ]
  },
  {
   "cell_type": "code",
   "execution_count": 32,
   "metadata": {},
   "outputs": [
    {
     "data": {
      "text/plain": [
       "dtype('int64')"
      ]
     },
     "execution_count": 32,
     "metadata": {},
     "output_type": "execute_result"
    }
   ],
   "source": [
    "ar = np.array([1, 2, 3, 4, 5]) \n",
    "ar.dtype\n",
    "ar[0].dtype"
   ]
  },
  {
   "cell_type": "code",
   "execution_count": 33,
   "metadata": {},
   "outputs": [
    {
     "name": "stdout",
     "output_type": "stream",
     "text": [
      "[[ 25 346 411 428 211 363 593 722 477  64 426 644 676 249 703]\n",
      " [926  44 592 439 757 701 167 245 344 939 529 489 881 442 908]\n",
      " [781 548 591 639 249 695 900  92 103 905  36  66 549 137 814]\n",
      " [447 685 132  61 935 278 417  54 204 526 849 630 524 886 808]\n",
      " [716 467 662 888  13 247 169 567 962 503 341 836 513 837 693]\n",
      " [197 273 626 574  23 310 104 641 361 513 496 613 821 514 222]\n",
      " [996 837 905 904 355 971 888 341 186 399 276 502 145 915 297]\n",
      " [992  95 597 957 515 219 830 418 702 761 710 118 801 444 208]\n",
      " [621 422 261 724 536 994 103 185 922 389 661 636 388 839 726]\n",
      " [704  53 698 295 636 123 147 221 457 631 704 224 776 961 964]]\n"
     ]
    }
   ],
   "source": [
    "inspecting_array = np.random.randint(1, 1000, 150).reshape(10, 15) \n",
    "print(inspecting_array)"
   ]
  },
  {
   "cell_type": "code",
   "execution_count": 34,
   "metadata": {},
   "outputs": [
    {
     "name": "stdout",
     "output_type": "stream",
     "text": [
      "Inspecting the Array : \n",
      "Shape of Array : (10, 15) --> Rows : 10, Columns : 15\n",
      "Size (Total No. of elements) : 150\n",
      "Number of Dimensions : 2\n",
      "Data Type of Each element : int32\n",
      "length of array (No of rows) : 10\n"
     ]
    }
   ],
   "source": [
    "print(f\"Inspecting the Array : \\nShape of Array : {inspecting_array.shape} --> Rows : {inspecting_array.shape[0]}, Columns : {inspecting_array.shape[1]}\\nSize (Total No. of elements) : {inspecting_array.size}\\nNumber of Dimensions : {inspecting_array.ndim}\\nData Type of Each element : {inspecting_array.dtype}\\nlength of array (No of rows) : {len(inspecting_array)}\")"
   ]
  },
  {
   "cell_type": "code",
   "execution_count": 35,
   "metadata": {},
   "outputs": [
    {
     "data": {
      "text/plain": [
       "array([[ 25, 346, 411, 428, 211, 363, 593, 722, 477,  64, 426, 644, 676,\n",
       "        249, 703],\n",
       "       [926,  44, 592, 439, 757, 701, 167, 245, 344, 939, 529, 489, 881,\n",
       "        442, 908],\n",
       "       [781, 548, 591, 639, 249, 695, 900,  92, 103, 905,  36,  66, 549,\n",
       "        137, 814],\n",
       "       [447, 685, 132,  61, 935, 278, 417,  54, 204, 526, 849, 630, 524,\n",
       "        886, 808],\n",
       "       [716, 467, 662, 888,  13, 247, 169, 567, 962, 503, 341, 836, 513,\n",
       "        837, 693],\n",
       "       [197, 273, 626, 574,  23, 310, 104, 641, 361, 513, 496, 613, 821,\n",
       "        514, 222],\n",
       "       [996, 837, 905, 904, 355, 971, 888, 341, 186, 399, 276, 502, 145,\n",
       "        915, 297],\n",
       "       [992,  95, 597, 957, 515, 219, 830, 418, 702, 761, 710, 118, 801,\n",
       "        444, 208],\n",
       "       [621, 422, 261, 724, 536, 994, 103, 185, 922, 389, 661, 636, 388,\n",
       "        839, 726],\n",
       "       [704,  53, 698, 295, 636, 123, 147, 221, 457, 631, 704, 224, 776,\n",
       "        961, 964]], dtype=int32)"
      ]
     },
     "execution_count": 35,
     "metadata": {},
     "output_type": "execute_result"
    }
   ],
   "source": [
    "inspecting_array"
   ]
  },
  {
   "cell_type": "code",
   "execution_count": 36,
   "metadata": {},
   "outputs": [],
   "source": [
    "inspecting_array = inspecting_array.astype(float) "
   ]
  },
  {
   "cell_type": "code",
   "execution_count": 37,
   "metadata": {},
   "outputs": [
    {
     "data": {
      "text/plain": [
       "array([[ 25., 346., 411., 428., 211., 363., 593., 722., 477.,  64., 426.,\n",
       "        644., 676., 249., 703.],\n",
       "       [926.,  44., 592., 439., 757., 701., 167., 245., 344., 939., 529.,\n",
       "        489., 881., 442., 908.],\n",
       "       [781., 548., 591., 639., 249., 695., 900.,  92., 103., 905.,  36.,\n",
       "         66., 549., 137., 814.],\n",
       "       [447., 685., 132.,  61., 935., 278., 417.,  54., 204., 526., 849.,\n",
       "        630., 524., 886., 808.],\n",
       "       [716., 467., 662., 888.,  13., 247., 169., 567., 962., 503., 341.,\n",
       "        836., 513., 837., 693.],\n",
       "       [197., 273., 626., 574.,  23., 310., 104., 641., 361., 513., 496.,\n",
       "        613., 821., 514., 222.],\n",
       "       [996., 837., 905., 904., 355., 971., 888., 341., 186., 399., 276.,\n",
       "        502., 145., 915., 297.],\n",
       "       [992.,  95., 597., 957., 515., 219., 830., 418., 702., 761., 710.,\n",
       "        118., 801., 444., 208.],\n",
       "       [621., 422., 261., 724., 536., 994., 103., 185., 922., 389., 661.,\n",
       "        636., 388., 839., 726.],\n",
       "       [704.,  53., 698., 295., 636., 123., 147., 221., 457., 631., 704.,\n",
       "        224., 776., 961., 964.]])"
      ]
     },
     "execution_count": 37,
     "metadata": {},
     "output_type": "execute_result"
    }
   ],
   "source": [
    "inspecting_array"
   ]
  },
  {
   "cell_type": "code",
   "execution_count": 38,
   "metadata": {},
   "outputs": [
    {
     "name": "stdout",
     "output_type": "stream",
     "text": [
      "a = [3 7 6 5 7], b = [5 4 1 8 3]\n"
     ]
    }
   ],
   "source": [
    "# MatheMatical Operations \n",
    "\n",
    "# AritheMatic Operations \n",
    "\n",
    "\n",
    "a = np.random.randint(1, 10, 5) \n",
    "b = np.random.randint(1, 10, 5) \n",
    "\n",
    "print(f\"a = {a}, b = {b}\")"
   ]
  },
  {
   "cell_type": "code",
   "execution_count": 39,
   "metadata": {},
   "outputs": [
    {
     "data": {
      "text/plain": [
       "array([ 8, 11,  7, 13, 10], dtype=int32)"
      ]
     },
     "execution_count": 39,
     "metadata": {},
     "output_type": "execute_result"
    }
   ],
   "source": [
    "np.add(a, b) "
   ]
  },
  {
   "cell_type": "code",
   "execution_count": 40,
   "metadata": {},
   "outputs": [
    {
     "data": {
      "text/plain": [
       "array([ 8, 11,  7, 13, 10], dtype=int32)"
      ]
     },
     "execution_count": 40,
     "metadata": {},
     "output_type": "execute_result"
    }
   ],
   "source": [
    "a + b "
   ]
  },
  {
   "cell_type": "code",
   "execution_count": 41,
   "metadata": {},
   "outputs": [
    {
     "data": {
      "text/plain": [
       "array([-2,  3,  5, -3,  4], dtype=int32)"
      ]
     },
     "execution_count": 41,
     "metadata": {},
     "output_type": "execute_result"
    }
   ],
   "source": [
    "np.subtract(a, b) "
   ]
  },
  {
   "cell_type": "code",
   "execution_count": 42,
   "metadata": {},
   "outputs": [
    {
     "data": {
      "text/plain": [
       "array([-2,  3,  5, -3,  4], dtype=int32)"
      ]
     },
     "execution_count": 42,
     "metadata": {},
     "output_type": "execute_result"
    }
   ],
   "source": [
    "a - b "
   ]
  },
  {
   "cell_type": "code",
   "execution_count": 43,
   "metadata": {},
   "outputs": [
    {
     "data": {
      "text/plain": [
       "array([15, 28,  6, 40, 21], dtype=int32)"
      ]
     },
     "execution_count": 43,
     "metadata": {},
     "output_type": "execute_result"
    }
   ],
   "source": [
    "np.multiply(a, b) "
   ]
  },
  {
   "cell_type": "code",
   "execution_count": 44,
   "metadata": {},
   "outputs": [
    {
     "data": {
      "text/plain": [
       "array([15, 28,  6, 40, 21], dtype=int32)"
      ]
     },
     "execution_count": 44,
     "metadata": {},
     "output_type": "execute_result"
    }
   ],
   "source": [
    "a * b "
   ]
  },
  {
   "cell_type": "code",
   "execution_count": 45,
   "metadata": {},
   "outputs": [
    {
     "data": {
      "text/plain": [
       "array([0.6       , 1.75      , 6.        , 0.625     , 2.33333333])"
      ]
     },
     "execution_count": 45,
     "metadata": {},
     "output_type": "execute_result"
    }
   ],
   "source": [
    "np.divide(a, b) "
   ]
  },
  {
   "cell_type": "code",
   "execution_count": 46,
   "metadata": {},
   "outputs": [
    {
     "data": {
      "text/plain": [
       "array([0.6       , 1.75      , 6.        , 0.625     , 2.33333333])"
      ]
     },
     "execution_count": 46,
     "metadata": {},
     "output_type": "execute_result"
    }
   ],
   "source": [
    "a / b "
   ]
  },
  {
   "cell_type": "code",
   "execution_count": 47,
   "metadata": {},
   "outputs": [
    {
     "data": {
      "text/plain": [
       "array([0, 1, 6, 0, 2], dtype=int32)"
      ]
     },
     "execution_count": 47,
     "metadata": {},
     "output_type": "execute_result"
    }
   ],
   "source": [
    "a // b "
   ]
  },
  {
   "cell_type": "code",
   "execution_count": 48,
   "metadata": {},
   "outputs": [
    {
     "data": {
      "text/plain": [
       "array([  20.08553692, 1096.63315843,  403.42879349,  148.4131591 ,\n",
       "       1096.63315843])"
      ]
     },
     "execution_count": 48,
     "metadata": {},
     "output_type": "execute_result"
    }
   ],
   "source": [
    "np.exp(a) "
   ]
  },
  {
   "cell_type": "code",
   "execution_count": 49,
   "metadata": {},
   "outputs": [
    {
     "data": {
      "text/plain": [
       "np.float64(2.718281828459045)"
      ]
     },
     "execution_count": 49,
     "metadata": {},
     "output_type": "execute_result"
    }
   ],
   "source": [
    "np.exp(1) "
   ]
  },
  {
   "cell_type": "code",
   "execution_count": 50,
   "metadata": {},
   "outputs": [
    {
     "data": {
      "text/plain": [
       "np.float64(2.302585092994046)"
      ]
     },
     "execution_count": 50,
     "metadata": {},
     "output_type": "execute_result"
    }
   ],
   "source": [
    "np.log(10) "
   ]
  },
  {
   "cell_type": "code",
   "execution_count": 51,
   "metadata": {},
   "outputs": [
    {
     "data": {
      "text/plain": [
       "np.float64(1.0)"
      ]
     },
     "execution_count": 51,
     "metadata": {},
     "output_type": "execute_result"
    }
   ],
   "source": [
    "np.log10(10) "
   ]
  },
  {
   "cell_type": "code",
   "execution_count": 52,
   "metadata": {},
   "outputs": [
    {
     "data": {
      "text/plain": [
       "array([1.09861229, 1.94591015, 1.79175947, 1.60943791, 1.94591015])"
      ]
     },
     "execution_count": 52,
     "metadata": {},
     "output_type": "execute_result"
    }
   ],
   "source": [
    "np.log(a) "
   ]
  },
  {
   "cell_type": "code",
   "execution_count": 53,
   "metadata": {},
   "outputs": [
    {
     "data": {
      "text/plain": [
       "array([1.73205081, 2.64575131, 2.44948974, 2.23606798, 2.64575131])"
      ]
     },
     "execution_count": 53,
     "metadata": {},
     "output_type": "execute_result"
    }
   ],
   "source": [
    "np.sqrt(a) "
   ]
  },
  {
   "cell_type": "code",
   "execution_count": 54,
   "metadata": {},
   "outputs": [
    {
     "data": {
      "text/plain": [
       "array([ 1.,  2.,  3.,  4.,  5.,  6.,  7.,  8.,  9., 10.])"
      ]
     },
     "execution_count": 54,
     "metadata": {},
     "output_type": "execute_result"
    }
   ],
   "source": [
    "np.sqrt(np.array([item**2 for item in range(1, 11, 1)]))"
   ]
  },
  {
   "cell_type": "code",
   "execution_count": 55,
   "metadata": {},
   "outputs": [
    {
     "data": {
      "text/plain": [
       "array([ 0.14112001,  0.6569866 , -0.2794155 , -0.95892427,  0.6569866 ])"
      ]
     },
     "execution_count": 55,
     "metadata": {},
     "output_type": "execute_result"
    }
   ],
   "source": [
    "np.sin(a) "
   ]
  },
  {
   "cell_type": "code",
   "execution_count": 56,
   "metadata": {},
   "outputs": [
    {
     "data": {
      "text/plain": [
       "array([-0.9899925 ,  0.75390225,  0.96017029,  0.28366219,  0.75390225])"
      ]
     },
     "execution_count": 56,
     "metadata": {},
     "output_type": "execute_result"
    }
   ],
   "source": [
    "np.cos(a) "
   ]
  },
  {
   "cell_type": "code",
   "execution_count": 57,
   "metadata": {},
   "outputs": [
    {
     "data": {
      "text/plain": [
       "array([-0.14254654,  0.87144798, -0.29100619, -3.38051501,  0.87144798])"
      ]
     },
     "execution_count": 57,
     "metadata": {},
     "output_type": "execute_result"
    }
   ],
   "source": [
    "np.tan(a) "
   ]
  },
  {
   "cell_type": "code",
   "execution_count": 58,
   "metadata": {},
   "outputs": [
    {
     "name": "stdout",
     "output_type": "stream",
     "text": [
      "a = [[1 4 3]\n",
      " [6 2 9]\n",
      " [3 7 2]]\n",
      "b = [[3 2 4]\n",
      " [4 7 4]\n",
      " [5 4 3]]\n",
      "[[34 42 29]\n",
      " [71 62 59]\n",
      " [47 63 46]]\n"
     ]
    }
   ],
   "source": [
    "a = np.random.randint(1, 10, 9).reshape(3, 3) \n",
    "b = np.random.randint(1, 10, 9).reshape(3, 3)\n",
    "\n",
    "print(f\"a = {a}\")\n",
    "print(f\"b = {b}\")\n",
    "\n",
    "print(np.dot(a, b)) "
   ]
  },
  {
   "cell_type": "code",
   "execution_count": 59,
   "metadata": {},
   "outputs": [
    {
     "data": {
      "text/plain": [
       "array([[1, 4, 3],\n",
       "       [6, 2, 9],\n",
       "       [3, 7, 2]], dtype=int32)"
      ]
     },
     "execution_count": 59,
     "metadata": {},
     "output_type": "execute_result"
    }
   ],
   "source": [
    "a"
   ]
  },
  {
   "cell_type": "code",
   "execution_count": 60,
   "metadata": {},
   "outputs": [
    {
     "data": {
      "text/plain": [
       "array([[3, 2, 4],\n",
       "       [4, 7, 4],\n",
       "       [5, 4, 3]], dtype=int32)"
      ]
     },
     "execution_count": 60,
     "metadata": {},
     "output_type": "execute_result"
    }
   ],
   "source": [
    "b"
   ]
  },
  {
   "cell_type": "code",
   "execution_count": 61,
   "metadata": {},
   "outputs": [
    {
     "data": {
      "text/plain": [
       "array([[3, 4, 5],\n",
       "       [2, 7, 4],\n",
       "       [4, 4, 3]], dtype=int32)"
      ]
     },
     "execution_count": 61,
     "metadata": {},
     "output_type": "execute_result"
    }
   ],
   "source": [
    "b.T"
   ]
  },
  {
   "cell_type": "code",
   "execution_count": 62,
   "metadata": {},
   "outputs": [
    {
     "data": {
      "text/plain": [
       "array([[3, 4, 5],\n",
       "       [2, 7, 4],\n",
       "       [4, 4, 3]], dtype=int32)"
      ]
     },
     "execution_count": 62,
     "metadata": {},
     "output_type": "execute_result"
    }
   ],
   "source": [
    "np.transpose(b) "
   ]
  },
  {
   "cell_type": "code",
   "execution_count": 63,
   "metadata": {},
   "outputs": [
    {
     "name": "stdout",
     "output_type": "stream",
     "text": [
      "[[1 4 3]\n",
      " [6 2 9]\n",
      " [3 7 2]]\n",
      "[[3 2 4]\n",
      " [4 7 4]\n",
      " [5 4 3]]\n"
     ]
    }
   ],
   "source": [
    "print(a) \n",
    "print(b) "
   ]
  },
  {
   "cell_type": "code",
   "execution_count": 64,
   "metadata": {},
   "outputs": [
    {
     "data": {
      "text/plain": [
       "array([[False, False, False],\n",
       "       [False, False, False],\n",
       "       [False, False, False]])"
      ]
     },
     "execution_count": 64,
     "metadata": {},
     "output_type": "execute_result"
    }
   ],
   "source": [
    "a == b"
   ]
  },
  {
   "cell_type": "code",
   "execution_count": 65,
   "metadata": {},
   "outputs": [
    {
     "data": {
      "text/plain": [
       "array([[ True,  True,  True],\n",
       "       [ True,  True,  True],\n",
       "       [ True,  True,  True]])"
      ]
     },
     "execution_count": 65,
     "metadata": {},
     "output_type": "execute_result"
    }
   ],
   "source": [
    "a != b "
   ]
  },
  {
   "cell_type": "code",
   "execution_count": 66,
   "metadata": {},
   "outputs": [
    {
     "data": {
      "text/plain": [
       "array([[ True, False,  True],\n",
       "       [False,  True, False],\n",
       "       [ True, False,  True]])"
      ]
     },
     "execution_count": 66,
     "metadata": {},
     "output_type": "execute_result"
    }
   ],
   "source": [
    "a < b"
   ]
  },
  {
   "cell_type": "code",
   "execution_count": 67,
   "metadata": {},
   "outputs": [
    {
     "data": {
      "text/plain": [
       "array([[False,  True, False],\n",
       "       [ True, False,  True],\n",
       "       [False,  True, False]])"
      ]
     },
     "execution_count": 67,
     "metadata": {},
     "output_type": "execute_result"
    }
   ],
   "source": [
    "a > b"
   ]
  },
  {
   "cell_type": "code",
   "execution_count": 68,
   "metadata": {},
   "outputs": [
    {
     "data": {
      "text/plain": [
       "array([[ True, False,  True],\n",
       "       [False,  True, False],\n",
       "       [ True, False,  True]])"
      ]
     },
     "execution_count": 68,
     "metadata": {},
     "output_type": "execute_result"
    }
   ],
   "source": [
    "a <= b "
   ]
  },
  {
   "cell_type": "code",
   "execution_count": 69,
   "metadata": {},
   "outputs": [
    {
     "data": {
      "text/plain": [
       "array([[False,  True, False],\n",
       "       [ True, False,  True],\n",
       "       [False,  True, False]])"
      ]
     },
     "execution_count": 69,
     "metadata": {},
     "output_type": "execute_result"
    }
   ],
   "source": [
    "a >= b "
   ]
  },
  {
   "cell_type": "code",
   "execution_count": null,
   "metadata": {},
   "outputs": [],
   "source": [
    "# Aggregate, Sorting, Copy, Slicing,Subbestting, Indexing, array manipulation      "
   ]
  },
  {
   "cell_type": "code",
   "execution_count": 79,
   "metadata": {},
   "outputs": [],
   "source": [
    "a=np.random.randint(1,100,9).reshape((3,3)) "
   ]
  },
  {
   "cell_type": "code",
   "execution_count": 80,
   "metadata": {},
   "outputs": [
    {
     "name": "stdout",
     "output_type": "stream",
     "text": [
      "[[22 21 35]\n",
      " [51  3 86]\n",
      " [53 92 22]]\n"
     ]
    }
   ],
   "source": [
    "print(a) "
   ]
  },
  {
   "cell_type": "code",
   "execution_count": 81,
   "metadata": {},
   "outputs": [
    {
     "data": {
      "text/plain": [
       "np.int32(3)"
      ]
     },
     "execution_count": 81,
     "metadata": {},
     "output_type": "execute_result"
    }
   ],
   "source": [
    "np.min(a) "
   ]
  },
  {
   "cell_type": "code",
   "execution_count": 82,
   "metadata": {},
   "outputs": [
    {
     "data": {
      "text/plain": [
       "np.int32(92)"
      ]
     },
     "execution_count": 82,
     "metadata": {},
     "output_type": "execute_result"
    }
   ],
   "source": [
    "np.max(a) "
   ]
  },
  {
   "cell_type": "code",
   "execution_count": 83,
   "metadata": {},
   "outputs": [
    {
     "data": {
      "text/plain": [
       "np.int64(385)"
      ]
     },
     "execution_count": 83,
     "metadata": {},
     "output_type": "execute_result"
    }
   ],
   "source": [
    "np.sum(a) "
   ]
  },
  {
   "cell_type": "code",
   "execution_count": 85,
   "metadata": {},
   "outputs": [
    {
     "data": {
      "text/plain": [
       "42.77777777777778"
      ]
     },
     "execution_count": 85,
     "metadata": {},
     "output_type": "execute_result"
    }
   ],
   "source": [
    "385/9"
   ]
  },
  {
   "cell_type": "code",
   "execution_count": 84,
   "metadata": {},
   "outputs": [
    {
     "data": {
      "text/plain": [
       "np.float64(42.77777777777778)"
      ]
     },
     "execution_count": 84,
     "metadata": {},
     "output_type": "execute_result"
    }
   ],
   "source": [
    "np.mean(a) "
   ]
  },
  {
   "cell_type": "code",
   "execution_count": 86,
   "metadata": {},
   "outputs": [
    {
     "data": {
      "text/plain": [
       "9"
      ]
     },
     "execution_count": 86,
     "metadata": {},
     "output_type": "execute_result"
    }
   ],
   "source": [
    "a.size"
   ]
  },
  {
   "cell_type": "code",
   "execution_count": 87,
   "metadata": {},
   "outputs": [
    {
     "name": "stdout",
     "output_type": "stream",
     "text": [
      "[[22 21 35]\n",
      " [51  3 86]\n",
      " [53 92 22]]\n"
     ]
    }
   ],
   "source": [
    "print(a) "
   ]
  },
  {
   "cell_type": "code",
   "execution_count": 88,
   "metadata": {},
   "outputs": [
    {
     "data": {
      "text/plain": [
       "array([21,  3, 22], dtype=int32)"
      ]
     },
     "execution_count": 88,
     "metadata": {},
     "output_type": "execute_result"
    }
   ],
   "source": [
    "a.min(axis=1) "
   ]
  },
  {
   "cell_type": "code",
   "execution_count": 89,
   "metadata": {},
   "outputs": [
    {
     "data": {
      "text/plain": [
       "array([22,  3, 22], dtype=int32)"
      ]
     },
     "execution_count": 89,
     "metadata": {},
     "output_type": "execute_result"
    }
   ],
   "source": [
    "a.min(axis=0) "
   ]
  },
  {
   "cell_type": "code",
   "execution_count": 90,
   "metadata": {},
   "outputs": [
    {
     "data": {
      "text/plain": [
       "array([42.        , 38.66666667, 47.66666667])"
      ]
     },
     "execution_count": 90,
     "metadata": {},
     "output_type": "execute_result"
    }
   ],
   "source": [
    "a.mean(axis=0) "
   ]
  },
  {
   "cell_type": "code",
   "execution_count": 91,
   "metadata": {},
   "outputs": [
    {
     "data": {
      "text/plain": [
       "26.0"
      ]
     },
     "execution_count": 91,
     "metadata": {},
     "output_type": "execute_result"
    }
   ],
   "source": [
    "78/3"
   ]
  },
  {
   "cell_type": "code",
   "execution_count": 109,
   "metadata": {},
   "outputs": [],
   "source": [
    "a=np.random.randint(1,100,36).reshape((6,6)) "
   ]
  },
  {
   "cell_type": "code",
   "execution_count": 110,
   "metadata": {},
   "outputs": [
    {
     "name": "stdout",
     "output_type": "stream",
     "text": [
      "[[65 70 39 53 44 85]\n",
      " [98 91 84 11  1 59]\n",
      " [52  4 47 23 80 22]\n",
      " [99 37 11  6 85 61]\n",
      " [42  3 90 66  7 30]\n",
      " [40 47 23  2 31 56]]\n"
     ]
    }
   ],
   "source": [
    "print(a) "
   ]
  },
  {
   "cell_type": "code",
   "execution_count": 116,
   "metadata": {},
   "outputs": [
    {
     "data": {
      "text/plain": [
       "array([65, 98, 52, 99, 42, 40,  3, 11, 23,  1, 85, 59, 22, 61, 30, 56,  7,\n",
       "        6, 47, 91], dtype=int32)"
      ]
     },
     "execution_count": 116,
     "metadata": {},
     "output_type": "execute_result"
    }
   ],
   "source": [
    "np.concat((a[:, 0], a[[4, 3, 2, 1], [1, 2, 3, 4]] , a[:, -1], a[[4, 3, 2, 1], [4, 3, 2, 1]]))"
   ]
  },
  {
   "cell_type": "code",
   "execution_count": 117,
   "metadata": {},
   "outputs": [],
   "source": [
    "# Array Manipulation "
   ]
  },
  {
   "cell_type": "code",
   "execution_count": 118,
   "metadata": {},
   "outputs": [],
   "source": [
    "# Transpose \n",
    "# Shape \n",
    "# Combining Array \n",
    "# Splitting Array "
   ]
  },
  {
   "cell_type": "code",
   "execution_count": 119,
   "metadata": {},
   "outputs": [
    {
     "name": "stdout",
     "output_type": "stream",
     "text": [
      "[[65 70 39 53 44 85]\n",
      " [98 91 84 11  1 59]\n",
      " [52  4 47 23 80 22]\n",
      " [99 37 11  6 85 61]\n",
      " [42  3 90 66  7 30]\n",
      " [40 47 23  2 31 56]]\n"
     ]
    }
   ],
   "source": [
    "print(a) "
   ]
  },
  {
   "cell_type": "code",
   "execution_count": 120,
   "metadata": {},
   "outputs": [
    {
     "data": {
      "text/plain": [
       "array([[65, 98, 52, 99, 42, 40],\n",
       "       [70, 91,  4, 37,  3, 47],\n",
       "       [39, 84, 47, 11, 90, 23],\n",
       "       [53, 11, 23,  6, 66,  2],\n",
       "       [44,  1, 80, 85,  7, 31],\n",
       "       [85, 59, 22, 61, 30, 56]], dtype=int32)"
      ]
     },
     "execution_count": 120,
     "metadata": {},
     "output_type": "execute_result"
    }
   ],
   "source": [
    "a.T"
   ]
  },
  {
   "cell_type": "code",
   "execution_count": 121,
   "metadata": {},
   "outputs": [
    {
     "data": {
      "text/plain": [
       "array([[65, 98, 52, 99, 42, 40],\n",
       "       [70, 91,  4, 37,  3, 47],\n",
       "       [39, 84, 47, 11, 90, 23],\n",
       "       [53, 11, 23,  6, 66,  2],\n",
       "       [44,  1, 80, 85,  7, 31],\n",
       "       [85, 59, 22, 61, 30, 56]], dtype=int32)"
      ]
     },
     "execution_count": 121,
     "metadata": {},
     "output_type": "execute_result"
    }
   ],
   "source": [
    "np.transpose(a) "
   ]
  },
  {
   "cell_type": "code",
   "execution_count": 122,
   "metadata": {},
   "outputs": [],
   "source": [
    "a = np.random.randint(1, 100, 9).reshape((3, 3)) "
   ]
  },
  {
   "cell_type": "code",
   "execution_count": 123,
   "metadata": {},
   "outputs": [
    {
     "name": "stdout",
     "output_type": "stream",
     "text": [
      "[[41 38 72]\n",
      " [79 89 78]\n",
      " [37 54 61]]\n"
     ]
    }
   ],
   "source": [
    "print(a) "
   ]
  },
  {
   "cell_type": "code",
   "execution_count": 124,
   "metadata": {},
   "outputs": [
    {
     "data": {
      "text/plain": [
       "array([[41, 79, 37],\n",
       "       [38, 89, 54],\n",
       "       [72, 78, 61]], dtype=int32)"
      ]
     },
     "execution_count": 124,
     "metadata": {},
     "output_type": "execute_result"
    }
   ],
   "source": [
    "a.T"
   ]
  },
  {
   "cell_type": "code",
   "execution_count": 125,
   "metadata": {},
   "outputs": [],
   "source": [
    "a = np.random.randint(1, 100, 9).reshape((3, 3)) \n",
    "b = np.random.randint(1, 100, 9).reshape((3, 3)) "
   ]
  },
  {
   "cell_type": "code",
   "execution_count": 126,
   "metadata": {},
   "outputs": [
    {
     "name": "stdout",
     "output_type": "stream",
     "text": [
      "[[18 49 22]\n",
      " [39 71 74]\n",
      " [44 12 84]]\n",
      "[[90 68 79]\n",
      " [86 40  3]\n",
      " [79 68 66]]\n"
     ]
    }
   ],
   "source": [
    "print(a) \n",
    "print(b) "
   ]
  },
  {
   "cell_type": "code",
   "execution_count": 127,
   "metadata": {},
   "outputs": [
    {
     "data": {
      "text/plain": [
       "array([[18, 49, 22, 90, 68, 79],\n",
       "       [39, 71, 74, 86, 40,  3],\n",
       "       [44, 12, 84, 79, 68, 66]], dtype=int32)"
      ]
     },
     "execution_count": 127,
     "metadata": {},
     "output_type": "execute_result"
    }
   ],
   "source": [
    "np.concatenate((a, b ), axis = 1) "
   ]
  },
  {
   "cell_type": "code",
   "execution_count": 130,
   "metadata": {},
   "outputs": [
    {
     "data": {
      "text/plain": [
       "array([[18, 49, 22, 90, 68, 79],\n",
       "       [39, 71, 74, 86, 40,  3],\n",
       "       [44, 12, 84, 79, 68, 66]], dtype=int32)"
      ]
     },
     "execution_count": 130,
     "metadata": {},
     "output_type": "execute_result"
    }
   ],
   "source": [
    "np.c_[a, b]"
   ]
  },
  {
   "cell_type": "code",
   "execution_count": 128,
   "metadata": {},
   "outputs": [
    {
     "data": {
      "text/plain": [
       "array([[18, 49, 22],\n",
       "       [39, 71, 74],\n",
       "       [44, 12, 84],\n",
       "       [90, 68, 79],\n",
       "       [86, 40,  3],\n",
       "       [79, 68, 66]], dtype=int32)"
      ]
     },
     "execution_count": 128,
     "metadata": {},
     "output_type": "execute_result"
    }
   ],
   "source": [
    "np.concatenate((a, b ), axis = 0) "
   ]
  },
  {
   "cell_type": "code",
   "execution_count": 129,
   "metadata": {},
   "outputs": [
    {
     "data": {
      "text/plain": [
       "array([[18, 49, 22],\n",
       "       [39, 71, 74],\n",
       "       [44, 12, 84],\n",
       "       [90, 68, 79],\n",
       "       [86, 40,  3],\n",
       "       [79, 68, 66]], dtype=int32)"
      ]
     },
     "execution_count": 129,
     "metadata": {},
     "output_type": "execute_result"
    }
   ],
   "source": [
    "np.r_[a, b] "
   ]
  },
  {
   "cell_type": "code",
   "execution_count": 133,
   "metadata": {},
   "outputs": [],
   "source": [
    "new = np.random.randint(1, 100, 144).reshape((12, 12)) \n"
   ]
  },
  {
   "cell_type": "code",
   "execution_count": 134,
   "metadata": {},
   "outputs": [
    {
     "name": "stdout",
     "output_type": "stream",
     "text": [
      "[[51 53  7 67  2  2 34 61 12  7 82 57]\n",
      " [54 91 97 81 28 42 37 61 94 34 42 35]\n",
      " [26 86 35  8 18 65 49 71 27 52 65  4]\n",
      " [57 46 22 13 40 44 38 18 84 56 75 12]\n",
      " [66 98 91 40 31 26 61 11 99 65 12 48]\n",
      " [24 61 47 24 50 47 69 65  2 31 39 87]\n",
      " [60 26 14 54 23 49 59 38 44 85 47 22]\n",
      " [68 78 78 56 85 22 39 30  3 53 26 34]\n",
      " [17 25 78 81 51 47 36 67 26 65 49 36]\n",
      " [57 74  4  6 34 34 31 87 82 24 93 74]\n",
      " [90 84 30 55 37  3 71 37 23  9  4 81]\n",
      " [97 10 66 67 24 29 13 96 90 41 73 44]]\n"
     ]
    }
   ],
   "source": [
    "print(new) "
   ]
  },
  {
   "cell_type": "code",
   "execution_count": 137,
   "metadata": {},
   "outputs": [
    {
     "data": {
      "text/plain": [
       "[array([[51, 53,  7, 67,  2,  2],\n",
       "        [54, 91, 97, 81, 28, 42],\n",
       "        [26, 86, 35,  8, 18, 65],\n",
       "        [57, 46, 22, 13, 40, 44],\n",
       "        [66, 98, 91, 40, 31, 26],\n",
       "        [24, 61, 47, 24, 50, 47],\n",
       "        [60, 26, 14, 54, 23, 49],\n",
       "        [68, 78, 78, 56, 85, 22],\n",
       "        [17, 25, 78, 81, 51, 47],\n",
       "        [57, 74,  4,  6, 34, 34],\n",
       "        [90, 84, 30, 55, 37,  3],\n",
       "        [97, 10, 66, 67, 24, 29]], dtype=int32),\n",
       " array([[34, 61, 12,  7, 82, 57],\n",
       "        [37, 61, 94, 34, 42, 35],\n",
       "        [49, 71, 27, 52, 65,  4],\n",
       "        [38, 18, 84, 56, 75, 12],\n",
       "        [61, 11, 99, 65, 12, 48],\n",
       "        [69, 65,  2, 31, 39, 87],\n",
       "        [59, 38, 44, 85, 47, 22],\n",
       "        [39, 30,  3, 53, 26, 34],\n",
       "        [36, 67, 26, 65, 49, 36],\n",
       "        [31, 87, 82, 24, 93, 74],\n",
       "        [71, 37, 23,  9,  4, 81],\n",
       "        [13, 96, 90, 41, 73, 44]], dtype=int32)]"
      ]
     },
     "execution_count": 137,
     "metadata": {},
     "output_type": "execute_result"
    }
   ],
   "source": [
    "np.hsplit(new, 2) "
   ]
  },
  {
   "cell_type": "code",
   "execution_count": 138,
   "metadata": {},
   "outputs": [
    {
     "data": {
      "text/plain": [
       "[array([[51, 53,  7, 67,  2,  2, 34, 61, 12,  7, 82, 57],\n",
       "        [54, 91, 97, 81, 28, 42, 37, 61, 94, 34, 42, 35],\n",
       "        [26, 86, 35,  8, 18, 65, 49, 71, 27, 52, 65,  4]], dtype=int32),\n",
       " array([[57, 46, 22, 13, 40, 44, 38, 18, 84, 56, 75, 12],\n",
       "        [66, 98, 91, 40, 31, 26, 61, 11, 99, 65, 12, 48],\n",
       "        [24, 61, 47, 24, 50, 47, 69, 65,  2, 31, 39, 87]], dtype=int32),\n",
       " array([[60, 26, 14, 54, 23, 49, 59, 38, 44, 85, 47, 22],\n",
       "        [68, 78, 78, 56, 85, 22, 39, 30,  3, 53, 26, 34],\n",
       "        [17, 25, 78, 81, 51, 47, 36, 67, 26, 65, 49, 36]], dtype=int32),\n",
       " array([[57, 74,  4,  6, 34, 34, 31, 87, 82, 24, 93, 74],\n",
       "        [90, 84, 30, 55, 37,  3, 71, 37, 23,  9,  4, 81],\n",
       "        [97, 10, 66, 67, 24, 29, 13, 96, 90, 41, 73, 44]], dtype=int32)]"
      ]
     },
     "execution_count": 138,
     "metadata": {},
     "output_type": "execute_result"
    }
   ],
   "source": [
    "np.vsplit(new, 4) "
   ]
  },
  {
   "cell_type": "code",
   "execution_count": 139,
   "metadata": {},
   "outputs": [],
   "source": [
    "import pandas as pd "
   ]
  },
  {
   "cell_type": "code",
   "execution_count": 141,
   "metadata": {},
   "outputs": [
    {
     "data": {
      "text/plain": [
       "a    1\n",
       "b    2\n",
       "c    3\n",
       "d    4\n",
       "e    5\n",
       "dtype: int64"
      ]
     },
     "execution_count": 141,
     "metadata": {},
     "output_type": "execute_result"
    }
   ],
   "source": [
    "pd.Series([1, 2 , 3, 4, 5], index = ['a', 'b', 'c', 'd', 'e']) "
   ]
  },
  {
   "cell_type": "code",
   "execution_count": 142,
   "metadata": {},
   "outputs": [],
   "source": [
    "# DataFrame "
   ]
  },
  {
   "cell_type": "code",
   "execution_count": 143,
   "metadata": {},
   "outputs": [],
   "source": [
    "d = {\n",
    "    \"Country\" : ['India', 'Usa', 'Germany', 'Russia'],\n",
    "    \"Capital\" : ['New Delhi', 'Washington D.C.', 'Berlin', 'Moscow'], \n",
    "    'Currency' : ['INR', 'USD', 'EUR', 'Ruble'], \n",
    "    'Development Status' : ['Developing', 'Developed', 'Developed', 'Developed']\n",
    "}"
   ]
  },
  {
   "cell_type": "code",
   "execution_count": 145,
   "metadata": {},
   "outputs": [],
   "source": [
    "df = pd.DataFrame(d) "
   ]
  },
  {
   "cell_type": "code",
   "execution_count": 146,
   "metadata": {},
   "outputs": [
    {
     "data": {
      "text/html": [
       "<div>\n",
       "<style scoped>\n",
       "    .dataframe tbody tr th:only-of-type {\n",
       "        vertical-align: middle;\n",
       "    }\n",
       "\n",
       "    .dataframe tbody tr th {\n",
       "        vertical-align: top;\n",
       "    }\n",
       "\n",
       "    .dataframe thead th {\n",
       "        text-align: right;\n",
       "    }\n",
       "</style>\n",
       "<table border=\"1\" class=\"dataframe\">\n",
       "  <thead>\n",
       "    <tr style=\"text-align: right;\">\n",
       "      <th></th>\n",
       "      <th>Country</th>\n",
       "      <th>Capital</th>\n",
       "      <th>Currency</th>\n",
       "      <th>Development Status</th>\n",
       "    </tr>\n",
       "  </thead>\n",
       "  <tbody>\n",
       "    <tr>\n",
       "      <th>0</th>\n",
       "      <td>India</td>\n",
       "      <td>New Delhi</td>\n",
       "      <td>INR</td>\n",
       "      <td>Developing</td>\n",
       "    </tr>\n",
       "    <tr>\n",
       "      <th>1</th>\n",
       "      <td>Usa</td>\n",
       "      <td>Washington D.C.</td>\n",
       "      <td>USD</td>\n",
       "      <td>Developed</td>\n",
       "    </tr>\n",
       "    <tr>\n",
       "      <th>2</th>\n",
       "      <td>Germany</td>\n",
       "      <td>Berlin</td>\n",
       "      <td>EUR</td>\n",
       "      <td>Developed</td>\n",
       "    </tr>\n",
       "    <tr>\n",
       "      <th>3</th>\n",
       "      <td>Russia</td>\n",
       "      <td>Moscow</td>\n",
       "      <td>Ruble</td>\n",
       "      <td>Developed</td>\n",
       "    </tr>\n",
       "  </tbody>\n",
       "</table>\n",
       "</div>"
      ],
      "text/plain": [
       "   Country          Capital Currency Development Status\n",
       "0    India        New Delhi      INR         Developing\n",
       "1      Usa  Washington D.C.      USD          Developed\n",
       "2  Germany           Berlin      EUR          Developed\n",
       "3   Russia           Moscow    Ruble          Developed"
      ]
     },
     "execution_count": 146,
     "metadata": {},
     "output_type": "execute_result"
    }
   ],
   "source": [
    "df"
   ]
  },
  {
   "cell_type": "code",
   "execution_count": null,
   "metadata": {},
   "outputs": [],
   "source": []
  }
 ],
 "metadata": {
  "kernelspec": {
   "display_name": "Python 3",
   "language": "python",
   "name": "python3"
  },
  "language_info": {
   "codemirror_mode": {
    "name": "ipython",
    "version": 3
   },
   "file_extension": ".py",
   "mimetype": "text/x-python",
   "name": "python",
   "nbconvert_exporter": "python",
   "pygments_lexer": "ipython3",
   "version": "3.12.8"
  }
 },
 "nbformat": 4,
 "nbformat_minor": 2
}
