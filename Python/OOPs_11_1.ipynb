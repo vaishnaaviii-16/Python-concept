{
 "cells": [
  {
   "cell_type": "code",
   "execution_count": 1,
   "metadata": {},
   "outputs": [],
   "source": [
    "class Person:\n",
    "    # Attributes \n",
    "    def __init__(self, name, age, gender):\n",
    "        self.name = name \n",
    "        self.age = age \n",
    "        self.gender = gender \n",
    "    # Methods \n",
    "    def walk(self):\n",
    "        print(f'{self.name} is walking!')\n",
    "    \n",
    "    def sleep(self):\n",
    "        print(f\"{self.name} is sleeping\") \n",
    "\n",
    "    def eat(self):\n",
    "        print(f'{self.name} is eating')\n"
   ]
  },
  {
   "cell_type": "code",
   "execution_count": 2,
   "metadata": {},
   "outputs": [],
   "source": [
    "p1 = Person('Vaishnavi', 21, 'Female')"
   ]
  },
  {
   "cell_type": "code",
   "execution_count": 3,
   "metadata": {},
   "outputs": [
    {
     "name": "stdout",
     "output_type": "stream",
     "text": [
      "Vaishnavi is eating\n"
     ]
    }
   ],
   "source": [
    "p1.eat() "
   ]
  },
  {
   "cell_type": "code",
   "execution_count": 4,
   "metadata": {},
   "outputs": [
    {
     "name": "stdout",
     "output_type": "stream",
     "text": [
      "Vaishnavi is walking!\n"
     ]
    }
   ],
   "source": [
    "p1.walk() "
   ]
  },
  {
   "cell_type": "code",
   "execution_count": 5,
   "metadata": {},
   "outputs": [
    {
     "name": "stdout",
     "output_type": "stream",
     "text": [
      "Vaishnavi is sleeping\n"
     ]
    }
   ],
   "source": [
    "p1.sleep() "
   ]
  },
  {
   "cell_type": "code",
   "execution_count": 6,
   "metadata": {},
   "outputs": [],
   "source": [
    "class newstr:\n",
    "    def __init__(self, string):\n",
    "        self.string = string \n",
    "\n",
    "    def replace(self, a, b):\n",
    "        new_string = '' \n",
    "\n",
    "        for char in self.string:\n",
    "            if char == a:\n",
    "                new_string += b \n",
    "            else:\n",
    "                new_string += char \n",
    "\n",
    "        return new_string\n",
    "\n",
    "s = newstr('Jack Sparrow') "
   ]
  },
  {
   "cell_type": "code",
   "execution_count": 7,
   "metadata": {},
   "outputs": [
    {
     "name": "stdout",
     "output_type": "stream",
     "text": [
      "Jack Sparrow\n"
     ]
    }
   ],
   "source": [
    "print(s.string)"
   ]
  },
  {
   "cell_type": "code",
   "execution_count": 8,
   "metadata": {},
   "outputs": [
    {
     "name": "stdout",
     "output_type": "stream",
     "text": [
      "<__main__.newstr object at 0x0000017E858605C0>\n"
     ]
    }
   ],
   "source": [
    "print(s) "
   ]
  },
  {
   "cell_type": "code",
   "execution_count": 9,
   "metadata": {},
   "outputs": [
    {
     "data": {
      "text/plain": [
       "'Mack Sparrow'"
      ]
     },
     "execution_count": 9,
     "metadata": {},
     "output_type": "execute_result"
    }
   ],
   "source": [
    "s.replace(\"J\", 'M') "
   ]
  },
  {
   "cell_type": "code",
   "execution_count": 10,
   "metadata": {},
   "outputs": [
    {
     "name": "stdout",
     "output_type": "stream",
     "text": [
      "adidas\n",
      "adidas\n"
     ]
    }
   ],
   "source": [
    "class company:\n",
    "    name = 'adidas' \n",
    "\n",
    "    def getcompanyname(self):\n",
    "        return company.name \n",
    "    \n",
    "c1 = company() \n",
    "c2 = company() \n",
    "\n",
    "print(c1.name) \n",
    "print(c2.name) "
   ]
  },
  {
   "cell_type": "code",
   "execution_count": 11,
   "metadata": {},
   "outputs": [
    {
     "name": "stdout",
     "output_type": "stream",
     "text": [
      "adidas\n",
      "adidas\n"
     ]
    }
   ],
   "source": [
    "print(c1.getcompanyname()) \n",
    "print(c2.getcompanyname())"
   ]
  },
  {
   "cell_type": "code",
   "execution_count": 12,
   "metadata": {},
   "outputs": [
    {
     "name": "stdout",
     "output_type": "stream",
     "text": [
      "1642918782800\n",
      "1642918780304\n",
      "False\n"
     ]
    }
   ],
   "source": [
    "print(id(c1) )\n",
    "print(id(c2)) \n",
    "\n",
    "print(id(c1) == id(c2))"
   ]
  },
  {
   "cell_type": "code",
   "execution_count": 13,
   "metadata": {},
   "outputs": [
    {
     "name": "stdout",
     "output_type": "stream",
     "text": [
      "140724500622040\n",
      "140724500622040\n",
      "True\n"
     ]
    }
   ],
   "source": [
    "a = 10 \n",
    "b = 10 \n",
    "\n",
    "print(id(a)) \n",
    "print(id(b)) \n",
    "print(id(a) == id(b))"
   ]
  },
  {
   "cell_type": "code",
   "execution_count": 14,
   "metadata": {},
   "outputs": [
    {
     "name": "stdout",
     "output_type": "stream",
     "text": [
      "False\n"
     ]
    }
   ],
   "source": [
    "a = 257 \n",
    "b = 257 \n",
    "\n",
    "print(id(a) == id(b))   "
   ]
  },
  {
   "cell_type": "code",
   "execution_count": 15,
   "metadata": {},
   "outputs": [],
   "source": [
    "class School:\n",
    "    # Class Attribute \n",
    "    school_name = 'ABC School' \n",
    "\n",
    "    # __init__ is a function, commonly known as the constructor\n",
    "    def __init__(self, name): \n",
    "        # Instance Attribute \n",
    "        self.name = name \n",
    "\n",
    "s1 = School(\"Jack\") \n",
    "s2 = School(\"William\") "
   ]
  },
  {
   "cell_type": "code",
   "execution_count": 16,
   "metadata": {},
   "outputs": [
    {
     "data": {
      "text/plain": [
       "'ABC School'"
      ]
     },
     "execution_count": 16,
     "metadata": {},
     "output_type": "execute_result"
    }
   ],
   "source": [
    "s1.school_name"
   ]
  },
  {
   "cell_type": "code",
   "execution_count": 17,
   "metadata": {},
   "outputs": [
    {
     "data": {
      "text/plain": [
       "'Jack'"
      ]
     },
     "execution_count": 17,
     "metadata": {},
     "output_type": "execute_result"
    }
   ],
   "source": [
    "s1.name"
   ]
  },
  {
   "cell_type": "code",
   "execution_count": 18,
   "metadata": {},
   "outputs": [
    {
     "data": {
      "text/plain": [
       "'ABC School'"
      ]
     },
     "execution_count": 18,
     "metadata": {},
     "output_type": "execute_result"
    }
   ],
   "source": [
    "s2.school_name"
   ]
  },
  {
   "cell_type": "code",
   "execution_count": 19,
   "metadata": {},
   "outputs": [
    {
     "data": {
      "text/plain": [
       "'William'"
      ]
     },
     "execution_count": 19,
     "metadata": {},
     "output_type": "execute_result"
    }
   ],
   "source": [
    "s2.name"
   ]
  },
  {
   "cell_type": "code",
   "execution_count": 20,
   "metadata": {},
   "outputs": [
    {
     "name": "stdout",
     "output_type": "stream",
     "text": [
      "1642917563904\n",
      "1642917563904\n"
     ]
    }
   ],
   "source": [
    "class Dog:\n",
    "    def __init__(self):\n",
    "        print(id(self)) \n",
    "\n",
    "d = Dog() \n",
    "print(id(d)) "
   ]
  },
  {
   "cell_type": "code",
   "execution_count": 21,
   "metadata": {},
   "outputs": [
    {
     "name": "stdout",
     "output_type": "stream",
     "text": [
      "No of Person Purchased Today = 1\n",
      "\n",
      "Customer Details\n",
      "Name : Danish\n",
      "Email : Danish@Neendme.com\n",
      "Contact : 230834508\n",
      "Product Purchased : Iphone 16 Pro Max\n",
      "Price : 150000\n",
      "\n",
      "....after applying discount...\n",
      "Final Ammount Payable : 135000.0\n"
     ]
    }
   ],
   "source": [
    "class Cart:\n",
    "    count = 0 \n",
    "\n",
    "    def __init__(self, name, email, phone, product_name, price):\n",
    "        Cart.count += 1 \n",
    "        self.name = name \n",
    "        self.email = email \n",
    "        self.phone = phone \n",
    "        self.p_name =  product_name\n",
    "        self.price = price \n",
    "    \n",
    "    def apply_discount(self):\n",
    "        if self.price > 100000:\n",
    "            self.price = self.price * 0.90 \n",
    "        elif self.price > 50000 and self.price <= 100000:\n",
    "            self.price = self.price * 0.95\n",
    "        else:\n",
    "            self.price = self.price * 0.97 \n",
    "\n",
    "c1 = Cart(\"Danish\", \"Danish@Neendme.com\", 230834508, \"Iphone 16 Pro Max\", 150000) \n",
    "print(f\"No of Person Purchased Today = {c1.count}\")\n",
    "\n",
    "print(f\"\\nCustomer Details\\nName : {c1.name}\\nEmail : {c1.email}\\nContact : {c1.phone}\\nProduct Purchased : {c1.p_name}\\nPrice : {c1.price}\")\n",
    "\n",
    "print(f\"\\n....after applying discount...\")\n",
    "\n",
    "c1.apply_discount() \n",
    "\n",
    "print(f\"Final Ammount Payable : {c1.price}\")"
   ]
  },
  {
   "cell_type": "code",
   "execution_count": 22,
   "metadata": {},
   "outputs": [
    {
     "name": "stdout",
     "output_type": "stream",
     "text": [
      "No of Person Purchased Today = 1\n",
      "\n",
      "Customer Details\n",
      "Name : Danish\n",
      "Email : Danish@Neendme.com\n",
      "Contact : 230834508\n",
      "Product Purchased : Iphone 16 Pro Max\n",
      "Price : 150000\n",
      "Discount : 0.05\n",
      "\n",
      "Ammount Before Discount -->  142500.0\n",
      "Ammount After Discount ==> 120000.0\n"
     ]
    }
   ],
   "source": [
    "class Cart:\n",
    "    count = 0 \n",
    "\n",
    "    def __init__(self, name, email, phone, product_name, price, discount):\n",
    "        Cart.count += 1 \n",
    "        self.name = name \n",
    "        self.email = email \n",
    "        self.phone = phone \n",
    "        self.p_name =  product_name\n",
    "        self.price = price \n",
    "        self.discount = discount \n",
    "    \n",
    "    def calculate_discount(self):\n",
    "        if self.price > 100000:\n",
    "            self.discount = 0.2 \n",
    "        elif self.price > 50000 and self.price <= 100000:\n",
    "            self.discount = 0.1 \n",
    "        else:\n",
    "            self.discount = 0.05 \n",
    "\n",
    "    def apply_discount(self):\n",
    "        return self.price * (1 - self.discount) \n",
    "\n",
    "c1 = Cart(\"Danish\", \"Danish@Neendme.com\", 230834508, \"Iphone 16 Pro Max\", 150000, 0.05) \n",
    "print(f\"No of Person Purchased Today = {c1.count}\")\n",
    "\n",
    "print(f\"\\nCustomer Details\\nName : {c1.name}\\nEmail : {c1.email}\\nContact : {c1.phone}\\nProduct Purchased : {c1.p_name}\\nPrice : {c1.price}\\nDiscount : {c1.discount}\")\n",
    "\n",
    "print(f\"\\nAmmount Before Discount --> \", end = \" \")\n",
    "\n",
    "print(f\"{c1.apply_discount()}\")\n",
    "\n",
    "c1.calculate_discount() \n",
    "\n",
    "print(f\"Ammount After Discount ==> {c1.apply_discount()}\")"
   ]
  },
  {
   "cell_type": "code",
   "execution_count": 23,
   "metadata": {},
   "outputs": [
    {
     "data": {
      "text/plain": [
       "{'name': 'Danish',\n",
       " 'email': 'Danish@Neendme.com',\n",
       " 'phone': 230834508,\n",
       " 'p_name': 'Iphone 16 Pro Max',\n",
       " 'price': 150000,\n",
       " 'discount': 0.2}"
      ]
     },
     "execution_count": 23,
     "metadata": {},
     "output_type": "execute_result"
    }
   ],
   "source": [
    "c1.__dict__"
   ]
  },
  {
   "cell_type": "code",
   "execution_count": 24,
   "metadata": {},
   "outputs": [],
   "source": [
    "c1.discount = 1 "
   ]
  },
  {
   "cell_type": "code",
   "execution_count": 25,
   "metadata": {},
   "outputs": [
    {
     "data": {
      "text/plain": [
       "{'name': 'Danish',\n",
       " 'email': 'Danish@Neendme.com',\n",
       " 'phone': 230834508,\n",
       " 'p_name': 'Iphone 16 Pro Max',\n",
       " 'price': 150000,\n",
       " 'discount': 1}"
      ]
     },
     "execution_count": 25,
     "metadata": {},
     "output_type": "execute_result"
    }
   ],
   "source": [
    "c1.__dict__"
   ]
  },
  {
   "cell_type": "code",
   "execution_count": 26,
   "metadata": {},
   "outputs": [
    {
     "data": {
      "text/plain": [
       "0"
      ]
     },
     "execution_count": 26,
     "metadata": {},
     "output_type": "execute_result"
    }
   ],
   "source": [
    "\n",
    "c1.apply_discount() "
   ]
  },
  {
   "cell_type": "code",
   "execution_count": 27,
   "metadata": {},
   "outputs": [
    {
     "data": {
      "text/plain": [
       "{'name': 'Danish',\n",
       " 'email': 'Danish@Neendme.com',\n",
       " 'phone': 230834508,\n",
       " 'p_name': 'Iphone 16 Pro Max',\n",
       " 'price': 150000,\n",
       " 'discount': 1}"
      ]
     },
     "execution_count": 27,
     "metadata": {},
     "output_type": "execute_result"
    }
   ],
   "source": [
    "vars(c1) "
   ]
  },
  {
   "cell_type": "code",
   "execution_count": 28,
   "metadata": {},
   "outputs": [
    {
     "data": {
      "text/plain": [
       "mappingproxy({'__module__': '__main__',\n",
       "              'count': 1,\n",
       "              '__init__': <function __main__.Cart.__init__(self, name, email, phone, product_name, price, discount)>,\n",
       "              'calculate_discount': <function __main__.Cart.calculate_discount(self)>,\n",
       "              'apply_discount': <function __main__.Cart.apply_discount(self)>,\n",
       "              '__dict__': <attribute '__dict__' of 'Cart' objects>,\n",
       "              '__weakref__': <attribute '__weakref__' of 'Cart' objects>,\n",
       "              '__doc__': None})"
      ]
     },
     "execution_count": 28,
     "metadata": {},
     "output_type": "execute_result"
    }
   ],
   "source": [
    "Cart.__dict__"
   ]
  },
  {
   "cell_type": "code",
   "execution_count": null,
   "metadata": {},
   "outputs": [],
   "source": [
    "'''\n",
    "Static Method \n",
    "\n",
    "1. Static Method are methods that are bounded to class rather than its object. \n",
    "2. They do not require a class instance creation \n",
    "3. They can be called by class as well as the object. \n",
    "\n",
    "\n",
    "Class Method \n",
    "\n",
    "1. Class Method are bounded to class.  \n",
    "2. Class Method can be invoked using the class-method decorator \n",
    "3. Class Method cannot access the instance data, but they can access Static Method \n",
    "\n",
    "\n",
    "'''\n",
    "\n"
   ]
  },
  {
   "cell_type": "code",
   "execution_count": 59,
   "metadata": {},
   "outputs": [],
   "source": [
    "class Company:\n",
    "    # Pulbic Class Attribute \n",
    "    company_name = \"Adidas\" \n",
    "\n",
    "    # Public Instance Attributes \n",
    "    def __init__(self, id, name, salary): # Function : Constructor \n",
    "        self.id = id \n",
    "        self.name = name \n",
    "        self.salary = salary \n",
    "        print(f\"Employee's Details Updated to the DataBase!\")\n",
    "\n",
    "    # Public Instance Method \n",
    "    def DisplayDetails(self):\n",
    "        print(f\"Employee Id : {self.id}\\nName : {self.name}\\nSalary :  {self.salary}\")\n",
    "\n",
    "    # Public Static Method \n",
    "    @staticmethod # Decorator \n",
    "    def greet():\n",
    "        return f\"Have a nice day!\"\n",
    "    \n",
    "    # Public Class Method \n",
    "    @classmethod # Decorator \n",
    "    def Welcome(cls):\n",
    "        return f\"Welcome to {cls.company_name}\"\n",
    "    \n",
    "    # Public Class Method : Destructor \n",
    "    def __del__(self):\n",
    "        print(f\"{self.name} Terminated from {Company.company_name}!\")\n",
    "    "
   ]
  },
  {
   "cell_type": "code",
   "execution_count": 60,
   "metadata": {},
   "outputs": [
    {
     "name": "stdout",
     "output_type": "stream",
     "text": [
      "Employee's Details Updated to the DataBase!\n"
     ]
    }
   ],
   "source": [
    "e1 = Company(\"203409238\", \"Jack Sparrow\", 20380928) "
   ]
  },
  {
   "cell_type": "code",
   "execution_count": 61,
   "metadata": {},
   "outputs": [
    {
     "name": "stdout",
     "output_type": "stream",
     "text": [
      "Hii Jack Sparrow, Welcome to Adidas, Have a nice day!\n"
     ]
    }
   ],
   "source": [
    "print(f\"Hii {e1.name}, {e1.Welcome()}, {e1.greet()}\")"
   ]
  },
  {
   "cell_type": "code",
   "execution_count": 62,
   "metadata": {},
   "outputs": [
    {
     "data": {
      "text/plain": [
       "'Welcome to Adidas'"
      ]
     },
     "execution_count": 62,
     "metadata": {},
     "output_type": "execute_result"
    }
   ],
   "source": [
    "Company.Welcome() "
   ]
  },
  {
   "cell_type": "code",
   "execution_count": 63,
   "metadata": {},
   "outputs": [
    {
     "data": {
      "text/plain": [
       "'Have a nice day!'"
      ]
     },
     "execution_count": 63,
     "metadata": {},
     "output_type": "execute_result"
    }
   ],
   "source": [
    "Company.greet() "
   ]
  },
  {
   "cell_type": "code",
   "execution_count": 64,
   "metadata": {},
   "outputs": [
    {
     "name": "stdout",
     "output_type": "stream",
     "text": [
      "Jack Sparrow Terminated from Adidas!\n"
     ]
    }
   ],
   "source": [
    "del e1 "
   ]
  },
  {
   "cell_type": "code",
   "execution_count": 66,
   "metadata": {},
   "outputs": [],
   "source": [
    "# e1.name "
   ]
  },
  {
   "cell_type": "code",
   "execution_count": 69,
   "metadata": {},
   "outputs": [],
   "source": [
    "class India:\n",
    "    def CountryName(self):\n",
    "        return f\"India\"\n",
    "    \n",
    "    def Capital(self):\n",
    "        return f\"New Delhi\"\n",
    "    \n",
    "    def Currency(self):\n",
    "        return f\"INR\"\n",
    "    \n",
    "    def DevelopmentStatus(self):\n",
    "        return f\"Developing\"\n",
    "    \n",
    "class Usa:\n",
    "    def CountryName(self):\n",
    "        return f\"United States Of America\" \n",
    "    \n",
    "    def Capital(self):\n",
    "        return f\"WashingTon D.C\"\n",
    "    \n",
    "    def Currency(self):\n",
    "        return f\"USD\"\n",
    "    \n",
    "    def DevelopmentStatus(self):\n",
    "        return f\"Developed\"\n",
    "    \n",
    "class China:\n",
    "    def CountryName(self):\n",
    "        return f\"China\"\n",
    "    \n",
    "    def Capital(self):\n",
    "        return f\"Beijing\"\n",
    "    \n",
    "    def Currency(self):\n",
    "        return f\"yuan\"\n",
    "    \n",
    "    def DevelopmentStatus(self):\n",
    "        return f\"Developed\"\n",
    "    \n",
    "class Germany:\n",
    "    def CountryName(self):\n",
    "        return f\"Germany\"\n",
    "    \n",
    "    def Capital(self):\n",
    "        return f\"Berlin\"\n",
    "    \n",
    "    def Currency(self):\n",
    "        return f\"EUR\"\n",
    "    \n",
    "    def DevelopmentStatus(self):\n",
    "        return f\"Developed\"\n",
    "\n"
   ]
  },
  {
   "cell_type": "code",
   "execution_count": null,
   "metadata": {},
   "outputs": [],
   "source": []
  },
  {
   "cell_type": "code",
   "execution_count": null,
   "metadata": {},
   "outputs": [],
   "source": []
  },
  {
   "cell_type": "code",
   "execution_count": 70,
   "metadata": {},
   "outputs": [
    {
     "name": "stdout",
     "output_type": "stream",
     "text": [
      "Country's Name : India\n",
      "Capital : New Delhi\n",
      "Currency : INR\n",
      "Development Status : Developing\n",
      "\n",
      "Country's Name : United States Of America\n",
      "Capital : WashingTon D.C\n",
      "Currency : USD\n",
      "Development Status : Developed\n",
      "\n",
      "Country's Name : China\n",
      "Capital : Beijing\n",
      "Currency : yuan\n",
      "Development Status : Developed\n",
      "\n",
      "Country's Name : Germany\n",
      "Capital : Berlin\n",
      "Currency : EUR\n",
      "Development Status : Developed\n",
      "\n"
     ]
    }
   ],
   "source": [
    "for item in [India(), Usa(), China(), Germany()]:\n",
    "    print(f\"Country's Name : {item.CountryName()}\\nCapital : {item.Capital()}\\nCurrency : {item.Currency()}\\nDevelopment Status : {item.DevelopmentStatus()}\\n\")\n"
   ]
  },
  {
   "cell_type": "code",
   "execution_count": 71,
   "metadata": {},
   "outputs": [
    {
     "name": "stdout",
     "output_type": "stream",
     "text": [
      "30\n",
      "<class 'int'> <class 'int'>\n"
     ]
    }
   ],
   "source": [
    "a = 10 \n",
    "b = 20 \n",
    "print(a + b) \n",
    "print(type(a), type(b)) "
   ]
  },
  {
   "cell_type": "code",
   "execution_count": 84,
   "metadata": {},
   "outputs": [],
   "source": [
    "class Number:\n",
    "    def __init__(self, n):\n",
    "        self.n = n \n",
    "    \n",
    "    def __add__(self, other):\n",
    "        return self.n + other.n \n",
    "    \n",
    "    def __sub__(self, other):\n",
    "        return self.n - other.n \n",
    "    \n",
    "    def __gt__(self, other):\n",
    "        return self.n > other.n\n",
    "    \n",
    "    def __le__(self, other):\n",
    "        return self.n <= other.n"
   ]
  },
  {
   "cell_type": "code",
   "execution_count": 86,
   "metadata": {},
   "outputs": [
    {
     "name": "stdout",
     "output_type": "stream",
     "text": [
      "30\n",
      "-10\n",
      "False\n",
      "True\n",
      "True\n",
      "False\n"
     ]
    }
   ],
   "source": [
    "a = Number(10) \n",
    "b = Number(20) \n",
    "\n",
    "print(a + b) \n",
    "print(a - b)\n",
    "print(a > b)\n",
    "print(a < b) \n",
    "print(a <= b) \n",
    "print(a >= b) "
   ]
  },
  {
   "cell_type": "code",
   "execution_count": 1,
   "metadata": {},
   "outputs": [],
   "source": [
    "# OOPs - Abstraction \n",
    "\n",
    "from abc import ABC, abstractclassmethod\n",
    "\n",
    "class Animal:\n",
    "    @abstractclassmethod\n",
    "    def move(self):\n",
    "        pass \n",
    "\n",
    "class Human(Animal):\n",
    "    def move(self):\n",
    "        print(f\"I can Walk & Run\") \n",
    "\n",
    "class Snake(Animal):\n",
    "    def move(self):\n",
    "        print(f\"I can Crawl\")\n",
    "\n",
    "class Dolphin(Animal):\n",
    "    def move(self):\n",
    "        print(f\"I can Swim\") \n",
    "    \n",
    "class Eagle(Animal):\n",
    "    def move(self):\n",
    "        print(f\"I can Fly\") \n",
    "\n"
   ]
  },
  {
   "cell_type": "code",
   "execution_count": 2,
   "metadata": {},
   "outputs": [
    {
     "name": "stdout",
     "output_type": "stream",
     "text": [
      "I can Walk & Run\n",
      "I can Crawl\n",
      "I can Swim\n",
      "I can Fly\n"
     ]
    }
   ],
   "source": [
    "for item in [Human(), Snake(), Dolphin(), Eagle()]:\n",
    "    item.move() "
   ]
  },
  {
   "cell_type": "code",
   "execution_count": 5,
   "metadata": {},
   "outputs": [
    {
     "ename": "ZeroDivisionError",
     "evalue": "division by zero",
     "output_type": "error",
     "traceback": [
      "\u001b[1;31m---------------------------------------------------------------------------\u001b[0m",
      "\u001b[1;31mZeroDivisionError\u001b[0m                         Traceback (most recent call last)",
      "Cell \u001b[1;32mIn[5], line 6\u001b[0m\n\u001b[0;32m      3\u001b[0m \u001b[38;5;28;01mdef\u001b[39;00m \u001b[38;5;21mdivide\u001b[39m(a, b):\n\u001b[0;32m      4\u001b[0m     \u001b[38;5;28;01mreturn\u001b[39;00m a \u001b[38;5;241m/\u001b[39m b \n\u001b[1;32m----> 6\u001b[0m \u001b[43mdivide\u001b[49m\u001b[43m(\u001b[49m\u001b[38;5;241;43m10\u001b[39;49m\u001b[43m,\u001b[49m\u001b[43m \u001b[49m\u001b[38;5;241;43m0\u001b[39;49m\u001b[43m)\u001b[49m \n",
      "Cell \u001b[1;32mIn[5], line 4\u001b[0m, in \u001b[0;36mdivide\u001b[1;34m(a, b)\u001b[0m\n\u001b[0;32m      3\u001b[0m \u001b[38;5;28;01mdef\u001b[39;00m \u001b[38;5;21mdivide\u001b[39m(a, b):\n\u001b[1;32m----> 4\u001b[0m     \u001b[38;5;28;01mreturn\u001b[39;00m \u001b[43ma\u001b[49m\u001b[43m \u001b[49m\u001b[38;5;241;43m/\u001b[39;49m\u001b[43m \u001b[49m\u001b[43mb\u001b[49m\n",
      "\u001b[1;31mZeroDivisionError\u001b[0m: division by zero"
     ]
    }
   ],
   "source": [
    "# OOPs-III (Exceptional Handling) \n",
    "\n",
    "def divide(a, b):\n",
    "    return a / b \n",
    "\n",
    "divide(10, 0) "
   ]
  },
  {
   "cell_type": "code",
   "execution_count": 7,
   "metadata": {},
   "outputs": [
    {
     "name": "stdout",
     "output_type": "stream",
     "text": [
      "This is Always Executed!\n"
     ]
    },
    {
     "data": {
      "text/plain": [
       "'Denominator Cannot be Zero!'"
      ]
     },
     "execution_count": 7,
     "metadata": {},
     "output_type": "execute_result"
    }
   ],
   "source": [
    "def divide(a, b):\n",
    "    try:\n",
    "        ans = a / b \n",
    "    except ZeroDivisionError:\n",
    "        # Here, the error part is to be dealt with \n",
    "        return f\"Denominator Cannot be Zero!\"\n",
    "    else:\n",
    "        # if code works perfectly \n",
    "        return ans \n",
    "    finally:\n",
    "        print(f\"This is Always Executed!\")\n",
    "\n",
    "divide(10, 0) "
   ]
  },
  {
   "cell_type": "code",
   "execution_count": 4,
   "metadata": {},
   "outputs": [],
   "source": [
    "from typing import List "
   ]
  },
  {
   "cell_type": "code",
   "execution_count": 7,
   "metadata": {},
   "outputs": [
    {
     "name": "stdout",
     "output_type": "stream",
     "text": [
      "Thank You For Using Our Services\n",
      "No Data Found At Index 5 Since Length of List  is 5\n"
     ]
    }
   ],
   "source": [
    "def Accessing(li : List[int], index : int) -> int:\n",
    "    try:\n",
    "        ans = li[index] \n",
    "    except IndexError:\n",
    "        return f\"No Data Found At Index {index} Since Length of List  is {len(li)}\" \n",
    "    else:\n",
    "        return f\"Data {ans} Found At Index {index}\"\n",
    "    finally:\n",
    "        print(f\"Thank You For Using Our Services\") \n",
    "\n",
    "print(Accessing([1, 2, 3, 4, 5,],5))"
   ]
  },
  {
   "cell_type": "code",
   "execution_count": 20,
   "metadata": {},
   "outputs": [
    {
     "ename": "IndexError",
     "evalue": "list index out of range",
     "output_type": "error",
     "traceback": [
      "\u001b[1;31m---------------------------------------------------------------------------\u001b[0m",
      "\u001b[1;31mIndexError\u001b[0m                                Traceback (most recent call last)",
      "Cell \u001b[1;32mIn[20], line 4\u001b[0m\n\u001b[0;32m      1\u001b[0m \u001b[38;5;28;01mdef\u001b[39;00m \u001b[38;5;21maccessing\u001b[39m(li, i):\n\u001b[0;32m      2\u001b[0m     \u001b[38;5;28;01mreturn\u001b[39;00m li[i] \n\u001b[1;32m----> 4\u001b[0m \u001b[43maccessing\u001b[49m\u001b[43m(\u001b[49m\u001b[43m[\u001b[49m\u001b[38;5;241;43m1\u001b[39;49m\u001b[43m,\u001b[49m\u001b[43m \u001b[49m\u001b[38;5;241;43m2\u001b[39;49m\u001b[43m,\u001b[49m\u001b[43m \u001b[49m\u001b[38;5;241;43m3\u001b[39;49m\u001b[43m,\u001b[49m\u001b[43m \u001b[49m\u001b[38;5;241;43m4\u001b[39;49m\u001b[43m,\u001b[49m\u001b[43m \u001b[49m\u001b[38;5;241;43m5\u001b[39;49m\u001b[43m]\u001b[49m\u001b[43m,\u001b[49m\u001b[43m \u001b[49m\u001b[38;5;241;43m5\u001b[39;49m\u001b[43m)\u001b[49m\n",
      "Cell \u001b[1;32mIn[20], line 2\u001b[0m, in \u001b[0;36maccessing\u001b[1;34m(li, i)\u001b[0m\n\u001b[0;32m      1\u001b[0m \u001b[38;5;28;01mdef\u001b[39;00m \u001b[38;5;21maccessing\u001b[39m(li, i):\n\u001b[1;32m----> 2\u001b[0m     \u001b[38;5;28;01mreturn\u001b[39;00m \u001b[43mli\u001b[49m\u001b[43m[\u001b[49m\u001b[43mi\u001b[49m\u001b[43m]\u001b[49m\n",
      "\u001b[1;31mIndexError\u001b[0m: list index out of range"
     ]
    }
   ],
   "source": [
    "def accessing(li, i):\n",
    "    return li[i] \n",
    "\n",
    "accessing([1, 2, 3, 4, 5], 5)"
   ]
  },
  {
   "cell_type": "code",
   "execution_count": null,
   "metadata": {},
   "outputs": [],
   "source": []
  }
 ],
 "metadata": {
  "kernelspec": {
   "display_name": "Python 3",
   "language": "python",
   "name": "python3"
  },
  "language_info": {
   "codemirror_mode": {
    "name": "ipython",
    "version": 3
   },
   "file_extension": ".py",
   "mimetype": "text/x-python",
   "name": "python",
   "nbconvert_exporter": "python",
   "pygments_lexer": "ipython3",
   "version": "3.12.8"
  }
 },
 "nbformat": 4,
 "nbformat_minor": 2
}
