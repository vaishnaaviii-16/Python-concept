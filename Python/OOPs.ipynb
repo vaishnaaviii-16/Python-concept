{
 "cells": [
  {
   "cell_type": "code",
   "execution_count": 10,
   "metadata": {},
   "outputs": [
    {
     "data": {
      "text/plain": [
       "'Welcome to Amazon Have a Nice day'"
      ]
     },
     "execution_count": 10,
     "metadata": {},
     "output_type": "execute_result"
    }
   ],
   "source": [
    "class Company:\n",
    "    # Private class variable \n",
    "    __company_name = \"Amazon\" \n",
    "\n",
    "    # Constructor : (takes input of the instance(depending upon the object) variables)\n",
    "    def __init__(self, id, name, salary):\n",
    "        self.id = id \n",
    "        self.name = name \n",
    "        self.salary = salary \n",
    "\n",
    "    @staticmethod\n",
    "    def greet():\n",
    "        return \" Have a Nice day\" \n",
    "\n",
    "    @classmethod\n",
    "    def introduction(cls):\n",
    "        return \"Welcome to \" + cls.__company_name  + cls.greet() \n",
    "    \n",
    "c = Company(32094, \"Jack Sparrow\", 2304092389023) \n",
    "c.introduction() "
   ]
  },
  {
   "cell_type": "code",
   "execution_count": 8,
   "metadata": {},
   "outputs": [
    {
     "data": {
      "text/plain": [
       "'Welcome to Amazon Have a Nice day'"
      ]
     },
     "execution_count": 8,
     "metadata": {},
     "output_type": "execute_result"
    }
   ],
   "source": [
    "Company.introduction() "
   ]
  },
  {
   "cell_type": "code",
   "execution_count": 32,
   "metadata": {},
   "outputs": [
    {
     "name": "stdout",
     "output_type": "stream",
     "text": [
      "Constructor Called\n",
      "Destructor Called\n"
     ]
    }
   ],
   "source": [
    "# Destructor \n",
    "\n",
    "class Computer:\n",
    "    def __init__(self):\n",
    "        print(\"Constructor Called\")  \n",
    "\n",
    "    def __del__(self):\n",
    "        print(\"Destructor Called\") \n",
    "\n",
    "c = Computer() \n",
    "del(c) "
   ]
  },
  {
   "cell_type": "code",
   "execution_count": 46,
   "metadata": {},
   "outputs": [
    {
     "name": "stdout",
     "output_type": "stream",
     "text": [
      "5\n",
      "6\n",
      "True\n",
      "False\n",
      "True\n",
      "False\n"
     ]
    }
   ],
   "source": [
    "class Number:\n",
    "    def __init__(self, n):\n",
    "        self.n = n \n",
    "\n",
    "    def __add__(self, other):\n",
    "        return self.n + other.n\n",
    "    \n",
    "    def __mul__(self, other):\n",
    "        return self.n * other.n\n",
    "    \n",
    "    def __gt__(self, other):\n",
    "        return self.n > other.n\n",
    "    \n",
    "    def __ge__(self, other):\n",
    "        return self.n >= other.n\n",
    "    \n",
    "    \n",
    "\n",
    "a = Number(3) \n",
    "b = Number(2) \n",
    "\n",
    "print(a + b) \n",
    "print(a * b)\n",
    "print(a > b)  \n",
    "print(a < b) \n",
    "print(a >= b) \n",
    "print(a <=  b) "
   ]
  },
  {
   "cell_type": "code",
   "execution_count": 71,
   "metadata": {},
   "outputs": [
    {
     "name": "stdout",
     "output_type": "stream",
     "text": [
      "[1, 2, 4, 5, 10, 20, 25, 50, 100]\n"
     ]
    }
   ],
   "source": [
    "def square(n):\n",
    "    return n * n\n",
    "\n",
    "def find_factors(fun, n):\n",
    "    new = fun(n) \n",
    "    factors = [] \n",
    "\n",
    "    for i in range(1, new + 1):\n",
    "        if new % i == 0:\n",
    "            factors.append(i) \n",
    "            factors.append(new // i) \n",
    "    \n",
    "    return sorted(set(factors)) \n",
    "\n",
    "print(find_factors(square, 10))"
   ]
  },
  {
   "cell_type": "code",
   "execution_count": 66,
   "metadata": {},
   "outputs": [],
   "source": [
    "import numpy as np \n",
    "import random "
   ]
  },
  {
   "cell_type": "code",
   "execution_count": 68,
   "metadata": {},
   "outputs": [
    {
     "name": "stdout",
     "output_type": "stream",
     "text": [
      "{96, 34, 3, 90, 43, 45, 13, 53, 23, 26}\n"
     ]
    },
    {
     "data": {
      "text/plain": [
       "[3, 13, 23, 26, 34, 43, 45, 53, 90, 96]"
      ]
     },
     "execution_count": 68,
     "metadata": {},
     "output_type": "execute_result"
    }
   ],
   "source": [
    "s = {int(item) for item in np.random.randint(1, 100, 10)}\n",
    "print(s) \n",
    "sorted(s) "
   ]
  },
  {
   "cell_type": "code",
   "execution_count": null,
   "metadata": {},
   "outputs": [],
   "source": []
  }
 ],
 "metadata": {
  "kernelspec": {
   "display_name": "Python 3",
   "language": "python",
   "name": "python3"
  },
  "language_info": {
   "codemirror_mode": {
    "name": "ipython",
    "version": 3
   },
   "file_extension": ".py",
   "mimetype": "text/x-python",
   "name": "python",
   "nbconvert_exporter": "python",
   "pygments_lexer": "ipython3",
   "version": "3.12.8"
  }
 },
 "nbformat": 4,
 "nbformat_minor": 2
}
