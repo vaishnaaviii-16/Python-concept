{
 "cells": [
  {
   "cell_type": "code",
   "execution_count": 1,
   "metadata": {},
   "outputs": [
    {
     "name": "stdout",
     "output_type": "stream",
     "text": [
      "10\n"
     ]
    }
   ],
   "source": [
    "a = 10 \n",
    "print(a) "
   ]
  },
  {
   "cell_type": "code",
   "execution_count": 2,
   "metadata": {},
   "outputs": [
    {
     "name": "stdout",
     "output_type": "stream",
     "text": [
      "30\n"
     ]
    }
   ],
   "source": [
    "a = 10 \n",
    "b = 20 \n",
    "\n",
    "c = a + b \n",
    "\n",
    "print(c) "
   ]
  },
  {
   "cell_type": "code",
   "execution_count": 7,
   "metadata": {},
   "outputs": [
    {
     "name": "stdout",
     "output_type": "stream",
     "text": [
      "AritheMatic Operators : input -> int, output -> int/float\n",
      "a = 13, b = 4\n",
      "\n",
      "a + b : 17\n",
      "a - b : 9\n",
      "a * b : 52\n",
      "a / b : 3.25\n",
      "a // b : 3\n",
      "a % b : 1\n",
      "a ** b : 28561\n"
     ]
    }
   ],
   "source": [
    "# Operators in Python \n",
    "print(f\"AritheMatic Operators : input -> int, output -> int/float\")\n",
    "\n",
    "a = 13\n",
    "b = 4 \n",
    "print(f\"a = {a}, b = {b}\\n\")\n",
    "print(f\"a + b : {a + b}\")\n",
    "print(f\"a - b : {a - b}\")\n",
    "print(f\"a * b : {a * b}\")\n",
    "print(f\"a / b : {a / b}\")\n",
    "print(f\"a // b : {a // b}\")\n",
    "print(f\"a % b : {a % b}\")\n",
    "print(f\"a ** b : {a ** b}\")"
   ]
  },
  {
   "cell_type": "code",
   "execution_count": 8,
   "metadata": {},
   "outputs": [
    {
     "name": "stdout",
     "output_type": "stream",
     "text": [
      "Comparison Operatros : input -> int/ float, output -> boolean\n",
      "a = 10, b = 5\n",
      "\n",
      "10 == 5 : False\n",
      "10 != 5 : True\n",
      "10 < 5 : False\n",
      "10 <= 5 : False\n",
      "10 > 5 : True\n",
      "10 >= 5 : True\n"
     ]
    }
   ],
   "source": [
    "print(f\"Comparison Operatros : input -> int/ float, output -> boolean\")\n",
    "\n",
    "a = 10 \n",
    "b = 5 \n",
    "\n",
    "print(f\"a = {a}, b = {b}\\n\") \n",
    "\n",
    "print(f\"{a} == {b} : {a == b}\")\n",
    "print(f\"{a} != {b} : {a != b}\")\n",
    "print(f\"{a} < {b} : {a < b}\")\n",
    "print(f\"{a} <= {b} : {a <= b}\")\n",
    "print(f\"{a} > {b} : {a > b}\")\n",
    "print(f\"{a} >= {b} : {a >= b}\")\n"
   ]
  },
  {
   "cell_type": "code",
   "execution_count": 18,
   "metadata": {},
   "outputs": [
    {
     "name": "stdout",
     "output_type": "stream",
     "text": [
      "Logical Operators : input -> boolean, output -> boolean\n",
      "\n",
      "And Gate\n",
      "\n",
      "True And True : True\n",
      "True And False : False\n",
      "False And True : False\n",
      "False And False : False\n",
      "\n",
      "Or Gate\n",
      "\n",
      "True Or True : True\n",
      "True Or False : True\n",
      "False Or True : True\n",
      "False Or False : False\n",
      "\n",
      "Not Gate\n",
      "\n",
      "Not True : False\n",
      "Not False : True\n"
     ]
    }
   ],
   "source": [
    "a = True \n",
    "b = False \n",
    "\n",
    "print(f\"Logical Operators : input -> boolean, output -> boolean\\n\")\n",
    "print(f\"And Gate\\n\")\n",
    "print(f\"{a} And {a} : {a and a}\")\n",
    "print(f\"{a} And {b} : {a and b}\")\n",
    "print(f\"{b} And {a} : {b and a}\")\n",
    "print(f\"{b} And {b} : {b and b}\")\n",
    "\n",
    "print(f\"\\nOr Gate\\n\")\n",
    "print(f\"{a} Or {a} : {a or a}\")\n",
    "print(f\"{a} Or {b} : {a or b}\")\n",
    "print(f\"{b} Or {a} : {b or a}\")\n",
    "print(f\"{b} Or {b} : {b or b}\")\n",
    "\n",
    "print(f\"\\nNot Gate\\n\") \n",
    "\n",
    "print(f\"Not {a} : {not a}\") \n",
    "print(f'Not {b} : {not b}')\n"
   ]
  },
  {
   "cell_type": "code",
   "execution_count": 21,
   "metadata": {},
   "outputs": [
    {
     "name": "stdout",
     "output_type": "stream",
     "text": [
      "10 <class 'int'> 140713300454104\n",
      "2.54 <class 'float'> 1731279445488\n",
      "Jack Sparrow <class 'str'> 1731306908592\n",
      "True <class 'bool'> 140713299653504\n",
      "(5+4j) <class 'complex'> 1731281082416\n",
      "[2, 3, 4] <class 'list'> 1731281776832\n",
      "(2, 3, 5) <class 'tuple'> 1731280948480\n",
      "{1: 2} <class 'dict'> 1731281777280\n",
      "{1, 2, 3} <class 'set'> 1731279813568\n",
      "None <class 'NoneType'> 140713299653568\n"
     ]
    }
   ],
   "source": [
    "a = 10 \n",
    "print(a, type(a), id(a)) \n",
    "a = 2.54\n",
    "print(a, type(a), id(a)) \n",
    "a = \"Jack Sparrow\" \n",
    "print(a, type(a), id(a)) \n",
    "a = True \n",
    "print(a, type(a), id(a)) \n",
    "a = 5 + 4j \n",
    "print(a, type(a), id(a)) \n",
    "a = [2, 3, 4] \n",
    "print(a, type(a), id(a)) \n",
    "a = (2, 3, 5) \n",
    "print(a, type(a), id(a)) \n",
    "a = {1 : 2} \n",
    "print(a, type(a), id(a)) \n",
    "a = {1, 2, 3} \n",
    "print(a, type(a), id(a)) \n",
    "a = None \n",
    "print(a, type(a), id(a)) \n"
   ]
  },
  {
   "cell_type": "code",
   "execution_count": null,
   "metadata": {},
   "outputs": [],
   "source": []
  }
 ],
 "metadata": {
  "kernelspec": {
   "display_name": "Python 3",
   "language": "python",
   "name": "python3"
  },
  "language_info": {
   "codemirror_mode": {
    "name": "ipython",
    "version": 3
   },
   "file_extension": ".py",
   "mimetype": "text/x-python",
   "name": "python",
   "nbconvert_exporter": "python",
   "pygments_lexer": "ipython3",
   "version": "3.12.8"
  }
 },
 "nbformat": 4,
 "nbformat_minor": 2
}
